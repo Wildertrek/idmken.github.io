{
 "cells": [
  {
   "cell_type": "markdown",
   "metadata": {},
   "source": [
    "## 1. Import packages"
   ]
  },
  {
   "cell_type": "code",
   "execution_count": 5,
   "metadata": {},
   "outputs": [
    {
     "data": {
      "text/html": [
       "<div>\n",
       "<style scoped>\n",
       "    .dataframe tbody tr th:only-of-type {\n",
       "        vertical-align: middle;\n",
       "    }\n",
       "\n",
       "    .dataframe tbody tr th {\n",
       "        vertical-align: top;\n",
       "    }\n",
       "\n",
       "    .dataframe thead th {\n",
       "        text-align: right;\n",
       "    }\n",
       "</style>\n",
       "<table border=\"1\" class=\"dataframe\">\n",
       "  <thead>\n",
       "    <tr style=\"text-align: right;\">\n",
       "      <th></th>\n",
       "      <th>job_title</th>\n",
       "      <th>role</th>\n",
       "      <th>description</th>\n",
       "    </tr>\n",
       "  </thead>\n",
       "  <tbody>\n",
       "    <tr>\n",
       "      <th>0</th>\n",
       "      <td>Identity and Access Management Administrator</td>\n",
       "      <td>administrator</td>\n",
       "      <td>Job Summary\\nThe Identity and Access Managemen...</td>\n",
       "    </tr>\n",
       "    <tr>\n",
       "      <th>1</th>\n",
       "      <td>Systems Administrator (Hybrid Remote)</td>\n",
       "      <td>administrator</td>\n",
       "      <td>Systems Administrator (Hybrid Remote)\\n\\nChris...</td>\n",
       "    </tr>\n",
       "    <tr>\n",
       "      <th>2</th>\n",
       "      <td>IT Administrator/Helpdesk</td>\n",
       "      <td>administrator</td>\n",
       "      <td>IT Administrator/Helpdesk\\nIf you are a IT Adm...</td>\n",
       "    </tr>\n",
       "    <tr>\n",
       "      <th>3</th>\n",
       "      <td>IT Administrator/Helpdesk L2/L3</td>\n",
       "      <td>administrator</td>\n",
       "      <td>IT Administrator/Helpdesk L2/L3\\nIf you are a ...</td>\n",
       "    </tr>\n",
       "    <tr>\n",
       "      <th>4</th>\n",
       "      <td>Identity Access Management AD Systems Administ...</td>\n",
       "      <td>administrator</td>\n",
       "      <td>Deloitte Global is the engine of the Deloitte ...</td>\n",
       "    </tr>\n",
       "  </tbody>\n",
       "</table>\n",
       "</div>"
      ],
      "text/plain": [
       "                                           job_title           role  \\\n",
       "0       Identity and Access Management Administrator  administrator   \n",
       "1              Systems Administrator (Hybrid Remote)  administrator   \n",
       "2                          IT Administrator/Helpdesk  administrator   \n",
       "3                    IT Administrator/Helpdesk L2/L3  administrator   \n",
       "4  Identity Access Management AD Systems Administ...  administrator   \n",
       "\n",
       "                                         description  \n",
       "0  Job Summary\\nThe Identity and Access Managemen...  \n",
       "1  Systems Administrator (Hybrid Remote)\\n\\nChris...  \n",
       "2  IT Administrator/Helpdesk\\nIf you are a IT Adm...  \n",
       "3  IT Administrator/Helpdesk L2/L3\\nIf you are a ...  \n",
       "4  Deloitte Global is the engine of the Deloitte ...  "
      ]
     },
     "execution_count": 5,
     "metadata": {},
     "output_type": "execute_result"
    }
   ],
   "source": [
    "import pandas as pd\n",
    "import numpy as np\n",
    "import nltk\n",
    "from nltk.corpus import stopwords\n",
    "from nltk import word_tokenize, FreqDist\n",
    "from nltk.stem.wordnet import WordNetLemmatizer\n",
    "import string\n",
    "import plotly\n",
    "import plotly.graph_objects as go\n",
    "import plotly.express as px\n",
    "from sklearn.feature_extraction.text import TfidfVectorizer, CountVectorizer\n",
    "\n",
    "import os\n",
    "for dirname, _, filenames in os.walk('dissertation/data'):\n",
    "    for filename in filenames:\n",
    "        print(os.path.join(dirname, filename))\n",
    "\n",
    "df = pd.read_csv(\"../project_data/data-jobs-20221123.csv\")\n",
    "\n",
    "df.head()"
   ]
  },
  {
   "cell_type": "markdown",
   "metadata": {},
   "source": [
    "## 2. Clean data"
   ]
  },
  {
   "cell_type": "code",
   "execution_count": 6,
   "metadata": {},
   "outputs": [],
   "source": [
    "stopwords_list = stopwords.words('english') + list(string.punctuation) + ['mantech','gsk','experience','work']\n",
    "\n",
    "# function to tokenize data and remove stopwords\n",
    "def process_narrative(narrative):\n",
    "    tokens = nltk.word_tokenize(narrative)\n",
    "    stopwords_removed = [token.lower() for token in tokens if token.lower() not in stopwords_list]\n",
    "    \n",
    "    # adding line to remove all tokens with numbers and punctuation\n",
    "    stopwords_punc_and_numbers_removed = [word for word in stopwords_removed if word.isalpha()]\n",
    "    \n",
    "    return stopwords_punc_and_numbers_removed\n",
    "\n",
    "\n",
    "# function to concat words (used in function below)\n",
    "def concat_words(list_of_words):\n",
    "    # remove any NaN's\n",
    "    # list_of_words = [i for i in list if i is not np.nan]\n",
    "\n",
    "    concat_words = ''\n",
    "    for word in list_of_words:\n",
    "        concat_words += word + ' '\n",
    "    return concat_words.strip()\n",
    "\n",
    "# function to lemmatize words and merge each description into a single space-separated string\n",
    "\n",
    "lemm = WordNetLemmatizer()\n",
    "\n",
    "def make_lemma_and_concat(list_of_words):\n",
    "    # remove any NaN's\n",
    "    list_of_words = [i for i in list_of_words if i is not np.nan]\n",
    "    \n",
    "    # lemmatize each word\n",
    "    lemmatized_list = []\n",
    "    for idx, word in enumerate(list_of_words):\n",
    "        lemmatized_list.append(lemm.lemmatize(word))\n",
    "    \n",
    "    # make the list into a single string with the words separated by ' '\n",
    "    concatenated_string = concat_words(lemmatized_list)\n",
    "    return concatenated_string\n"
   ]
  },
  {
   "cell_type": "code",
   "execution_count": 11,
   "metadata": {},
   "outputs": [
    {
     "name": "stdout",
     "output_type": "stream",
     "text": [
      "Finished line number 0\n",
      "Finished line number 50\n",
      "Finished line number 100\n",
      "Finished line number 150\n",
      "Finished line number 200\n",
      "Finished line number 250\n",
      "Finished line number 300\n",
      "Finished line number 350\n",
      "Finished line number 400\n",
      "Finished line number 450\n"
     ]
    },
    {
     "data": {
      "text/html": [
       "<div>\n",
       "<style scoped>\n",
       "    .dataframe tbody tr th:only-of-type {\n",
       "        vertical-align: middle;\n",
       "    }\n",
       "\n",
       "    .dataframe tbody tr th {\n",
       "        vertical-align: top;\n",
       "    }\n",
       "\n",
       "    .dataframe thead th {\n",
       "        text-align: right;\n",
       "    }\n",
       "</style>\n",
       "<table border=\"1\" class=\"dataframe\">\n",
       "  <thead>\n",
       "    <tr style=\"text-align: right;\">\n",
       "      <th></th>\n",
       "      <th>job_title</th>\n",
       "      <th>role</th>\n",
       "      <th>description</th>\n",
       "    </tr>\n",
       "  </thead>\n",
       "  <tbody>\n",
       "    <tr>\n",
       "      <th>0</th>\n",
       "      <td>Identity and Access Management Administrator</td>\n",
       "      <td>administrator</td>\n",
       "      <td>job summary identity access management adminis...</td>\n",
       "    </tr>\n",
       "    <tr>\n",
       "      <th>1</th>\n",
       "      <td>Systems Administrator (Hybrid Remote)</td>\n",
       "      <td>administrator</td>\n",
       "      <td>system administrator hybrid remote christar in...</td>\n",
       "    </tr>\n",
       "    <tr>\n",
       "      <th>2</th>\n",
       "      <td>IT Administrator/Helpdesk</td>\n",
       "      <td>administrator</td>\n",
       "      <td>administrator least two year please read based...</td>\n",
       "    </tr>\n",
       "    <tr>\n",
       "      <th>3</th>\n",
       "      <td>IT Administrator/Helpdesk L2/L3</td>\n",
       "      <td>administrator</td>\n",
       "      <td>administrator least two year please read based...</td>\n",
       "    </tr>\n",
       "    <tr>\n",
       "      <th>4</th>\n",
       "      <td>Identity Access Management AD Systems Administ...</td>\n",
       "      <td>administrator</td>\n",
       "      <td>deloitte global engine deloitte network profes...</td>\n",
       "    </tr>\n",
       "  </tbody>\n",
       "</table>\n",
       "</div>"
      ],
      "text/plain": [
       "                                           job_title           role  \\\n",
       "0       Identity and Access Management Administrator  administrator   \n",
       "1              Systems Administrator (Hybrid Remote)  administrator   \n",
       "2                          IT Administrator/Helpdesk  administrator   \n",
       "3                    IT Administrator/Helpdesk L2/L3  administrator   \n",
       "4  Identity Access Management AD Systems Administ...  administrator   \n",
       "\n",
       "                                         description  \n",
       "0  job summary identity access management adminis...  \n",
       "1  system administrator hybrid remote christar in...  \n",
       "2  administrator least two year please read based...  \n",
       "3  administrator least two year please read based...  \n",
       "4  deloitte global engine deloitte network profes...  "
      ]
     },
     "execution_count": 11,
     "metadata": {},
     "output_type": "execute_result"
    }
   ],
   "source": [
    "for i in range(len(df)):\n",
    "    processed_desc = process_narrative(df['description'].loc[i])\n",
    "    desc = make_lemma_and_concat(processed_desc)\n",
    "    df['description'].loc[i] = desc\n",
    "    if i % 50 == 0:\n",
    "        print(f'Finished line number {i}')\n",
    "df.head()"
   ]
  },
  {
   "cell_type": "code",
   "execution_count": 12,
   "metadata": {},
   "outputs": [],
   "source": [
    "df.to_csv('../project_data/descriptions_processed.csv')"
   ]
  }
 ],
 "metadata": {
  "kernelspec": {
   "display_name": "Python 3.8.2 64-bit",
   "language": "python",
   "name": "python3"
  },
  "language_info": {
   "codemirror_mode": {
    "name": "ipython",
    "version": 3
   },
   "file_extension": ".py",
   "mimetype": "text/x-python",
   "name": "python",
   "nbconvert_exporter": "python",
   "pygments_lexer": "ipython3",
   "version": "3.8.2 (default, Aug 25 2020, 09:23:57) \n[Clang 12.0.0 (clang-1200.0.32.2)]"
  },
  "orig_nbformat": 4,
  "vscode": {
   "interpreter": {
    "hash": "31f2aee4e71d21fbe5cf8b01ff0e069b9275f58929596ceb00d14d90e3e16cd6"
   }
  }
 },
 "nbformat": 4,
 "nbformat_minor": 2
}
