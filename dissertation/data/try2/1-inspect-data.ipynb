{
 "cells": [
  {
   "cell_type": "markdown",
   "metadata": {},
   "source": [
    "# Inspect Data"
   ]
  },
  {
   "cell_type": "markdown",
   "metadata": {},
   "source": [
    "## 1. Import packages and data"
   ]
  },
  {
   "cell_type": "code",
   "execution_count": 2,
   "metadata": {},
   "outputs": [
    {
     "name": "stdout",
     "output_type": "stream",
     "text": [
      "<class 'pandas.core.frame.DataFrame'>\n",
      "RangeIndex: 453 entries, 0 to 452\n",
      "Data columns (total 3 columns):\n",
      " #   Column       Non-Null Count  Dtype \n",
      "---  ------       --------------  ----- \n",
      " 0   job_title    453 non-null    object\n",
      " 1   role         453 non-null    object\n",
      " 2   description  453 non-null    object\n",
      "dtypes: object(3)\n",
      "memory usage: 10.7+ KB\n"
     ]
    }
   ],
   "source": [
    "import pandas as pd\n",
    "import numpy as np\n",
    "import nltk\n",
    "from nltk.corpus import stopwords\n",
    "from nltk import word_tokenize, FreqDist\n",
    "import string\n",
    "import os\n",
    "for dirname, _, filenames in os.walk('dissertation/data'):\n",
    "    for filename in filenames:\n",
    "        print(os.path.join(dirname, filename))\n",
    "\n",
    "df = pd.read_csv(\"../project_data/data-jobs-20221123.csv\")\n",
    "\n",
    "df.info()"
   ]
  },
  {
   "cell_type": "markdown",
   "metadata": {},
   "source": [
    "## 2. Process data"
   ]
  },
  {
   "cell_type": "code",
   "execution_count": 3,
   "metadata": {},
   "outputs": [
    {
     "name": "stdout",
     "output_type": "stream",
     "text": [
      "job_title           Identity and Access Management Administrator\n",
      "role                                               administrator\n",
      "description    Job Summary\\nThe Identity and Access Managemen...\n",
      "Name: 0, dtype: object\n"
     ]
    },
    {
     "data": {
      "text/plain": [
       "\"Job Summary\\nThe Identity and Access Management Administrator shall be responsible for:\\nPerforming systems management activities for current and future computer systems, related hardware, software, and networking components.\\nEvaluating current and projected demands for services and state‑of‑the‑art in computer software. Recommending modifications to the current architectures, procedures, and configurations to maximize utilization of existing resources. Design and implement customizations to the computer environment as required to meet the needs of the Children's Hospital User Community.\\nRecommending software acquisitions to meet projected demands. Perform product evaluations and trials as part of a continuing effort to improve productivity of existing software.\\nInteracting with Application, Network, End User Support staff, vendors, and the End User Community to design and evaluate all new computer system environments and associated applications.\\nIdentifying end user/application requirements as they relate to the computer systems environments in order to develop and execute a plan within project time frames.\\nResponding to computer system problems resolving them on a timely basis adhering to problem resolution and escalation procedures.\\nMaintaining computer system security. Keep current on all published security warnings. Monitor daily security audit trail for multiple systems. Inform management of any security breaches or holes in computer system security and propose solutions.\\nProviding consulting services and technical support to peers, operating staff, application staff, research computing, and end user services.\\nAssisting in maintaining performance statistics and provides performance tuning.\\nIdentifying problem areas and develop disaster recovery and backup strategies.\\n\\nIn order to qualify you must have:\\nKnowledge of theories, principles, and concepts typically acquired through completion of a Bachelor's degree in computer science or a closely related field and a minimum of five years of experience.\\nAnalytical skills to collect information from diverse sources, apply professional principles in performing various analyses, and summarize the information and data in order to solve problems OR design relatively complex systems and programs that cross department/divisional lines.\\nCommunication skills in order to effectively deal with conflicting views or issues and mediate fair solutions, or well‑developed writing skills\\n\\nBoston Children’s Hospital offers competitive compensation and unmatched benefits, including a rotating days/evenings and week-end schedule, affordable health, vision and dental insurance, generous levels of time off, 403(b) Retirement Savings plan, Pension, Tuition Reimbursement, cell phone plan discounts and discounted rates on T-passes (50% off). Discover your best.\\nShow Less \""
      ]
     },
     "execution_count": 3,
     "metadata": {},
     "output_type": "execute_result"
    }
   ],
   "source": [
    "print(df.iloc[0])\n",
    "text = df['description'][0]\n",
    "text"
   ]
  },
  {
   "cell_type": "code",
   "execution_count": 4,
   "metadata": {},
   "outputs": [],
   "source": [
    "def process_description(description):\n",
    "    tokens = nltk.word_tokenize(description)\n",
    "    stopwords_removed = [token.lower() for token in tokens if token.lower() not in stopwords_list]\n",
    "    stopwords_punc_and_numbers_removed = [word for word in stopwords_removed if word.isalpha()]\n",
    "    return stopwords_removed  \n",
    "\n",
    "#Tokenize words\n",
    "tokens = nltk.word_tokenize(text)\n",
    "\n",
    "#Crate and remove stop words\n",
    "stopwords_list = stopwords.words('english') + list(string.punctuation) + ['and','’']\n"
   ]
  },
  {
   "cell_type": "markdown",
   "metadata": {},
   "source": [
    "## 4. Combine roles into new dataframes and concatenate descriptions"
   ]
  },
  {
   "cell_type": "code",
   "execution_count": 5,
   "metadata": {},
   "outputs": [
    {
     "data": {
      "text/plain": [
       "engineer         147\n",
       "analyst           88\n",
       "manager           59\n",
       "developer         42\n",
       "director          41\n",
       "leadership        22\n",
       "administrator     20\n",
       "architect         20\n",
       "specialist        14\n",
       "Name: role, dtype: int64"
      ]
     },
     "execution_count": 5,
     "metadata": {},
     "output_type": "execute_result"
    }
   ],
   "source": [
    "df['role'].value_counts()"
   ]
  },
  {
   "cell_type": "code",
   "execution_count": 10,
   "metadata": {},
   "outputs": [
    {
     "data": {
      "text/html": [
       "<div>\n",
       "<style scoped>\n",
       "    .dataframe tbody tr th:only-of-type {\n",
       "        vertical-align: middle;\n",
       "    }\n",
       "\n",
       "    .dataframe tbody tr th {\n",
       "        vertical-align: top;\n",
       "    }\n",
       "\n",
       "    .dataframe thead th {\n",
       "        text-align: right;\n",
       "    }\n",
       "</style>\n",
       "<table border=\"1\" class=\"dataframe\">\n",
       "  <thead>\n",
       "    <tr style=\"text-align: right;\">\n",
       "      <th></th>\n",
       "      <th>job_title</th>\n",
       "      <th>role</th>\n",
       "      <th>description</th>\n",
       "    </tr>\n",
       "  </thead>\n",
       "  <tbody>\n",
       "    <tr>\n",
       "      <th>170</th>\n",
       "      <td>Director, Identity and Access Management</td>\n",
       "      <td>director</td>\n",
       "      <td>Abbott is a global healthcare leader that help...</td>\n",
       "    </tr>\n",
       "    <tr>\n",
       "      <th>171</th>\n",
       "      <td>Director, Business Operations</td>\n",
       "      <td>director</td>\n",
       "      <td>Our Company\\n\\nChanging the world through digi...</td>\n",
       "    </tr>\n",
       "    <tr>\n",
       "      <th>172</th>\n",
       "      <td>Director, Business Strategy</td>\n",
       "      <td>director</td>\n",
       "      <td>Our Company\\n\\nChanging the world through digi...</td>\n",
       "    </tr>\n",
       "    <tr>\n",
       "      <th>173</th>\n",
       "      <td>Director of Global Information Security - Iden...</td>\n",
       "      <td>director</td>\n",
       "      <td>Job Description Summary:\\n\\nWe currently have ...</td>\n",
       "    </tr>\n",
       "    <tr>\n",
       "      <th>174</th>\n",
       "      <td>Director Information Security – Technology Exa...</td>\n",
       "      <td>director</td>\n",
       "      <td>You Lead the Way. We’ve Got Your Back.\\n\\nWith...</td>\n",
       "    </tr>\n",
       "  </tbody>\n",
       "</table>\n",
       "</div>"
      ],
      "text/plain": [
       "                                             job_title      role  \\\n",
       "170           Director, Identity and Access Management  director   \n",
       "171                      Director, Business Operations  director   \n",
       "172                        Director, Business Strategy  director   \n",
       "173  Director of Global Information Security - Iden...  director   \n",
       "174  Director Information Security – Technology Exa...  director   \n",
       "\n",
       "                                           description  \n",
       "170  Abbott is a global healthcare leader that help...  \n",
       "171  Our Company\\n\\nChanging the world through digi...  \n",
       "172  Our Company\\n\\nChanging the world through digi...  \n",
       "173  Job Description Summary:\\n\\nWe currently have ...  \n",
       "174  You Lead the Way. We’ve Got Your Back.\\n\\nWith...  "
      ]
     },
     "execution_count": 10,
     "metadata": {},
     "output_type": "execute_result"
    }
   ],
   "source": [
    "\n",
    "engineer_df = df[df['role'] == 'engineer']\n",
    "analyst_df = df[df['role'] == 'analyst']\n",
    "manager_df = df[df['role'] == 'manager']\n",
    "developer_df = df[df['role'] == 'developer']\n",
    "director_df = df[df['role'] == 'director']\n",
    "leadership_df = df[df['role'] == 'leadership']\n",
    "administrator_df = df[df['role'] == 'administrator']\n",
    "architect_df = df[df['role'] == 'architect']\n",
    "specialist_df = df[df['role'] == 'specialist']\n",
    "\n",
    "director_df.head()"
   ]
  },
  {
   "cell_type": "code",
   "execution_count": 11,
   "metadata": {},
   "outputs": [
    {
     "name": "stdout",
     "output_type": "stream",
     "text": [
      "Finished Concatenation\n",
      "Finished Concatenation\n",
      "Finished Concatenation\n",
      "Finished Concatenation\n",
      "Finished Concatenation\n",
      "Finished Concatenation\n",
      "Finished Concatenation\n",
      "Finished Concatenation\n",
      "Finished Concatenation\n"
     ]
    }
   ],
   "source": [
    "def concat_description(df):\n",
    "    # concat description\n",
    "    desc = ''\n",
    "    for i in range(len(df)):\n",
    "        desc += df.iloc[i]['description']\n",
    "    print('Finished Concatenation')\n",
    "    return desc\n",
    "\n",
    "engineer_text = concat_description(engineer_df)\n",
    "engineer_text_processed = process_description(engineer_text)\n",
    "\n",
    "analyst_text = concat_description(analyst_df)\n",
    "analyst_text_processed = process_description(analyst_text)\n",
    "\n",
    "manager_text = concat_description(manager_df)\n",
    "manager_text_processed = process_description(manager_text)\n",
    "\n",
    "developer_text = concat_description(developer_df)\n",
    "developer_text_processed = process_description(developer_text)\n",
    "\n",
    "director_text = concat_description(director_df)\n",
    "director_text_processed = process_description(director_text)\n",
    "\n",
    "leadership_text = concat_description(leadership_df)\n",
    "leadership_text_processed = process_description(leadership_text)\n",
    "\n",
    "administrator_text = concat_description(administrator_df)\n",
    "administrator_text_processed = process_description(administrator_text)\n",
    "\n",
    "architect_text = concat_description(architect_df)\n",
    "architect_text_processed = process_description(architect_text)\n",
    "\n",
    "specialist_text = concat_description(specialist_df)\n",
    "specialist_text_processed = process_description(specialist_text)"
   ]
  },
  {
   "cell_type": "markdown",
   "metadata": {},
   "source": [
    "## 5. Save and output processed files"
   ]
  },
  {
   "cell_type": "code",
   "execution_count": 12,
   "metadata": {},
   "outputs": [],
   "source": [
    "# Saving files\n",
    "\n",
    "text_file = open(\"../data/project_data/engineer_text.txt\", \"w\")\n",
    "text_file.write(engineer_text)\n",
    "text_file.close()\n",
    "temp = pd.DataFrame(engineer_text_processed)\n",
    "temp.to_csv('../data/project_data/engineer_text_processed.csv')\n",
    "\n",
    "text_file = open(\"../data/project_data/analyst_text.txt\", \"w\")\n",
    "text_file.write(analyst_text)\n",
    "text_file.close()\n",
    "temp = pd.DataFrame(analyst_text_processed)\n",
    "temp.to_csv('../data/project_data/analyst_text_processed.csv')\n",
    "\n",
    "\n",
    "text_file = open(\"../data/project_data/manager_text.txt\", \"w\")\n",
    "text_file.write(manager_text)\n",
    "text_file.close()\n",
    "temp = pd.DataFrame(manager_text_processed)\n",
    "temp.to_csv('../data/project_data/manager_text_processed.csv')\n",
    "\n",
    "text_file = open(\"../data/project_data/developer_text.txt\", \"w\")\n",
    "text_file.write(developer_text)\n",
    "text_file.close()\n",
    "temp = pd.DataFrame(developer_text_processed)\n",
    "temp.to_csv('../data/project_data/developer_text_processed.csv')\n",
    "\n",
    "text_file = open(\"../data/project_data/leadership_text.txt\", \"w\")\n",
    "text_file.write(leadership_text)\n",
    "text_file.close()\n",
    "temp = pd.DataFrame(leadership_text_processed)\n",
    "temp.to_csv('../data/project_data/leadership_text_processed.csv')\n",
    "\n",
    "text_file = open(\"../data/project_data/director_text.txt\", \"w\")\n",
    "text_file.write(director_text)\n",
    "text_file.close()\n",
    "temp = pd.DataFrame(director_text_processed)\n",
    "temp.to_csv('../data/project_data/director_text_processed.csv')\n",
    "\n",
    "text_file = open(\"../data/project_data/administrator_text.txt\", \"w\")\n",
    "text_file.write(administrator_text)\n",
    "text_file.close()\n",
    "temp = pd.DataFrame(administrator_text_processed)\n",
    "temp.to_csv('../data/project_data/administrator_text_processed.csv')\n",
    "\n",
    "text_file = open(\"../data/project_data/architect_text.txt\", \"w\")\n",
    "text_file.write(architect_text)\n",
    "text_file.close()\n",
    "temp = pd.DataFrame(architect_text_processed)\n",
    "temp.to_csv('../data/project_data/architect_text_processed.csv')\n",
    "\n",
    "text_file = open(\"../data/project_data/specialist_text.txt\", \"w\")\n",
    "text_file.write(specialist_text)\n",
    "text_file.close()\n",
    "temp = pd.DataFrame(specialist_text_processed)\n",
    "temp.to_csv('../data/project_data/specialist_text_processed.csv')\n"
   ]
  },
  {
   "cell_type": "markdown",
   "metadata": {},
   "source": [
    "## 6. Word frequency"
   ]
  },
  {
   "cell_type": "code",
   "execution_count": 13,
   "metadata": {},
   "outputs": [
    {
     "data": {
      "text/plain": [
       "[('experience', 1036),\n",
       " ('management', 752),\n",
       " ('access', 692),\n",
       " ('identity', 689),\n",
       " ('work', 472),\n",
       " ('iam', 448),\n",
       " ('security', 446),\n",
       " ('solutions', 380),\n",
       " ('years', 358),\n",
       " ('team', 344),\n",
       " ('support', 320),\n",
       " ('data', 297),\n",
       " ('information', 296),\n",
       " ('systems', 292),\n",
       " ('skills', 270),\n",
       " ('technical', 269),\n",
       " ('knowledge', 267),\n",
       " ('development', 267),\n",
       " ('business', 267),\n",
       " ('services', 253),\n",
       " ('design', 241),\n",
       " ('engineer', 240),\n",
       " ('ability', 234),\n",
       " ('job', 221),\n",
       " ('technology', 218),\n",
       " ('including', 217),\n",
       " ('position', 205),\n",
       " ('software', 204),\n",
       " ('working', 203),\n",
       " ('requirements', 199)]"
      ]
     },
     "execution_count": 13,
     "metadata": {},
     "output_type": "execute_result"
    }
   ],
   "source": [
    "FreqDist(engineer_text_processed).most_common(30)"
   ]
  },
  {
   "cell_type": "code",
   "execution_count": 14,
   "metadata": {},
   "outputs": [
    {
     "data": {
      "text/plain": [
       "[('experience', 515),\n",
       " ('management', 429),\n",
       " ('access', 343),\n",
       " ('data', 340),\n",
       " ('business', 336),\n",
       " ('work', 304),\n",
       " ('security', 291),\n",
       " ('identity', 275),\n",
       " ('information', 233),\n",
       " ('iam', 208),\n",
       " ('years', 208),\n",
       " ('requirements', 206),\n",
       " ('support', 202),\n",
       " ('team', 196),\n",
       " ('skills', 168),\n",
       " ('including', 165),\n",
       " ('systems', 160),\n",
       " ('required', 159),\n",
       " ('job', 155),\n",
       " ('knowledge', 151),\n",
       " ('analyst', 149),\n",
       " ('solutions', 145),\n",
       " ('preferred', 145),\n",
       " ('technical', 129),\n",
       " (\"'s\", 125),\n",
       " ('analysis', 125),\n",
       " ('position', 123),\n",
       " ('process', 121),\n",
       " ('ability', 119),\n",
       " ('application', 117)]"
      ]
     },
     "execution_count": 14,
     "metadata": {},
     "output_type": "execute_result"
    }
   ],
   "source": [
    "FreqDist(analyst_text_processed).most_common(30)"
   ]
  },
  {
   "cell_type": "code",
   "execution_count": 15,
   "metadata": {},
   "outputs": [
    {
     "data": {
      "text/plain": [
       "[('experience', 387),\n",
       " ('management', 338),\n",
       " ('product', 248),\n",
       " ('team', 246),\n",
       " ('access', 225),\n",
       " ('work', 219),\n",
       " ('business', 202),\n",
       " ('security', 186),\n",
       " ('identity', 184),\n",
       " ('iam', 178),\n",
       " ('solutions', 175),\n",
       " ('data', 165),\n",
       " ('project', 163),\n",
       " ('information', 149),\n",
       " ('years', 136),\n",
       " ('technical', 123),\n",
       " ('status', 122),\n",
       " ('services', 119),\n",
       " ('including', 115),\n",
       " ('new', 111),\n",
       " ('role', 110),\n",
       " ('teams', 110),\n",
       " ('position', 107),\n",
       " ('support', 106),\n",
       " ('skills', 106),\n",
       " ('technology', 105),\n",
       " ('company', 104),\n",
       " ('across', 103),\n",
       " ('ability', 101),\n",
       " ('one', 100)]"
      ]
     },
     "execution_count": 15,
     "metadata": {},
     "output_type": "execute_result"
    }
   ],
   "source": [
    "FreqDist(manager_text_processed).most_common(30)"
   ]
  },
  {
   "cell_type": "code",
   "execution_count": 16,
   "metadata": {},
   "outputs": [
    {
     "data": {
      "text/plain": [
       "[('experience', 266),\n",
       " ('work', 166),\n",
       " ('development', 151),\n",
       " ('management', 137),\n",
       " ('identity', 127),\n",
       " ('business', 118),\n",
       " ('team', 117),\n",
       " ('data', 110),\n",
       " ('access', 107),\n",
       " ('skills', 104),\n",
       " ('information', 90),\n",
       " ('application', 86),\n",
       " ('required', 85),\n",
       " ('solutions', 83),\n",
       " ('requirements', 82),\n",
       " ('ability', 81),\n",
       " ('years', 80),\n",
       " ('applications', 79),\n",
       " ('job', 78),\n",
       " ('strong', 77),\n",
       " ('working', 76),\n",
       " ('systems', 74),\n",
       " ('design', 71),\n",
       " ('services', 71),\n",
       " ('status', 70),\n",
       " ('knowledge', 68),\n",
       " ('software', 67),\n",
       " ('developer', 67),\n",
       " ('technical', 66),\n",
       " ('support', 64)]"
      ]
     },
     "execution_count": 16,
     "metadata": {},
     "output_type": "execute_result"
    }
   ],
   "source": [
    "FreqDist(developer_text_processed).most_common(30)"
   ]
  }
 ],
 "metadata": {
  "kernelspec": {
   "display_name": "Python 3.8.2 64-bit",
   "language": "python",
   "name": "python3"
  },
  "language_info": {
   "codemirror_mode": {
    "name": "ipython",
    "version": 3
   },
   "file_extension": ".py",
   "mimetype": "text/x-python",
   "name": "python",
   "nbconvert_exporter": "python",
   "pygments_lexer": "ipython3",
   "version": "3.8.2"
  },
  "orig_nbformat": 4,
  "vscode": {
   "interpreter": {
    "hash": "31f2aee4e71d21fbe5cf8b01ff0e069b9275f58929596ceb00d14d90e3e16cd6"
   }
  }
 },
 "nbformat": 4,
 "nbformat_minor": 2
}
