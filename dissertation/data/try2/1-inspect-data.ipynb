{
 "cells": [
  {
   "cell_type": "markdown",
   "metadata": {},
   "source": [
    "# Inspect Data"
   ]
  },
  {
   "cell_type": "markdown",
   "metadata": {},
   "source": [
    "## 1. Import packages and data"
   ]
  },
  {
   "cell_type": "code",
   "execution_count": 5,
   "metadata": {},
   "outputs": [
    {
     "name": "stdout",
     "output_type": "stream",
     "text": [
      "<class 'pandas.core.frame.DataFrame'>\n",
      "RangeIndex: 453 entries, 0 to 452\n",
      "Data columns (total 9 columns):\n",
      " #   Column           Non-Null Count  Dtype  \n",
      "---  ------           --------------  -----  \n",
      " 0   job_title        453 non-null    object \n",
      " 1   role             453 non-null    object \n",
      " 2   description      453 non-null    object \n",
      " 3   knowledge        0 non-null      float64\n",
      " 4   skills           0 non-null      float64\n",
      " 5   tasks            0 non-null      float64\n",
      " 6   education_level  0 non-null      float64\n",
      " 7   experience       0 non-null      float64\n",
      " 8   certifications   0 non-null      float64\n",
      "dtypes: float64(6), object(3)\n",
      "memory usage: 32.0+ KB\n"
     ]
    }
   ],
   "source": [
    "import pandas as pd\n",
    "import numpy as np\n",
    "import nltk\n",
    "from nltk.corpus import stopwords\n",
    "from nltk import word_tokenize, FreqDist, sent_tokenize\n",
    "import string\n",
    "import os\n",
    "for dirname, _, filenames in os.walk('dissertation/data'):\n",
    "    for filename in filenames:\n",
    "        print(os.path.join(dirname, filename))\n",
    "\n",
    "df = pd.read_csv(\"../project_data/data-jobs-20221123.csv\")\n",
    "\n",
    "df.info()"
   ]
  },
  {
   "cell_type": "markdown",
   "metadata": {},
   "source": [
    "## 2. Process data"
   ]
  },
  {
   "cell_type": "code",
   "execution_count": 3,
   "metadata": {},
   "outputs": [
    {
     "name": "stdout",
     "output_type": "stream",
     "text": [
      "job_title           Identity and Access Management Administrator\n",
      "role                                               administrator\n",
      "description    Job Summary\\nThe Identity and Access Managemen...\n",
      "Name: 0, dtype: object\n"
     ]
    },
    {
     "data": {
      "text/plain": [
       "\"Job Summary\\nThe Identity and Access Management Administrator shall be responsible for:\\nPerforming systems management activities for current and future computer systems, related hardware, software, and networking components.\\nEvaluating current and projected demands for services and state‑of‑the‑art in computer software. Recommending modifications to the current architectures, procedures, and configurations to maximize utilization of existing resources. Design and implement customizations to the computer environment as required to meet the needs of the Children's Hospital User Community.\\nRecommending software acquisitions to meet projected demands. Perform product evaluations and trials as part of a continuing effort to improve productivity of existing software.\\nInteracting with Application, Network, End User Support staff, vendors, and the End User Community to design and evaluate all new computer system environments and associated applications.\\nIdentifying end user/application requirements as they relate to the computer systems environments in order to develop and execute a plan within project time frames.\\nResponding to computer system problems resolving them on a timely basis adhering to problem resolution and escalation procedures.\\nMaintaining computer system security. Keep current on all published security warnings. Monitor daily security audit trail for multiple systems. Inform management of any security breaches or holes in computer system security and propose solutions.\\nProviding consulting services and technical support to peers, operating staff, application staff, research computing, and end user services.\\nAssisting in maintaining performance statistics and provides performance tuning.\\nIdentifying problem areas and develop disaster recovery and backup strategies.\\n\\nIn order to qualify you must have:\\nKnowledge of theories, principles, and concepts typically acquired through completion of a Bachelor's degree in computer science or a closely related field and a minimum of five years of experience.\\nAnalytical skills to collect information from diverse sources, apply professional principles in performing various analyses, and summarize the information and data in order to solve problems OR design relatively complex systems and programs that cross department/divisional lines.\\nCommunication skills in order to effectively deal with conflicting views or issues and mediate fair solutions, or well‑developed writing skills\\n\\nBoston Children’s Hospital offers competitive compensation and unmatched benefits, including a rotating days/evenings and week-end schedule, affordable health, vision and dental insurance, generous levels of time off, 403(b) Retirement Savings plan, Pension, Tuition Reimbursement, cell phone plan discounts and discounted rates on T-passes (50% off). Discover your best.\\nShow Less \""
      ]
     },
     "execution_count": 3,
     "metadata": {},
     "output_type": "execute_result"
    }
   ],
   "source": [
    "print(df.iloc[0])\n",
    "text = df['description'][0]\n",
    "text"
   ]
  },
  {
   "cell_type": "code",
   "execution_count": 17,
   "metadata": {},
   "outputs": [],
   "source": [
    "def process_description(description):\n",
    "    tokens = nltk.word_tokenize(description)\n",
    "    #tokens = nltk.sent_tokenize(description)\n",
    "    stopwords_removed = [token.lower() for token in tokens if token.lower() not in stopwords_list]\n",
    "    stopwords_punc_and_numbers_removed = [word for word in stopwords_removed if word.isalpha()]\n",
    "    return stopwords_removed  \n",
    "\n",
    "#Tokenize words\n",
    "tokens = nltk.word_tokenize(text)\n",
    "\n",
    "#Crate and remove stop words\n",
    "stopwords_list = stopwords.words('english') + list(string.punctuation) + ['and','’']\n"
   ]
  },
  {
   "cell_type": "markdown",
   "metadata": {},
   "source": [
    "## 4. Combine roles into new dataframes and concatenate descriptions"
   ]
  },
  {
   "cell_type": "code",
   "execution_count": 18,
   "metadata": {},
   "outputs": [
    {
     "data": {
      "text/plain": [
       "engineer         147\n",
       "analyst           88\n",
       "manager           59\n",
       "developer         42\n",
       "director          41\n",
       "leadership        22\n",
       "administrator     20\n",
       "architect         20\n",
       "specialist        14\n",
       "Name: role, dtype: int64"
      ]
     },
     "execution_count": 18,
     "metadata": {},
     "output_type": "execute_result"
    }
   ],
   "source": [
    "df['role'].value_counts()"
   ]
  },
  {
   "cell_type": "code",
   "execution_count": 7,
   "metadata": {},
   "outputs": [
    {
     "data": {
      "text/html": [
       "<div>\n",
       "<style scoped>\n",
       "    .dataframe tbody tr th:only-of-type {\n",
       "        vertical-align: middle;\n",
       "    }\n",
       "\n",
       "    .dataframe tbody tr th {\n",
       "        vertical-align: top;\n",
       "    }\n",
       "\n",
       "    .dataframe thead th {\n",
       "        text-align: right;\n",
       "    }\n",
       "</style>\n",
       "<table border=\"1\" class=\"dataframe\">\n",
       "  <thead>\n",
       "    <tr style=\"text-align: right;\">\n",
       "      <th></th>\n",
       "      <th>job_title</th>\n",
       "      <th>role</th>\n",
       "      <th>description</th>\n",
       "    </tr>\n",
       "  </thead>\n",
       "  <tbody>\n",
       "    <tr>\n",
       "      <th>170</th>\n",
       "      <td>Director, Identity and Access Management</td>\n",
       "      <td>director</td>\n",
       "      <td>Abbott is a global healthcare leader that help...</td>\n",
       "    </tr>\n",
       "    <tr>\n",
       "      <th>171</th>\n",
       "      <td>Director, Business Operations</td>\n",
       "      <td>director</td>\n",
       "      <td>Our Company\\n\\nChanging the world through digi...</td>\n",
       "    </tr>\n",
       "    <tr>\n",
       "      <th>172</th>\n",
       "      <td>Director, Business Strategy</td>\n",
       "      <td>director</td>\n",
       "      <td>Our Company\\n\\nChanging the world through digi...</td>\n",
       "    </tr>\n",
       "    <tr>\n",
       "      <th>173</th>\n",
       "      <td>Director of Global Information Security - Iden...</td>\n",
       "      <td>director</td>\n",
       "      <td>Job Description Summary:\\n\\nWe currently have ...</td>\n",
       "    </tr>\n",
       "    <tr>\n",
       "      <th>174</th>\n",
       "      <td>Director Information Security – Technology Exa...</td>\n",
       "      <td>director</td>\n",
       "      <td>You Lead the Way. We’ve Got Your Back.\\n\\nWith...</td>\n",
       "    </tr>\n",
       "  </tbody>\n",
       "</table>\n",
       "</div>"
      ],
      "text/plain": [
       "                                             job_title      role  \\\n",
       "170           Director, Identity and Access Management  director   \n",
       "171                      Director, Business Operations  director   \n",
       "172                        Director, Business Strategy  director   \n",
       "173  Director of Global Information Security - Iden...  director   \n",
       "174  Director Information Security – Technology Exa...  director   \n",
       "\n",
       "                                           description  \n",
       "170  Abbott is a global healthcare leader that help...  \n",
       "171  Our Company\\n\\nChanging the world through digi...  \n",
       "172  Our Company\\n\\nChanging the world through digi...  \n",
       "173  Job Description Summary:\\n\\nWe currently have ...  \n",
       "174  You Lead the Way. We’ve Got Your Back.\\n\\nWith...  "
      ]
     },
     "execution_count": 7,
     "metadata": {},
     "output_type": "execute_result"
    }
   ],
   "source": [
    "\n",
    "engineer_df = df[df['role'] == 'engineer']\n",
    "analyst_df = df[df['role'] == 'analyst']\n",
    "manager_df = df[df['role'] == 'manager']\n",
    "developer_df = df[df['role'] == 'developer']\n",
    "leadership_df = df[df['role'] == 'leadership']\n",
    "administrator_df = df[df['role'] == 'administrator']\n",
    "architect_df = df[df['role'] == 'architect']\n",
    "specialist_df = df[df['role'] == 'specialist']\n",
    "\n",
    "director_df.head()"
   ]
  },
  {
   "cell_type": "code",
   "execution_count": 8,
   "metadata": {},
   "outputs": [
    {
     "name": "stdout",
     "output_type": "stream",
     "text": [
      "Finished Concatenation\n",
      "Finished Concatenation\n",
      "Finished Concatenation\n",
      "Finished Concatenation\n",
      "Finished Concatenation\n",
      "Finished Concatenation\n",
      "Finished Concatenation\n",
      "Finished Concatenation\n",
      "Finished Concatenation\n"
     ]
    }
   ],
   "source": [
    "def concat_description(df):\n",
    "    # concat description\n",
    "    desc = ''\n",
    "    for i in range(len(df)):\n",
    "        desc += df.iloc[i]['description']\n",
    "    print('Finished Concatenation')\n",
    "    return desc\n",
    "\n",
    "engineer_text = concat_description(engineer_df)\n",
    "engineer_text_processed = process_description(engineer_text)\n",
    "\n",
    "analyst_text = concat_description(analyst_df)\n",
    "analyst_text_processed = process_description(analyst_text)\n",
    "\n",
    "manager_text = concat_description(manager_df)\n",
    "manager_text_processed = process_description(manager_text)\n",
    "\n",
    "developer_text = concat_description(developer_df)\n",
    "developer_text_processed = process_description(developer_text)\n",
    "\n",
    "leadership_text = concat_description(leadership_df)\n",
    "leadership_text_processed = process_description(leadership_text)\n",
    "\n",
    "administrator_text = concat_description(administrator_df)\n",
    "administrator_text_processed = process_description(administrator_text)\n",
    "\n",
    "architect_text = concat_description(architect_df)\n",
    "architect_text_processed = process_description(architect_text)\n",
    "\n",
    "specialist_text = concat_description(specialist_df)\n",
    "specialist_text_processed = process_description(specialist_text)"
   ]
  },
  {
   "cell_type": "markdown",
   "metadata": {},
   "source": [
    "## 5. Save and output processed files"
   ]
  },
  {
   "cell_type": "code",
   "execution_count": 12,
   "metadata": {},
   "outputs": [],
   "source": [
    "# Saving files\n",
    "\n",
    "text_file = open(\"../project_data/engineer_text.txt\", \"w\")\n",
    "text_file.write(engineer_text)\n",
    "text_file.close()\n",
    "temp = pd.DataFrame(engineer_text_processed)\n",
    "temp.to_csv('../project_data/engineer_text_processed.csv')\n",
    "\n",
    "text_file = open(\"../project_data/analyst_text.txt\", \"w\")\n",
    "text_file.write(analyst_text)\n",
    "text_file.close()\n",
    "temp = pd.DataFrame(analyst_text_processed)\n",
    "temp.to_csv('../project_data/analyst_text_processed.csv')\n",
    "\n",
    "\n",
    "text_file = open(\"../project_data/manager_text.txt\", \"w\")\n",
    "text_file.write(manager_text)\n",
    "text_file.close()\n",
    "temp = pd.DataFrame(manager_text_processed)\n",
    "temp.to_csv('../project_data/manager_text_processed.csv')\n",
    "\n",
    "text_file = open(\"../project_data/developer_text.txt\", \"w\")\n",
    "text_file.write(developer_text)\n",
    "text_file.close()\n",
    "temp = pd.DataFrame(developer_text_processed)\n",
    "temp.to_csv('../project_data/developer_text_processed.csv')\n",
    "\n",
    "text_file = open(\"../project_data/leadership_text.txt\", \"w\")\n",
    "text_file.write(leadership_text)\n",
    "text_file.close()\n",
    "temp = pd.DataFrame(leadership_text_processed)\n",
    "temp.to_csv('../project_data/leadership_text_processed.csv')\n",
    "\n",
    "text_file = open(\"../project_data/administrator_text.txt\", \"w\")\n",
    "text_file.write(administrator_text)\n",
    "text_file.close()\n",
    "temp = pd.DataFrame(administrator_text_processed)\n",
    "temp.to_csv('../project_data/administrator_text_processed.csv')\n",
    "\n",
    "text_file = open(\"../project_data/architect_text.txt\", \"w\")\n",
    "text_file.write(architect_text)\n",
    "text_file.close()\n",
    "temp = pd.DataFrame(architect_text_processed)\n",
    "temp.to_csv('../project_data/architect_text_processed.csv')\n",
    "\n",
    "text_file = open(\"../project_data/specialist_text.txt\", \"w\")\n",
    "text_file.write(specialist_text)\n",
    "text_file.close()\n",
    "temp = pd.DataFrame(specialist_text_processed)\n",
    "temp.to_csv('../project_data/specialist_text_processed.csv')\n"
   ]
  },
  {
   "cell_type": "markdown",
   "metadata": {},
   "source": [
    "## 6. Word frequency"
   ]
  },
  {
   "cell_type": "code",
   "execution_count": 13,
   "metadata": {},
   "outputs": [
    {
     "data": {
      "text/plain": [
       "[('at the home depot, cybersecurity consists of architecture, governance, identity & access management, internal threat operations, issue and compliance management, risk assessment/advisory, security consulting, security operations, service optimization and strategic planning.',\n",
       "  8),\n",
       " ('on rare occasions there may be a need to move or lift light articles.', 8),\n",
       " ('any unpleasant conditions would be infrequent and not objectionable.', 8),\n",
       " ('must be legally permitted to work in the united states.', 8),\n",
       " ('manager\\nthis position has 0 direct reports\\ntravel requirements:\\nno travel required.',\n",
       "  5),\n",
       " ('physical requirements:\\nmost of the time is spent sitting in a comfortable position and there is frequent opportunity to move about.',\n",
       "  5),\n",
       " ('working conditions:\\nlocated in a comfortable indoor area.', 5),\n",
       " ('minimum qualifications:\\nmust be eighteen years of age or older.', 5),\n",
       " ('amazon is an equal opportunity employer and does not discriminate on the basis of race, national origin, gender, gender identity, sexual orientation, protected veteran status, disability, age, or other legally protected status.',\n",
       "  4),\n",
       " ('for individuals with disabilities who would like to request an accommodation, please visit https://www.amazon.jobs/en/disability/us.',\n",
       "  4),\n",
       " ('excellent written and verbal communication skills.', 4),\n",
       " ('compensation provided for using, not obtaining, the rating.', 4),\n",
       " (\"our pioneering and inventive spirit has enabled us to be at the forefront of many technological advancements in our nation's history - from the first flight across the atlantic ocean, to stealth bombers, to landing on the moon.\",\n",
       "  3),\n",
       " ('we look for people who have bold new ideas, courage and a pioneering spirit to join forces to invent the future, and have fun along the way.',\n",
       "  3),\n",
       " ('our culture thrives on intellectual curiosity, cognitive diversity and bringing your whole self to work — and we have an insatiable drive to do what others think is impossible.',\n",
       "  3),\n",
       " (\"our employees are not only part of history, they're making history.\", 3),\n",
       " ('annual bonuses are designed to reward individual contributions as well as allow employees to share in company results.',\n",
       "  3),\n",
       " ('employees in vice president or director positions may be eligible for long term incentives.',\n",
       "  3),\n",
       " ('in addition, northrop grumman provides a variety of benefits including health insurance coverage, life and disability insurance, savings plan, company paid holidays and paid time off (pto) for vacation and/or personal business.',\n",
       "  3),\n",
       " ('the health and safety of our employees and their families is a top priority.',\n",
       "  3),\n",
       " ('the company encourages employees to remain up-to-date on their covid-19 vaccinations.',\n",
       "  3),\n",
       " ('u.s. northrop grumman employees may be required, in the future, to be vaccinated or have an approved disability/medical or religious accommodation, pursuant to future court decisions and/or government action on the currently stayed federal contractor vaccine mandate under executive order 14042 https://www.saferfederalworkforce.gov/contractors/.',\n",
       "  3),\n",
       " ('northrop grumman is committed to hiring and retaining a diverse workforce.',\n",
       "  3),\n",
       " ('we are proud to be an equal opportunity/affirmative action employer, making decisions without regard to race, color, religion, creed, sex, sexual orientation, gender identity, marital status, national origin, age, veteran status, disability, or any other protected class.',\n",
       "  3),\n",
       " ('for our complete eeo/aa and pay transparency statement, please visit http://www.northropgrumman.com/eeo.',\n",
       "  3),\n",
       " ('u.s.', 3),\n",
       " ('citizenship is required for most positions.', 3),\n",
       " ('manager\\r\\n\\r\\nthis position has 0 direct reports\\r\\n\\r\\nenvironmental job requirements:\\r\\n\\r\\nenvironment:\\r\\n1.',\n",
       "  3),\n",
       " ('located in a comfortable indoor area.', 3),\n",
       " ('travel:\\r\\nno travel required.', 3)]"
      ]
     },
     "execution_count": 13,
     "metadata": {},
     "output_type": "execute_result"
    }
   ],
   "source": [
    "FreqDist(engineer_text_processed).most_common(30)"
   ]
  },
  {
   "cell_type": "code",
   "execution_count": 14,
   "metadata": {},
   "outputs": [
    {
     "data": {
      "text/plain": [
       "[('advanced knowledge of microsoft applications, including excel and access preferred.',\n",
       "  7),\n",
       " ('all qualified applicants will receive consideration for employment without regard to sex, gender identity, sexual orientation, race, color, religion, national origin, disability, protected veteran status, age, or any other characteristic protected by law.',\n",
       "  5),\n",
       " ('centene is transforming the health of our communities, one person at a time.',\n",
       "  4),\n",
       " ('project management experience preferred.', 4),\n",
       " ('0-2 years of business process analysis (i.e.', 4),\n",
       " ('our comprehensive benefits package: flexible work solutions including remote options, hybrid work schedules and dress flexibility, competitive pay, paid time off including holidays, health insurance coverage for you and your dependents, 401(k) and stock purchase plans, tuition reimbursement and best-in-class training and development.',\n",
       "  4),\n",
       " ('centene is an equal opportunity employer that is committed to diversity, and values the ways in which we are different.',\n",
       "  4),\n",
       " ('all qualified applicants will receive consideration for employment without regard to race, color, religion, sex, sexual orientation, gender identity, national origin, disability, veteran status, or other characteristic protected by applicable law.',\n",
       "  4),\n",
       " ('we welcome people from all backgrounds who seek the opportunity to help build a future where everyone and everything can move independently.',\n",
       "  4),\n",
       " ('uber is proud to be an equal opportunity/affirmative action employer.', 4),\n",
       " ('we also consider qualified applicants regardless of criminal histories, consistent with legal requirements.',\n",
       "  4),\n",
       " ('if you have a disability or special need that requires accommodation, please let us know by completing this form.',\n",
       "  4),\n",
       " ('as a diversified, national organization, you’ll have access to competitive benefits including a fresh perspective on workplace flexibility.',\n",
       "  3),\n",
       " ('0-2 years of business process analysis or data analysis experience.', 3),\n",
       " ('documenting business process, gathering requirements) or claims payment/analysis experience.',\n",
       "  3),\n",
       " ('provider data\\nbachelor’s degree in related field or equivalent experience.',\n",
       "  3),\n",
       " ('0-2 years of business process analysis (documenting business process, gathering requirements) experience in healthcare industry and/or working in a data driven environment.',\n",
       "  3),\n",
       " ('advanced knowledge of microsoft applications, including excel, project, and visio preferred.',\n",
       "  3),\n",
       " ('knowledge of data migration, software enhancement/planning, and agile preferred.',\n",
       "  3),\n",
       " ('on rare occasions there may be a need to move or lift light articles.', 3),\n",
       " ('any unpleasant conditions would be infrequent and not objectionable.', 3),\n",
       " ('must be legally permitted to work in the united states.', 3),\n",
       " ('u.s.', 3),\n",
       " ('our goal is to impact lasting change through our actions.', 2),\n",
       " ('other duties as assigned.', 2),\n",
       " ('biogen discovers, develops, and delivers worldwide innovative therapies for people living with serious neurological and neurodegenerative diseases.',\n",
       "  2),\n",
       " ('one of the world’s first global biotechnology companies, biogen was founded in 1978 and today has the leading portfolio of medicines to treat multiple sclerosis, has introduced the first and only approved treatment for spinal muscular atrophy, and is focused on advancing neuroscience research programs in alzheimer’s disease and dementia, ms and neuroimmunology, movement disorders, neuromuscular disorders, acute neurology, neurocognitive disorders, pain, and ophthalmology.',\n",
       "  2),\n",
       " ('biogen also manufactures and commercializes biosimilars of advanced biologics.',\n",
       "  2),\n",
       " ('job description\\n\\n\\nabout this role:\\n\\nas the senior identity and access management (iam) business and technical analyst, you will utilize your knowledge of iam to enhance biogen’s current state capabilities.',\n",
       "  2),\n",
       " ('the individual in this position will combine their deep technical experience with iam implementation acumen to excel as a business partner.',\n",
       "  2)]"
      ]
     },
     "execution_count": 14,
     "metadata": {},
     "output_type": "execute_result"
    }
   ],
   "source": [
    "FreqDist(analyst_text_processed).most_common(30)"
   ]
  },
  {
   "cell_type": "code",
   "execution_count": 15,
   "metadata": {},
   "outputs": [
    {
     "data": {
      "text/plain": [
       "[('we collaborate internationally to deliver the services and solutions that help everyone to be more productive and enable innovation.',\n",
       "  6),\n",
       " ('act as the primary contact between the scrum teams and stakeholders.', 6),\n",
       " ('the minimum and maximum full-time annual salaries for this role are listed below, by location.',\n",
       "  4),\n",
       " ('please note that this salary information is solely for candidates hired to perform work within one of these locations, and refers to the amount capital one is willing to pay at the time of this posting.',\n",
       "  4),\n",
       " ('salaries for part-time roles will be prorated based upon the agreed upon number of hours to be regularly worked.',\n",
       "  4),\n",
       " ('no agencies please.', 4),\n",
       " ('capital one is an equal opportunity employer committed to diversity and inclusion in the workplace.',\n",
       "  4),\n",
       " ('all qualified applicants will receive consideration for employment without regard to sex, race, color, age, national origin, religion, physical and mental disability, genetic information, marital status, sexual orientation, gender identity/assignment, citizenship, pregnancy or maternity, protected veteran status, or any other status prohibited by applicable national, federal, state or local law.',\n",
       "  4),\n",
       " ('capital one promotes a drug-free workplace.', 4),\n",
       " ('if you have visited our website in search of information on employment opportunities or to apply for a position, and you require an accommodation, please contact capital one recruiting at 1-800-304-9102 or via email at recruitingaccommodation@capitalone.com.',\n",
       "  4),\n",
       " ('all information you provide will be kept confidential and will be used only to the extent required to provide needed reasonable accommodations.',\n",
       "  4),\n",
       " ('capital one financial is made up of several different entities.', 4),\n",
       " ('please note that any position posted in canada is for capital one canada, any position posted in the united kingdom is for capital one europe and any position posted in the philippines is for capital one philippines service corp. (copssc).',\n",
       "  4),\n",
       " ('our organization partners closely with our company’s research & development (r&d) org to provide innovative solutions that enable new products and capabilities within the research & development.',\n",
       "  3),\n",
       " ('to enable this, we are seeking a product owner for our company’s clinical data layer, to partner with r&d and other orgs to define the roadmap, own and prioritize the backlog and be the central contact between the business and scum team.',\n",
       "  3),\n",
       " ('research and determine the business needs to determine which features to include and determine the metrics to measure success.',\n",
       "  3),\n",
       " ('define the products vision, mission & okrs.', 3),\n",
       " ('collaborate closely with both the scrum and squads to ensure the product meet objectives as outlined by the stakeholders.',\n",
       "  3),\n",
       " ('develops and regularly calibrates metrics for the product.', 3),\n",
       " ('drives continuous product discovery to understand user needs and translate that solutions and product backlog.',\n",
       "  3),\n",
       " ('sets and communicates high-integrity roadmap commitments that have been assessed collaboratively with the delivery squad(s) in terms of value, feasibility, usability, and viability\\n\\ndefine & measure the product okrs.',\n",
       "  3),\n",
       " ('proficiency in the use of identity and access management tools and technologies\\n\\ngood understanding of identity and access management concepts and latest trends in iam space\\n\\nability to architect user-centric solutions and streamline complex iam challenges, at scale\\n\\nfamiliarity with cutting edge tools used in cloud and saas environments\\n\\nfamiliarity with healthcare sector regulatory landscape which demands specific controls on iam space\\n\\nability to prioritize effectively\\n\\nexcellent knowledge of user-centered design principles\\n\\nexcellent oral and written communication\\n\\nability to work with large teams\\n\\nunderstanding of design quality standards\\n\\nfamiliarity with jenkins, bitbucket, jira & confluence\\n\\nexperience with okrs.',\n",
       "  3),\n",
       " ('experience in managing geographically distributed squads preferred\\n\\nexperience in different delivery methods (agile, traditional) in large organizations\\n\\nexperience with product management techniques such as strategy, road mapping etc.',\n",
       "  3),\n",
       " ('demonstrated leadership experience, leading teams through influence.', 3),\n",
       " ('strong analytical thinker and problem-solving skills.', 3),\n",
       " ('our support functions deliver services and make recommendations about ways to enhance our workplace and the culture of our organization.',\n",
       "  3),\n",
       " ('our support functions include hr, finance, information technology, legal, procurement, administration, facilities and security.',\n",
       "  3),\n",
       " ('who we are …\\n\\nwe are known as merck & co., inc., rahway, new jersey, usa in the united states and canada and msd everywhere else.',\n",
       "  3),\n",
       " (\"for more than a century, we have been inventing for life, bringing forward medicines and vaccines for many of the world's most challenging diseases.\",\n",
       "  3),\n",
       " ('today, our company continues to be at the forefront of research to deliver innovative health solutions and advance the prevention and treatment of diseases that threaten people and animals around the world.',\n",
       "  3)]"
      ]
     },
     "execution_count": 15,
     "metadata": {},
     "output_type": "execute_result"
    }
   ],
   "source": [
    "FreqDist(manager_text_processed).most_common(30)"
   ]
  },
  {
   "cell_type": "code",
   "execution_count": 16,
   "metadata": {},
   "outputs": [
    {
     "data": {
      "text/plain": [
       "[('applicants must be authorized to work in the u.s.\\n\\n\\ncybercoders, inc is proud to be an equal opportunity employer\\n\\nall qualified applicants will receive consideration for employment without regard to race, color, religion, sex, national origin, disability, protected veteran status, or any other characteristic protected by law.',\n",
       "  3),\n",
       " ('your right to work – in compliance with federal law, all persons hired will be required to verify identity and eligibility to work in the united states and to complete the required employment eligibility verification document form upon hire.',\n",
       "  3),\n",
       " ('we are a cutting edge company that creates data management and storage solutions to address the issue of long-term digital preservation for businesses facing exponential data growth.',\n",
       "  2),\n",
       " ('the adoption of its solutions by leaders in numerous industries around the world shows our product and customer focus, which has been dedicated completely to storage innovation for 40 years.',\n",
       "  2),\n",
       " ('by developing innovative techniques for managing data in all types of storage, including archive, backup, cold storage, private cloud, and public cloud, we enable inexpensive, multi-decade data storage and access.',\n",
       "  2),\n",
       " ('401k\\nmedical, vision, dental.', 2),\n",
       " ('strong pto package\\nwhat you will be doing\\nyou will be working on a product that helps ensure data lasts forever and is stored as efficiently as possible.',\n",
       "  2),\n",
       " ('at mantech international corporation, you‚äôll help protect our national security while working on innovative projects that offer opportunities for advancement.',\n",
       "  2),\n",
       " ('there are differentiating factors that can impact a final salary/hourly rate, including, but not limited to, contract wage determination, relevant work experience, skills and competencies that align to the specified role, geographic location (for remote opportunities), education and certifications as well as federal government contract labor categories.',\n",
       "  2),\n",
       " ('in addition, mantech invests in it‚äôs employees beyond just compensation.',\n",
       "  2),\n",
       " ('mantech‚äôs benefits offerings include, dependent upon position, health insurance, life insurance, paid time off, holiday pay, short term and long term disability, retirement and savings, learning and development opportunities, wellness programs as well as other optional benefit elections.',\n",
       "  2),\n",
       " ('for all positions requiring access to technology/software source code that is subject to export control laws, employment with the company is contingent on either verifying u.s.-person status or obtaining any necessary license.',\n",
       "  2),\n",
       " ('the applicant will be required to answer certain questions for export control purposes, and that information will be reviewed by compliance personnel to ensure compliance with federal law.',\n",
       "  2),\n",
       " ('mantech may choose not to apply for a license for such individuals whose access to export-controlled technology or software source code may require authorization and may decline to proceed with an applicant on that basis alone.',\n",
       "  2),\n",
       " ('mantech international corporation, as well as its subsidiaries proactively fulfills its role as an equal opportunity employer.',\n",
       "  2),\n",
       " ('we do not discriminate against any employee or applicant for employment because of race, color, sex, religion, age, sexual orientation, gender identity and expression, national origin, marital status, physical or mental disability, status as a disabled veteran, recently separated veteran, active duty wartime or campaign badge veteran, armed forces services medal, or any other characteristic protected by law.',\n",
       "  2),\n",
       " (\"if you require a reasonable accommodation to apply for a position with mantech through its online applicant system, please contact mantech's corporate eeo department at (703) 218-6000.\",\n",
       "  2),\n",
       " ('mantech is an affirmative action/equal opportunity employer - minorities, females, disabled and protected veterans are urged to apply.',\n",
       "  2),\n",
       " (\"mantech's utilization of any external recruitment or job placement agency is predicated upon its full compliance with our equal opportunity/affirmative action policies.\",\n",
       "  2),\n",
       " ('mantech does not accept resumes from unsolicited recruiting firms.', 2),\n",
       " ('we pay no fees for unsolicited services.', 2),\n",
       " ('no\\r\\n\\r\\n\\r\\nstandard hours per week\\r\\n40\\r\\n\\r\\n\\r\\nfull time or part time?',\n",
       "  2),\n",
       " ('with approximately $20 billion in assets under management, my529 consistently ranks as one of the top 529 plans in the united states.',\n",
       "  2),\n",
       " ('learn more at www.my529.org.', 2),\n",
       " ('our objective for this candidate is attention to design detail throughout our applications.',\n",
       "  2),\n",
       " ('individuals from historically underrepresented groups, such as minorities, women, qualified persons with disabilities and protected veterans are encouraged to apply.',\n",
       "  2),\n",
       " ('veterans‚äô preference is extended to qualified applicants, upon request and consistent with university policy and utah state law.',\n",
       "  2),\n",
       " ('upon request, reasonable accommodations in the application process will be provided to individuals with disabilities.',\n",
       "  2),\n",
       " ('the university of utah is an affirmative action/equal opportunity employer and does not discriminate based upon race, ethnicity, color, religion, national origin, age, disability, sex, sexual orientation, gender, gender identity, gender expression, pregnancy, pregnancy-related conditions, genetic information, or protected veteran‚äôs status.',\n",
       "  2),\n",
       " ('the university does not discriminate on the basis of sex in the education program or activity that it operates, as required by title ix and 34cfrpart 106.',\n",
       "  2)]"
      ]
     },
     "execution_count": 16,
     "metadata": {},
     "output_type": "execute_result"
    }
   ],
   "source": [
    "FreqDist(developer_text_processed).most_common(30)"
   ]
  }
 ],
 "metadata": {
  "kernelspec": {
   "display_name": "Python 3.8.2 64-bit",
   "language": "python",
   "name": "python3"
  },
  "language_info": {
   "codemirror_mode": {
    "name": "ipython",
    "version": 3
   },
   "file_extension": ".py",
   "mimetype": "text/x-python",
   "name": "python",
   "nbconvert_exporter": "python",
   "pygments_lexer": "ipython3",
   "version": "3.8.2"
  },
  "orig_nbformat": 4,
  "vscode": {
   "interpreter": {
    "hash": "31f2aee4e71d21fbe5cf8b01ff0e069b9275f58929596ceb00d14d90e3e16cd6"
   }
  }
 },
 "nbformat": 4,
 "nbformat_minor": 2
}
