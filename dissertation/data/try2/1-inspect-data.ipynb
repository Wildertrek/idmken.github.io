{
 "cells": [
  {
   "cell_type": "markdown",
   "metadata": {},
   "source": [
    "# Inspect Data"
   ]
  },
  {
   "cell_type": "markdown",
   "metadata": {},
   "source": [
    "## 1. Import packages and data"
   ]
  },
  {
   "cell_type": "code",
   "execution_count": 9,
   "metadata": {},
   "outputs": [
    {
     "name": "stdout",
     "output_type": "stream",
     "text": [
      "<class 'pandas.core.frame.DataFrame'>\n",
      "RangeIndex: 452 entries, 0 to 451\n",
      "Data columns (total 3 columns):\n",
      " #   Column       Non-Null Count  Dtype \n",
      "---  ------       --------------  ----- \n",
      " 0   job_title    452 non-null    object\n",
      " 1   role         452 non-null    object\n",
      " 2   description  452 non-null    object\n",
      "dtypes: object(3)\n",
      "memory usage: 10.7+ KB\n"
     ]
    }
   ],
   "source": [
    "import pandas as pd\n",
    "import numpy as np\n",
    "import nltk\n",
    "from nltk.corpus import stopwords\n",
    "from nltk import word_tokenize, FreqDist, sent_tokenize\n",
    "import string\n",
    "import os\n",
    "for dirname, _, filenames in os.walk('dissertation/data'):\n",
    "    for filename in filenames:\n",
    "        print(os.path.join(dirname, filename))\n",
    "\n",
    "df = pd.read_csv(\"../project_data/data-jobs-20221123.csv\")\n",
    "\n",
    "df.info()"
   ]
  },
  {
   "cell_type": "markdown",
   "metadata": {},
   "source": [
    "## 2. Process data"
   ]
  },
  {
   "cell_type": "code",
   "execution_count": 10,
   "metadata": {},
   "outputs": [
    {
     "name": "stdout",
     "output_type": "stream",
     "text": [
      "job_title      Business Intelligence Engineer, Identity and A...\n",
      "role                                                    engineer\n",
      "description    · 3+ years in relevant experience as Business ...\n",
      "Name: 0, dtype: object\n"
     ]
    },
    {
     "data": {
      "text/plain": [
       "\"· 3+ years in relevant experience as Business Intelligence Engineer, Data Engineer, Business Analyst, Data Scientist, or equivalent. · Proficiency with data querying or modeling technique with SQL · Experience with data visualization using QuickSight, Tableau, or similar tools · Proficiency with a scripting language (Java, Python, or R) · Bachelor's degree in Engineering, Statistics, Computer Science, Operations Research, Business Analytics, Information Systems or related field\\n\\nJob summary\\nWe are looking for Business Intelligence Engineers to apply their talents to create new BI solutions, providing cutting edge insights and analytics that help tell the story of how our Stores Security programs are performing.\\n\\nOur Stores Security teams span over ten countries worldwide, and our focus areas include security intelligence, application security, incident response, security operations, risk and compliance, acquisitions and subsidiaries, and external partner security.\\n\\nWhat makes this role different than all the others out there? Simple: scope. You get the opportunity to work with every part of our Stores Security team plus external business stakeholders. You will be working on a large number of complex migration projects and be given a lot of independence. This is a new focus area for Stores Security, so you have the opportunity to put your stamp on it.\\n\\nAmazon.com strives to be Earth's most customer-centric company where people can discover virtually anything they want to buy online. The world's brightest minds come to Amazon.com to research and develop technology that improves the lives of shoppers, developers, publishers, and sellers around the world. Amazon's vision is to offer the Earth's largest selection and lowest prices to our customers.\\n\\nKey job responsibilities\\nWe are building a team of professionals that are forward-looking and using the latest technology offerings (AWS cloud services, Machine Learning, Mathematical Optimization, Relational and NoSQL databases) to build new capability to operationalize and automate migration methodologies.\\n\\nManage the business metrics reporting process and perform ad hoc reporting requests\\nDrive process efficiency and automation\\nPartnering with engineering, product, business and finance teams to create key performance indicators and new methodologies for measurement.\\nOwn key executive reports and metrics that are consumed by our VPs and Directors.\\nProvide thought leadership in global business deep dives across a variety of key performance indicators.\\nRetrieve and analyze data from database tables (ex. Redshift, Oracle), and learn and understand a broad range of Amazon’s data resources and know how, when, and which to use and which not to use.\\nAnalyze volumes of data to find the root causes behind variances and drive insights.\\nBuild new analytical tools, interfacing with business and technical stakeholders\\nDevelop models and metrics providing insights on customer and seller experience and performance\\n\\nThis position may be located in Austin TX, Arlington VA, New York or Seattle, with other locations possible.\\n\\n\\n\\nAbout the team\\nYou will join a team that drives the automation of authoritative datasets that facilitate business analysis and track performance of our Stores Security organization. You have a track record of using those datasets and insights to work directly with business and product teams to drive change within your business. You will work directly with business owners and program managers to translate ambiguous situations into technical implementations that deliver business recommendations that exceed the expectation of your business partners. You understand that automation is key to your success and constantly find techniques to ensure automation and derived datasets are a feature of all your data activities.\\n\\n· 5+ years in relevant experience as a Business Intelligence Engineer, Data Engineer, Business Analyst, Data Scientist, or equivalent. · Strong fundamentals in problem-solving, algorithm design and complexity analysis. · Experience in data mining, SQL, ETL, etc. and using databases in a business environment with large-scale, complex datasets. · Master’s degree in BI, Finance, Engineering, Statistics, Computer Science, Mathematics, Finance or related field required Amazon is committed to a diverse and inclusive workplace. Amazon is an equal opportunity employer and does not discriminate on the basis of race, national origin, gender, gender identity, sexual orientation, protected veteran status, disability, age, or other legally protected status. For individuals with disabilities who would like to request an accommodation, please visit https://www.amazon.jobs/en/disability/us.\\n\\nStart your job application: click Apply Now\\n\\nShow Less \""
      ]
     },
     "execution_count": 10,
     "metadata": {},
     "output_type": "execute_result"
    }
   ],
   "source": [
    "print(df.iloc[0])\n",
    "text = df['description'][0]\n",
    "text"
   ]
  },
  {
   "cell_type": "code",
   "execution_count": 21,
   "metadata": {},
   "outputs": [],
   "source": [
    "def process_description(description):\n",
    "    tokens = nltk.word_tokenize(description)\n",
    "    #tokens = nltk.sent_tokenize(description)\n",
    "    stopwords_removed = [token.lower() for token in tokens if token.lower() not in stopwords_list]\n",
    "    stopwords_punc_and_numbers_removed = [word for word in stopwords_removed if word.isalpha()]\n",
    "    return stopwords_removed  \n",
    "\n",
    "#Tokenize words\n",
    "tokens = nltk.word_tokenize(text)\n",
    "\n",
    "new_stop = ['and','experience','show','veteran','less','origin','sexual', 'orientation', 'dental', 'insurance', 'hour', 'shift','religion','sex','receive','consideration','pay', 'per','employment','opportunity','consideration', 'employment','job','description','start', 'job','click','gender','benefits', 'k','monday', 'friday','age', 'disability','please', 'visit','salary', 'range','characteristic', 'protected','minimum', 'qualifications','join','reasonable', 'accommodation', 'parental', 'leave', 'medical', 'vision', 'duties', 'responsibilities','business', 'needs','essential', 'functions','color','type', 'fulltime','verbal', 'communication','apply','work','national', 'status','closely','flexible', 'spending','’','ability', 'work','location', 'remote','capital', 'one','marital', 'status','team', 'members','work', 'location','applicants', 'without','paid', 'time','color','regard', 'race','apply','equal', 'employer','without', 'regard','united', 'states',\"'s\",'race', 'color','best', 'practices','physical', 'mental','health', 'savings','responsible','affirmative', 'action','iam','federal','state','local','required','ideal', 'candidate','individuals', 'disabilities','northrop', 'grumman','applicable', 'law','every', 'day','across', 'organization''travel', 'required','track', 'record''including', 'limited','employee', 'assistance','new', 'york','compensation', 'package','financial', 'services','travel', 'requirements']\n",
    "\n",
    "#Crate and remove stop words\n",
    "stopwords_list = stopwords.words('english') + list(string.punctuation) + new_stop\n"
   ]
  },
  {
   "cell_type": "markdown",
   "metadata": {},
   "source": [
    "## 4. Combine roles into new dataframes and concatenate descriptions"
   ]
  },
  {
   "cell_type": "code",
   "execution_count": 22,
   "metadata": {},
   "outputs": [
    {
     "data": {
      "text/plain": [
       "engineer         147\n",
       "analyst           88\n",
       "leadership        63\n",
       "manager           59\n",
       "developer         42\n",
       "architect         20\n",
       "administrator     19\n",
       "specialist        14\n",
       "Name: role, dtype: int64"
      ]
     },
     "execution_count": 22,
     "metadata": {},
     "output_type": "execute_result"
    }
   ],
   "source": [
    "df['role'].value_counts()"
   ]
  },
  {
   "cell_type": "code",
   "execution_count": 23,
   "metadata": {},
   "outputs": [
    {
     "data": {
      "text/html": [
       "<div>\n",
       "<style scoped>\n",
       "    .dataframe tbody tr th:only-of-type {\n",
       "        vertical-align: middle;\n",
       "    }\n",
       "\n",
       "    .dataframe tbody tr th {\n",
       "        vertical-align: top;\n",
       "    }\n",
       "\n",
       "    .dataframe thead th {\n",
       "        text-align: right;\n",
       "    }\n",
       "</style>\n",
       "<table border=\"1\" class=\"dataframe\">\n",
       "  <thead>\n",
       "    <tr style=\"text-align: right;\">\n",
       "      <th></th>\n",
       "      <th>job_title</th>\n",
       "      <th>role</th>\n",
       "      <th>description</th>\n",
       "    </tr>\n",
       "  </thead>\n",
       "  <tbody>\n",
       "    <tr>\n",
       "      <th>69</th>\n",
       "      <td>Principal Foundational Architect‚ÄîIdentity &amp; ...</td>\n",
       "      <td>architect</td>\n",
       "      <td>Become a Part of the NIKE, Inc. Team\\r\\n\\r\\nNI...</td>\n",
       "    </tr>\n",
       "    <tr>\n",
       "      <th>81</th>\n",
       "      <td>Workforce Identity and Access Management Archi...</td>\n",
       "      <td>architect</td>\n",
       "      <td>Cloud Security Services is currently looking f...</td>\n",
       "    </tr>\n",
       "    <tr>\n",
       "      <th>84</th>\n",
       "      <td>HR Solution Architect</td>\n",
       "      <td>architect</td>\n",
       "      <td>Comcast brings together the best in media and ...</td>\n",
       "    </tr>\n",
       "    <tr>\n",
       "      <th>90</th>\n",
       "      <td>IAM and Security Architect</td>\n",
       "      <td>architect</td>\n",
       "      <td>Company\\r\\nFederal Reserve Bank of Richmond\\r\\...</td>\n",
       "    </tr>\n",
       "    <tr>\n",
       "      <th>101</th>\n",
       "      <td>Enterprise Cloud Architect Remote</td>\n",
       "      <td>architect</td>\n",
       "      <td>Company Overview\\nMotorola Solutions is there ...</td>\n",
       "    </tr>\n",
       "  </tbody>\n",
       "</table>\n",
       "</div>"
      ],
      "text/plain": [
       "                                             job_title       role  \\\n",
       "69   Principal Foundational Architect‚ÄîIdentity & ...  architect   \n",
       "81   Workforce Identity and Access Management Archi...  architect   \n",
       "84                               HR Solution Architect  architect   \n",
       "90                          IAM and Security Architect  architect   \n",
       "101                  Enterprise Cloud Architect Remote  architect   \n",
       "\n",
       "                                           description  \n",
       "69   Become a Part of the NIKE, Inc. Team\\r\\n\\r\\nNI...  \n",
       "81   Cloud Security Services is currently looking f...  \n",
       "84   Comcast brings together the best in media and ...  \n",
       "90   Company\\r\\nFederal Reserve Bank of Richmond\\r\\...  \n",
       "101  Company Overview\\nMotorola Solutions is there ...  "
      ]
     },
     "execution_count": 23,
     "metadata": {},
     "output_type": "execute_result"
    }
   ],
   "source": [
    "\n",
    "engineer_df = df[df['role'] == 'engineer']\n",
    "analyst_df = df[df['role'] == 'analyst']\n",
    "manager_df = df[df['role'] == 'manager']\n",
    "developer_df = df[df['role'] == 'developer']\n",
    "leadership_df = df[df['role'] == 'leadership']\n",
    "administrator_df = df[df['role'] == 'administrator']\n",
    "architect_df = df[df['role'] == 'architect']\n",
    "specialist_df = df[df['role'] == 'specialist']\n",
    "\n",
    "architect_df.head()"
   ]
  },
  {
   "cell_type": "code",
   "execution_count": 24,
   "metadata": {},
   "outputs": [
    {
     "name": "stdout",
     "output_type": "stream",
     "text": [
      "Finished Concatenation\n",
      "Finished Concatenation\n",
      "Finished Concatenation\n",
      "Finished Concatenation\n",
      "Finished Concatenation\n",
      "Finished Concatenation\n",
      "Finished Concatenation\n",
      "Finished Concatenation\n"
     ]
    }
   ],
   "source": [
    "def concat_description(df):\n",
    "    # concat description\n",
    "    desc = ''\n",
    "    for i in range(len(df)):\n",
    "        desc += df.iloc[i]['description']\n",
    "    print('Finished Concatenation')\n",
    "    return desc\n",
    "\n",
    "engineer_text = concat_description(engineer_df)\n",
    "engineer_text_processed = process_description(engineer_text)\n",
    "\n",
    "analyst_text = concat_description(analyst_df)\n",
    "analyst_text_processed = process_description(analyst_text)\n",
    "\n",
    "manager_text = concat_description(manager_df)\n",
    "manager_text_processed = process_description(manager_text)\n",
    "\n",
    "developer_text = concat_description(developer_df)\n",
    "developer_text_processed = process_description(developer_text)\n",
    "\n",
    "leadership_text = concat_description(leadership_df)\n",
    "leadership_text_processed = process_description(leadership_text)\n",
    "\n",
    "administrator_text = concat_description(administrator_df)\n",
    "administrator_text_processed = process_description(administrator_text)\n",
    "\n",
    "architect_text = concat_description(architect_df)\n",
    "architect_text_processed = process_description(architect_text)\n",
    "\n",
    "specialist_text = concat_description(specialist_df)\n",
    "specialist_text_processed = process_description(specialist_text)"
   ]
  },
  {
   "cell_type": "markdown",
   "metadata": {},
   "source": [
    "## 5. Save and output processed files"
   ]
  },
  {
   "cell_type": "code",
   "execution_count": 25,
   "metadata": {},
   "outputs": [],
   "source": [
    "# Saving files\n",
    "\n",
    "text_file = open(\"../project_data/engineer_text.txt\", \"w\")\n",
    "text_file.write(engineer_text)\n",
    "text_file.close()\n",
    "temp = pd.DataFrame(engineer_text_processed)\n",
    "temp.to_csv('../project_data/engineer_text_processed.csv')\n",
    "\n",
    "text_file = open(\"../project_data/analyst_text.txt\", \"w\")\n",
    "text_file.write(analyst_text)\n",
    "text_file.close()\n",
    "temp = pd.DataFrame(analyst_text_processed)\n",
    "temp.to_csv('../project_data/analyst_text_processed.csv')\n",
    "\n",
    "\n",
    "text_file = open(\"../project_data/manager_text.txt\", \"w\")\n",
    "text_file.write(manager_text)\n",
    "text_file.close()\n",
    "temp = pd.DataFrame(manager_text_processed)\n",
    "temp.to_csv('../project_data/manager_text_processed.csv')\n",
    "\n",
    "text_file = open(\"../project_data/developer_text.txt\", \"w\")\n",
    "text_file.write(developer_text)\n",
    "text_file.close()\n",
    "temp = pd.DataFrame(developer_text_processed)\n",
    "temp.to_csv('../project_data/developer_text_processed.csv')\n",
    "\n",
    "text_file = open(\"../project_data/leadership_text.txt\", \"w\")\n",
    "text_file.write(leadership_text)\n",
    "text_file.close()\n",
    "temp = pd.DataFrame(leadership_text_processed)\n",
    "temp.to_csv('../project_data/leadership_text_processed.csv')\n",
    "\n",
    "text_file = open(\"../project_data/administrator_text.txt\", \"w\")\n",
    "text_file.write(administrator_text)\n",
    "text_file.close()\n",
    "temp = pd.DataFrame(administrator_text_processed)\n",
    "temp.to_csv('../project_data/administrator_text_processed.csv')\n",
    "\n",
    "text_file = open(\"../project_data/architect_text.txt\", \"w\")\n",
    "text_file.write(architect_text)\n",
    "text_file.close()\n",
    "temp = pd.DataFrame(architect_text_processed)\n",
    "temp.to_csv('../project_data/architect_text_processed.csv')\n",
    "\n",
    "text_file = open(\"../project_data/specialist_text.txt\", \"w\")\n",
    "text_file.write(specialist_text)\n",
    "text_file.close()\n",
    "temp = pd.DataFrame(specialist_text_processed)\n",
    "temp.to_csv('../project_data/specialist_text_processed.csv')\n"
   ]
  },
  {
   "cell_type": "markdown",
   "metadata": {},
   "source": [
    "## 6. Word frequency"
   ]
  },
  {
   "cell_type": "code",
   "execution_count": 26,
   "metadata": {},
   "outputs": [
    {
     "data": {
      "text/plain": [
       "[('management', 752),\n",
       " ('access', 692),\n",
       " ('identity', 690),\n",
       " ('security', 446),\n",
       " ('solutions', 380),\n",
       " ('years', 358),\n",
       " ('support', 320),\n",
       " ('data', 297),\n",
       " ('information', 296),\n",
       " ('systems', 292),\n",
       " ('skills', 270),\n",
       " ('technical', 269),\n",
       " ('development', 267),\n",
       " ('knowledge', 267),\n",
       " ('design', 241),\n",
       " ('engineer', 240),\n",
       " ('technology', 218),\n",
       " ('including', 217),\n",
       " ('position', 206),\n",
       " ('software', 205),\n",
       " ('working', 203),\n",
       " ('provide', 198),\n",
       " ('engineering', 193),\n",
       " ('application', 188),\n",
       " ('environment', 187),\n",
       " ('technologies', 183),\n",
       " ('directory', 172),\n",
       " ('role', 166),\n",
       " ('strong', 165),\n",
       " ('related', 159)]"
      ]
     },
     "execution_count": 26,
     "metadata": {},
     "output_type": "execute_result"
    }
   ],
   "source": [
    "FreqDist(engineer_text_processed).most_common(30)"
   ]
  },
  {
   "cell_type": "code",
   "execution_count": 27,
   "metadata": {},
   "outputs": [
    {
     "data": {
      "text/plain": [
       "[('management', 429),\n",
       " ('access', 343),\n",
       " ('data', 341),\n",
       " ('security', 291),\n",
       " ('identity', 276),\n",
       " ('information', 233),\n",
       " ('years', 208),\n",
       " ('support', 202),\n",
       " ('skills', 168),\n",
       " ('including', 165),\n",
       " ('systems', 160),\n",
       " ('knowledge', 151),\n",
       " ('analyst', 149),\n",
       " ('solutions', 145),\n",
       " ('preferred', 145),\n",
       " ('technical', 129),\n",
       " ('analysis', 125),\n",
       " ('position', 123),\n",
       " ('process', 121),\n",
       " ('application', 117),\n",
       " ('working', 116),\n",
       " ('technology', 113),\n",
       " ('related', 113),\n",
       " ('processes', 107),\n",
       " ('system', 102),\n",
       " ('provide', 101),\n",
       " ('user', 101),\n",
       " ('applications', 99),\n",
       " ('strong', 98),\n",
       " ('degree', 96)]"
      ]
     },
     "execution_count": 27,
     "metadata": {},
     "output_type": "execute_result"
    }
   ],
   "source": [
    "FreqDist(analyst_text_processed).most_common(30)"
   ]
  },
  {
   "cell_type": "code",
   "execution_count": 28,
   "metadata": {},
   "outputs": [
    {
     "data": {
      "text/plain": [
       "[('management', 338),\n",
       " ('product', 248),\n",
       " ('access', 225),\n",
       " ('security', 186),\n",
       " ('identity', 185),\n",
       " ('solutions', 175),\n",
       " ('data', 165),\n",
       " ('project', 164),\n",
       " ('information', 149),\n",
       " ('years', 136),\n",
       " ('technical', 123),\n",
       " ('including', 115),\n",
       " ('teams', 110),\n",
       " ('role', 110),\n",
       " ('position', 107),\n",
       " ('skills', 106),\n",
       " ('support', 106),\n",
       " ('technology', 105),\n",
       " ('company', 104),\n",
       " ('development', 99),\n",
       " ('working', 96),\n",
       " ('engineering', 91),\n",
       " ('manager', 91),\n",
       " ('design', 90),\n",
       " ('provide', 86),\n",
       " ('employees', 86),\n",
       " ('products', 85),\n",
       " ('strong', 83),\n",
       " ('·', 78),\n",
       " ('ensure', 77)]"
      ]
     },
     "execution_count": 28,
     "metadata": {},
     "output_type": "execute_result"
    }
   ],
   "source": [
    "FreqDist(manager_text_processed).most_common(30)"
   ]
  },
  {
   "cell_type": "code",
   "execution_count": 29,
   "metadata": {},
   "outputs": [
    {
     "data": {
      "text/plain": [
       "[('development', 151),\n",
       " ('management', 137),\n",
       " ('identity', 127),\n",
       " ('data', 110),\n",
       " ('access', 107),\n",
       " ('skills', 104),\n",
       " ('information', 90),\n",
       " ('application', 86),\n",
       " ('solutions', 83),\n",
       " ('years', 80),\n",
       " ('applications', 79),\n",
       " ('strong', 77),\n",
       " ('working', 76),\n",
       " ('systems', 74),\n",
       " ('design', 71),\n",
       " ('knowledge', 68),\n",
       " ('software', 67),\n",
       " ('developer', 67),\n",
       " ('technical', 66),\n",
       " ('support', 64),\n",
       " ('including', 62),\n",
       " ('technology', 59),\n",
       " ('using', 56),\n",
       " ('position', 56),\n",
       " ('web', 55),\n",
       " ('may', 54),\n",
       " ('security', 51),\n",
       " ('sql', 47),\n",
       " ('company', 47),\n",
       " ('environment', 46)]"
      ]
     },
     "execution_count": 29,
     "metadata": {},
     "output_type": "execute_result"
    }
   ],
   "source": [
    "FreqDist(developer_text_processed).most_common(30)"
   ]
  }
 ],
 "metadata": {
  "kernelspec": {
   "display_name": "Python 3.8.2 64-bit",
   "language": "python",
   "name": "python3"
  },
  "language_info": {
   "codemirror_mode": {
    "name": "ipython",
    "version": 3
   },
   "file_extension": ".py",
   "mimetype": "text/x-python",
   "name": "python",
   "nbconvert_exporter": "python",
   "pygments_lexer": "ipython3",
   "version": "3.8.2"
  },
  "orig_nbformat": 4,
  "vscode": {
   "interpreter": {
    "hash": "31f2aee4e71d21fbe5cf8b01ff0e069b9275f58929596ceb00d14d90e3e16cd6"
   }
  }
 },
 "nbformat": 4,
 "nbformat_minor": 2
}
