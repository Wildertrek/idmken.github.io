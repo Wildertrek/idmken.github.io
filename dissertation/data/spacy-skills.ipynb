{
 "cells": [
  {
   "attachments": {},
   "cell_type": "markdown",
   "metadata": {},
   "source": [
    "https://skeptric.com/notebooks/Parsing%20Experience%20from%20Adzuna%20Job%20Ads.html"
   ]
  },
  {
   "cell_type": "code",
   "execution_count": 2,
   "metadata": {},
   "outputs": [
    {
     "name": "stderr",
     "output_type": "stream",
     "text": [
      "2022-12-09 00:06:03.287034: I tensorflow/core/platform/cpu_feature_guard.cc:193] This TensorFlow binary is optimized with oneAPI Deep Neural Network Library (oneDNN) to use the following CPU instructions in performance-critical operations:  AVX2 FMA\n",
      "To enable them in other operations, rebuild TensorFlow with the appropriate compiler flags.\n"
     ]
    }
   ],
   "source": [
    "import re\n",
    "import pandas as pd\n",
    "import spacy\n",
    "from spacy.util import filter_spans\n",
    "from spacy.tokens import Span\n",
    "from spacy.matcher import Matcher\n",
    "from spacy import displacy\n",
    "from IPython.display import HTML, display"
   ]
  },
  {
   "cell_type": "code",
   "execution_count": 2,
   "metadata": {},
   "outputs": [
    {
     "data": {
      "text/plain": [
       "'3.4.2'"
      ]
     },
     "execution_count": 2,
     "metadata": {},
     "output_type": "execute_result"
    }
   ],
   "source": [
    "spacy.__version__"
   ]
  },
  {
   "cell_type": "code",
   "execution_count": 5,
   "metadata": {},
   "outputs": [],
   "source": [
    "dfs = []\n",
    "for split in ['Train', 'Valid', 'Test']:\n",
    "    dfs.append(pd.read_csv(\"../data/project_data/data-jobs-20221123.csv\").assign(split=split))\n",
    "df = pd.concat(dfs, sort=False, ignore_index=True)\n",
    "del dfs"
   ]
  },
  {
   "cell_type": "code",
   "execution_count": 6,
   "metadata": {},
   "outputs": [
    {
     "data": {
      "text/plain": [
       "Train    452\n",
       "Valid    452\n",
       "Test     452\n",
       "Name: split, dtype: int64"
      ]
     },
     "execution_count": 6,
     "metadata": {},
     "output_type": "execute_result"
    }
   ],
   "source": [
    "df.split.value_counts()"
   ]
  },
  {
   "cell_type": "code",
   "execution_count": 9,
   "metadata": {},
   "outputs": [
    {
     "name": "stdout",
     "output_type": "stream",
     "text": [
      "Defaulting to user installation because normal site-packages is not writeable\n",
      "Collecting en-core-web-sm==3.4.1\n",
      "  Downloading https://github.com/explosion/spacy-models/releases/download/en_core_web_sm-3.4.1/en_core_web_sm-3.4.1-py3-none-any.whl (12.8 MB)\n",
      "     ━━━━━━━━━━━━━━━━━━━━━━━━━━━━━━━━━━━━━━━━ 12.8/12.8 MB 26.6 MB/s eta 0:00:00\n",
      "Requirement already satisfied: spacy<3.5.0,>=3.4.0 in /Users/kenmye/Library/Python/3.8/lib/python/site-packages (from en-core-web-sm==3.4.1) (3.4.2)\n",
      "Requirement already satisfied: packaging>=20.0 in /Users/kenmye/Library/Python/3.8/lib/python/site-packages (from spacy<3.5.0,>=3.4.0->en-core-web-sm==3.4.1) (21.3)\n",
      "Requirement already satisfied: thinc<8.2.0,>=8.1.0 in /Users/kenmye/Library/Python/3.8/lib/python/site-packages (from spacy<3.5.0,>=3.4.0->en-core-web-sm==3.4.1) (8.1.5)\n",
      "Requirement already satisfied: catalogue<2.1.0,>=2.0.6 in /Users/kenmye/Library/Python/3.8/lib/python/site-packages (from spacy<3.5.0,>=3.4.0->en-core-web-sm==3.4.1) (2.0.8)\n",
      "Requirement already satisfied: cymem<2.1.0,>=2.0.2 in /Users/kenmye/Library/Python/3.8/lib/python/site-packages (from spacy<3.5.0,>=3.4.0->en-core-web-sm==3.4.1) (2.0.7)\n",
      "Requirement already satisfied: tqdm<5.0.0,>=4.38.0 in /Users/kenmye/Library/Python/3.8/lib/python/site-packages (from spacy<3.5.0,>=3.4.0->en-core-web-sm==3.4.1) (4.64.1)\n",
      "Requirement already satisfied: numpy>=1.15.0 in /Users/kenmye/Library/Python/3.8/lib/python/site-packages (from spacy<3.5.0,>=3.4.0->en-core-web-sm==3.4.1) (1.23.4)\n",
      "Requirement already satisfied: requests<3.0.0,>=2.13.0 in /Users/kenmye/Library/Python/3.8/lib/python/site-packages (from spacy<3.5.0,>=3.4.0->en-core-web-sm==3.4.1) (2.28.1)\n",
      "Requirement already satisfied: preshed<3.1.0,>=3.0.2 in /Users/kenmye/Library/Python/3.8/lib/python/site-packages (from spacy<3.5.0,>=3.4.0->en-core-web-sm==3.4.1) (3.0.8)\n",
      "Requirement already satisfied: setuptools in /Library/Developer/CommandLineTools/Library/Frameworks/Python3.framework/Versions/3.8/lib/python3.8/site-packages (from spacy<3.5.0,>=3.4.0->en-core-web-sm==3.4.1) (41.2.0)\n",
      "Requirement already satisfied: jinja2 in /Users/kenmye/Library/Python/3.8/lib/python/site-packages (from spacy<3.5.0,>=3.4.0->en-core-web-sm==3.4.1) (3.1.2)\n",
      "Requirement already satisfied: wasabi<1.1.0,>=0.9.1 in /Users/kenmye/Library/Python/3.8/lib/python/site-packages (from spacy<3.5.0,>=3.4.0->en-core-web-sm==3.4.1) (0.10.1)\n",
      "Requirement already satisfied: murmurhash<1.1.0,>=0.28.0 in /Users/kenmye/Library/Python/3.8/lib/python/site-packages (from spacy<3.5.0,>=3.4.0->en-core-web-sm==3.4.1) (1.0.9)\n",
      "Requirement already satisfied: spacy-legacy<3.1.0,>=3.0.10 in /Users/kenmye/Library/Python/3.8/lib/python/site-packages (from spacy<3.5.0,>=3.4.0->en-core-web-sm==3.4.1) (3.0.10)\n",
      "Requirement already satisfied: pydantic!=1.8,!=1.8.1,<1.11.0,>=1.7.4 in /Users/kenmye/Library/Python/3.8/lib/python/site-packages (from spacy<3.5.0,>=3.4.0->en-core-web-sm==3.4.1) (1.10.2)\n",
      "Requirement already satisfied: typer<0.5.0,>=0.3.0 in /Users/kenmye/Library/Python/3.8/lib/python/site-packages (from spacy<3.5.0,>=3.4.0->en-core-web-sm==3.4.1) (0.4.2)\n",
      "Requirement already satisfied: spacy-loggers<2.0.0,>=1.0.0 in /Users/kenmye/Library/Python/3.8/lib/python/site-packages (from spacy<3.5.0,>=3.4.0->en-core-web-sm==3.4.1) (1.0.3)\n",
      "Requirement already satisfied: pathy>=0.3.5 in /Users/kenmye/Library/Python/3.8/lib/python/site-packages (from spacy<3.5.0,>=3.4.0->en-core-web-sm==3.4.1) (0.6.2)\n",
      "Requirement already satisfied: srsly<3.0.0,>=2.4.3 in /Users/kenmye/Library/Python/3.8/lib/python/site-packages (from spacy<3.5.0,>=3.4.0->en-core-web-sm==3.4.1) (2.4.5)\n",
      "Requirement already satisfied: langcodes<4.0.0,>=3.2.0 in /Users/kenmye/Library/Python/3.8/lib/python/site-packages (from spacy<3.5.0,>=3.4.0->en-core-web-sm==3.4.1) (3.3.0)\n",
      "Requirement already satisfied: pyparsing!=3.0.5,>=2.0.2 in /Users/kenmye/Library/Python/3.8/lib/python/site-packages (from packaging>=20.0->spacy<3.5.0,>=3.4.0->en-core-web-sm==3.4.1) (3.0.9)\n",
      "Requirement already satisfied: smart-open<6.0.0,>=5.2.1 in /Users/kenmye/Library/Python/3.8/lib/python/site-packages (from pathy>=0.3.5->spacy<3.5.0,>=3.4.0->en-core-web-sm==3.4.1) (5.2.1)\n",
      "Requirement already satisfied: typing-extensions>=4.1.0 in /Users/kenmye/Library/Python/3.8/lib/python/site-packages (from pydantic!=1.8,!=1.8.1,<1.11.0,>=1.7.4->spacy<3.5.0,>=3.4.0->en-core-web-sm==3.4.1) (4.4.0)\n",
      "Requirement already satisfied: certifi>=2017.4.17 in /Users/kenmye/Library/Python/3.8/lib/python/site-packages (from requests<3.0.0,>=2.13.0->spacy<3.5.0,>=3.4.0->en-core-web-sm==3.4.1) (2022.9.24)\n",
      "Requirement already satisfied: urllib3<1.27,>=1.21.1 in /Users/kenmye/Library/Python/3.8/lib/python/site-packages (from requests<3.0.0,>=2.13.0->spacy<3.5.0,>=3.4.0->en-core-web-sm==3.4.1) (1.26.12)\n",
      "Requirement already satisfied: charset-normalizer<3,>=2 in /Users/kenmye/Library/Python/3.8/lib/python/site-packages (from requests<3.0.0,>=2.13.0->spacy<3.5.0,>=3.4.0->en-core-web-sm==3.4.1) (2.1.1)\n",
      "Requirement already satisfied: idna<4,>=2.5 in /Users/kenmye/Library/Python/3.8/lib/python/site-packages (from requests<3.0.0,>=2.13.0->spacy<3.5.0,>=3.4.0->en-core-web-sm==3.4.1) (3.4)\n",
      "Requirement already satisfied: blis<0.8.0,>=0.7.8 in /Users/kenmye/Library/Python/3.8/lib/python/site-packages (from thinc<8.2.0,>=8.1.0->spacy<3.5.0,>=3.4.0->en-core-web-sm==3.4.1) (0.7.9)\n",
      "Requirement already satisfied: confection<1.0.0,>=0.0.1 in /Users/kenmye/Library/Python/3.8/lib/python/site-packages (from thinc<8.2.0,>=8.1.0->spacy<3.5.0,>=3.4.0->en-core-web-sm==3.4.1) (0.0.3)\n",
      "Requirement already satisfied: click<9.0.0,>=7.1.1 in /Users/kenmye/Library/Python/3.8/lib/python/site-packages (from typer<0.5.0,>=0.3.0->spacy<3.5.0,>=3.4.0->en-core-web-sm==3.4.1) (8.1.3)\n",
      "Requirement already satisfied: MarkupSafe>=2.0 in /Users/kenmye/Library/Python/3.8/lib/python/site-packages (from jinja2->spacy<3.5.0,>=3.4.0->en-core-web-sm==3.4.1) (2.1.1)\n",
      "\u001b[38;5;2m✔ Download and installation successful\u001b[0m\n",
      "You can now load the package via spacy.load('en_core_web_sm')\n"
     ]
    }
   ],
   "source": [
    "ads = list(df.description)\n",
    "spacy.cli.download(\"en_core_web_sm\")\n",
    "nlp = spacy.load('en_core_web_sm')"
   ]
  },
  {
   "cell_type": "code",
   "execution_count": 10,
   "metadata": {},
   "outputs": [],
   "source": [
    "def highlight_terms(terms, texts):\n",
    "    for doc in nlp.pipe(texts):\n",
    "        for sentence in set([tok.sent for tok in doc if tok.lower_ in terms]):\n",
    "            text = sentence.text.strip()\n",
    "            markup = re.sub(fr'(?i)\\b({\"|\".join(terms)})\\b', r'<strong>\\1</strong>', text)\n",
    "            display(HTML(markup))"
   ]
  },
  {
   "cell_type": "code",
   "execution_count": 13,
   "metadata": {},
   "outputs": [
    {
     "data": {
      "text/html": [
       "You understand that automation is key to your success and constantly find techniques to ensure automation and derived datasets are a feature of all your data activities.\n",
       "\n",
       "· 5+ years in relevant <strong>experience</strong> as a Business Intelligence Engineer, Data Engineer, Business Analyst, Data Scientist, or equivalent."
      ],
      "text/plain": [
       "<IPython.core.display.HTML object>"
      ]
     },
     "metadata": {},
     "output_type": "display_data"
    },
    {
     "data": {
      "text/html": [
       "· Proficiency with data querying or modeling technique with SQL · <strong>Experience</strong> with data visualization using QuickSight, Tableau, or similar tools · Proficiency with a scripting language (Java, Python, or R) · Bachelor's degree in Engineering, Statistics, Computer Science, Operations Research, Business Analytics, Information Systems or related field\n",
       "\n",
       "Job summary\n",
       "We are looking for Business Intelligence Engineers to apply their talents to create new BI solutions, providing cutting edge insights and analytics that help tell the story of how our Stores Security programs are performing."
      ],
      "text/plain": [
       "<IPython.core.display.HTML object>"
      ]
     },
     "metadata": {},
     "output_type": "display_data"
    },
    {
     "data": {
      "text/html": [
       "· 3+ years in relevant <strong>experience</strong> as Business Intelligence Engineer, Data Engineer, Business Analyst, Data Scientist, or equivalent."
      ],
      "text/plain": [
       "<IPython.core.display.HTML object>"
      ]
     },
     "metadata": {},
     "output_type": "display_data"
    },
    {
     "data": {
      "text/html": [
       "· <strong>Experience</strong> in data mining, SQL, ETL, etc. and using databases in a business environment with large-scale, complex datasets."
      ],
      "text/plain": [
       "<IPython.core.display.HTML object>"
      ]
     },
     "metadata": {},
     "output_type": "display_data"
    },
    {
     "data": {
      "text/html": [
       "Build new analytical tools, interfacing with business and technical stakeholders\n",
       "Develop models and metrics providing insights on customer and seller <strong>experience</strong> and performance\n",
       "\n",
       "This position may be located in Austin TX, Arlington VA, New York or Seattle, with other locations possible."
      ],
      "text/plain": [
       "<IPython.core.display.HTML object>"
      ]
     },
     "metadata": {},
     "output_type": "display_data"
    },
    {
     "data": {
      "text/html": [
       "Basic Qualifications:\n",
       "\n",
       "· BS in Computer Science or related field\n",
       "· Minimum 4-5 years of <strong>experience</strong> in technologies:"
      ],
      "text/plain": [
       "<IPython.core.display.HTML object>"
      ]
     },
     "metadata": {},
     "output_type": "display_data"
    },
    {
     "data": {
      "text/html": [
       "o Secure coding practices including use of encryption (e.g., Certificates, TLS Connections)\n",
       "o <strong>Experience</strong> in developing in the Windows environment\n",
       "· Knowledge of data integration and data transfer through on-premise and Cloud resources\n",
       "· Excellent communication, and relationship skills to articulate advanced technical topics and build consensus among clients and technical stakeholders\n",
       "· Strong interpersonal and collaborations skills working in a team-oriented environment\n",
       "· Strong analytical and problem-solving skills\n",
       "· Ability to adhere to defined processes & procedures, and suggest improvements\n",
       "· Ability to effectively prioritize and handle multiple tasks simultaneously\n",
       "· Strong technical documentation skills\n",
       "\n",
       "Preferred Qualifications:\n",
       "\n",
       "· <strong>Experience</strong> with:"
      ],
      "text/plain": [
       "<IPython.core.display.HTML object>"
      ]
     },
     "metadata": {},
     "output_type": "display_data"
    },
    {
     "data": {
      "text/html": [
       "o Red Hat Fuse, Camel, Blueprint XML, XSLT programming\n",
       "o Windows PowerShell\n",
       "· Knowledge of emerging cybersecurity technologies such as Mobile and Asset Management, Identity and Access Management, and Vulnerability Management software (e.g., McAfee, Tenable, SCCM, ServiceNow, SailPoint, CyberArk)\n",
       "· <strong>Experience</strong> with JIRA and Agile development practices\n",
       "· Overall strong background in systems engineering, security engineering, architecting, enterprise integration, and interoperability in a complex systems environment\n",
       "· <strong>Experience</strong> modeling data, message, and service interoperability\n",
       "· Understanding of technical, operational, and management issues related to design, development, and deployment of complex and distributed systems\n",
       "· Understanding of interrelationships between critical infrastructure protection and cybersecurity\n",
       "· Familiarity with DoD Cybersecurity programs and compliance\n",
       "\n",
       "Job Type: Full-time\n",
       "\n",
       "Pay: $90.00 - $115.00 per hour\n",
       "\n",
       "Benefits:\n",
       "\n",
       "401(k)\n",
       "Dental insurance\n",
       "Employee assistance program\n",
       "Health insurance\n",
       "Life insurance\n",
       "Paid time off\n",
       "Vision insurance\n",
       "\n",
       "Schedule:\n",
       "\n",
       "8 hour shift\n",
       "\n",
       "<strong>Experience</strong>:\n",
       "\n",
       "Tenable Security Center: 5 years (Required)\n",
       "SQL: 5 years (Required)\n",
       "Data warehouse: 5 years (Required)\n",
       "XML: 5 years (Required)\n",
       "JSON: 5 years (Required)"
      ],
      "text/plain": [
       "<IPython.core.display.HTML object>"
      ]
     },
     "metadata": {},
     "output_type": "display_data"
    },
    {
     "data": {
      "text/html": [
       "Background in information security systems with specific knowledge around access control and privileged access management\n",
       "\n",
       "Hands-on Windows 2012 Server (or more recent) administration <strong>experience</strong>\n",
       "\n",
       "Hands-on Active Directory and LDAP <strong>experience</strong>\n",
       "\n",
       "Functional understanding of TCP/IP networks and network boundary controls Identity and\n",
       "Access Management (IDAM)"
      ],
      "text/plain": [
       "<IPython.core.display.HTML object>"
      ]
     },
     "metadata": {},
     "output_type": "display_data"
    },
    {
     "data": {
      "text/html": [
       "Position Requirements:\n",
       "\n",
       "\n",
       "Bachelor's degree preferred with 5-8 years’ <strong>experience</strong> in IT or information security, or equivalent combination of education and <strong>experience</strong>."
      ],
      "text/plain": [
       "<IPython.core.display.HTML object>"
      ]
     },
     "metadata": {},
     "output_type": "display_data"
    },
    {
     "data": {
      "text/html": [
       "No fewer than 3 years of <strong>experience</strong> in systems integration or implementation activities for security solutions within the identity and access management domain."
      ],
      "text/plain": [
       "<IPython.core.display.HTML object>"
      ]
     },
     "metadata": {},
     "output_type": "display_data"
    },
    {
     "data": {
      "text/html": [
       "Operations Analyst\n",
       "\n",
       "Functional understanding of database concepts\n",
       "\n",
       "Windows GPO management <strong>experience</strong>, including troubleshooting GPO conflicts\n",
       "\n",
       "Proficiency with MS Visio, PowerPoint, Word, and Excel\n",
       "\n",
       "Basic UNIX/Linux system administration <strong>experience</strong> preferred\n",
       "\n",
       "Intermediate skill level with creating, modifying, and executing system scripts\n",
       "\n",
       "<strong>Experience</strong> with the following technologies/products: Authentication and SSO, CyberArk, SailPoint, CA PAM, Beyond Trust PAM, or other Privileged/Identity Access Management solutions\n",
       "\n",
       "Required: will have an active certification consistent with the DoD Approved 8570 Baseline\n",
       "Certifications for IAM Level II within 90 days of hire."
      ],
      "text/plain": [
       "<IPython.core.display.HTML object>"
      ]
     },
     "metadata": {},
     "output_type": "display_data"
    },
    {
     "data": {
      "text/html": [
       "<strong>Experience</strong> integrating IAM solutions within an SAP environment."
      ],
      "text/plain": [
       "<IPython.core.display.HTML object>"
      ]
     },
     "metadata": {},
     "output_type": "display_data"
    },
    {
     "data": {
      "text/html": [
       "3+ years of software design and development, including at least 3+ years of development <strong>experience</strong> with Identity and Access Management technologies (SailPoint IIQ or IdentityNow)."
      ],
      "text/plain": [
       "<IPython.core.display.HTML object>"
      ]
     },
     "metadata": {},
     "output_type": "display_data"
    },
    {
     "data": {
      "text/html": [
       "3+ years of design, development and support <strong>experience</strong> with SailPoint IdentityIQ (IIQ) including Life Cycle Manager (LCM) and Compliance Manager(CM) which includes hands on <strong>experience</strong> with the following SailPoint IdentityIQ components such as but not limited to Workflows, Rules, Connectors, Security Policies, Aggregation Jobs, Roles, Certification Campaigns and Application Integration."
      ],
      "text/plain": [
       "<IPython.core.display.HTML object>"
      ]
     },
     "metadata": {},
     "output_type": "display_data"
    },
    {
     "data": {
      "text/html": [
       "Job Types: Full-time, Contract\r\n",
       "\r\n",
       "Pay: $45.00 - $60.00 per hour\r\n",
       "\r\n",
       "Schedule:\r\n",
       "\r\n",
       "8 hour shift\r\n",
       "Monday to Friday\r\n",
       "\r\n",
       "<strong>Experience</strong>:\r\n",
       "\r\n",
       "SailPoint IIQ: 3 years (Preferred)\r\n",
       "\r\n",
       "Work Location:"
      ],
      "text/plain": [
       "<IPython.core.display.HTML object>"
      ]
     },
     "metadata": {},
     "output_type": "display_data"
    },
    {
     "data": {
      "text/html": [
       "<strong>Experience</strong> working in DevOps environment, automation first mindset, ability to leverage coding/scripting skills and working <strong>experience</strong> with APIs."
      ],
      "text/plain": [
       "<IPython.core.display.HTML object>"
      ]
     },
     "metadata": {},
     "output_type": "display_data"
    },
    {
     "data": {
      "text/html": [
       "2+ years of <strong>experience</strong> with platform customization in relevant delivery platforms."
      ],
      "text/plain": [
       "<IPython.core.display.HTML object>"
      ]
     },
     "metadata": {},
     "output_type": "display_data"
    },
    {
     "data": {
      "text/html": [
       "<strong>Experience</strong> building scoped applications."
      ],
      "text/plain": [
       "<IPython.core.display.HTML object>"
      ]
     },
     "metadata": {},
     "output_type": "display_data"
    },
    {
     "data": {
      "text/html": [
       "Administration of a ServiceNow instance including the management of users, groups, and roles, CMS Development, ACLs, business rules, workflows, UI actions, UI policies, dictionary, and catalog items Orchestration and Discovery <strong>experience</strong> is a plus."
      ],
      "text/plain": [
       "<IPython.core.display.HTML object>"
      ]
     },
     "metadata": {},
     "output_type": "display_data"
    },
    {
     "data": {
      "text/html": [
       "Preferred Skills:\n",
       "Integration <strong>experience</strong> (SOAP, REST, and JSON as well as JDBC and file imports)."
      ],
      "text/plain": [
       "<IPython.core.display.HTML object>"
      ]
     },
     "metadata": {},
     "output_type": "display_data"
    },
    {
     "data": {
      "text/html": [
       "2+ years of <strong>experience</strong> leading and mentoring Junior ServiceNow team members."
      ],
      "text/plain": [
       "<IPython.core.display.HTML object>"
      ]
     },
     "metadata": {},
     "output_type": "display_data"
    },
    {
     "data": {
      "text/html": [
       "2+ years of <strong>experience</strong> developing and customizing core applications such as Incident, Problem, Change, Knowledge, and Service Catalog."
      ],
      "text/plain": [
       "<IPython.core.display.HTML object>"
      ]
     },
     "metadata": {},
     "output_type": "display_data"
    },
    {
     "data": {
      "text/html": [
       "5+ years of IT application system <strong>experience</strong> in technology solution delivery."
      ],
      "text/plain": [
       "<IPython.core.display.HTML object>"
      ]
     },
     "metadata": {},
     "output_type": "display_data"
    },
    {
     "data": {
      "text/html": [
       "2+ years of <strong>experience</strong> with custom application development including Custom Service Portal widget creation."
      ],
      "text/plain": [
       "<IPython.core.display.HTML object>"
      ]
     },
     "metadata": {},
     "output_type": "display_data"
    },
    {
     "data": {
      "text/html": [
       "<strong>Experience</strong> integrating ServiceNow with an API-led Integration Platform such as MuleSoft or Apigee."
      ],
      "text/plain": [
       "<IPython.core.display.HTML object>"
      ]
     },
     "metadata": {},
     "output_type": "display_data"
    },
    {
     "data": {
      "text/html": [
       "Required Skills:\n",
       "3+ years of <strong>experience</strong> developing on the ServiceNow platform."
      ],
      "text/plain": [
       "<IPython.core.display.HTML object>"
      ]
     },
     "metadata": {},
     "output_type": "display_data"
    },
    {
     "data": {
      "text/html": [
       "<strong>Experience</strong> with rebuilding and refactoring legacy applications in ServiceNow is a plus."
      ],
      "text/plain": [
       "<IPython.core.display.HTML object>"
      ]
     },
     "metadata": {},
     "output_type": "display_data"
    },
    {
     "data": {
      "text/html": [
       "2+ years of <strong>experience</strong> implementing systems using the Agile/Scrum methodology."
      ],
      "text/plain": [
       "<IPython.core.display.HTML object>"
      ]
     },
     "metadata": {},
     "output_type": "display_data"
    },
    {
     "data": {
      "text/html": [
       "2+ years of <strong>experience</strong> working and developing with JavaScript - HTML5, Jelly, jQuery, and AngularJS."
      ],
      "text/plain": [
       "<IPython.core.display.HTML object>"
      ]
     },
     "metadata": {},
     "output_type": "display_data"
    },
    {
     "data": {
      "text/html": [
       "<strong>Experience</strong> conducting ServiceNow instance upgrades."
      ],
      "text/plain": [
       "<IPython.core.display.HTML object>"
      ]
     },
     "metadata": {},
     "output_type": "display_data"
    },
    {
     "data": {
      "text/html": [
       "<strong>Experience</strong> with programming languages and databases including PHP, HTML, CSS, JavaScript, and JSON."
      ],
      "text/plain": [
       "<IPython.core.display.HTML object>"
      ]
     },
     "metadata": {},
     "output_type": "display_data"
    },
    {
     "data": {
      "text/html": [
       "Individuals interested in this position should have <strong>experience</strong> building high-performing, reliable systems in a complex, multi-tiered, and distributed environment in a fast-paced environment."
      ],
      "text/plain": [
       "<IPython.core.display.HTML object>"
      ]
     },
     "metadata": {},
     "output_type": "display_data"
    },
    {
     "data": {
      "text/html": [
       "<strong>Experience</strong> running and maintaining a 24x7 production environment\n",
       "<strong>Experience</strong> with very large distributed systems such as large-scale distributed database systems, storage farms, and/or horizontally scaled request processing fleets"
      ],
      "text/plain": [
       "<IPython.core.display.HTML object>"
      ]
     },
     "metadata": {},
     "output_type": "display_data"
    },
    {
     "data": {
      "text/html": [
       "2+ years of non-internship professional software development <strong>experience</strong>\n",
       "Programming <strong>experience</strong> with at least one software programming language."
      ],
      "text/plain": [
       "<IPython.core.display.HTML object>"
      ]
     },
     "metadata": {},
     "output_type": "display_data"
    },
    {
     "data": {
      "text/html": [
       "Exceptional customer focus including the ability to discover the true requirements underlying feature requests, recommend alternative technical and business approaches, and lead engineering efforts to meet ambitious timelines with optimal solutions\n",
       "Prior <strong>experience</strong> in defining, scoping and pitching the business and technical vision for a complicated area within a highly technical domain."
      ],
      "text/plain": [
       "<IPython.core.display.HTML object>"
      ]
     },
     "metadata": {},
     "output_type": "display_data"
    },
    {
     "data": {
      "text/html": [
       "We have a broad mix of <strong>experience</strong> levels and tenures, and we’re building an environment that celebrates knowledge sharing and mentorship."
      ],
      "text/plain": [
       "<IPython.core.display.HTML object>"
      ]
     },
     "metadata": {},
     "output_type": "display_data"
    },
    {
     "data": {
      "text/html": [
       "1+ years of <strong>experience</strong> contributing to the system design or architecture (architecture, design patterns, reliability and scaling) of new and current systems."
      ],
      "text/plain": [
       "<IPython.core.display.HTML object>"
      ]
     },
     "metadata": {},
     "output_type": "display_data"
    },
    {
     "data": {
      "text/html": [
       "Pay is based on market location and may vary depending on job-related knowledge, skills, and <strong>experience</strong>."
      ],
      "text/plain": [
       "<IPython.core.display.HTML object>"
      ]
     },
     "metadata": {},
     "output_type": "display_data"
    },
    {
     "data": {
      "text/html": [
       "BS/MS in Computer Science, Mathematics, Engineering discipline or equivalent work <strong>experience</strong>\n",
       "Strong fundamental Computer Science knowledge, fluency with common algorithms, data structures and design patterns\n",
       "Strong software architecture knowledge, familiarity with distributed systems design patterns and paradigms\n",
       "Hands-on <strong>experience</strong> building and operating large mission-critical distributed software systems\n",
       "<strong>Experience</strong> unpacking high-level problem statements, discovering the foundational unmet customer needs, proposing and evaluating multiple options and translating it into well-scoped technical documents\n",
       "Ability to productively collaborate across roles, team and organizational boundaries, defining, scoping and pitching technical solutions\n",
       "Ability to drive productive collaboration with other engineers, establish a shared architectural vision, break down the work, oversee and course-correct execution and integration\n",
       "<strong>Experience</strong> mentoring software engineers for development of their functional skills and mindset, and through that further accelerating the team\n",
       "\n",
       "The base pay range for this position is $ 168,070– 275,140/YR."
      ],
      "text/plain": [
       "<IPython.core.display.HTML object>"
      ]
     },
     "metadata": {},
     "output_type": "display_data"
    },
    {
     "data": {
      "text/html": [
       "We have a broad mix of <strong>experience</strong> levels and tenures and thoughtfully invest in creating growth opportunities for team members, building an environment that celebrates collaboration, knowledge sharing and mentorship."
      ],
      "text/plain": [
       "<IPython.core.display.HTML object>"
      ]
     },
     "metadata": {},
     "output_type": "display_data"
    },
    {
     "data": {
      "text/html": [
       "Mentorship & Career Development\n",
       "As a senior member of the IAM engineering team you will <strong>experience</strong> no shortage of great technical challenges that will propel your software engineering career to the next level."
      ],
      "text/plain": [
       "<IPython.core.display.HTML object>"
      ]
     },
     "metadata": {},
     "output_type": "display_data"
    },
    {
     "data": {
      "text/html": [
       "4+ years of professional software development <strong>experience</strong>\n",
       "3+ years of programming <strong>experience</strong> with at least one software programming language\n",
       "2+ years of <strong>experience</strong> contributing to the system design or architecture (architecture, design patterns, reliability and scaling) of new and current systems\n",
       "<strong>Experience</strong> as a mentor, tech lead OR leading an engineering team\n",
       "\n",
       "\n",
       "\n",
       "Job summary\n",
       "AWS Identity and Access Management (IAM) team has an open seat for an experienced Senior Software Development Engineer who is looking to further advance their career and has professional interest and ambition in shaping technical direction for one of the most critical AWS services."
      ],
      "text/plain": [
       "<IPython.core.display.HTML object>"
      ]
     },
     "metadata": {},
     "output_type": "display_data"
    },
    {
     "data": {
      "text/html": [
       "<strong>Experience</strong> in building large scale data lifecycle management solutions in Identity & Access management domain."
      ],
      "text/plain": [
       "<IPython.core.display.HTML object>"
      ]
     },
     "metadata": {},
     "output_type": "display_data"
    },
    {
     "data": {
      "text/html": [
       "7+ years of <strong>experience</strong> of implementing large data lakes or data warehousing and data modeling."
      ],
      "text/plain": [
       "<IPython.core.display.HTML object>"
      ]
     },
     "metadata": {},
     "output_type": "display_data"
    },
    {
     "data": {
      "text/html": [
       "<strong>Experience</strong> in data integration to automate business processes."
      ],
      "text/plain": [
       "<IPython.core.display.HTML object>"
      ]
     },
     "metadata": {},
     "output_type": "display_data"
    },
    {
     "data": {
      "text/html": [
       "<strong>Experience</strong> with AWS cloud services: EC2, EMR, EKS, Athena."
      ],
      "text/plain": [
       "<IPython.core.display.HTML object>"
      ]
     },
     "metadata": {},
     "output_type": "display_data"
    },
    {
     "data": {
      "text/html": [
       "4+ years of <strong>experience</strong> in implementing data ingestion workflows via streaming or batch data pipelines\r\n",
       "<strong>Experience</strong> in implementing and using RESTful APIs for an API-first application architecture\r\n",
       "Expertise in Elastic search queries and aggregations."
      ],
      "text/plain": [
       "<IPython.core.display.HTML object>"
      ]
     },
     "metadata": {},
     "output_type": "display_data"
    },
    {
     "data": {
      "text/html": [
       "<strong>Experience</strong> in building data models with large data sets."
      ],
      "text/plain": [
       "<IPython.core.display.HTML object>"
      ]
     },
     "metadata": {},
     "output_type": "display_data"
    },
    {
     "data": {
      "text/html": [
       "7+ years of Product Management or Technical Program Management <strong>experience</strong> in a related industry\n",
       "Bachelor's degree in Engineering, Computer Science or related technical field OR additional years of <strong>experience</strong> in related field\n",
       "<strong>Experience</strong> in stakeholder management and working with engineering teams\n",
       "Ability to present business products and demonstrate integration and use benefits."
      ],
      "text/plain": [
       "<IPython.core.display.HTML object>"
      ]
     },
     "metadata": {},
     "output_type": "display_data"
    },
    {
     "data": {
      "text/html": [
       "Understanding of the software development lifecycle (SDLC)\n",
       "Demonstrated written and verbal communication skills and ability to present in large groups\n",
       "<strong>Experience</strong> with managing large cross-functional projects\n",
       "Significant technical depth and understanding of distributed systems and engineering best practices\n",
       "\n",
       "Job summary"
      ],
      "text/plain": [
       "<IPython.core.display.HTML object>"
      ]
     },
     "metadata": {},
     "output_type": "display_data"
    },
    {
     "data": {
      "text/html": [
       "Successful candidates for this position must have a strong product management background and demonstrated <strong>experience</strong> leading medium to large projects."
      ],
      "text/plain": [
       "<IPython.core.display.HTML object>"
      ]
     },
     "metadata": {},
     "output_type": "display_data"
    },
    {
     "data": {
      "text/html": [
       "Responsibilities:\r\n",
       "\r\n",
       "The Identity & Access Management Engineer (Remote) will be responsible for:\r\n",
       "\r\n",
       "Lead development and maintenance of the core identity platforms\r\n",
       "Build a team that will succeed in a fast-paced scaled agile environment and meet the needs of customers and business partners\r\n",
       "Collaborates with the Architecture, Service Development, and Application Development teams in the building of access controls for interactive user logins as well as security application to application communications\r\n",
       "Sustain a highly available and resilient identity platform through the application of modern technology service management principles\r\n",
       "Support development of strategy, vision and roadmap implementation of authentication, authorization, and identity governance controls\r\n",
       "Develop strong working relationships with other leaders in the information technology organization by providing continuous assistance and thought leadership\r\n",
       "Establish and maintains relationships with suppliers and business partners in the IAM industry\r\n",
       "Educate, coaches, and mentors a team on technical, company policy & procedures, and other topics\r\n",
       "Establish and maintain access controls for company Azure and GCP platforms\r\n",
       "\r\n",
       "Qualifications:\r\n",
       "\r\n",
       "5+ years of <strong>experience</strong> managing Cybersecurity professionals\r\n",
       "Bachelor's Degree\r\n",
       "CISSP, Azure or GCP certifications, or similar industry recognized certification\r\n",
       "Strong knowledge of Networks, Linux systems, Windows systems, web applications, and scripting languages\r\n",
       "Strong knowledge of Microsoft Azure, Google Cloud Platform, or other cloud frameworks\r\n",
       "Must be able to demonstrate access control implementation in GCP and Azure\r\n",
       "Knowledge of Active Directory,"
      ],
      "text/plain": [
       "<IPython.core.display.HTML object>"
      ]
     },
     "metadata": {},
     "output_type": "display_data"
    }
   ],
   "source": [
    "highlight_terms(['experience'], ads[:10])"
   ]
  },
  {
   "cell_type": "code",
   "execution_count": 15,
   "metadata": {},
   "outputs": [],
   "source": [
    "examples = [\n",
    "    'Knowledge of access authentication methods',\n",
    "    'Knowledge of authentication, authorization, and access control methods',\n",
    "    'Knowledge of network access, identity, and access management (e.g., public key infrastructure, Oauth, OpenID, SAML, SPML)',\n",
    "    'Knowledge of organizational information technology (IT) user security policies (e.g., account creation, password rules, access control)',\n",
    "    'Knowledge of policy-based and risk adaptive access controls',\n",
    "    'Skill in developing and applying security system access controls',\n",
    "    'Skill in maintaining directory services. (e.g., Microsoft Active Directory, LDAP, etc.)']"
   ]
  },
  {
   "cell_type": "code",
   "execution_count": 19,
   "metadata": {},
   "outputs": [],
   "source": [
    "def show_extraction(examples, *extractors):\n",
    "    seen = set()\n",
    "    for doc in nlp.pipe(examples):\n",
    "        doc.ents = filter_spans([Span(doc, start, end, label) for extractor in extractors for label, start, end in extractor(doc)])\n",
    "        for tok in doc:\n",
    "            if tok.lower_ == 'experience':\n",
    "                sentence = tok.sent\n",
    "                if sentence.text in seen:\n",
    "                    continue\n",
    "                seen.update([sentence.text])\n",
    "                if not sentence.ents:\n",
    "                    doc.ents = list(doc.ents) + [Span(doc, tok.i, tok.i+1, 'MISSING')]\n",
    "                displacy.render(sentence, style='ent', options = {'colors': {'MISSING': 'pink',\n",
    "                                                                            'EXPERIENCE': 'lightgreen'}})\n",
    "                                                                            \n",
    "matcher = Matcher(nlp.vocab)\n",
    "pattern = [{'POS': 'NOUN', 'OP': '+'}, {'LOWER': 'experience'}]\n",
    "matcher.add('experience_noun', [pattern])\n",
    "\n",
    "pattern = [{'LOWER': 'experience'}, {'POS': 'ADP'}, {'POS': {'IN': ('DET', 'NOUN', 'PROPN')}, 'OP': '+'}]\n",
    "matcher.add('experience_adp', [pattern])\n",
    "\n",
    "doc = nlp(examples[0])\n",
    "matcher(doc)\n",
    "\n",
    "show_extraction(examples, matcher)"
   ]
  },
  {
   "cell_type": "code",
   "execution_count": 20,
   "metadata": {},
   "outputs": [
    {
     "data": {
      "text/plain": [
       "[('experience as Business Intelligence Engineer',\n",
       "  0,\n",
       "  6,\n",
       "  11,\n",
       "  'experience_adp',\n",
       "  0,\n",
       "  24),\n",
       " ('Experience with data visualization', 0, 35, 39, 'experience_adp', 24, 126),\n",
       " ('seller experience', 0, 522, 524, 'experience_noun', 501, 550),\n",
       " ('experience as a Business Intelligence Engineer',\n",
       "  0,\n",
       "  670,\n",
       "  676,\n",
       "  'experience_adp',\n",
       "  635,\n",
       "  689),\n",
       " ('Experience in data mining', 0, 704, 708, 'experience_adp', 703, 730),\n",
       " ('experience in technologies', 1, 138, 141, 'experience_adp', 118, 143),\n",
       " ('o Experience', 1, 275, 277, 'experience_noun', 258, 384),\n",
       " ('Experience with JIRA', 1, 440, 443, 'experience_adp', 384, 623),\n",
       " ('experience in IT', 2, 530, 533, 'experience_adp', 516, 546),\n",
       " ('experience in systems integration',\n",
       "  2,\n",
       "  552,\n",
       "  556,\n",
       "  'experience_adp',\n",
       "  546,\n",
       "  571),\n",
       " ('administration experience', 2, 598, 600, 'experience_noun', 571, 629),\n",
       " ('management experience', 2, 640, 642, 'experience_noun', 629, 740),\n",
       " ('system administration experience',\n",
       "  2,\n",
       "  664,\n",
       "  667,\n",
       "  'experience_noun',\n",
       "  629,\n",
       "  740),\n",
       " ('Experience with the', 2, 682, 685, 'experience_adp', 629, 740)]"
      ]
     },
     "execution_count": 20,
     "metadata": {},
     "output_type": "execute_result"
    }
   ],
   "source": [
    "def get_extractions(examples, *extractors):\n",
    "    # Could use context instead of enumerate\n",
    "    for idx, doc in enumerate(nlp.pipe(examples, batch_size=100, disable=['ner'])):\n",
    "        for ent in filter_spans([Span(doc, start, end, label) for extractor in extractors for label, start, end in extractor(doc)]):\n",
    "            sent = ent.root.sent\n",
    "            yield ent.text, idx, ent.start, ent.end, ent.label_, sent.start, sent.end\n",
    "\n",
    "list(get_extractions(ads[:3], matcher))"
   ]
  },
  {
   "cell_type": "code",
   "execution_count": 25,
   "metadata": {},
   "outputs": [
    {
     "name": "stdout",
     "output_type": "stream",
     "text": [
      "CPU times: user 2 µs, sys: 1 µs, total: 3 µs\n",
      "Wall time: 5.72 µs\n"
     ]
    },
    {
     "data": {
      "text/html": [
       "<div>\n",
       "<style scoped>\n",
       "    .dataframe tbody tr th:only-of-type {\n",
       "        vertical-align: middle;\n",
       "    }\n",
       "\n",
       "    .dataframe tbody tr th {\n",
       "        vertical-align: top;\n",
       "    }\n",
       "\n",
       "    .dataframe thead th {\n",
       "        text-align: right;\n",
       "    }\n",
       "</style>\n",
       "<table border=\"1\" class=\"dataframe\">\n",
       "  <thead>\n",
       "    <tr style=\"text-align: right;\">\n",
       "      <th></th>\n",
       "      <th>text</th>\n",
       "      <th>docidx</th>\n",
       "      <th>start</th>\n",
       "      <th>end</th>\n",
       "      <th>label</th>\n",
       "      <th>sent_start</th>\n",
       "      <th>sent_end</th>\n",
       "      <th>job_title</th>\n",
       "      <th>role</th>\n",
       "      <th>description</th>\n",
       "      <th>split</th>\n",
       "    </tr>\n",
       "  </thead>\n",
       "  <tbody>\n",
       "    <tr>\n",
       "      <th>0</th>\n",
       "      <td>experience as Business Intelligence Engineer</td>\n",
       "      <td>0</td>\n",
       "      <td>6</td>\n",
       "      <td>11</td>\n",
       "      <td>experience_adp</td>\n",
       "      <td>0</td>\n",
       "      <td>24</td>\n",
       "      <td>Business Intelligence Engineer, Identity and A...</td>\n",
       "      <td>engineer</td>\n",
       "      <td>· 3+ years in relevant experience as Business ...</td>\n",
       "      <td>Train</td>\n",
       "    </tr>\n",
       "    <tr>\n",
       "      <th>1</th>\n",
       "      <td>Experience with data visualization</td>\n",
       "      <td>0</td>\n",
       "      <td>35</td>\n",
       "      <td>39</td>\n",
       "      <td>experience_adp</td>\n",
       "      <td>24</td>\n",
       "      <td>126</td>\n",
       "      <td>Business Intelligence Engineer, Identity and A...</td>\n",
       "      <td>engineer</td>\n",
       "      <td>· 3+ years in relevant experience as Business ...</td>\n",
       "      <td>Train</td>\n",
       "    </tr>\n",
       "    <tr>\n",
       "      <th>2</th>\n",
       "      <td>seller experience</td>\n",
       "      <td>0</td>\n",
       "      <td>522</td>\n",
       "      <td>524</td>\n",
       "      <td>experience_noun</td>\n",
       "      <td>501</td>\n",
       "      <td>550</td>\n",
       "      <td>Business Intelligence Engineer, Identity and A...</td>\n",
       "      <td>engineer</td>\n",
       "      <td>· 3+ years in relevant experience as Business ...</td>\n",
       "      <td>Train</td>\n",
       "    </tr>\n",
       "    <tr>\n",
       "      <th>3</th>\n",
       "      <td>experience as a Business Intelligence Engineer</td>\n",
       "      <td>0</td>\n",
       "      <td>670</td>\n",
       "      <td>676</td>\n",
       "      <td>experience_adp</td>\n",
       "      <td>635</td>\n",
       "      <td>689</td>\n",
       "      <td>Business Intelligence Engineer, Identity and A...</td>\n",
       "      <td>engineer</td>\n",
       "      <td>· 3+ years in relevant experience as Business ...</td>\n",
       "      <td>Train</td>\n",
       "    </tr>\n",
       "    <tr>\n",
       "      <th>4</th>\n",
       "      <td>Experience in data mining</td>\n",
       "      <td>0</td>\n",
       "      <td>704</td>\n",
       "      <td>708</td>\n",
       "      <td>experience_adp</td>\n",
       "      <td>703</td>\n",
       "      <td>730</td>\n",
       "      <td>Business Intelligence Engineer, Identity and A...</td>\n",
       "      <td>engineer</td>\n",
       "      <td>· 3+ years in relevant experience as Business ...</td>\n",
       "      <td>Train</td>\n",
       "    </tr>\n",
       "  </tbody>\n",
       "</table>\n",
       "</div>"
      ],
      "text/plain": [
       "                                             text  docidx  start  end  \\\n",
       "0    experience as Business Intelligence Engineer       0      6   11   \n",
       "1              Experience with data visualization       0     35   39   \n",
       "2                               seller experience       0    522  524   \n",
       "3  experience as a Business Intelligence Engineer       0    670  676   \n",
       "4                       Experience in data mining       0    704  708   \n",
       "\n",
       "             label  sent_start  sent_end  \\\n",
       "0   experience_adp           0        24   \n",
       "1   experience_adp          24       126   \n",
       "2  experience_noun         501       550   \n",
       "3   experience_adp         635       689   \n",
       "4   experience_adp         703       730   \n",
       "\n",
       "                                           job_title      role  \\\n",
       "0  Business Intelligence Engineer, Identity and A...  engineer   \n",
       "1  Business Intelligence Engineer, Identity and A...  engineer   \n",
       "2  Business Intelligence Engineer, Identity and A...  engineer   \n",
       "3  Business Intelligence Engineer, Identity and A...  engineer   \n",
       "4  Business Intelligence Engineer, Identity and A...  engineer   \n",
       "\n",
       "                                         description  split  \n",
       "0  · 3+ years in relevant experience as Business ...  Train  \n",
       "1  · 3+ years in relevant experience as Business ...  Train  \n",
       "2  · 3+ years in relevant experience as Business ...  Train  \n",
       "3  · 3+ years in relevant experience as Business ...  Train  \n",
       "4  · 3+ years in relevant experience as Business ...  Train  "
      ]
     },
     "execution_count": 25,
     "metadata": {},
     "output_type": "execute_result"
    }
   ],
   "source": [
    "def extract_df(*extractors, n_max=None, **kwargs):\n",
    "    if n_max is None:\n",
    "        n_max = len(df)\n",
    "    ent_df = pd.DataFrame(list(get_extractions(df[:n_max].description, *extractors)),\n",
    "                          columns=['text', 'docidx', 'start', 'end', 'label', 'sent_start', 'sent_end'])\n",
    "    return ent_df.merge(df, how='left', left_on='docidx', right_index=True)\n",
    "\n",
    "%time\n",
    "\n",
    "ent_df = extract_df(matcher, n_max=1000)\n",
    "ent_df.head()"
   ]
  },
  {
   "cell_type": "code",
   "execution_count": 30,
   "metadata": {},
   "outputs": [
    {
     "data": {
      "text/html": [
       "<span class=\"tex2jax_ignore\"><div class=\"entities\" style=\"line-height: 2.5; direction: ltr\">7+ years of Product Management or Technical Program Management \n",
       "<mark class=\"entity\" style=\"background: #ddd; padding: 0.45em 0.6em; margin: 0 0.25em; line-height: 1; border-radius: 0.35em;\">\n",
       "    experience in a\n",
       "    <span style=\"font-size: 0.8em; font-weight: bold; line-height: 1; border-radius: 0.35em; vertical-align: middle; margin-left: 0.5rem\">experience_adp</span>\n",
       "</mark>\n",
       " related industry</br>Bachelor's degree in Engineering, Computer Science or related technical field OR additional years of experience in related field</br>Experience in stakeholder management and working with engineering teams</br>Ability to present business products and demonstrate integration and use benefits.</br></div></span>"
      ],
      "text/plain": [
       "<IPython.core.display.HTML object>"
      ]
     },
     "metadata": {},
     "output_type": "display_data"
    },
    {
     "data": {
      "text/html": [
       "<span class=\"tex2jax_ignore\"><div class=\"entities\" style=\"line-height: 2.5; direction: ltr\">Education &amp; Experience</br></br>Bachelor’s degree or equivalent experience</br>0-3 years of professional \n",
       "<mark class=\"entity\" style=\"background: #ddd; padding: 0.45em 0.6em; margin: 0 0.25em; line-height: 1; border-radius: 0.35em;\">\n",
       "    experience in a\n",
       "    <span style=\"font-size: 0.8em; font-weight: bold; line-height: 1; border-radius: 0.35em; vertical-align: middle; margin-left: 0.5rem\">experience_adp</span>\n",
       "</mark>\n",
       " relevant field like privacy, IT Audit, compliance, cybersecurity, or IT risk management</br>Strong computer proficiency, particularly in Microsoft Office Suite (Excel, PowerPoint, Word)</br></div></span>"
      ],
      "text/plain": [
       "<IPython.core.display.HTML object>"
      ]
     },
     "metadata": {},
     "output_type": "display_data"
    },
    {
     "data": {
      "text/html": [
       "<span class=\"tex2jax_ignore\"><div class=\"entities\" style=\"line-height: 2.5; direction: ltr\">At least 10 years‚Äô \n",
       "<mark class=\"entity\" style=\"background: #ddd; padding: 0.45em 0.6em; margin: 0 0.25em; line-height: 1; border-radius: 0.35em;\">\n",
       "    experience in a\n",
       "    <span style=\"font-size: 0.8em; font-weight: bold; line-height: 1; border-radius: 0.35em; vertical-align: middle; margin-left: 0.5rem\">experience_adp</span>\n",
       "</mark>\n",
       " lead development or architecture role(s).\r</br></div></span>"
      ],
      "text/plain": [
       "<IPython.core.display.HTML object>"
      ]
     },
     "metadata": {},
     "output_type": "display_data"
    },
    {
     "data": {
      "text/html": [
       "<span class=\"tex2jax_ignore\"><div class=\"entities\" style=\"line-height: 2.5; direction: ltr\">supporting SSO integrations (including incidents and tickets)</br>Participate in acquisition and merger projects to integrate identity systems</br>Lead experiments with new technologies, policies &amp; procedures that drive innovation and advances for customers</br>Leverage development skills to deliver value added services across various API layers using Python and CICD</br>Understand the needs/challenges of our customers and provide the right path forward for long-term strategic perspective</br></br>The Experience You Will Bring</br>Requirements:</br></br>DevOps \n",
       "<mark class=\"entity\" style=\"background: #ddd; padding: 0.45em 0.6em; margin: 0 0.25em; line-height: 1; border-radius: 0.35em;\">\n",
       "    experience in a\n",
       "    <span style=\"font-size: 0.8em; font-weight: bold; line-height: 1; border-radius: 0.35em; vertical-align: middle; margin-left: 0.5rem\">experience_adp</span>\n",
       "</mark>\n",
       " large multi domain/forest/tenant enterprise</br>Understanding in the following: Modern Authentication (SAML, OAuth and OIDC), API’s, and Directory Services</br>Experience with Enterprise Access Governance involving SOD, provisioning, Auditing, Access Certifications (SailPoint)</br></div></span>"
      ],
      "text/plain": [
       "<IPython.core.display.HTML object>"
      ]
     },
     "metadata": {},
     "output_type": "display_data"
    },
    {
     "data": {
      "text/html": [
       "<span class=\"tex2jax_ignore\"><div class=\"entities\" style=\"line-height: 2.5; direction: ltr\">⦁ 1-2 years of \n",
       "<mark class=\"entity\" style=\"background: #ddd; padding: 0.45em 0.6em; margin: 0 0.25em; line-height: 1; border-radius: 0.35em;\">\n",
       "    experience in a\n",
       "    <span style=\"font-size: 0.8em; font-weight: bold; line-height: 1; border-radius: 0.35em; vertical-align: middle; margin-left: 0.5rem\">experience_adp</span>\n",
       "</mark>\n",
       " similar role.</br></div></span>"
      ],
      "text/plain": [
       "<IPython.core.display.HTML object>"
      ]
     },
     "metadata": {},
     "output_type": "display_data"
    }
   ],
   "source": [
    "def showent(docidx, start, end, label, sent_start, sent_end, **kwargs):\n",
    "    # We don't need to parse it, so just make_doc\n",
    "    doc = nlp.make_doc(ads[docidx])\n",
    "    doc.ents = [Span(doc, start, end, label)]\n",
    "    sent = doc[sent_start:sent_end]\n",
    "    displacy.render(sent, style='ent')\n",
    "    \n",
    "def showent_df(df):\n",
    "    for idx, row in df.iterrows():\n",
    "        showent(**row)\n",
    "\n",
    "showent_df(ent_df.query('text == \"experience in a\"').head())"
   ]
  },
  {
   "cell_type": "code",
   "execution_count": 33,
   "metadata": {},
   "outputs": [
    {
     "data": {
      "text/html": [
       "<span class=\"tex2jax_ignore\"><div class=\"entities\" style=\"line-height: 2.5; direction: ltr\">· 3+ years in \n",
       "<mark class=\"entity\" style=\"background: lightgreen; padding: 0.45em 0.6em; margin: 0 0.25em; line-height: 1; border-radius: 0.35em;\">\n",
       "    relevant\n",
       "    <span style=\"font-size: 0.8em; font-weight: bold; line-height: 1; border-radius: 0.35em; vertical-align: middle; margin-left: 0.5rem\">EXPERIENCE</span>\n",
       "</mark>\n",
       " experience as Business Intelligence Engineer, Data Engineer, Business Analyst, Data Scientist, or equivalent. </div></span>"
      ],
      "text/plain": [
       "<IPython.core.display.HTML object>"
      ]
     },
     "metadata": {},
     "output_type": "display_data"
    },
    {
     "data": {
      "text/html": [
       "<span class=\"tex2jax_ignore\"><div class=\"entities\" style=\"line-height: 2.5; direction: ltr\">· Proficiency with data querying or modeling technique with \n",
       "<mark class=\"entity\" style=\"background: lightgreen; padding: 0.45em 0.6em; margin: 0 0.25em; line-height: 1; border-radius: 0.35em;\">\n",
       "    SQL ·\n",
       "    <span style=\"font-size: 0.8em; font-weight: bold; line-height: 1; border-radius: 0.35em; vertical-align: middle; margin-left: 0.5rem\">EXPERIENCE</span>\n",
       "</mark>\n",
       " Experience with data visualization using QuickSight, Tableau, or similar tools · Proficiency with a scripting language (Java, Python, or R) · Bachelor's degree in Engineering, Statistics, Computer Science, Operations Research, Business Analytics, Information Systems or related field</br></br>Job summary</br>We are looking for Business Intelligence Engineers to apply their talents to create new BI solutions, providing cutting edge insights and analytics that help tell the story of how our Stores Security programs are performing.</br></br></div></span>"
      ],
      "text/plain": [
       "<IPython.core.display.HTML object>"
      ]
     },
     "metadata": {},
     "output_type": "display_data"
    },
    {
     "data": {
      "text/html": [
       "<span class=\"tex2jax_ignore\"><div class=\"entities\" style=\"line-height: 2.5; direction: ltr\">Build new analytical tools, interfacing with business and technical stakeholders</br>Develop models and metrics providing insights on \n",
       "<mark class=\"entity\" style=\"background: lightgreen; padding: 0.45em 0.6em; margin: 0 0.25em; line-height: 1; border-radius: 0.35em;\">\n",
       "    customer and seller\n",
       "    <span style=\"font-size: 0.8em; font-weight: bold; line-height: 1; border-radius: 0.35em; vertical-align: middle; margin-left: 0.5rem\">EXPERIENCE</span>\n",
       "</mark>\n",
       " experience and performance</br></br>This position may be located in Austin TX, Arlington VA, New York or Seattle, with other locations possible.</br></br></br></br></div></span>"
      ],
      "text/plain": [
       "<IPython.core.display.HTML object>"
      ]
     },
     "metadata": {},
     "output_type": "display_data"
    },
    {
     "data": {
      "text/html": [
       "<span class=\"tex2jax_ignore\"><div class=\"entities\" style=\"line-height: 2.5; direction: ltr\">You understand that automation is key to your success and constantly find techniques to ensure automation and derived datasets are a feature of all your data activities.</br></br>· 5+ years in \n",
       "<mark class=\"entity\" style=\"background: lightgreen; padding: 0.45em 0.6em; margin: 0 0.25em; line-height: 1; border-radius: 0.35em;\">\n",
       "    relevant\n",
       "    <span style=\"font-size: 0.8em; font-weight: bold; line-height: 1; border-radius: 0.35em; vertical-align: middle; margin-left: 0.5rem\">EXPERIENCE</span>\n",
       "</mark>\n",
       " experience as a Business Intelligence Engineer, Data Engineer, Business Analyst, Data Scientist, or equivalent. </div></span>"
      ],
      "text/plain": [
       "<IPython.core.display.HTML object>"
      ]
     },
     "metadata": {},
     "output_type": "display_data"
    },
    {
     "data": {
      "text/html": [
       "<span class=\"tex2jax_ignore\"><div class=\"entities\" style=\"line-height: 2.5; direction: ltr\">\n",
       "<mark class=\"entity\" style=\"background: lightgreen; padding: 0.45em 0.6em; margin: 0 0.25em; line-height: 1; border-radius: 0.35em;\">\n",
       "    ·\n",
       "    <span style=\"font-size: 0.8em; font-weight: bold; line-height: 1; border-radius: 0.35em; vertical-align: middle; margin-left: 0.5rem\">EXPERIENCE</span>\n",
       "</mark>\n",
       " Experience in data mining, SQL, ETL, etc. and using databases in a business environment with large-scale, complex datasets. </div></span>"
      ],
      "text/plain": [
       "<IPython.core.display.HTML object>"
      ]
     },
     "metadata": {},
     "output_type": "display_data"
    },
    {
     "data": {
      "text/html": [
       "<span class=\"tex2jax_ignore\"><div class=\"entities\" style=\"line-height: 2.5; direction: ltr\">Basic Qualifications:</br></br>· BS in Computer Science or related field</br>· Minimum 4-5 years of \n",
       "<mark class=\"entity\" style=\"background: pink; padding: 0.45em 0.6em; margin: 0 0.25em; line-height: 1; border-radius: 0.35em;\">\n",
       "    experience\n",
       "    <span style=\"font-size: 0.8em; font-weight: bold; line-height: 1; border-radius: 0.35em; vertical-align: middle; margin-left: 0.5rem\">MISSING</span>\n",
       "</mark>\n",
       " in technologies:</br></div></span>"
      ],
      "text/plain": [
       "<IPython.core.display.HTML object>"
      ]
     },
     "metadata": {},
     "output_type": "display_data"
    },
    {
     "data": {
      "text/html": [
       "<span class=\"tex2jax_ignore\"><div class=\"entities\" style=\"line-height: 2.5; direction: ltr\">o Secure coding practices including use of encryption (e.g., Certificates, TLS Connections)</br>\n",
       "<mark class=\"entity\" style=\"background: lightgreen; padding: 0.45em 0.6em; margin: 0 0.25em; line-height: 1; border-radius: 0.35em;\">\n",
       "    o\n",
       "    <span style=\"font-size: 0.8em; font-weight: bold; line-height: 1; border-radius: 0.35em; vertical-align: middle; margin-left: 0.5rem\">EXPERIENCE</span>\n",
       "</mark>\n",
       " Experience in developing in the Windows environment</br>· Knowledge of data integration and data transfer through on-premise and Cloud resources</br>· Excellent communication, and relationship skills to articulate advanced technical topics and build consensus among clients and technical stakeholders</br>· Strong interpersonal and collaborations skills working in a team-oriented environment</br>· Strong analytical and problem-solving skills</br>· Ability to adhere to defined processes &amp; procedures, and suggest improvements</br>· Ability to effectively prioritize and handle multiple tasks simultaneously</br>· Strong technical documentation skills</br></br>Preferred Qualifications:</br></br>· Experience with:</br></div></span>"
      ],
      "text/plain": [
       "<IPython.core.display.HTML object>"
      ]
     },
     "metadata": {},
     "output_type": "display_data"
    },
    {
     "data": {
      "text/html": [
       "<span class=\"tex2jax_ignore\"><div class=\"entities\" style=\"line-height: 2.5; direction: ltr\">o Red Hat Fuse, Camel, Blueprint XML, XSLT programming</br>o Windows PowerShell</br>· Knowledge of emerging cybersecurity technologies such as Mobile and Asset Management, Identity and Access Management, and Vulnerability Management software (\n",
       "<mark class=\"entity\" style=\"background: lightgreen; padding: 0.45em 0.6em; margin: 0 0.25em; line-height: 1; border-radius: 0.35em;\">\n",
       "    e.g., McAfee, Tenable, SCCM, ServiceNow, SailPoint, CyberArk)\n",
       "·\n",
       "    <span style=\"font-size: 0.8em; font-weight: bold; line-height: 1; border-radius: 0.35em; vertical-align: middle; margin-left: 0.5rem\">EXPERIENCE</span>\n",
       "</mark>\n",
       " Experience with JIRA and Agile development practices</br>· Overall strong background in systems engineering, security engineering, architecting, enterprise integration, and interoperability in a complex systems environment</br>· Experience modeling data, message, and service interoperability</br>· Understanding of technical, operational, and management issues related to design, development, and deployment of complex and distributed systems</br>· Understanding of interrelationships between critical infrastructure protection and cybersecurity</br>· Familiarity with DoD Cybersecurity programs and compliance</br></br>Job Type: Full-time</br></br>Pay: $90.00 - $115.00 per hour</br></br>Benefits:</br></br>401(k)</br>Dental insurance</br>Employee assistance program</br>Health insurance</br>Life insurance</br>Paid time off</br>Vision insurance</br></br>Schedule:</br></br>\n",
       "<mark class=\"entity\" style=\"background: lightgreen; padding: 0.45em 0.6em; margin: 0 0.25em; line-height: 1; border-radius: 0.35em;\">\n",
       "    8 hour shift\n",
       "\n",
       "\n",
       "    <span style=\"font-size: 0.8em; font-weight: bold; line-height: 1; border-radius: 0.35em; vertical-align: middle; margin-left: 0.5rem\">EXPERIENCE</span>\n",
       "</mark>\n",
       "Experience:</br></br>Tenable Security Center: 5 years (Required)</br>SQL: 5 years (Required)</br>Data warehouse: 5 years (Required)</br>XML: 5 years (Required)</br>JSON: 5 years (Required)</br></div></span>"
      ],
      "text/plain": [
       "<IPython.core.display.HTML object>"
      ]
     },
     "metadata": {},
     "output_type": "display_data"
    },
    {
     "data": {
      "text/html": [
       "<span class=\"tex2jax_ignore\"><div class=\"entities\" style=\"line-height: 2.5; direction: ltr\">Position Requirements:</br></br></br>Bachelor's degree preferred with \n",
       "<mark class=\"entity\" style=\"background: lightgreen; padding: 0.45em 0.6em; margin: 0 0.25em; line-height: 1; border-radius: 0.35em;\">\n",
       "    5-8 years’\n",
       "    <span style=\"font-size: 0.8em; font-weight: bold; line-height: 1; border-radius: 0.35em; vertical-align: middle; margin-left: 0.5rem\">EXPERIENCE</span>\n",
       "</mark>\n",
       " experience in IT or information security, or equivalent combination of education and experience.</br></div></span>"
      ],
      "text/plain": [
       "<IPython.core.display.HTML object>"
      ]
     },
     "metadata": {},
     "output_type": "display_data"
    },
    {
     "data": {
      "text/html": [
       "<span class=\"tex2jax_ignore\"><div class=\"entities\" style=\"line-height: 2.5; direction: ltr\">No fewer than 3 years of \n",
       "<mark class=\"entity\" style=\"background: pink; padding: 0.45em 0.6em; margin: 0 0.25em; line-height: 1; border-radius: 0.35em;\">\n",
       "    experience\n",
       "    <span style=\"font-size: 0.8em; font-weight: bold; line-height: 1; border-radius: 0.35em; vertical-align: middle; margin-left: 0.5rem\">MISSING</span>\n",
       "</mark>\n",
       " in systems integration or implementation activities for security solutions within the identity and access management domain.</br></br></div></span>"
      ],
      "text/plain": [
       "<IPython.core.display.HTML object>"
      ]
     },
     "metadata": {},
     "output_type": "display_data"
    },
    {
     "data": {
      "text/html": [
       "<span class=\"tex2jax_ignore\"><div class=\"entities\" style=\"line-height: 2.5; direction: ltr\">Background in information security systems with specific knowledge around access control and privileged access management</br></br>Hands-on Windows 2012 Server (or \n",
       "<mark class=\"entity\" style=\"background: lightgreen; padding: 0.45em 0.6em; margin: 0 0.25em; line-height: 1; border-radius: 0.35em;\">\n",
       "    more recent) administration\n",
       "    <span style=\"font-size: 0.8em; font-weight: bold; line-height: 1; border-radius: 0.35em; vertical-align: middle; margin-left: 0.5rem\">EXPERIENCE</span>\n",
       "</mark>\n",
       " experience</br></br>Hands-on Active Directory and LDAP experience</br></br>Functional understanding of TCP/IP networks and network boundary controls Identity and</br>Access Management (IDAM) </div></span>"
      ],
      "text/plain": [
       "<IPython.core.display.HTML object>"
      ]
     },
     "metadata": {},
     "output_type": "display_data"
    },
    {
     "data": {
      "text/html": [
       "<span class=\"tex2jax_ignore\"><div class=\"entities\" style=\"line-height: 2.5; direction: ltr\">Operations Analyst</br></br>Functional understanding of \n",
       "<mark class=\"entity\" style=\"background: lightgreen; padding: 0.45em 0.6em; margin: 0 0.25em; line-height: 1; border-radius: 0.35em;\">\n",
       "    database concepts\n",
       "\n",
       "Windows GPO management\n",
       "    <span style=\"font-size: 0.8em; font-weight: bold; line-height: 1; border-radius: 0.35em; vertical-align: middle; margin-left: 0.5rem\">EXPERIENCE</span>\n",
       "</mark>\n",
       " experience, including troubleshooting GPO conflicts</br></br>Proficiency with MS Visio, PowerPoint, Word, and \n",
       "<mark class=\"entity\" style=\"background: lightgreen; padding: 0.45em 0.6em; margin: 0 0.25em; line-height: 1; border-radius: 0.35em;\">\n",
       "    Excel\n",
       "\n",
       "Basic UNIX/Linux system administration\n",
       "    <span style=\"font-size: 0.8em; font-weight: bold; line-height: 1; border-radius: 0.35em; vertical-align: middle; margin-left: 0.5rem\">EXPERIENCE</span>\n",
       "</mark>\n",
       " experience preferred</br></br>Intermediate skill level with creating, modifying, and executing system scripts</br></br>Experience with the following technologies/products: Authentication and SSO, CyberArk, SailPoint, CA PAM, Beyond Trust PAM, or other Privileged/Identity Access Management solutions</br></br>Required: will have an active certification consistent with the DoD Approved 8570 Baseline</br>Certifications for IAM Level II within 90 days of hire. </div></span>"
      ],
      "text/plain": [
       "<IPython.core.display.HTML object>"
      ]
     },
     "metadata": {},
     "output_type": "display_data"
    },
    {
     "data": {
      "text/html": [
       "<span class=\"tex2jax_ignore\"><div class=\"entities\" style=\"line-height: 2.5; direction: ltr\">3+ years of software design and development, including at least 3+ years of \n",
       "<mark class=\"entity\" style=\"background: lightgreen; padding: 0.45em 0.6em; margin: 0 0.25em; line-height: 1; border-radius: 0.35em;\">\n",
       "    development\n",
       "    <span style=\"font-size: 0.8em; font-weight: bold; line-height: 1; border-radius: 0.35em; vertical-align: middle; margin-left: 0.5rem\">EXPERIENCE</span>\n",
       "</mark>\n",
       " experience with Identity and Access Management technologies (SailPoint IIQ or IdentityNow).\r</br>\r</br></div></span>"
      ],
      "text/plain": [
       "<IPython.core.display.HTML object>"
      ]
     },
     "metadata": {},
     "output_type": "display_data"
    },
    {
     "data": {
      "text/html": [
       "<span class=\"tex2jax_ignore\"><div class=\"entities\" style=\"line-height: 2.5; direction: ltr\">3+ years of design, development and \n",
       "<mark class=\"entity\" style=\"background: lightgreen; padding: 0.45em 0.6em; margin: 0 0.25em; line-height: 1; border-radius: 0.35em;\">\n",
       "    support\n",
       "    <span style=\"font-size: 0.8em; font-weight: bold; line-height: 1; border-radius: 0.35em; vertical-align: middle; margin-left: 0.5rem\">EXPERIENCE</span>\n",
       "</mark>\n",
       " experience with SailPoint IdentityIQ (IIQ) including Life Cycle Manager (LCM) and Compliance Manager(CM) which includes hands on experience with the following SailPoint IdentityIQ components such as but not limited to Workflows, Rules, Connectors, Security Policies, Aggregation Jobs, Roles, Certification Campaigns and Application Integration.\r</br>\r</br></div></span>"
      ],
      "text/plain": [
       "<IPython.core.display.HTML object>"
      ]
     },
     "metadata": {},
     "output_type": "display_data"
    },
    {
     "data": {
      "text/html": [
       "<span class=\"tex2jax_ignore\"><div class=\"entities\" style=\"line-height: 2.5; direction: ltr\">\n",
       "<mark class=\"entity\" style=\"background: pink; padding: 0.45em 0.6em; margin: 0 0.25em; line-height: 1; border-radius: 0.35em;\">\n",
       "    Experience\n",
       "    <span style=\"font-size: 0.8em; font-weight: bold; line-height: 1; border-radius: 0.35em; vertical-align: middle; margin-left: 0.5rem\">MISSING</span>\n",
       "</mark>\n",
       " integrating IAM solutions within an SAP environment.\r</br>\r</br></div></span>"
      ],
      "text/plain": [
       "<IPython.core.display.HTML object>"
      ]
     },
     "metadata": {},
     "output_type": "display_data"
    },
    {
     "data": {
      "text/html": [
       "<span class=\"tex2jax_ignore\"><div class=\"entities\" style=\"line-height: 2.5; direction: ltr\">Experience working in DevOps environment, automation first mindset, ability to leverage coding/scripting skills and \n",
       "<mark class=\"entity\" style=\"background: lightgreen; padding: 0.45em 0.6em; margin: 0 0.25em; line-height: 1; border-radius: 0.35em;\">\n",
       "    working\n",
       "    <span style=\"font-size: 0.8em; font-weight: bold; line-height: 1; border-radius: 0.35em; vertical-align: middle; margin-left: 0.5rem\">EXPERIENCE</span>\n",
       "</mark>\n",
       " experience with APIs.\r</br>\r</br></div></span>"
      ],
      "text/plain": [
       "<IPython.core.display.HTML object>"
      ]
     },
     "metadata": {},
     "output_type": "display_data"
    },
    {
     "data": {
      "text/html": [
       "<span class=\"tex2jax_ignore\"><div class=\"entities\" style=\"line-height: 2.5; direction: ltr\">Job Types: Full-time, Contract\r</br>\r</br>Pay: $45.00 - $60.00 per hour\r</br>\r</br>Schedule:\r</br>\r</br>8 hour shift\r</br>Monday to \n",
       "<mark class=\"entity\" style=\"background: lightgreen; padding: 0.45em 0.6em; margin: 0 0.25em; line-height: 1; border-radius: 0.35em;\">\n",
       "    Friday\r\n",
       "\r\n",
       "\n",
       "    <span style=\"font-size: 0.8em; font-weight: bold; line-height: 1; border-radius: 0.35em; vertical-align: middle; margin-left: 0.5rem\">EXPERIENCE</span>\n",
       "</mark>\n",
       "Experience:\r</br>\r</br>SailPoint IIQ: 3 years (Preferred)\r</br>\r</br>Work Location: </div></span>"
      ],
      "text/plain": [
       "<IPython.core.display.HTML object>"
      ]
     },
     "metadata": {},
     "output_type": "display_data"
    },
    {
     "data": {
      "text/html": [
       "<span class=\"tex2jax_ignore\"><div class=\"entities\" style=\"line-height: 2.5; direction: ltr\">\n",
       "<mark class=\"entity\" style=\"background: pink; padding: 0.45em 0.6em; margin: 0 0.25em; line-height: 1; border-radius: 0.35em;\">\n",
       "    Experience\n",
       "    <span style=\"font-size: 0.8em; font-weight: bold; line-height: 1; border-radius: 0.35em; vertical-align: middle; margin-left: 0.5rem\">MISSING</span>\n",
       "</mark>\n",
       " with programming languages and databases including PHP, HTML, CSS, JavaScript, and JSON.</br></div></span>"
      ],
      "text/plain": [
       "<IPython.core.display.HTML object>"
      ]
     },
     "metadata": {},
     "output_type": "display_data"
    },
    {
     "data": {
      "text/html": [
       "<span class=\"tex2jax_ignore\"><div class=\"entities\" style=\"line-height: 2.5; direction: ltr\">\n",
       "<mark class=\"entity\" style=\"background: pink; padding: 0.45em 0.6em; margin: 0 0.25em; line-height: 1; border-radius: 0.35em;\">\n",
       "    Experience\n",
       "    <span style=\"font-size: 0.8em; font-weight: bold; line-height: 1; border-radius: 0.35em; vertical-align: middle; margin-left: 0.5rem\">MISSING</span>\n",
       "</mark>\n",
       " building scoped applications.</br></div></span>"
      ],
      "text/plain": [
       "<IPython.core.display.HTML object>"
      ]
     },
     "metadata": {},
     "output_type": "display_data"
    },
    {
     "data": {
      "text/html": [
       "<span class=\"tex2jax_ignore\"><div class=\"entities\" style=\"line-height: 2.5; direction: ltr\">Required Skills:</br>3+ years of \n",
       "<mark class=\"entity\" style=\"background: pink; padding: 0.45em 0.6em; margin: 0 0.25em; line-height: 1; border-radius: 0.35em;\">\n",
       "    experience\n",
       "    <span style=\"font-size: 0.8em; font-weight: bold; line-height: 1; border-radius: 0.35em; vertical-align: middle; margin-left: 0.5rem\">MISSING</span>\n",
       "</mark>\n",
       " developing on the ServiceNow platform.</br></div></span>"
      ],
      "text/plain": [
       "<IPython.core.display.HTML object>"
      ]
     },
     "metadata": {},
     "output_type": "display_data"
    },
    {
     "data": {
      "text/html": [
       "<span class=\"tex2jax_ignore\"><div class=\"entities\" style=\"line-height: 2.5; direction: ltr\">5+ years of \n",
       "<mark class=\"entity\" style=\"background: lightgreen; padding: 0.45em 0.6em; margin: 0 0.25em; line-height: 1; border-radius: 0.35em;\">\n",
       "    IT application system\n",
       "    <span style=\"font-size: 0.8em; font-weight: bold; line-height: 1; border-radius: 0.35em; vertical-align: middle; margin-left: 0.5rem\">EXPERIENCE</span>\n",
       "</mark>\n",
       " experience in technology solution delivery.</br></div></span>"
      ],
      "text/plain": [
       "<IPython.core.display.HTML object>"
      ]
     },
     "metadata": {},
     "output_type": "display_data"
    },
    {
     "data": {
      "text/html": [
       "<span class=\"tex2jax_ignore\"><div class=\"entities\" style=\"line-height: 2.5; direction: ltr\">2+ years of \n",
       "<mark class=\"entity\" style=\"background: pink; padding: 0.45em 0.6em; margin: 0 0.25em; line-height: 1; border-radius: 0.35em;\">\n",
       "    experience\n",
       "    <span style=\"font-size: 0.8em; font-weight: bold; line-height: 1; border-radius: 0.35em; vertical-align: middle; margin-left: 0.5rem\">MISSING</span>\n",
       "</mark>\n",
       " with platform customization in relevant delivery platforms.</br></div></span>"
      ],
      "text/plain": [
       "<IPython.core.display.HTML object>"
      ]
     },
     "metadata": {},
     "output_type": "display_data"
    },
    {
     "data": {
      "text/html": [
       "<span class=\"tex2jax_ignore\"><div class=\"entities\" style=\"line-height: 2.5; direction: ltr\">2+ years of \n",
       "<mark class=\"entity\" style=\"background: pink; padding: 0.45em 0.6em; margin: 0 0.25em; line-height: 1; border-radius: 0.35em;\">\n",
       "    experience\n",
       "    <span style=\"font-size: 0.8em; font-weight: bold; line-height: 1; border-radius: 0.35em; vertical-align: middle; margin-left: 0.5rem\">MISSING</span>\n",
       "</mark>\n",
       " with custom application development including Custom Service Portal widget creation.</br></div></span>"
      ],
      "text/plain": [
       "<IPython.core.display.HTML object>"
      ]
     },
     "metadata": {},
     "output_type": "display_data"
    },
    {
     "data": {
      "text/html": [
       "<span class=\"tex2jax_ignore\"><div class=\"entities\" style=\"line-height: 2.5; direction: ltr\">2+ years of \n",
       "<mark class=\"entity\" style=\"background: pink; padding: 0.45em 0.6em; margin: 0 0.25em; line-height: 1; border-radius: 0.35em;\">\n",
       "    experience\n",
       "    <span style=\"font-size: 0.8em; font-weight: bold; line-height: 1; border-radius: 0.35em; vertical-align: middle; margin-left: 0.5rem\">MISSING</span>\n",
       "</mark>\n",
       " developing and customizing core applications such as Incident, Problem, Change, Knowledge, and Service Catalog.</br></div></span>"
      ],
      "text/plain": [
       "<IPython.core.display.HTML object>"
      ]
     },
     "metadata": {},
     "output_type": "display_data"
    },
    {
     "data": {
      "text/html": [
       "<span class=\"tex2jax_ignore\"><div class=\"entities\" style=\"line-height: 2.5; direction: ltr\">2+ years of \n",
       "<mark class=\"entity\" style=\"background: pink; padding: 0.45em 0.6em; margin: 0 0.25em; line-height: 1; border-radius: 0.35em;\">\n",
       "    experience\n",
       "    <span style=\"font-size: 0.8em; font-weight: bold; line-height: 1; border-radius: 0.35em; vertical-align: middle; margin-left: 0.5rem\">MISSING</span>\n",
       "</mark>\n",
       " working and developing with JavaScript - HTML5, Jelly, jQuery, and AngularJS.</br></div></span>"
      ],
      "text/plain": [
       "<IPython.core.display.HTML object>"
      ]
     },
     "metadata": {},
     "output_type": "display_data"
    },
    {
     "data": {
      "text/html": [
       "<span class=\"tex2jax_ignore\"><div class=\"entities\" style=\"line-height: 2.5; direction: ltr\">2+ years of \n",
       "<mark class=\"entity\" style=\"background: pink; padding: 0.45em 0.6em; margin: 0 0.25em; line-height: 1; border-radius: 0.35em;\">\n",
       "    experience\n",
       "    <span style=\"font-size: 0.8em; font-weight: bold; line-height: 1; border-radius: 0.35em; vertical-align: middle; margin-left: 0.5rem\">MISSING</span>\n",
       "</mark>\n",
       " leading and mentoring Junior ServiceNow team members.</br></div></span>"
      ],
      "text/plain": [
       "<IPython.core.display.HTML object>"
      ]
     },
     "metadata": {},
     "output_type": "display_data"
    },
    {
     "data": {
      "text/html": [
       "<span class=\"tex2jax_ignore\"><div class=\"entities\" style=\"line-height: 2.5; direction: ltr\">2+ years of \n",
       "<mark class=\"entity\" style=\"background: pink; padding: 0.45em 0.6em; margin: 0 0.25em; line-height: 1; border-radius: 0.35em;\">\n",
       "    experience\n",
       "    <span style=\"font-size: 0.8em; font-weight: bold; line-height: 1; border-radius: 0.35em; vertical-align: middle; margin-left: 0.5rem\">MISSING</span>\n",
       "</mark>\n",
       " implementing systems using the Agile/Scrum methodology.</br></div></span>"
      ],
      "text/plain": [
       "<IPython.core.display.HTML object>"
      ]
     },
     "metadata": {},
     "output_type": "display_data"
    },
    {
     "data": {
      "text/html": [
       "<span class=\"tex2jax_ignore\"><div class=\"entities\" style=\"line-height: 2.5; direction: ltr\">Preferred Skills:</br>\n",
       "<mark class=\"entity\" style=\"background: lightgreen; padding: 0.45em 0.6em; margin: 0 0.25em; line-height: 1; border-radius: 0.35em;\">\n",
       "    Integration\n",
       "    <span style=\"font-size: 0.8em; font-weight: bold; line-height: 1; border-radius: 0.35em; vertical-align: middle; margin-left: 0.5rem\">EXPERIENCE</span>\n",
       "</mark>\n",
       " experience (SOAP, REST, and JSON as well as JDBC and file imports).</br></div></span>"
      ],
      "text/plain": [
       "<IPython.core.display.HTML object>"
      ]
     },
     "metadata": {},
     "output_type": "display_data"
    },
    {
     "data": {
      "text/html": [
       "<span class=\"tex2jax_ignore\"><div class=\"entities\" style=\"line-height: 2.5; direction: ltr\">\n",
       "<mark class=\"entity\" style=\"background: pink; padding: 0.45em 0.6em; margin: 0 0.25em; line-height: 1; border-radius: 0.35em;\">\n",
       "    Experience\n",
       "    <span style=\"font-size: 0.8em; font-weight: bold; line-height: 1; border-radius: 0.35em; vertical-align: middle; margin-left: 0.5rem\">MISSING</span>\n",
       "</mark>\n",
       " integrating ServiceNow with an API-led Integration Platform such as MuleSoft or Apigee.</br></div></span>"
      ],
      "text/plain": [
       "<IPython.core.display.HTML object>"
      ]
     },
     "metadata": {},
     "output_type": "display_data"
    },
    {
     "data": {
      "text/html": [
       "<span class=\"tex2jax_ignore\"><div class=\"entities\" style=\"line-height: 2.5; direction: ltr\">Administration of a ServiceNow instance including the management of users, groups, and roles, CMS Development, ACLs, business rules, workflows, UI actions, UI policies, dictionary, and catalog items \n",
       "<mark class=\"entity\" style=\"background: lightgreen; padding: 0.45em 0.6em; margin: 0 0.25em; line-height: 1; border-radius: 0.35em;\">\n",
       "    Orchestration and Discovery\n",
       "    <span style=\"font-size: 0.8em; font-weight: bold; line-height: 1; border-radius: 0.35em; vertical-align: middle; margin-left: 0.5rem\">EXPERIENCE</span>\n",
       "</mark>\n",
       " experience is a plus.</br></div></span>"
      ],
      "text/plain": [
       "<IPython.core.display.HTML object>"
      ]
     },
     "metadata": {},
     "output_type": "display_data"
    },
    {
     "data": {
      "text/html": [
       "<span class=\"tex2jax_ignore\"><div class=\"entities\" style=\"line-height: 2.5; direction: ltr\">\n",
       "<mark class=\"entity\" style=\"background: pink; padding: 0.45em 0.6em; margin: 0 0.25em; line-height: 1; border-radius: 0.35em;\">\n",
       "    Experience\n",
       "    <span style=\"font-size: 0.8em; font-weight: bold; line-height: 1; border-radius: 0.35em; vertical-align: middle; margin-left: 0.5rem\">MISSING</span>\n",
       "</mark>\n",
       " with rebuilding and refactoring legacy applications in ServiceNow is a plus.</br></div></span>"
      ],
      "text/plain": [
       "<IPython.core.display.HTML object>"
      ]
     },
     "metadata": {},
     "output_type": "display_data"
    },
    {
     "data": {
      "text/html": [
       "<span class=\"tex2jax_ignore\"><div class=\"entities\" style=\"line-height: 2.5; direction: ltr\">\n",
       "<mark class=\"entity\" style=\"background: pink; padding: 0.45em 0.6em; margin: 0 0.25em; line-height: 1; border-radius: 0.35em;\">\n",
       "    Experience\n",
       "    <span style=\"font-size: 0.8em; font-weight: bold; line-height: 1; border-radius: 0.35em; vertical-align: middle; margin-left: 0.5rem\">MISSING</span>\n",
       "</mark>\n",
       " conducting ServiceNow instance upgrades.</br></div></span>"
      ],
      "text/plain": [
       "<IPython.core.display.HTML object>"
      ]
     },
     "metadata": {},
     "output_type": "display_data"
    },
    {
     "data": {
      "text/html": [
       "<span class=\"tex2jax_ignore\"><div class=\"entities\" style=\"line-height: 2.5; direction: ltr\">1+ years of \n",
       "<mark class=\"entity\" style=\"background: pink; padding: 0.45em 0.6em; margin: 0 0.25em; line-height: 1; border-radius: 0.35em;\">\n",
       "    experience\n",
       "    <span style=\"font-size: 0.8em; font-weight: bold; line-height: 1; border-radius: 0.35em; vertical-align: middle; margin-left: 0.5rem\">MISSING</span>\n",
       "</mark>\n",
       " contributing to the system design or architecture (architecture, design patterns, reliability and scaling) of new and current systems.</br></div></span>"
      ],
      "text/plain": [
       "<IPython.core.display.HTML object>"
      ]
     },
     "metadata": {},
     "output_type": "display_data"
    },
    {
     "data": {
      "text/html": [
       "<span class=\"tex2jax_ignore\"><div class=\"entities\" style=\"line-height: 2.5; direction: ltr\">2+ years of \n",
       "<mark class=\"entity\" style=\"background: lightgreen; padding: 0.45em 0.6em; margin: 0 0.25em; line-height: 1; border-radius: 0.35em;\">\n",
       "    non-internship professional software development experience\n",
       "Programming\n",
       "    <span style=\"font-size: 0.8em; font-weight: bold; line-height: 1; border-radius: 0.35em; vertical-align: middle; margin-left: 0.5rem\">EXPERIENCE</span>\n",
       "</mark>\n",
       " experience with at least one software programming language.</br></br></br></br></div></span>"
      ],
      "text/plain": [
       "<IPython.core.display.HTML object>"
      ]
     },
     "metadata": {},
     "output_type": "display_data"
    },
    {
     "data": {
      "text/html": [
       "<span class=\"tex2jax_ignore\"><div class=\"entities\" style=\"line-height: 2.5; direction: ltr\">Individuals interested in this position should have \n",
       "<mark class=\"entity\" style=\"background: pink; padding: 0.45em 0.6em; margin: 0 0.25em; line-height: 1; border-radius: 0.35em;\">\n",
       "    experience\n",
       "    <span style=\"font-size: 0.8em; font-weight: bold; line-height: 1; border-radius: 0.35em; vertical-align: middle; margin-left: 0.5rem\">MISSING</span>\n",
       "</mark>\n",
       " building high-performing, reliable systems in a complex, multi-tiered, and distributed environment in a fast-paced environment.</br></br></div></span>"
      ],
      "text/plain": [
       "<IPython.core.display.HTML object>"
      ]
     },
     "metadata": {},
     "output_type": "display_data"
    },
    {
     "data": {
      "text/html": [
       "<span class=\"tex2jax_ignore\"><div class=\"entities\" style=\"line-height: 2.5; direction: ltr\">We have a broad mix of \n",
       "<mark class=\"entity\" style=\"background: pink; padding: 0.45em 0.6em; margin: 0 0.25em; line-height: 1; border-radius: 0.35em;\">\n",
       "    experience\n",
       "    <span style=\"font-size: 0.8em; font-weight: bold; line-height: 1; border-radius: 0.35em; vertical-align: middle; margin-left: 0.5rem\">MISSING</span>\n",
       "</mark>\n",
       " levels and tenures, and we’re building an environment that celebrates knowledge sharing and mentorship. </div></span>"
      ],
      "text/plain": [
       "<IPython.core.display.HTML object>"
      ]
     },
     "metadata": {},
     "output_type": "display_data"
    },
    {
     "data": {
      "text/html": [
       "<span class=\"tex2jax_ignore\"><div class=\"entities\" style=\"line-height: 2.5; direction: ltr\">Experience running and maintaining \n",
       "<mark class=\"entity\" style=\"background: lightgreen; padding: 0.45em 0.6em; margin: 0 0.25em; line-height: 1; border-radius: 0.35em;\">\n",
       "    a 24x7 production environment\n",
       "\n",
       "    <span style=\"font-size: 0.8em; font-weight: bold; line-height: 1; border-radius: 0.35em; vertical-align: middle; margin-left: 0.5rem\">EXPERIENCE</span>\n",
       "</mark>\n",
       "Experience with very large distributed systems such as large-scale distributed database systems, storage farms, and/or horizontally scaled request processing fleets</br></div></span>"
      ],
      "text/plain": [
       "<IPython.core.display.HTML object>"
      ]
     },
     "metadata": {},
     "output_type": "display_data"
    },
    {
     "data": {
      "text/html": [
       "<span class=\"tex2jax_ignore\"><div class=\"entities\" style=\"line-height: 2.5; direction: ltr\">Exceptional customer focus including the ability to discover the true requirements underlying feature requests, recommend alternative technical and business approaches, and lead engineering efforts to meet ambitious timelines with \n",
       "<mark class=\"entity\" style=\"background: lightgreen; padding: 0.45em 0.6em; margin: 0 0.25em; line-height: 1; border-radius: 0.35em;\">\n",
       "    optimal solutions\n",
       "Prior\n",
       "    <span style=\"font-size: 0.8em; font-weight: bold; line-height: 1; border-radius: 0.35em; vertical-align: middle; margin-left: 0.5rem\">EXPERIENCE</span>\n",
       "</mark>\n",
       " experience in defining, scoping and pitching the business and technical vision for a complicated area within a highly technical domain.</br></div></span>"
      ],
      "text/plain": [
       "<IPython.core.display.HTML object>"
      ]
     },
     "metadata": {},
     "output_type": "display_data"
    },
    {
     "data": {
      "text/html": [
       "<span class=\"tex2jax_ignore\"><div class=\"entities\" style=\"line-height: 2.5; direction: ltr\">4+ years of \n",
       "<mark class=\"entity\" style=\"background: lightgreen; padding: 0.45em 0.6em; margin: 0 0.25em; line-height: 1; border-radius: 0.35em;\">\n",
       "    professional software development\n",
       "    <span style=\"font-size: 0.8em; font-weight: bold; line-height: 1; border-radius: 0.35em; vertical-align: middle; margin-left: 0.5rem\">EXPERIENCE</span>\n",
       "</mark>\n",
       " experience</br>3+ years of \n",
       "<mark class=\"entity\" style=\"background: lightgreen; padding: 0.45em 0.6em; margin: 0 0.25em; line-height: 1; border-radius: 0.35em;\">\n",
       "    programming\n",
       "    <span style=\"font-size: 0.8em; font-weight: bold; line-height: 1; border-radius: 0.35em; vertical-align: middle; margin-left: 0.5rem\">EXPERIENCE</span>\n",
       "</mark>\n",
       " experience with at least one software programming language</br>2+ years of experience contributing to the system design or architecture (architecture, design patterns, reliability and scaling) of \n",
       "<mark class=\"entity\" style=\"background: lightgreen; padding: 0.45em 0.6em; margin: 0 0.25em; line-height: 1; border-radius: 0.35em;\">\n",
       "    new and current systems\n",
       "\n",
       "    <span style=\"font-size: 0.8em; font-weight: bold; line-height: 1; border-radius: 0.35em; vertical-align: middle; margin-left: 0.5rem\">EXPERIENCE</span>\n",
       "</mark>\n",
       "Experience as a mentor, tech lead OR leading an engineering team</br></br></br></br>Job summary</br>AWS Identity and Access Management (IAM) team has an open seat for an experienced Senior Software Development Engineer who is looking to further advance their career and has professional interest and ambition in shaping technical direction for one of the most critical AWS services.</br></br></div></span>"
      ],
      "text/plain": [
       "<IPython.core.display.HTML object>"
      ]
     },
     "metadata": {},
     "output_type": "display_data"
    },
    {
     "data": {
      "text/html": [
       "<span class=\"tex2jax_ignore\"><div class=\"entities\" style=\"line-height: 2.5; direction: ltr\">Mentorship &amp; Career Development</br>As a senior member of the IAM engineering team you will \n",
       "<mark class=\"entity\" style=\"background: pink; padding: 0.45em 0.6em; margin: 0 0.25em; line-height: 1; border-radius: 0.35em;\">\n",
       "    experience\n",
       "    <span style=\"font-size: 0.8em; font-weight: bold; line-height: 1; border-radius: 0.35em; vertical-align: middle; margin-left: 0.5rem\">MISSING</span>\n",
       "</mark>\n",
       " no shortage of great technical challenges that will propel your software engineering career to the next level. </div></span>"
      ],
      "text/plain": [
       "<IPython.core.display.HTML object>"
      ]
     },
     "metadata": {},
     "output_type": "display_data"
    },
    {
     "data": {
      "text/html": [
       "<span class=\"tex2jax_ignore\"><div class=\"entities\" style=\"line-height: 2.5; direction: ltr\">We have a broad mix of \n",
       "<mark class=\"entity\" style=\"background: pink; padding: 0.45em 0.6em; margin: 0 0.25em; line-height: 1; border-radius: 0.35em;\">\n",
       "    experience\n",
       "    <span style=\"font-size: 0.8em; font-weight: bold; line-height: 1; border-radius: 0.35em; vertical-align: middle; margin-left: 0.5rem\">MISSING</span>\n",
       "</mark>\n",
       " levels and tenures and thoughtfully invest in creating growth opportunities for team members, building an environment that celebrates collaboration, knowledge sharing and mentorship. </div></span>"
      ],
      "text/plain": [
       "<IPython.core.display.HTML object>"
      ]
     },
     "metadata": {},
     "output_type": "display_data"
    },
    {
     "data": {
      "text/html": [
       "<span class=\"tex2jax_ignore\"><div class=\"entities\" style=\"line-height: 2.5; direction: ltr\">BS/MS in Computer Science, Mathematics, Engineering discipline or \n",
       "<mark class=\"entity\" style=\"background: lightgreen; padding: 0.45em 0.6em; margin: 0 0.25em; line-height: 1; border-radius: 0.35em;\">\n",
       "    equivalent work\n",
       "    <span style=\"font-size: 0.8em; font-weight: bold; line-height: 1; border-radius: 0.35em; vertical-align: middle; margin-left: 0.5rem\">EXPERIENCE</span>\n",
       "</mark>\n",
       " experience</br>Strong fundamental Computer Science knowledge, fluency with common algorithms, data structures and design patterns</br>Strong software architecture knowledge, familiarity with distributed systems design patterns and paradigms</br>Hands-on experience building and operating \n",
       "<mark class=\"entity\" style=\"background: lightgreen; padding: 0.45em 0.6em; margin: 0 0.25em; line-height: 1; border-radius: 0.35em;\">\n",
       "    large mission-critical distributed software systems\n",
       "\n",
       "    <span style=\"font-size: 0.8em; font-weight: bold; line-height: 1; border-radius: 0.35em; vertical-align: middle; margin-left: 0.5rem\">EXPERIENCE</span>\n",
       "</mark>\n",
       "Experience unpacking high-level problem statements, discovering the foundational unmet customer needs, proposing and evaluating multiple options and translating it into well-scoped technical documents</br>Ability to productively collaborate across roles, team and organizational boundaries, defining, scoping and pitching technical solutions</br>Ability to drive productive collaboration with other engineers, establish a shared architectural vision, break down the work, oversee and course-correct execution and integration</br>Experience mentoring software engineers for development of their functional skills and mindset, and through that further accelerating the team</br></br>The base pay range for this position is $ 168,070– 275,140/YR. </div></span>"
      ],
      "text/plain": [
       "<IPython.core.display.HTML object>"
      ]
     },
     "metadata": {},
     "output_type": "display_data"
    },
    {
     "data": {
      "text/html": [
       "<span class=\"tex2jax_ignore\"><div class=\"entities\" style=\"line-height: 2.5; direction: ltr\">Pay is based on market location and may vary depending on job-related knowledge, skills, and \n",
       "<mark class=\"entity\" style=\"background: pink; padding: 0.45em 0.6em; margin: 0 0.25em; line-height: 1; border-radius: 0.35em;\">\n",
       "    experience\n",
       "    <span style=\"font-size: 0.8em; font-weight: bold; line-height: 1; border-radius: 0.35em; vertical-align: middle; margin-left: 0.5rem\">MISSING</span>\n",
       "</mark>\n",
       ". </div></span>"
      ],
      "text/plain": [
       "<IPython.core.display.HTML object>"
      ]
     },
     "metadata": {},
     "output_type": "display_data"
    },
    {
     "data": {
      "text/html": [
       "<span class=\"tex2jax_ignore\"><div class=\"entities\" style=\"line-height: 2.5; direction: ltr\">7+ years of \n",
       "<mark class=\"entity\" style=\"background: pink; padding: 0.45em 0.6em; margin: 0 0.25em; line-height: 1; border-radius: 0.35em;\">\n",
       "    experience\n",
       "    <span style=\"font-size: 0.8em; font-weight: bold; line-height: 1; border-radius: 0.35em; vertical-align: middle; margin-left: 0.5rem\">MISSING</span>\n",
       "</mark>\n",
       " of implementing large data lakes or data warehousing and data modeling.\r</br></div></span>"
      ],
      "text/plain": [
       "<IPython.core.display.HTML object>"
      ]
     },
     "metadata": {},
     "output_type": "display_data"
    },
    {
     "data": {
      "text/html": [
       "<span class=\"tex2jax_ignore\"><div class=\"entities\" style=\"line-height: 2.5; direction: ltr\">\n",
       "<mark class=\"entity\" style=\"background: pink; padding: 0.45em 0.6em; margin: 0 0.25em; line-height: 1; border-radius: 0.35em;\">\n",
       "    Experience\n",
       "    <span style=\"font-size: 0.8em; font-weight: bold; line-height: 1; border-radius: 0.35em; vertical-align: middle; margin-left: 0.5rem\">MISSING</span>\n",
       "</mark>\n",
       " in data integration to automate business processes.\r</br></div></span>"
      ],
      "text/plain": [
       "<IPython.core.display.HTML object>"
      ]
     },
     "metadata": {},
     "output_type": "display_data"
    },
    {
     "data": {
      "text/html": [
       "<span class=\"tex2jax_ignore\"><div class=\"entities\" style=\"line-height: 2.5; direction: ltr\">4+ years of \n",
       "<mark class=\"entity\" style=\"background: pink; padding: 0.45em 0.6em; margin: 0 0.25em; line-height: 1; border-radius: 0.35em;\">\n",
       "    experience\n",
       "    <span style=\"font-size: 0.8em; font-weight: bold; line-height: 1; border-radius: 0.35em; vertical-align: middle; margin-left: 0.5rem\">MISSING</span>\n",
       "</mark>\n",
       " in implementing data ingestion workflows via streaming or batch data pipelines\r</br>Experience in implementing and using RESTful APIs for an API-first application architecture\r</br>Expertise in Elastic search queries and aggregations.\r</br></div></span>"
      ],
      "text/plain": [
       "<IPython.core.display.HTML object>"
      ]
     },
     "metadata": {},
     "output_type": "display_data"
    },
    {
     "data": {
      "text/html": [
       "<span class=\"tex2jax_ignore\"><div class=\"entities\" style=\"line-height: 2.5; direction: ltr\">\n",
       "<mark class=\"entity\" style=\"background: pink; padding: 0.45em 0.6em; margin: 0 0.25em; line-height: 1; border-radius: 0.35em;\">\n",
       "    Experience\n",
       "    <span style=\"font-size: 0.8em; font-weight: bold; line-height: 1; border-radius: 0.35em; vertical-align: middle; margin-left: 0.5rem\">MISSING</span>\n",
       "</mark>\n",
       " with AWS cloud services: EC2, EMR, EKS, Athena.\r</br>\r</br>\r</br></div></span>"
      ],
      "text/plain": [
       "<IPython.core.display.HTML object>"
      ]
     },
     "metadata": {},
     "output_type": "display_data"
    },
    {
     "data": {
      "text/html": [
       "<span class=\"tex2jax_ignore\"><div class=\"entities\" style=\"line-height: 2.5; direction: ltr\">\n",
       "<mark class=\"entity\" style=\"background: pink; padding: 0.45em 0.6em; margin: 0 0.25em; line-height: 1; border-radius: 0.35em;\">\n",
       "    Experience\n",
       "    <span style=\"font-size: 0.8em; font-weight: bold; line-height: 1; border-radius: 0.35em; vertical-align: middle; margin-left: 0.5rem\">MISSING</span>\n",
       "</mark>\n",
       " in building large scale data lifecycle management solutions in Identity &amp; Access management domain.\r</br></div></span>"
      ],
      "text/plain": [
       "<IPython.core.display.HTML object>"
      ]
     },
     "metadata": {},
     "output_type": "display_data"
    },
    {
     "data": {
      "text/html": [
       "<span class=\"tex2jax_ignore\"><div class=\"entities\" style=\"line-height: 2.5; direction: ltr\">\n",
       "<mark class=\"entity\" style=\"background: pink; padding: 0.45em 0.6em; margin: 0 0.25em; line-height: 1; border-radius: 0.35em;\">\n",
       "    Experience\n",
       "    <span style=\"font-size: 0.8em; font-weight: bold; line-height: 1; border-radius: 0.35em; vertical-align: middle; margin-left: 0.5rem\">MISSING</span>\n",
       "</mark>\n",
       " in building data models with large data sets.\r</br></div></span>"
      ],
      "text/plain": [
       "<IPython.core.display.HTML object>"
      ]
     },
     "metadata": {},
     "output_type": "display_data"
    },
    {
     "data": {
      "text/html": [
       "<span class=\"tex2jax_ignore\"><div class=\"entities\" style=\"line-height: 2.5; direction: ltr\">7+ years of \n",
       "<mark class=\"entity\" style=\"background: lightgreen; padding: 0.45em 0.6em; margin: 0 0.25em; line-height: 1; border-radius: 0.35em;\">\n",
       "    Product Management or Technical Program Management\n",
       "    <span style=\"font-size: 0.8em; font-weight: bold; line-height: 1; border-radius: 0.35em; vertical-align: middle; margin-left: 0.5rem\">EXPERIENCE</span>\n",
       "</mark>\n",
       " experience in a related industry</br>Bachelor's degree in Engineering, Computer Science or related technical field OR additional years of experience in \n",
       "<mark class=\"entity\" style=\"background: lightgreen; padding: 0.45em 0.6em; margin: 0 0.25em; line-height: 1; border-radius: 0.35em;\">\n",
       "    related field\n",
       "\n",
       "    <span style=\"font-size: 0.8em; font-weight: bold; line-height: 1; border-radius: 0.35em; vertical-align: middle; margin-left: 0.5rem\">EXPERIENCE</span>\n",
       "</mark>\n",
       "Experience in stakeholder management and working with engineering teams</br>Ability to present business products and demonstrate integration and use benefits.</br></div></span>"
      ],
      "text/plain": [
       "<IPython.core.display.HTML object>"
      ]
     },
     "metadata": {},
     "output_type": "display_data"
    },
    {
     "data": {
      "text/html": [
       "<span class=\"tex2jax_ignore\"><div class=\"entities\" style=\"line-height: 2.5; direction: ltr\">Understanding of the software development lifecycle (SDLC)</br>Demonstrated written and verbal communication skills and ability to present in \n",
       "<mark class=\"entity\" style=\"background: lightgreen; padding: 0.45em 0.6em; margin: 0 0.25em; line-height: 1; border-radius: 0.35em;\">\n",
       "    large groups\n",
       "\n",
       "    <span style=\"font-size: 0.8em; font-weight: bold; line-height: 1; border-radius: 0.35em; vertical-align: middle; margin-left: 0.5rem\">EXPERIENCE</span>\n",
       "</mark>\n",
       "Experience with managing large cross-functional projects</br>Significant technical depth and understanding of distributed systems and engineering best practices</br></br>Job summary </div></span>"
      ],
      "text/plain": [
       "<IPython.core.display.HTML object>"
      ]
     },
     "metadata": {},
     "output_type": "display_data"
    },
    {
     "data": {
      "text/html": [
       "<span class=\"tex2jax_ignore\"><div class=\"entities\" style=\"line-height: 2.5; direction: ltr\">Successful candidates for this position must have a strong product management background and demonstrated \n",
       "<mark class=\"entity\" style=\"background: pink; padding: 0.45em 0.6em; margin: 0 0.25em; line-height: 1; border-radius: 0.35em;\">\n",
       "    experience\n",
       "    <span style=\"font-size: 0.8em; font-weight: bold; line-height: 1; border-radius: 0.35em; vertical-align: middle; margin-left: 0.5rem\">MISSING</span>\n",
       "</mark>\n",
       " leading medium to large projects. </div></span>"
      ],
      "text/plain": [
       "<IPython.core.display.HTML object>"
      ]
     },
     "metadata": {},
     "output_type": "display_data"
    },
    {
     "data": {
      "text/html": [
       "<span class=\"tex2jax_ignore\"><div class=\"entities\" style=\"line-height: 2.5; direction: ltr\">Responsibilities:\r</br>\r</br>The Identity &amp; Access Management Engineer (Remote) will be responsible for:\r</br>\r</br>Lead development and maintenance of the core identity platforms\r</br>Build a team that will succeed in a fast-paced scaled agile environment and meet the needs of customers and business partners\r</br>Collaborates with the Architecture, Service Development, and Application Development teams in the building of access controls for interactive user logins as well as security application to application communications\r</br>Sustain a highly available and resilient identity platform through the application of modern technology service management principles\r</br>Support development of strategy, vision and roadmap implementation of authentication, authorization, and identity governance controls\r</br>Develop strong working relationships with other leaders in the information technology organization by providing continuous assistance and thought leadership\r</br>Establish and maintains relationships with suppliers and business partners in the IAM industry\r</br>Educate, coaches, and mentors a team on technical, company policy &amp; procedures, and other topics\r</br>Establish and maintain access controls for company Azure and GCP platforms\r</br>\r</br>Qualifications:\r</br>\r</br>5+ years of \n",
       "<mark class=\"entity\" style=\"background: pink; padding: 0.45em 0.6em; margin: 0 0.25em; line-height: 1; border-radius: 0.35em;\">\n",
       "    experience\n",
       "    <span style=\"font-size: 0.8em; font-weight: bold; line-height: 1; border-radius: 0.35em; vertical-align: middle; margin-left: 0.5rem\">MISSING</span>\n",
       "</mark>\n",
       " managing Cybersecurity professionals\r</br>Bachelor's Degree\r</br>CISSP, Azure or GCP certifications, or similar industry recognized certification\r</br>Strong knowledge of Networks, Linux systems, Windows systems, web applications, and scripting languages\r</br>Strong knowledge of Microsoft Azure, Google Cloud Platform, or other cloud frameworks\r</br>Must be able to demonstrate access control implementation in GCP and Azure\r</br>Knowledge of Active Directory, </div></span>"
      ],
      "text/plain": [
       "<IPython.core.display.HTML object>"
      ]
     },
     "metadata": {},
     "output_type": "display_data"
    }
   ],
   "source": [
    "def extract_noun_phrase_experience(doc):\n",
    "    for np in doc.noun_chunks:\n",
    "        if np[-1].lower_ == 'experience':\n",
    "            if len(np) > 1:\n",
    "                yield 'EXPERIENCE', np[0].i, np[-1].i\n",
    "\n",
    "show_extraction(examples, extract_noun_phrase_experience)\n",
    "\n",
    "show_extraction(ads[:10], extract_noun_phrase_experience)"
   ]
  },
  {
   "cell_type": "code",
   "execution_count": 35,
   "metadata": {},
   "outputs": [
    {
     "data": {
      "text/plain": [
       "'\\\\b(?:previous|prior|following|recent|the above|past|proven|demonstrable|demonstrated|relevant|significant|practical|essential|equivalent|desirable|required|considerable|similar|working|specific|qualified|direct|hands on|handson|strong|solid|good|substantial|excellent|the right|valuable|invaluable|some|any|none|much|extensive|no|more|your|their|years|months|uk)\\\\b'"
      ]
     },
     "execution_count": 35,
     "metadata": {},
     "output_type": "execute_result"
    }
   ],
   "source": [
    "showent_df(ent_df.query(\"text=='Skills'\").head(5))\n",
    "\n",
    "experience_qualifiers = ['previous', 'prior', 'following', 'recent', 'the above', 'past',\n",
    "                         \n",
    "                         'proven', 'demonstrable', 'demonstrated', 'relevant', 'significant', 'practical',\n",
    "                         'essential', 'equivalent', 'desirable', 'required', 'considerable', 'similar',\n",
    "                         'working', 'specific', 'qualified', 'direct', 'hands on', 'handson', \n",
    "                         \n",
    "                         'strong', 'solid', 'good', 'substantial', 'excellent', 'the right', 'valuable', 'invaluable',\n",
    "                         \n",
    "                         'some', 'any', 'none', 'much', 'extensive', 'no', 'more',\n",
    "                         'your', 'their',\n",
    "                         'years', 'months',\n",
    "                         'uk',\n",
    "                        ]\n",
    "\n",
    "stopwords = ['a', 'an', '*', '**', '•', 'this', 'the', ':', 'Skills']\n",
    "\n",
    "experience_qualifier_pattern = rf'\\b(?:{\"|\".join(experience_qualifiers)})\\b'\n",
    "\n",
    "experience_qualifier_pattern"
   ]
  },
  {
   "cell_type": "code",
   "execution_count": 36,
   "metadata": {},
   "outputs": [
    {
     "ename": "KeyError",
     "evalue": "\"Column(s) ['Company', 'Id', 'SourceName'] do not exist\"",
     "output_type": "error",
     "traceback": [
      "\u001b[0;31m---------------------------------------------------------------------------\u001b[0m",
      "\u001b[0;31mKeyError\u001b[0m                                  Traceback (most recent call last)",
      "Cell \u001b[0;32mIn [36], line 1\u001b[0m\n\u001b[0;32m----> 1\u001b[0m aggregate_df(ent_df[(\u001b[39m~\u001b[39;49ment_df\u001b[39m.\u001b[39;49mtext\u001b[39m.\u001b[39;49mstr\u001b[39m.\u001b[39;49mlower()\u001b[39m.\u001b[39;49mstr\u001b[39m.\u001b[39;49mcontains(experience_qualifier_pattern)) \u001b[39m&\u001b[39;49m \u001b[39m# Not a qualifier\u001b[39;49;00m\n\u001b[1;32m      2\u001b[0m                      \u001b[39m~\u001b[39;49ment_df\u001b[39m.\u001b[39;49mtext\u001b[39m.\u001b[39;49misin(stopwords)])\u001b[39m.\u001b[39mhead(\u001b[39m50\u001b[39m)\n",
      "Cell \u001b[0;32mIn [26], line 2\u001b[0m, in \u001b[0;36maggregate_df\u001b[0;34m(df, col)\u001b[0m\n\u001b[1;32m      1\u001b[0m \u001b[39mdef\u001b[39;00m \u001b[39maggregate_df\u001b[39m(df, col\u001b[39m=\u001b[39m[\u001b[39m'\u001b[39m\u001b[39mtext\u001b[39m\u001b[39m'\u001b[39m]):\n\u001b[0;32m----> 2\u001b[0m     \u001b[39mreturn\u001b[39;00m (df\n\u001b[1;32m      3\u001b[0m             \u001b[39m.\u001b[39;49mgroupby(col)\n\u001b[1;32m      4\u001b[0m             \u001b[39m.\u001b[39;49magg(n_company\u001b[39m=\u001b[39;49m(\u001b[39m'\u001b[39;49m\u001b[39mCompany\u001b[39;49m\u001b[39m'\u001b[39;49m, \u001b[39m'\u001b[39;49m\u001b[39mnunique\u001b[39;49m\u001b[39m'\u001b[39;49m),\n\u001b[1;32m      5\u001b[0m                  n_ad\u001b[39m=\u001b[39;49m(\u001b[39m'\u001b[39;49m\u001b[39mId\u001b[39;49m\u001b[39m'\u001b[39;49m, \u001b[39m'\u001b[39;49m\u001b[39mnunique\u001b[39;49m\u001b[39m'\u001b[39;49m),\n\u001b[1;32m      6\u001b[0m                  n_source\u001b[39m=\u001b[39;49m(\u001b[39m'\u001b[39;49m\u001b[39mSourceName\u001b[39;49m\u001b[39m'\u001b[39;49m, \u001b[39m'\u001b[39;49m\u001b[39mnunique\u001b[39;49m\u001b[39m'\u001b[39;49m),\n\u001b[1;32m      7\u001b[0m                  n\u001b[39m=\u001b[39;49m(\u001b[39m'\u001b[39;49m\u001b[39mId\u001b[39;49m\u001b[39m'\u001b[39;49m, \u001b[39m'\u001b[39;49m\u001b[39mcount\u001b[39;49m\u001b[39m'\u001b[39;49m))\n\u001b[1;32m      8\u001b[0m             \u001b[39m.\u001b[39mreset_index()\n\u001b[1;32m      9\u001b[0m             \u001b[39m.\u001b[39msort_values([\u001b[39m'\u001b[39m\u001b[39mn_company\u001b[39m\u001b[39m'\u001b[39m, \u001b[39m'\u001b[39m\u001b[39mn_ad\u001b[39m\u001b[39m'\u001b[39m, \u001b[39m'\u001b[39m\u001b[39mn\u001b[39m\u001b[39m'\u001b[39m], ascending\u001b[39m=\u001b[39m\u001b[39mFalse\u001b[39;00m)\n\u001b[1;32m     10\u001b[0m         )\n",
      "File \u001b[0;32m~/Library/Python/3.8/lib/python/site-packages/pandas/core/groupby/generic.py:894\u001b[0m, in \u001b[0;36mDataFrameGroupBy.aggregate\u001b[0;34m(self, func, engine, engine_kwargs, *args, **kwargs)\u001b[0m\n\u001b[1;32m    891\u001b[0m func \u001b[39m=\u001b[39m maybe_mangle_lambdas(func)\n\u001b[1;32m    893\u001b[0m op \u001b[39m=\u001b[39m GroupByApply(\u001b[39mself\u001b[39m, func, args, kwargs)\n\u001b[0;32m--> 894\u001b[0m result \u001b[39m=\u001b[39m op\u001b[39m.\u001b[39;49magg()\n\u001b[1;32m    895\u001b[0m \u001b[39mif\u001b[39;00m \u001b[39mnot\u001b[39;00m is_dict_like(func) \u001b[39mand\u001b[39;00m result \u001b[39mis\u001b[39;00m \u001b[39mnot\u001b[39;00m \u001b[39mNone\u001b[39;00m:\n\u001b[1;32m    896\u001b[0m     \u001b[39mreturn\u001b[39;00m result\n",
      "File \u001b[0;32m~/Library/Python/3.8/lib/python/site-packages/pandas/core/apply.py:169\u001b[0m, in \u001b[0;36mApply.agg\u001b[0;34m(self)\u001b[0m\n\u001b[1;32m    166\u001b[0m     \u001b[39mreturn\u001b[39;00m \u001b[39mself\u001b[39m\u001b[39m.\u001b[39mapply_str()\n\u001b[1;32m    168\u001b[0m \u001b[39mif\u001b[39;00m is_dict_like(arg):\n\u001b[0;32m--> 169\u001b[0m     \u001b[39mreturn\u001b[39;00m \u001b[39mself\u001b[39;49m\u001b[39m.\u001b[39;49magg_dict_like()\n\u001b[1;32m    170\u001b[0m \u001b[39melif\u001b[39;00m is_list_like(arg):\n\u001b[1;32m    171\u001b[0m     \u001b[39m# we require a list, but not a 'str'\u001b[39;00m\n\u001b[1;32m    172\u001b[0m     \u001b[39mreturn\u001b[39;00m \u001b[39mself\u001b[39m\u001b[39m.\u001b[39magg_list_like()\n",
      "File \u001b[0;32m~/Library/Python/3.8/lib/python/site-packages/pandas/core/apply.py:478\u001b[0m, in \u001b[0;36mApply.agg_dict_like\u001b[0;34m(self)\u001b[0m\n\u001b[1;32m    475\u001b[0m     selected_obj \u001b[39m=\u001b[39m obj\u001b[39m.\u001b[39m_selected_obj\n\u001b[1;32m    476\u001b[0m     selection \u001b[39m=\u001b[39m obj\u001b[39m.\u001b[39m_selection\n\u001b[0;32m--> 478\u001b[0m arg \u001b[39m=\u001b[39m \u001b[39mself\u001b[39;49m\u001b[39m.\u001b[39;49mnormalize_dictlike_arg(\u001b[39m\"\u001b[39;49m\u001b[39magg\u001b[39;49m\u001b[39m\"\u001b[39;49m, selected_obj, arg)\n\u001b[1;32m    480\u001b[0m \u001b[39mif\u001b[39;00m selected_obj\u001b[39m.\u001b[39mndim \u001b[39m==\u001b[39m \u001b[39m1\u001b[39m:\n\u001b[1;32m    481\u001b[0m     \u001b[39m# key only used for output\u001b[39;00m\n\u001b[1;32m    482\u001b[0m     colg \u001b[39m=\u001b[39m obj\u001b[39m.\u001b[39m_gotitem(selection, ndim\u001b[39m=\u001b[39m\u001b[39m1\u001b[39m)\n",
      "File \u001b[0;32m~/Library/Python/3.8/lib/python/site-packages/pandas/core/apply.py:601\u001b[0m, in \u001b[0;36mApply.normalize_dictlike_arg\u001b[0;34m(self, how, obj, func)\u001b[0m\n\u001b[1;32m    599\u001b[0m     \u001b[39mif\u001b[39;00m \u001b[39mlen\u001b[39m(cols) \u001b[39m>\u001b[39m \u001b[39m0\u001b[39m:\n\u001b[1;32m    600\u001b[0m         cols_sorted \u001b[39m=\u001b[39m \u001b[39mlist\u001b[39m(safe_sort(\u001b[39mlist\u001b[39m(cols)))\n\u001b[0;32m--> 601\u001b[0m         \u001b[39mraise\u001b[39;00m \u001b[39mKeyError\u001b[39;00m(\u001b[39mf\u001b[39m\u001b[39m\"\u001b[39m\u001b[39mColumn(s) \u001b[39m\u001b[39m{\u001b[39;00mcols_sorted\u001b[39m}\u001b[39;00m\u001b[39m do not exist\u001b[39m\u001b[39m\"\u001b[39m)\n\u001b[1;32m    603\u001b[0m aggregator_types \u001b[39m=\u001b[39m (\u001b[39mlist\u001b[39m, \u001b[39mtuple\u001b[39m, \u001b[39mdict\u001b[39m)\n\u001b[1;32m    605\u001b[0m \u001b[39m# if we have a dict of any non-scalars\u001b[39;00m\n\u001b[1;32m    606\u001b[0m \u001b[39m# eg. {'A' : ['mean']}, normalize all to\u001b[39;00m\n\u001b[1;32m    607\u001b[0m \u001b[39m# be list-likes\u001b[39;00m\n\u001b[1;32m    608\u001b[0m \u001b[39m# Cannot use func.values() because arg may be a Series\u001b[39;00m\n",
      "\u001b[0;31mKeyError\u001b[0m: \"Column(s) ['Company', 'Id', 'SourceName'] do not exist\""
     ]
    }
   ],
   "source": []
  }
 ],
 "metadata": {
  "kernelspec": {
   "display_name": "Python 3",
   "language": "python",
   "name": "python3"
  },
  "language_info": {
   "codemirror_mode": {
    "name": "ipython",
    "version": 3
   },
   "file_extension": ".py",
   "mimetype": "text/x-python",
   "name": "python",
   "nbconvert_exporter": "python",
   "pygments_lexer": "ipython3",
   "version": "3.8.2 (default, Aug 25 2020, 09:23:57) \n[Clang 12.0.0 (clang-1200.0.32.2)]"
  },
  "orig_nbformat": 4,
  "vscode": {
   "interpreter": {
    "hash": "31f2aee4e71d21fbe5cf8b01ff0e069b9275f58929596ceb00d14d90e3e16cd6"
   }
  }
 },
 "nbformat": 4,
 "nbformat_minor": 2
}
