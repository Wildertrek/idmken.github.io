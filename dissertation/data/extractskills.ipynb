{
 "cells": [
  {
   "cell_type": "markdown",
   "metadata": {},
   "source": [
    "https://www.kaggle.com/code/sanabdriss/nlp-extract-skills-from-job-Job_descriptions\n",
    "\n",
    "This project consists of finding a correlation between job descriptions and skills."
   ]
  },
  {
   "cell_type": "code",
   "execution_count": null,
   "metadata": {},
   "outputs": [],
   "source": [
    "# pip install numpy pandas sklearn wordcloud textblob"
   ]
  },
  {
   "cell_type": "code",
   "execution_count": null,
   "metadata": {},
   "outputs": [],
   "source": [
    "import numpy as np # linear algebra\n",
    "import pandas as pd # data processing, json file I/O (e.g. pd.read_json)\n",
    "import string\n",
    "import nltk\n",
    "from nltk.corpus import stopwords\n",
    "from sklearn.naive_bayes import MultinomialNB\n",
    "from sklearn.feature_extraction.text import TfidfVectorizer\n",
    "from sklearn.model_selection import train_test_split\n",
    "from sklearn.metrics import accuracy_score, classification_report, confusion_matrix\n",
    "from wordcloud import WordCloud\n",
    "\n",
    "import matplotlib.pyplot as plt\n",
    "%matplotlib inline\n",
    "from textblob import Word\n",
    "\n",
    "import os\n",
    "for dirname, _, filenames in os.walk('/input/'):\n",
    "    for filename in filenames:\n",
    "        print(os.path.join(dirname, filename))"
   ]
  },
  {
   "cell_type": "code",
   "execution_count": null,
   "metadata": {},
   "outputs": [],
   "source": [
    "test = pd.read_json('samplejobdata.json')\n",
    "## Delete empty rows (In case I missed parsing a row)\n",
    "test = test.dropna()\n",
    "print(\"\\n ** raw data **\\n\")\n",
    "print(test.head())\n",
    "print(\"\\n ** data shape **\\n\")\n",
    "print(test.shape)"
   ]
  },
  {
   "cell_type": "markdown",
   "metadata": {},
   "source": [
    "There are 390 jobs across 10 columns of data."
   ]
  },
  {
   "cell_type": "code",
   "execution_count": 55,
   "metadata": {},
   "outputs": [
    {
     "data": {
      "text/plain": [
       "<AxesSubplot: >"
      ]
     },
     "execution_count": 55,
     "metadata": {},
     "output_type": "execute_result"
    },
    {
     "data": {
      "image/png": "[encoded data removed]",
      "text/plain": [
       "<Figure size 800x400 with 1 Axes>"
      ]
     },
     "metadata": {},
     "output_type": "display_data"
    }
   ],
   "source": [
    "fig=plt.figure(figsize=(10, 5), dpi= 80, facecolor='w', edgecolor='k')\n",
    "test.job_title.hist()"
   ]
  },
  {
   "cell_type": "markdown",
   "metadata": {},
   "source": [
    "Preprocess text data\n",
    "Since the data we're now working with is at its rawest form, we need to preprocess it before extracting information from it.\n",
    "\n",
    "in this step, we will:\n",
    "\n",
    "Convert all text to lower cases\n",
    "Delete all tabulation,spaces, and new lines\n",
    "Delete all numericals\n",
    "Delete nltk's defined stop words\n",
    "Lemmatize text"
   ]
  },
  {
   "cell_type": "code",
   "execution_count": null,
   "metadata": {},
   "outputs": [],
   "source": [
    "## Lower case\n",
    "test['description'] = test['description'].apply(lambda x: \" \".join(x.lower()for x in x.split()))\n",
    "## remove tabulation and punctuation\n",
    "test['description'] = test['description'].str.replace('[^\\w\\s]',' ')\n",
    "## digits\n",
    "test['description'] = test['description'].str.replace('\\d+', '')\n",
    "\n",
    "#remove stop words\n",
    "stop = stopwords.words('english')\n",
    "other_stop_words = ['junior', 'senior','experience','etc','job','work','company','technique',\n",
    "                    'candidate','skill','skills','language','menu','inc','new','plus','years',\n",
    "                   'technology','organization','ceo','cto','account','manager','data','scientist','mobile',\n",
    "                    'developer','product','revenue','strong']\n",
    "\n",
    "test['description'] = test['description'].apply(lambda x: \" \".join(x for x in x.split() if x not in other_stop_words))\n",
    "\n",
    "## lemmatization\n",
    "test['description'] = test['description'].apply(lambda x: \" \".join([Word(word).lemmatize() for word in x.split()]))\n",
    "\n",
    "print(\"Preprocessed data: \\n\")\n",
    "print(test.head())\n"
   ]
  },
  {
   "cell_type": "markdown",
   "metadata": {},
   "source": [
    "Visualize data\n",
    "In this step, we will aggregate our data by job titles in order to visualy detect the most frequent words for each job."
   ]
  },
  {
   "cell_type": "code",
   "execution_count": null,
   "metadata": {},
   "outputs": [],
   "source": [
    "## jda stands for job description aggregated\n",
    "jda = test.groupby(['job_title']).sum().reset_index()\n",
    "print(\"Aggregated job descriptions: \\n\")\n",
    "print(jda)"
   ]
  },
  {
   "cell_type": "code",
   "execution_count": null,
   "metadata": {},
   "outputs": [],
   "source": [
    "## Visualize data\n",
    "jobs_list = jda.job_title.unique().tolist()\n",
    "for job in jobs_list:\n",
    "\n",
    "    # Start with one review:\n",
    "    text = jda[jda.job_title == job].iloc[0].description\n",
    "    # Create and generate a word cloud image:\n",
    "    wordcloud = WordCloud().generate(text)\n",
    "    print(\"\\n***\",job,\"***\\n\")\n",
    "    # Display the generated image:\n",
    "    plt.imshow(wordcloud, interpolation='bilinear')\n",
    "    plt.axis(\"off\")\n",
    "    plt.show()\n"
   ]
  },
  {
   "cell_type": "code",
   "execution_count": null,
   "metadata": {},
   "outputs": [],
   "source": [
    "# remove other stop words\n",
    "\n",
    "other_stop_words = ['junior', 'senior','experience','etc','job','work','company','technique',\n",
    "                    'candidate','skill','skills','language','menu','inc','new','plus','years',\n",
    "                   'technology','organization','ceo','cto','account','manager','data','scientist','mobile',\n",
    "                    'developer','product','revenue','strong']\n",
    "\n",
    "test['description'] = test['description'].apply(lambda x: \" \".join(x for x in x.split() if x not in other_stop_words))"
   ]
  },
  {
   "cell_type": "markdown",
   "metadata": {},
   "source": [
    "We are now going to translate this skill-extraction problem into a classification one first. And then extract the most important features from each class.\n",
    "\n",
    "The most important features, in this case, represent the words that most likely will belong to a class ( in our case job title)\n",
    "\n",
    "I chose for this exercise to train the naive bayes algorithm."
   ]
  },
  {
   "cell_type": "code",
   "execution_count": null,
   "metadata": {},
   "outputs": [],
   "source": [
    "## Converting text to features \n",
    "vectorizer = TfidfVectorizer()\n",
    "#Tokenize and build vocabulary\n",
    "X = vectorizer.fit_transform(test.description)\n",
    "y = test.job_title\n",
    "\n",
    "# split data into 80% training and 20% test\n",
    "X_train, X_test, y_train, y_test = train_test_split(X, y, test_size=0.2,random_state=109) \n",
    "print(\"train data shape: \",X_train.shape)\n",
    "print(\"test data shape: \",X_test.shape)\n",
    "\n",
    "# Fit model\n",
    "clf = MultinomialNB()\n",
    "clf.fit(X_train, y_train)\n",
    "## Predict\n",
    "y_predicted = clf.predict(X_test)"
   ]
  },
  {
   "cell_type": "code",
   "execution_count": null,
   "metadata": {},
   "outputs": [],
   "source": [
    "y_train.hist()\n",
    "y_test.hist()"
   ]
  },
  {
   "cell_type": "code",
   "execution_count": null,
   "metadata": {},
   "outputs": [],
   "source": [
    "#evaluate the predictions\n",
    "print(\"Accuracy score is: \",accuracy_score(y_test, y_predicted))\n",
    "print(\"Classes: (to help read Confusion Matrix)\\n\", clf.classes_)\n",
    "print(\"Confusion Matrix: \")\n",
    "\n",
    "print(confusion_matrix(y_test, y_predicted))\n",
    "print(\"Classification Report: \")\n",
    "print(classification_report(y_test, y_predicted))"
   ]
  },
  {
   "cell_type": "markdown",
   "metadata": {},
   "source": [
    "At this step, we have for each class/job a list of the most representative words/tokens found in job descriptions.\n",
    "\n",
    "Let's shrink this list of words to only:\n",
    "\n",
    "6 technical skills\n",
    "6 adjectives\n",
    "To do so, we use the library TextBlob to identify adjectives.\n",
    "\n",
    "Also, given a (non-exhaustive) list of programming languages, we can extract the top technical skills."
   ]
  },
  {
   "cell_type": "code",
   "execution_count": 53,
   "metadata": {},
   "outputs": [
    {
     "name": "stdout",
     "output_type": "stream",
     "text": [
      "             serviceArea                                            keyword\n",
      "0    identity management  [directory, virtual directory, radiant logic, ...\n",
      "1  credential management  [entrust, venafi, one time pin, FIDO, pki, enr...\n",
      "2      access management  [okta, ping, azure active directory, AAD, sing...\n",
      "3   privilege management  [privileged access management, pam, cyberark, ...\n",
      "4             federation  [policy alignment, authentication broker, attr...\n",
      "\n",
      "**** identity access management developer ****\n",
      "\n",
      "list of unprocessed skills :\n",
      "['and' 'to' 'of' 'the' 'career' 'you' 'for' 'requirement' 'in' 'level'\n",
      " 'identity' 'is' 'our' 'team' 'into' 'clearance' 'solution' 'focused'\n",
      " 'looking' 'plan' 'or' 'with' 'are' 'will' 'we' 'that' 'mission' 'be'\n",
      " 'digital' 'pantex' 'cns' 'healthy' 'custom' 'success' 'drug' 'security'\n",
      " 'may' 'applicant' 'associate' 'critical' 'architect' 'personal' 'such'\n",
      " 'their' 'can' 'opportunity' 'development' 'ability' 'an' 'this'\n",
      " 'integration' 'required' 'one' 'minimum' 'part' 'than' 'national'\n",
      " 'balance' 'architecture' 'help' 'if' 'lowest' 'department' 'proven' 'gap'\n",
      " 'material' 'future' 'extended' 'core' 'hrp' 'more' 'other' 'employee'\n",
      " 'at' 'on' 'management' 'benefit' 'implementation' 'need' 'enterprise'\n",
      " 'range' 'education' 'system' 'create' 'leader' 'receive' 'top' 'advance'\n",
      " 'would' 'hired' 'achieve' 'evaluate' 'energy' 'posted' 'make'\n",
      " 'participate' 'current' 'move' 'considered' 'onsite' 'meet'\n",
      " 'authentication' 'without' 'employer' 'listed' 'being' 'medical' 'access'\n",
      " 'design' 'life' 'testing' 'background' 'gender' 'area' 'under'\n",
      " 'workplace' 'factor' 'posting' 'qualified' 'flexible' 'primary'\n",
      " 'professional' 'program' 'status' 'internal' 'all' 'business' 'technical'\n",
      " 'within' 'initiative' 'iam']\n",
      "\n",
      "**** identity access management senior consultant ****\n",
      "\n",
      "list of unprocessed skills :\n",
      "['and' 'to' 'security' 'the' 'lumen' 'for' 'you' 'service' 'of' 'sale'\n",
      " 'consulting' 'in' 'with' 'customer' 'on' 'position' 'that' 'offering'\n",
      " 'productized' 'information' 'we' 'salary' 'based' 'may' 'learn'\n",
      " 'advisory' 'lumentechnologies' 'template' 'range' 'status' 'or' 'is' 'it'\n",
      " 'demonstrate' 'this' 'are' 'team' 'case' 'statement' 'consultant'\n",
      " 'necessary' 'screen' 'networking' 'broad' 'solution' 'be' 'presentation'\n",
      " 'about' 'able' 'current' 'deliver' 'duty' 'other' 'more' 'our' 'by'\n",
      " 'subject' 'national' 'employment' 'help' 'background' 'collaborate'\n",
      " 'designed' 'end' 'collateral' 'productize' 'vary' 'evolving' 'reflects'\n",
      " 'min' 'here' 'propose' 'secure' 'max' 'strategy' 'selection' 'pricing'\n",
      " 'when' 'process' 'ability' 'support' 'role' 'requirement' 'through'\n",
      " 'apply' 'from' 'initiative' 'provide' 'leadership' 'benefit' 'create'\n",
      " 'working' 'willingness' 'integrate' 'can' 'training' 'package' 'person'\n",
      " 'focus' 'term' 'move' 'engagement' 'protected' 'incentive' 'pre'\n",
      " 'comprehensive' 'record' 'an' 'responsibility' 'at' 'pay' 'development'\n",
      " 'additional' 'cloud' 'factor' 'now' 'relevant' 'following' 'base'\n",
      " 'gender' 'certification' 'professional' 'compensation' 'providing'\n",
      " 'eligible' 'qualified' 'agile' 'all' 'business' 'within' 'technical']\n",
      "\n",
      "**** identity access management senior software engineer ****\n",
      "\n",
      "list of unprocessed skills :\n",
      "['capital' 'and' 'one' 'the' 'of' 'to' 'for' 'in' 'you' 'is' 'will' 'at'\n",
      " 'or' 'position' 'engineer' 'please' 'with' 'be' 'that' 'software'\n",
      " 'criminal' 'law' 'iam' 'any' 'location' 'aws' 'york' 'applicable'\n",
      " 'employment' 'time' 'this' 'll' 'state' 'posted' 'information' 'on'\n",
      " 'salary' 'status' 'problem' 'solely' 'amount' 'extent' 'email' 'canada'\n",
      " 'local' 'upon' 'real' 'love' 'richmond' 'typescript' 'solving' 'sr'\n",
      " 'open' 'act' 'article' 'capitalone' 'who' 'inquiry' 'passion' 'city'\n",
      " 'philippine' 'doe' 'not' 'opportunity' 'other' 'customer' 'do' 'provide'\n",
      " 'apply' 'applicant' 'service' 'are' 'solution' 'our' 'your' 'capability'\n",
      " 'united' 'regarding' 'identityiq' 'recruiting' 'fair' 'building' 'tool'\n",
      " 'hired' 'federal' 'accommodation' 'about' 'com' 'an' 'sailpoint' 'least'\n",
      " 'expertise' 'national' 'agile' 'workplace' 'javascript' 'qualified'\n",
      " 'background' 'sql' 'team' 'within' 'by' 'remote' 'platform' 'note' 'role'\n",
      " 'identity' 'have' 'part' 'qualification' 'complex' 'iterative' 'big'\n",
      " 'breaker' 'send' 'sex' 'sponsor' 'several' 'search' 'kept' 'california'\n",
      " 'kingdom' 'site' 'share' 'solve' 'regularly' 'experimenting' 'doer'\n",
      " 'prohibited' 'programming' 'copssc']\n",
      "\n",
      "**** identity and access management analyst ****\n",
      "\n",
      "list of unprocessed skills :\n",
      "['and' 'year' 'preferred' 'co' 'englewood' 'to' 'in' 'analyst' 'is'\n",
      " 'ability' 'or' 'identity' 'coding' 'clientsolv' 'firm' 'small' 'commute'\n",
      " 'relocate' 'with' 'must' 'knowledge' 'onsite' 'active' 'okta' 'database'\n",
      " 'net' 'contract' 'administration' 'of' 'management' 'javascript' 'java'\n",
      " 'powershell' 'sql' 'oracle' 'microsoft' 'location' 'control' 'well'\n",
      " 'from' 'hour' 'access' 'directory' 'one' 'education' 'system' 'required'\n",
      " 'located' 'chef' 'certified' 'month' 'jenkins' 'pf' 'public' 'duration'\n",
      " 'maintaining' 'college' 'owned' 'synchronization' 'uat' 'before'\n",
      " 'continuous' 'university' 'reliably' 'git' 'over' 'wireless'\n",
      " 'combination' 'sector' 'wmbe' 'sized' 'adfs' 'woman' 'starting'\n",
      " 'ideology' 'medium' 'centric' 'operated' 'administrator' 'fortune'\n",
      " 'indfosec' 'pingfederate' 'four' 'call' 'information' 'bachelor' 'be'\n",
      " 'team' 'solution' 'dynamic' 'oral' 'federation' 'government'\n",
      " 'independently' 'federal' 'metric' 'quickly' 'authentication' 'serving'\n",
      " 'external' 'deployment' 'highly' 'managing' 'decade' 'equivalent'\n",
      " 'source' 'no' 'planning' 'organizational' 'while' 'shift' 'code'\n",
      " 'environment' 'an' 'testing' 'task' 'effort' 'audit' 'per' 'linux'\n",
      " 'agile' 'provisioning' 'learn' 'cybersecurity' 'diverse' 'hire'\n",
      " 'description' 'please' 'schedule' 'client' 'customer']\n",
      "\n",
      "**** identity and access management engineer ****\n",
      "\n",
      "list of unprocessed skills :\n",
      "['and' 'to' 'the' 'management' 'leidos' 'of' 'identity' 'access' 'for'\n",
      " 'okta' 'in' 'risk' 'internal' 'system' 'with' 'control' 'platform'\n",
      " 'ability' 'an' 'level' 'responsible' 'making' 'sci' 'defense' 'poly'\n",
      " 'ceso' 'disa' 'idaas' 'at' 'enterprise' 'service' 'business' 'team'\n",
      " 'maintain' 'complex' 'range' 'comprehensive' 'agreement' 'federation'\n",
      " 'considered' 'document' 'identify' 'active' 'ci' 'support' 'or'\n",
      " 'preferred' 'pay' 'partner' 'operation' 'experienced' 'program' 'user'\n",
      " 'description' 'career' 'engineer' 'be' 'technical' 'are' 'solution'\n",
      " 'member' 'computer' 'client' 'well' 'science' 'both' 'you' 'is'\n",
      " 'qualification' 'create' 'knowledge' 'group' 'it' 'include' 'directory'\n",
      " 'your' 'seeking' 'standard' 'world' 'finding' 'extending' 'conops'\n",
      " 'enhancement' 'civil' 'closely' 'ccna' 'continue' 'there' 'noc' 'ce'\n",
      " 'idam' 'situation' 'relation' 'reliable' 'store' 'mitigate' 'communicate'\n",
      " 'safer' 'compartmented' 'lieu' 'escalated' 'numerous' 'resolve'\n",
      " 'flexibility' 'repository' 'saml' 'supported' 'cnd' 'sscp' 'baseline'\n",
      " 'cmbd' 'modify' 'line' 'sense' 'gicsp' 'protocol' 'cysa' 'intelligence'\n",
      " 'upkeep' 'gsmo' 'use' 'idm' 'openid' 'guideline' 'valued' 'add'\n",
      " 'priority' 'install' 'prior' 'principle' 'operating']\n",
      "\n",
      "**** privileged access management manager ****\n",
      "\n",
      "list of unprocessed skills :\n",
      "['and' 'pam' 'to' 'of' 'management' 'project' 'with' 'in' 'for'\n",
      " 'insurance' 'the' 'business' 'develops' 'aperia' 'area' 'assigned'\n",
      " 'technical' 'ha' 'duty' 'preferred' 'development' 'day' 'solution'\n",
      " 'professional' 'plan' 'smes' 'advises' 'cyberark' 'production' 'other'\n",
      " 'staff' 'need' 'iam' 'it' 'time' 'system' 'privileged' 'provides'\n",
      " 'resource' 'requires' 'training' 'or' 'access' 'operational' 'compliance'\n",
      " 'responsible' 'perform' 'activity' 'operation' 'testing' 'problem'\n",
      " 'application' 'impact' 'health' 'leadership' 'implementation' 'contact'\n",
      " 'on' 'minimum' 'salary' 'knowledge' 'offer' 'full' 'principal' 'summary'\n",
      " 'tactic' 'extensive' 'supervises' 'fuel' 'oversee' 'typically' 'ba'\n",
      " 'poster' 'budget' 'daesign' 'prepares' 'bank' 'finance' 'practical'\n",
      " 'defines' 'feasibility' 'specification' 'manages' 'leading' 'criterion'\n",
      " 'assist' 'don' 'directs' 'intensive' 'directive' 'sdlc' 'complexity'\n",
      " 'recruiter' 'allocating' 'performs' 'met' 'scheduling' 'intended' 'align'\n",
      " 'hardware' 'direction' 'resolving' 'advice' 'parental' 'moderate'\n",
      " 'directing' 'ensures' 'common' 'roadmaps' 'direct' 'administers'\n",
      " 'roadmap' 'measure' 'industry' 'concerning' 'verifies' 'computing'\n",
      " 'unsolicited' 'great' 'hosting' 'anticipates' 'supervisor' 'acceptance'\n",
      " 'payment' 'instructs' 'permanent' 'installation' 'analyzes' 'rapid'\n",
      " 'matching' 'continues']\n"
     ]
    },
    {
     "name": "stderr",
     "output_type": "stream",
     "text": [
      "/Users/kenmye/Library/Python/3.8/lib/python/site-packages/sklearn/utils/deprecation.py:87: FutureWarning: Function get_feature_names is deprecated; get_feature_names is deprecated in 1.0 and will be removed in 1.2. Please use get_feature_names_out instead.\n",
      "  warnings.warn(msg, category=FutureWarning)\n",
      "/var/folders/1q/13518n1s1n75fzdx64wlyz5w0000gn/T/ipykernel_23580/738035662.py:38: FutureWarning: The frame.append method is deprecated and will be removed from pandas in a future version. Use pandas.concat instead.\n",
      "  output = output.append({'job_title':clf.classes_[i],\n",
      "/var/folders/1q/13518n1s1n75fzdx64wlyz5w0000gn/T/ipykernel_23580/738035662.py:38: FutureWarning: The frame.append method is deprecated and will be removed from pandas in a future version. Use pandas.concat instead.\n",
      "  output = output.append({'job_title':clf.classes_[i],\n",
      "/var/folders/1q/13518n1s1n75fzdx64wlyz5w0000gn/T/ipykernel_23580/738035662.py:38: FutureWarning: The frame.append method is deprecated and will be removed from pandas in a future version. Use pandas.concat instead.\n",
      "  output = output.append({'job_title':clf.classes_[i],\n",
      "/var/folders/1q/13518n1s1n75fzdx64wlyz5w0000gn/T/ipykernel_23580/738035662.py:38: FutureWarning: The frame.append method is deprecated and will be removed from pandas in a future version. Use pandas.concat instead.\n",
      "  output = output.append({'job_title':clf.classes_[i],\n",
      "/var/folders/1q/13518n1s1n75fzdx64wlyz5w0000gn/T/ipykernel_23580/738035662.py:38: FutureWarning: The frame.append method is deprecated and will be removed from pandas in a future version. Use pandas.concat instead.\n",
      "  output = output.append({'job_title':clf.classes_[i],\n",
      "/var/folders/1q/13518n1s1n75fzdx64wlyz5w0000gn/T/ipykernel_23580/738035662.py:38: FutureWarning: The frame.append method is deprecated and will be removed from pandas in a future version. Use pandas.concat instead.\n",
      "  output = output.append({'job_title':clf.classes_[i],\n"
     ]
    }
   ],
   "source": [
    "from textblob import TextBlob\n",
    "# technical_skills = ['python', 'c','r', 'c++','java','hadoop','scala','flask','pandas','spark','scikit-learn','numpy','php','sql','mysql','css','mongdb','nltk','fastai' , 'keras', 'pytorch','tensorflow','linux','Ruby','JavaScript','django','react','reactjs','ai','ui','tableau']\n",
    "technical_skills = pd.read_json('dictionary.json')\n",
    "print(technical_skills)\n",
    "feature_array = vectorizer.get_feature_names()\n",
    "# number of overall model features\n",
    "features_numbers = len(feature_array)\n",
    "## max sorted features number\n",
    "n_max = int(features_numbers * 0.1)\n",
    "\n",
    "##initialize output dataframe\n",
    "output = pd.DataFrame()\n",
    "for i in range(0,len(clf.classes_)):\n",
    "    print(\"\\n****\" ,clf.classes_[i],\"****\\n\")\n",
    "    class_prob_indices_sorted = clf.feature_log_prob_[i, :].argsort()[::-1]\n",
    "    raw_skills = np.take(feature_array, class_prob_indices_sorted[:n_max])\n",
    "    print(\"list of unprocessed skills :\")\n",
    "    print(raw_skills)\n",
    "    \n",
    "    ## Extract technical skills\n",
    "    top_technical_skills= list(set(technical_skills).intersection(raw_skills))[:6]\n",
    "    #print(\"Top technical skills\",top_technical_skills)\n",
    "    \n",
    "    ## Extract adjectives\n",
    "    \n",
    "    # Delete technical skills from raw skills list\n",
    "    ## At this steps, raw skills list doesnt contain the technical skills\n",
    "    #raw_skills = [x for x in raw_skills if x not in top_technical_skills]\n",
    "    #raw_skills = list(set(raw_skills) - set(top_technical_skills))\n",
    "\n",
    "    # transform list to string\n",
    "    txt = \" \".join(raw_skills)\n",
    "    blob = TextBlob(txt)\n",
    "    #top 6 adjective\n",
    "    top_adjectives = [w for (w, pos) in TextBlob(txt).pos_tags if pos.startswith(\"JJ\")][:6]\n",
    "    #print(\"Top 6 adjectives: \",top_adjectives)\n",
    "    \n",
    "    output = output.append({'job_title':clf.classes_[i],\n",
    "                        'technical_skills':top_technical_skills,\n",
    "                        'soft_skills':top_adjectives },\n",
    "                       ignore_index=True)"
   ]
  },
  {
   "cell_type": "code",
   "execution_count": 54,
   "metadata": {},
   "outputs": [
    {
     "name": "stdout",
     "output_type": "stream",
     "text": [
      "                                                                  0  \\\n",
      "job_title                      identity access management developer   \n",
      "technical_skills                                                 []   \n",
      "soft_skills       [digital, pantex, healthy, associate, critical...   \n",
      "\n",
      "                                                                  1  \\\n",
      "job_title              identity access management senior consultant   \n",
      "technical_skills                                                 []   \n",
      "soft_skills       [productized, advisory, team, necessary, broad...   \n",
      "\n",
      "                                                                  2  \\\n",
      "job_title         identity access management senior software eng...   \n",
      "technical_skills                                                 []   \n",
      "soft_skills       [criminal, applicable, salary, extent, local, ...   \n",
      "\n",
      "                                                                  3  \\\n",
      "job_title                    identity and access management analyst   \n",
      "technical_skills                                                 []   \n",
      "soft_skills       [clientsolv, small, active, okta, sql, microsoft]   \n",
      "\n",
      "                                                                  4  \\\n",
      "job_title                   identity and access management engineer   \n",
      "technical_skills                                                 []   \n",
      "soft_skills       [internal, responsible, sci, complex, comprehe...   \n",
      "\n",
      "                                                                  5  \n",
      "job_title                      privileged access management manager  \n",
      "technical_skills                                                 []  \n",
      "soft_skills       [aperia, technical, professional, other, opera...  \n"
     ]
    }
   ],
   "source": [
    "print(output.T)"
   ]
  }
 ],
 "metadata": {
  "kernelspec": {
   "display_name": "Python 3.8.2 64-bit",
   "language": "python",
   "name": "python3"
  },
  "language_info": {
   "codemirror_mode": {
    "name": "ipython",
    "version": 3
   },
   "file_extension": ".py",
   "mimetype": "text/x-python",
   "name": "python",
   "nbconvert_exporter": "python",
   "pygments_lexer": "ipython3",
   "version": "3.8.2"
  },
  "orig_nbformat": 4,
  "vscode": {
   "interpreter": {
    "hash": "31f2aee4e71d21fbe5cf8b01ff0e069b9275f58929596ceb00d14d90e3e16cd6"
   }
  }
 },
 "nbformat": 4,
 "nbformat_minor": 2
}
