{
 "cells": [
  {
   "cell_type": "markdown",
   "metadata": {},
   "source": [
    "# 1. Import Packages and download latest NLTK Punkt"
   ]
  },
  {
   "cell_type": "code",
   "execution_count": null,
   "metadata": {},
   "outputs": [],
   "source": [
    "import nltk\n",
    "import requests\n",
    "from bs4 import BeautifulSoup\n",
    "from nltk.corpus import stopwords\n",
    "import re\n",
    "\n",
    "nltk.download('punkt')"
   ]
  },
  {
   "cell_type": "markdown",
   "metadata": {},
   "source": [
    "# 2. Load the Data set using Beautiful Soup"
   ]
  },
  {
   "cell_type": "code",
   "execution_count": null,
   "metadata": {},
   "outputs": [],
   "source": [
    "# Load dataset.\n",
    "dataset='https://playbooks.idmanagement.gov/arch/services/'\n",
    "#dataset ='https://playbooks.idmanagement.gov/arch/usecases/'\n",
    "reading=requests.get(dataset)\n",
    "\n",
    "html=reading.text\n",
    "\n",
    "# extract the text using web scraping tool.\n",
    "data=BeautifulSoup(html,\"html5lib\")"
   ]
  },
  {
   "cell_type": "markdown",
   "metadata": {},
   "source": [
    "# 3. Tokenize words"
   ]
  },
  {
   "cell_type": "code",
   "execution_count": null,
   "metadata": {},
   "outputs": [],
   "source": [
    "#Tokenize words.\n",
    "wordtext=data.get_text()\n",
    "token=re.findall('\\w+', wordtext)"
   ]
  },
  {
   "cell_type": "markdown",
   "metadata": {},
   "source": [
    "# 4. Clean dataset with NLTK"
   ]
  },
  {
   "cell_type": "code",
   "execution_count": null,
   "metadata": {},
   "outputs": [],
   "source": [
    "#ETL words into all lowercase.\n",
    "words=[]\n",
    "for word in token:\n",
    "    words.append(word.lower())\n",
    "\n",
    "#Create stopword list.\n",
    "stopword = stopwords.words('english')\n",
    "newStopWords = ['new','doe', 'federal','jane','help','official','person','keywords','based','include','may','examples','description','overview','use','back','top','needs']\n",
    "stopword.extend(newStopWords)\n",
    "\n",
    "#Remove stopwords from tokenized words.\n",
    "words_ne=[]\n",
    "for word in words:\n",
    "    if word not in stopword:\n",
    "        words_ne.append(word)"
   ]
  },
  {
   "cell_type": "markdown",
   "metadata": {},
   "source": [
    "# 5. Create bi-grams and create frequency analysis"
   ]
  },
  {
   "cell_type": "code",
   "execution_count": null,
   "metadata": {},
   "outputs": [],
   "source": [
    "\n",
    "\n",
    "# Create bigrams of tokenized words.\n",
    "bigrams = nltk.bigrams(words_ne)\n",
    "\n",
    "# Create frequency distribution of tokenized words.\n",
    "frequency = nltk.FreqDist(bigrams)\n",
    "\n",
    "#Print key value list of bigrams\n",
    "for key,value in frequency.items():\n",
    "    if value > 2:\n",
    "        print(key, value)"
   ]
  },
  {
   "cell_type": "markdown",
   "metadata": {},
   "source": [
    "# 6. Results with cleaning\n",
    "\n",
    "Removed non-technical combinations.\n",
    "\n",
    "28 Results with more than 2 occurrences:  \n",
    "('identity', 'management') 8  \n",
    "('access', 'management') 8  \n",
    "('identity', 'attributes') 8  \n",
    "('services', 'framework') 7  \n",
    "('credential', 'management') 6  \n",
    "('access', 'requirements') 6  \n",
    "('identity', 'lifecycle') 5  \n",
    "('lifecycle', 'management') 5  \n",
    "('access', 'control') 5  \n",
    "('ficam', 'architecture') 4  \n",
    "('piv', 'enable') 4  \n",
    "('enterprise', 'identity') 4  \n",
    "('grant', 'access') 4  \n",
    "('fine', 'grained') 4  \n",
    "('piv', 'card') 3  \n",
    "('single', 'sign') 3  \n",
    "('digital', 'identity') 3  \n",
    "('identity', 'risk') 3  \n",
    "('digitally', 'sign') 3  \n",
    "('attributes', 'entitlements') 3  \n",
    "('identity', 'record') 3  \n",
    "('identity', 'governance') 3  \n",
    "('identity', 'proofing') 3  \n",
    "('assurance', 'level') 3  \n",
    "('issue', 'credential') 3  \n",
    "('policy', 'administration') 3  \n",
    "('role', 'access') 3  \n",
    "('access', 'email') 3  "
   ]
  }
 ],
 "metadata": {
  "kernelspec": {
   "display_name": "Python 3.8.2 64-bit",
   "language": "python",
   "name": "python3"
  },
  "language_info": {
   "codemirror_mode": {
    "name": "ipython",
    "version": 3
   },
   "file_extension": ".py",
   "mimetype": "text/x-python",
   "name": "python",
   "nbconvert_exporter": "python",
   "pygments_lexer": "ipython3",
   "version": "3.8.2"
  },
  "orig_nbformat": 4,
  "vscode": {
   "interpreter": {
    "hash": "31f2aee4e71d21fbe5cf8b01ff0e069b9275f58929596ceb00d14d90e3e16cd6"
   }
  }
 },
 "nbformat": 4,
 "nbformat_minor": 2
}
