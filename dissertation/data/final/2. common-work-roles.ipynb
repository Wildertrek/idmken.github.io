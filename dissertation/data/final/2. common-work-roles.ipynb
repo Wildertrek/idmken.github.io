{
 "cells": [
  {
   "cell_type": "markdown",
   "metadata": {},
   "source": [
    "# Identify Common Work Roles"
   ]
  },
  {
   "cell_type": "markdown",
   "metadata": {},
   "source": [
    "## 1. Import Packages"
   ]
  },
  {
   "cell_type": "code",
   "execution_count": null,
   "metadata": {},
   "outputs": [],
   "source": [
    "import nltk\n",
    "import requests\n",
    "import numpy as np\n",
    "from pathlib import Path\n",
    "from nltk.corpus import stopwords\n",
    "from nltk import ngrams\n",
    "import re\n",
    "\n",
    "nltk.download('punkt')"
   ]
  },
  {
   "cell_type": "markdown",
   "metadata": {},
   "source": [
    "## 2. Load the Data set"
   ]
  },
  {
   "cell_type": "code",
   "execution_count": null,
   "metadata": {},
   "outputs": [],
   "source": [
    "data = Path('data-job-title.txt').read_text()"
   ]
  },
  {
   "cell_type": "markdown",
   "metadata": {},
   "source": [
    "## 3. Tokenize words"
   ]
  },
  {
   "cell_type": "code",
   "execution_count": null,
   "metadata": {},
   "outputs": [],
   "source": [
    "#Tokenize words.\n",
    "wordtext=data.replace('\\n','')\n",
    "token=re.findall('\\w+', wordtext)"
   ]
  },
  {
   "cell_type": "markdown",
   "metadata": {},
   "source": [
    "## 4. Work Role Analysis - Clean dataset"
   ]
  },
  {
   "cell_type": "code",
   "execution_count": 94,
   "metadata": {},
   "outputs": [],
   "source": [
    "#ETL words into all lowercase.\n",
    "words=[]\n",
    "for word in token:\n",
    "    words.append(word.lower())\n",
    "\n",
    "#print(words)\n",
    "\n",
    "#Create stopword list.\n",
    "stopword = stopwords.words('english')\n",
    "newStopWords =  ['identity', 'access','management','senior','security','azure','data','devops','iam','application','platform','sme','remote','cybersecurity','cloud','product', 'oracle','analytics','home', 'based', 'worker', 'golang','c','multithreading','sr', 'sap', 'grc','engineering','information','front', 'end','technical', 'business','principle', 'global','icrm', 'aml', 'compliance', 'governance', 'integrity','hybrid', 'team','ii','pm','conditional', 'team','privileged','backend', 'software','administration', 'sentinel', 'gbsd', 'staff','3036', '1','cyber', 'services', 'governance', 'resource', 'program','owner', 'storage', 'backup','service', 'operations', 'software','systems','mgmt','mid','iii','idam','ai','customer','site','care','date','ciam','admin','sso','air', 'vehicle', 'configuration', 'design', 'integration','sailpoint', 'iiq', 'applications', 'support','helpdesk', 'l2', 'l3', 'solution','web', 'app', 'manual', 'qa', '100', 'hris','december', '2022', 'may', '2023', 'graduates', 'control','assoc', 'dod', 'level', 'assurance', 'scrum', 'maestro', 'detection', 'sales', 'ml', 'open', 'protection', 'atlantic', 'lms', 'privacy','accesss', 'iga', 'saml', 'center', 'mgt', 'ad', 'role', 'icam', 'tester', 'engagement', 'system', 'secrets', 'needs', 'dlp', 'isd', 'arity', 'eligible', 'co', 'grad', 'strategy', 'digital', 'siteminder', 'trust', 'contractor', 'contract', 'soc', 'ui', 'issues', 'location', 'log', 'transformation', 'prevention', 'learning', 'austin', 'relations', 'college', 'related', 'arlington', 'summer', 'remotely', 'loss', 'na', 'ic', 'ny', 'assistant', 'science', 'health', 'credential', 'reliability', 'logistics', 'audit', 'consumer', 'saviynt', 'op', 'usds', 'option', 'federation', 'part', 'new', 'industry', 'ping', 'temp', 'innovation', 'epic', 'bi', 'vice', 'bis', 'enterprise', 'corporation', 'response', 'h', 'implementation', 'opportunity', 'hr', 'biometric', 'party', 'device', 'endpoint', 'technologies', 'compensation', 'change', 'payroll','basic', 'pasadena', 'third', 'beacon', 'machine', 'environmental', 'authentication', 'discovery', 'midlevel', 'database', 'enablement', 'wa', 'desk', 'infrastructure', 'technology', 'water', 'privilege', 'york', 'provisioning', 'delivery', 'salesforce', 'okta', 'group', 'wastewater', 'subsidiary', 'markets', 'benefits', 'jr', 'volunteer', 'firmware', 'schedule', 'solutions', 'development', 'products', 'marketing','foundational', 'available', 'oversight', 'aws', 'power', 'forgerock', 'virtual', 'duke', 'help', '2', 'risk', 'reporting', 'full', 'pam', 'platforms', 'c13', 'phc', 'exam', 'work', 'bellevue', 'us', 'tech', 'nj', 'cyberark', 'junior', 'back', 'experian', 'experience','fully', 'architecture', 'fraud', 'java', 'berkeley', 'working', 'kubernetes', 'linux', 'intelligence', 'scientist', 'monetization', '70', 'zero', '4', 'c360', '41278', 'executive_selling', '1235', 'workforce', '898168', 'verizon', 'time', 'mts', 'project', 'äîidentity', 'quality', 'coordinator', 'chief','0520u', 'o365','sql','hardware','master','flexible','3']\n",
    "\n",
    "stopword.extend(newStopWords)\n",
    "\n",
    "#Remove stopwords from tokenized words.\n",
    "words_ne=[]\n",
    "for word in words:\n",
    "    if word not in stopword:\n",
    "        words_ne.append(word)"
   ]
  },
  {
   "cell_type": "markdown",
   "metadata": {},
   "source": [
    "## 5. Create x-grams and frequency analysis"
   ]
  },
  {
   "cell_type": "code",
   "execution_count": 109,
   "metadata": {},
   "outputs": [
    {
     "name": "stdout",
     "output_type": "stream",
     "text": [
      "('engineer',) 143\n",
      "('analyst',) 75\n",
      "('manager',) 51\n",
      "('vp',) 8\n",
      "('developer',) 34\n",
      "('lead',) 19\n",
      "('director',) 33\n",
      "('associate',) 11\n",
      "('specialist',) 10\n",
      "('head',) 5\n",
      "('architect',) 20\n",
      "('principal',) 7\n",
      "('officer',) 2\n",
      "('leader',) 3\n",
      "('administrator',) 16\n",
      "('consultant',) 13\n",
      "('supervisor',) 1\n",
      "('strategist',) 2\n",
      "('president',) 1\n",
      "('expert',) 1\n",
      "The Total Number of Values = 455\n"
     ]
    }
   ],
   "source": [
    "# Set n-grams value\n",
    "n = 1\n",
    "xgrams = ngrams(words_ne, n)\n",
    "\n",
    "frequency = nltk.FreqDist(xgrams)\n",
    "\n",
    "#Print key value list of xgrams\n",
    "for key,value in frequency.items():\n",
    "    if value > 0:\n",
    "        print(key, value)\n",
    "\n",
    "values = frequency.values()\n",
    "total = sum(values)\n",
    "print(\"The Total Number of Values =\", total)"
   ]
  },
  {
   "cell_type": "code",
   "execution_count": 107,
   "metadata": {},
   "outputs": [
    {
     "ename": "KeyError",
     "evalue": "'0'",
     "output_type": "error",
     "traceback": [
      "\u001b[0;31m---------------------------------------------------------------------------\u001b[0m",
      "\u001b[0;31mKeyError\u001b[0m                                  Traceback (most recent call last)",
      "Cell \u001b[0;32mIn [107], line 9\u001b[0m\n\u001b[1;32m      6\u001b[0m \u001b[39m#print(df)\u001b[39;00m\n\u001b[1;32m      8\u001b[0m colors \u001b[39m=\u001b[39m [\u001b[39m'\u001b[39m\u001b[39mgreen\u001b[39m\u001b[39m'\u001b[39m,\u001b[39m'\u001b[39m\u001b[39mblue\u001b[39m\u001b[39m'\u001b[39m,\u001b[39m'\u001b[39m\u001b[39mpurple\u001b[39m\u001b[39m'\u001b[39m,\u001b[39m'\u001b[39m\u001b[39mbrown\u001b[39m\u001b[39m'\u001b[39m,\u001b[39m'\u001b[39m\u001b[39mteal\u001b[39m\u001b[39m'\u001b[39m]\n\u001b[0;32m----> 9\u001b[0m plt\u001b[39m.\u001b[39mbar(df[\u001b[39m'\u001b[39;49m\u001b[39m0\u001b[39;49m\u001b[39m'\u001b[39;49m], df[\u001b[39m'\u001b[39m\u001b[39m1\u001b[39m\u001b[39m'\u001b[39m])\n\u001b[1;32m     10\u001b[0m plt\u001b[39m.\u001b[39mtitle(\u001b[39m'\u001b[39m\u001b[39mUnique Work Roles\u001b[39m\u001b[39m'\u001b[39m, fontsize\u001b[39m=\u001b[39m\u001b[39m14\u001b[39m)\n\u001b[1;32m     11\u001b[0m plt\u001b[39m.\u001b[39mxlabel(\u001b[39m'\u001b[39m\u001b[39mWork Role\u001b[39m\u001b[39m'\u001b[39m, fontsize\u001b[39m=\u001b[39m\u001b[39m14\u001b[39m)\n",
      "File \u001b[0;32m~/Library/Python/3.8/lib/python/site-packages/pandas/core/frame.py:3804\u001b[0m, in \u001b[0;36mDataFrame.__getitem__\u001b[0;34m(self, key)\u001b[0m\n\u001b[1;32m   3802\u001b[0m \u001b[39mif\u001b[39;00m \u001b[39mself\u001b[39m\u001b[39m.\u001b[39mcolumns\u001b[39m.\u001b[39mnlevels \u001b[39m>\u001b[39m \u001b[39m1\u001b[39m:\n\u001b[1;32m   3803\u001b[0m     \u001b[39mreturn\u001b[39;00m \u001b[39mself\u001b[39m\u001b[39m.\u001b[39m_getitem_multilevel(key)\n\u001b[0;32m-> 3804\u001b[0m indexer \u001b[39m=\u001b[39m \u001b[39mself\u001b[39;49m\u001b[39m.\u001b[39;49mcolumns\u001b[39m.\u001b[39;49mget_loc(key)\n\u001b[1;32m   3805\u001b[0m \u001b[39mif\u001b[39;00m is_integer(indexer):\n\u001b[1;32m   3806\u001b[0m     indexer \u001b[39m=\u001b[39m [indexer]\n",
      "File \u001b[0;32m~/Library/Python/3.8/lib/python/site-packages/pandas/core/indexes/range.py:395\u001b[0m, in \u001b[0;36mRangeIndex.get_loc\u001b[0;34m(self, key, method, tolerance)\u001b[0m\n\u001b[1;32m    393\u001b[0m             \u001b[39mraise\u001b[39;00m \u001b[39mKeyError\u001b[39;00m(key) \u001b[39mfrom\u001b[39;00m \u001b[39merr\u001b[39;00m\n\u001b[1;32m    394\u001b[0m     \u001b[39mself\u001b[39m\u001b[39m.\u001b[39m_check_indexing_error(key)\n\u001b[0;32m--> 395\u001b[0m     \u001b[39mraise\u001b[39;00m \u001b[39mKeyError\u001b[39;00m(key)\n\u001b[1;32m    396\u001b[0m \u001b[39mreturn\u001b[39;00m \u001b[39msuper\u001b[39m()\u001b[39m.\u001b[39mget_loc(key, method\u001b[39m=\u001b[39mmethod, tolerance\u001b[39m=\u001b[39mtolerance)\n",
      "\u001b[0;31mKeyError\u001b[0m: '0'"
     ]
    }
   ],
   "source": [
    "import matplotlib.pyplot as plt\n",
    "import pandas as pd\n",
    "\n",
    "df = pd.DataFrame(frequency.items())\n",
    "\n",
    "#print(df)\n",
    "\n",
    "plt.bar(df['0'], df['1'])\n",
    "plt.title('Unique Work Roles', fontsize=14)\n",
    "plt.xlabel('Work Role', fontsize=14)\n",
    "plt.ylabel('Count', fontsize=14)\n",
    "plt.grid(True)\n",
    "plt.show()"
   ]
  }
 ],
 "metadata": {
  "kernelspec": {
   "display_name": "Python 3.8.2 64-bit",
   "language": "python",
   "name": "python3"
  },
  "language_info": {
   "codemirror_mode": {
    "name": "ipython",
    "version": 3
   },
   "file_extension": ".py",
   "mimetype": "text/x-python",
   "name": "python",
   "nbconvert_exporter": "python",
   "pygments_lexer": "ipython3",
   "version": "3.8.2"
  },
  "orig_nbformat": 4,
  "vscode": {
   "interpreter": {
    "hash": "31f2aee4e71d21fbe5cf8b01ff0e069b9275f58929596ceb00d14d90e3e16cd6"
   }
  }
 },
 "nbformat": 4,
 "nbformat_minor": 2
}
