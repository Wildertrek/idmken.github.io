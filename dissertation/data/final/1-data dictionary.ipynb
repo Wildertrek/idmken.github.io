{
 "cells": [
  {
   "cell_type": "markdown",
   "metadata": {},
   "source": [
    "# 1. Import Packages"
   ]
  },
  {
   "cell_type": "code",
   "execution_count": 12,
   "metadata": {},
   "outputs": [
    {
     "name": "stderr",
     "output_type": "stream",
     "text": [
      "[nltk_data] Downloading package punkt to /Users/kenmye/nltk_data...\n",
      "[nltk_data]   Package punkt is already up-to-date!\n"
     ]
    },
    {
     "data": {
      "text/plain": [
       "True"
      ]
     },
     "execution_count": 12,
     "metadata": {},
     "output_type": "execute_result"
    }
   ],
   "source": [
    "import nltk\n",
    "import requests\n",
    "import numpy as np\n",
    "import json\n",
    "from bs4 import BeautifulSoup\n",
    "from nltk.corpus import stopwords\n",
    "from nltk import ngrams\n",
    "import re\n",
    "\n",
    "nltk.download('punkt')"
   ]
  },
  {
   "cell_type": "markdown",
   "metadata": {},
   "source": [
    "# 2. Load the Data set using Beautiful Soup"
   ]
  },
  {
   "cell_type": "code",
   "execution_count": 6,
   "metadata": {},
   "outputs": [],
   "source": [
    "# Load dataset.\n",
    "dataset='https://playbooks.idmanagement.gov/arch/services/'\n",
    "#dataset ='https://playbooks.idmanagement.gov/arch/usecases/'\n",
    "reading=requests.get(dataset)\n",
    "\n",
    "html=reading.text\n",
    "\n",
    "# extract the text using web scraping tool.\n",
    "data=BeautifulSoup(html,\"html5lib\")"
   ]
  },
  {
   "cell_type": "markdown",
   "metadata": {},
   "source": [
    "# 3. Tokenize words"
   ]
  },
  {
   "cell_type": "code",
   "execution_count": 7,
   "metadata": {},
   "outputs": [],
   "source": [
    "#Tokenize words.\n",
    "wordtext=data.get_text()\n",
    "token=re.findall('\\w+', wordtext)"
   ]
  },
  {
   "cell_type": "markdown",
   "metadata": {},
   "source": [
    "# 4. Clean dataset with NLTK"
   ]
  },
  {
   "cell_type": "code",
   "execution_count": 8,
   "metadata": {},
   "outputs": [],
   "source": [
    "#ETL words into all lowercase.\n",
    "words=[]\n",
    "for word in token:\n",
    "    words.append(word.lower())\n",
    "\n",
    "#Create stopword list.\n",
    "stopword = stopwords.words('english')\n",
    "newStopWords = ['new','doe', 'federal','jane','help','official','person','keywords','based','include','may','examples','description','overview','use','back','top','needs','ficam','piv','agency', 'introduction']\n",
    "stopword.extend(newStopWords)\n",
    "\n",
    "#Remove stopwords from tokenized words.\n",
    "words_ne=[]\n",
    "for word in words:\n",
    "    if word not in stopword:\n",
    "        words_ne.append(word)"
   ]
  },
  {
   "cell_type": "markdown",
   "metadata": {},
   "source": [
    "# 5. Create x-grams and frequency analysis"
   ]
  },
  {
   "cell_type": "code",
   "execution_count": 16,
   "metadata": {},
   "outputs": [
    {
     "name": "stdout",
     "output_type": "stream",
     "text": [
      "('services', 'framework') 7\n",
      "('identity', 'identity') 3\n",
      "('identity', 'management') 8\n",
      "('identity', 'lifecycle') 5\n",
      "('lifecycle', 'management') 5\n",
      "('management', 'credential') 3\n",
      "('credential', 'credential') 3\n",
      "('credential', 'management') 6\n",
      "('access', 'management') 8\n",
      "('single', 'sign') 3\n",
      "('digital', 'identity') 3\n",
      "('identity', 'risk') 3\n",
      "('digitally', 'sign') 3\n",
      "('attributes', 'entitlements') 3\n",
      "('enterprise', 'identities') 3\n",
      "('employees', 'contractors') 4\n",
      "('enterprise', 'identity') 4\n",
      "('identity', 'record') 3\n",
      "('identity', 'attributes') 8\n",
      "('identity', 'governance') 3\n",
      "('identity', 'proofing') 3\n",
      "('assurance', 'level') 3\n",
      "('management', 'services') 6\n",
      "('issue', 'credential') 3\n",
      "('services', 'architecture') 3\n",
      "('protected', 'services') 3\n",
      "('policy', 'administration') 3\n",
      "('access', 'resource') 4\n",
      "('access', 'requirements') 6\n",
      "('grant', 'access') 4\n",
      "('fine', 'grained') 4\n",
      "('grained', 'access') 3\n",
      "('role', 'access') 3\n",
      "('access', 'control') 5\n",
      "('access', 'email') 3\n",
      "('services', 'access') 3\n"
     ]
    }
   ],
   "source": [
    "# Set n-grams value\n",
    "n = 2\n",
    "xgrams = ngrams(words_ne, n)\n",
    "\n",
    "frequency = nltk.FreqDist(xgrams)\n",
    "\n",
    "#Print key value list of xgrams\n",
    "for key,value in frequency.items():\n",
    "    if value > 2:\n",
    "        print(key, value)"
   ]
  },
  {
   "cell_type": "markdown",
   "metadata": {},
   "source": [
    "# 6. Establish Confidence Level"
   ]
  },
  {
   "cell_type": "code",
   "execution_count": 15,
   "metadata": {},
   "outputs": [
    {
     "ename": "NameError",
     "evalue": "name 'm' is not defined",
     "output_type": "error",
     "traceback": [
      "\u001b[0;31m---------------------------------------------------------------------------\u001b[0m",
      "\u001b[0;31mNameError\u001b[0m                                 Traceback (most recent call last)",
      "Cell \u001b[0;32mIn [15], line 4\u001b[0m\n\u001b[1;32m      2\u001b[0m dof \u001b[39m=\u001b[39m \u001b[39mlen\u001b[39m(key)\u001b[39m-\u001b[39m\u001b[39m1\u001b[39m\n\u001b[1;32m      3\u001b[0m t_crit \u001b[39m=\u001b[39m np\u001b[39m.\u001b[39mabs(t\u001b[39m.\u001b[39mppf((\u001b[39m1\u001b[39m\u001b[39m-\u001b[39mconfidence)\u001b[39m/\u001b[39m\u001b[39m2\u001b[39m,dof))\n\u001b[0;32m----> 4\u001b[0m (m\u001b[39m-\u001b[39ms\u001b[39m*\u001b[39mt_crit\u001b[39m/\u001b[39mnp\u001b[39m.\u001b[39msqrt(\u001b[39mlen\u001b[39m(x)), m\u001b[39m+\u001b[39ms\u001b[39m*\u001b[39mt_crit\u001b[39m/\u001b[39mnp\u001b[39m.\u001b[39msqrt(\u001b[39mlen\u001b[39m(x))) \n",
      "\u001b[0;31mNameError\u001b[0m: name 'm' is not defined"
     ]
    }
   ],
   "source": []
  }
 ],
 "metadata": {
  "kernelspec": {
   "display_name": "Python 3.8.2 64-bit",
   "language": "python",
   "name": "python3"
  },
  "language_info": {
   "codemirror_mode": {
    "name": "ipython",
    "version": 3
   },
   "file_extension": ".py",
   "mimetype": "text/x-python",
   "name": "python",
   "nbconvert_exporter": "python",
   "pygments_lexer": "ipython3",
   "version": "3.8.2"
  },
  "orig_nbformat": 4,
  "vscode": {
   "interpreter": {
    "hash": "31f2aee4e71d21fbe5cf8b01ff0e069b9275f58929596ceb00d14d90e3e16cd6"
   }
  }
 },
 "nbformat": 4,
 "nbformat_minor": 2
}
