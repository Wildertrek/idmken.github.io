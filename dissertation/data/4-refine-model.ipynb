{
 "cells": [
  {
   "cell_type": "markdown",
   "metadata": {},
   "source": [
    "# 4. Refine Model"
   ]
  },
  {
   "cell_type": "markdown",
   "metadata": {},
   "source": [
    "## Scripts"
   ]
  },
  {
   "cell_type": "code",
   "execution_count": 3,
   "metadata": {},
   "outputs": [],
   "source": [
    "#https://github.com/halpert3/complaint-content-classification-nlp/blob/main/notebooks/scoring_functions/scoring_functions.py\n",
    "#courtesy of github user halpert3\n",
    "\n",
    "import numpy as np \n",
    "import pandas as pd \n",
    "import matplotlib\n",
    "import matplotlib.pyplot as plt\n",
    "from sklearn.metrics import classification_report, confusion_matrix, precision_score, f1_score, recall_score, accuracy_score, plot_confusion_matrix\n",
    "from sklearn.metrics import ConfusionMatrixDisplay\n",
    "\n",
    "def run_model(model, X_train, y_train, X_test, y_test):\n",
    "    model.fit(X_train, y_train)\n",
    "    train_y_pred = model.predict(X_train)\n",
    "    test_y_pred = model.predict(X_test)\n",
    "    score_train_and_test(y_train, train_y_pred, y_test, test_y_pred)\n",
    "    disp_conf_matrix(y_train, train_y_pred, y_test, test_y_pred)\n",
    "\n",
    "\n",
    "def score_train_and_test(y_train, train_y_pred, y_test, test_y_pred):\n",
    "\n",
    "    # Training Scores\n",
    "    training_accuracy = accuracy_score(y_train, train_y_pred)\n",
    "    training_precision = precision_score(y_train, train_y_pred, average='macro')\n",
    "    training_recall = recall_score(y_train, train_y_pred, average='macro')\n",
    "    training_f1 = f1_score(y_train, train_y_pred, average='macro')\n",
    "    \n",
    "    print(\"TRAINING - Classification Report\")\n",
    "    print(\"Accuracy: {:.1%}\".format(training_accuracy))\n",
    "    print(\"Precision: {:.1%}\".format(training_precision))\n",
    "    print(\"Recall: {:.1%}\".format(training_recall))\n",
    "    print(\"F1: {:.1%}\".format(training_f1))\n",
    "    print(classification_report(y_train, train_y_pred))\n",
    "    \n",
    "    # Testing Scores\n",
    "    testing_accuracy = accuracy_score(y_test, test_y_pred)\n",
    "    testing_precision = precision_score(y_test, test_y_pred, average='macro')\n",
    "    testing_recall = recall_score(y_test, test_y_pred, average='macro')\n",
    "    testing_f1 = f1_score(y_test, test_y_pred, average='macro')\n",
    "    \n",
    "    print(\"TESTING - Classification Report\")\n",
    "    print(\"Accuracy: {:.1%}\".format(testing_accuracy))\n",
    "    print(\"Precision: {:.1%}\".format(testing_precision))\n",
    "    print(\"Recall: {:.1%}\".format(testing_recall))\n",
    "    print(\"F1: {:.1%}\".format(testing_f1))\n",
    "    print(classification_report(y_test, test_y_pred))\n",
    "    \n",
    "\n",
    "def disp_conf_matrix(y_train, train_y_pred, y_test, test_y_pred):\n",
    "    cm_train = confusion_matrix(y_train, train_y_pred, labels=[0,1,2,3,4])\n",
    "    cm_test = confusion_matrix(y_test, test_y_pred, labels=[0,1,2,3,4])\n",
    "    disp1 = ConfusionMatrixDisplay(confusion_matrix=cm_train)\n",
    "    disp2 = ConfusionMatrixDisplay(confusion_matrix=cm_test)\n",
    "    \n",
    "    # plotting two side by side\n",
    "    fig, axes = plt.subplots(nrows=1, ncols=2, figsize=(15, 5))\n",
    "    axes[0].set_title('Training confusion matrix'.upper(), fontsize = 12)\n",
    "    axes[1].set_title('Testing confusion matrix'.upper(), fontsize = 12)\n",
    "    disp1.plot(ax=axes[0])\n",
    "    disp2.plot(ax=axes[1])\n",
    "\n",
    "def scoring(y_real, y_pred, model, X_data): # change y_test to y_real\n",
    "    # Calculates and prints scores for the model\n",
    "    accuracy = accuracy_score(y_real, y_pred)\n",
    "    precision = precision_score(y_real, y_pred, average='macro')\n",
    "    recall = recall_score(y_real, y_pred, average='macro')\n",
    "    f1 = f1_score(y_real, y_pred, average='macro')\n",
    "\n",
    "    print(\"Accuracy: {:.1%}\".format(accuracy))\n",
    "    print(\"Precision: {:.1%}\".format(precision))\n",
    "    print(\"Recall: {:.1%}\".format(recall))\n",
    "    print(\"F1: {:.1%}\".format(f1))\n",
    "\n",
    "    print('\\n')\n",
    "    print(\"Classification Report\")\n",
    "    print('\\n')\n",
    "    print(classification_report(y_real, y_pred))\n",
    "    # Plots a confusion matrix graphic (defined below)\n",
    "    plot = plot_c_matrix(model, X_data, y_real)\n",
    "\n",
    "\n",
    "#### Functions from earlier project #### \n",
    "\n",
    "# note that plot_confustion_matrix needs to rerun the model. That's what you pass in the model again. \n",
    "def plot_c_matrix(model, X_test, y_real):\n",
    "    # Generates a confusion matrix graphic\n",
    "    plot_confusion_matrix(model, X_test, y_real)\n",
    "    plt.grid(False)\n",
    "    plt.show()\n",
    "\n",
    "def add_scores_to_scoring_df(model_name, y_test, predictions_from_X_test, y_train_balanced, predictions_from_X_train):\n",
    "    \n",
    "    # Adds scores to a dataframe for easy comparison\n",
    "    model_scores = pd.read_csv('../data/model_scores.csv', index_col=0)\n",
    "    test_accuracy = round(accuracy_score(y_test, predictions_from_X_test) * 100, 1)\n",
    "    test_precision = round(precision_score(y_test, predictions_from_X_test, zero_division=0) * 100, 1)\n",
    "    test_recall = round(recall_score(y_test, predictions_from_X_test, zero_division=0) * 100, 1)\n",
    "    test_f1 = round(f1_score(y_test, predictions_from_X_test) * 100, 1)\n",
    "\n",
    "    train_accuracy = round(accuracy_score(y_train_balanced, predictions_from_X_train) * 100, 1)\n",
    "    train_precision = round(precision_score(y_train_balanced, predictions_from_X_train, zero_division=0) * 100, 1)\n",
    "    train_recall = round(recall_score(y_train_balanced, predictions_from_X_train, zero_division=0) * 100, 1)\n",
    "    train_f1 = round(f1_score(y_train_balanced, predictions_from_X_train) * 100, 1)\n",
    "    \n",
    "    scores = {'model': model_name,\n",
    "          'test_accuracy': test_accuracy,\n",
    "          'test_precision': test_precision,\n",
    "          'test_recall': test_recall,\n",
    "          'test_f1': test_f1, 'train_accuracy': train_accuracy, \n",
    "          'train_precision': train_precision, \n",
    "          'train_recall': train_recall,\n",
    "          'train_f1': train_f1}\n",
    "    \n",
    "    model_scores = model_scores.append(scores, ignore_index=True)\n",
    "    model_scores.drop_duplicates(keep=\"last\", inplace=True)\n",
    "    model_scores.to_csv('../data/model_scores.csv')\n",
    "    pass\n",
    " \n",
    "def add_scores_to_df(model_name, df, y_test, predictions_from_X_test, y_train_balanced, predictions_from_X_train):\n",
    "    # Adds scores to a dataframe for easy comparison\n",
    "\n",
    "    model_scores = df\n",
    " \n",
    "    test_accuracy = round(accuracy_score(y_test, predictions_from_X_test) * 100, 3)\n",
    "    test_precision = round(precision_score(y_test, predictions_from_X_test, zero_division=0) * 100, 3)\n",
    "    test_recall = round(recall_score(y_test, predictions_from_X_test, zero_division=0) * 100, 3)\n",
    "    test_f1 = round(f1_score(y_test, predictions_from_X_test) * 100, 3)\n",
    "\n",
    "    train_accuracy = round(accuracy_score(y_train_balanced, predictions_from_X_train) * 100, 3)\n",
    "    train_precision = round(precision_score(y_train_balanced, predictions_from_X_train, zero_division=0) * 100, 3)\n",
    "    train_recall = round(recall_score(y_train_balanced, predictions_from_X_train, zero_division=0) * 100, 3)\n",
    "    train_f1 = round(f1_score(y_train_balanced, predictions_from_X_train) * 100, 3)\n",
    "    \n",
    "    scores = {'model': model_name,\n",
    "          'test_accuracy': test_accuracy,\n",
    "          'test_precision': test_precision,\n",
    "          'test_recall': test_recall,\n",
    "          'test_f1': test_f1, 'train_accuracy': train_accuracy, \n",
    "          'train_precision': train_precision, \n",
    "          'train_recall': train_recall,\n",
    "          'train_f1': train_f1}\n",
    "    df_temp = pd.DataFrame.from_records(scores, index=[0])\n",
    "#     columns = ['model', 'test_accuracy', 'test_f1', 'test_precision', 'test_recall', 'train_accuracy', 'train_precision', 'train_recall']\n",
    "\n",
    "    new_df = pd.concat([model_scores, df_temp], sort=False)\n",
    "#     model_scores = model_scores.append(scores, ignore_index=True)\n",
    "#     model_scores.drop_duplicates(keep=\"last\", inplace=True)\n",
    "    new_df = new_df[['model', 'train_accuracy', 'test_accuracy', 'train_precision', 'test_precision', 'train_recall', 'test_recall', 'train_f1', 'test_f1']]\n",
    "    new_df.set_index('model')\n",
    "    return new_df"
   ]
  },
  {
   "cell_type": "markdown",
   "metadata": {},
   "source": [
    "## 1. Import packages"
   ]
  },
  {
   "cell_type": "code",
   "execution_count": 7,
   "metadata": {},
   "outputs": [
    {
     "name": "stdout",
     "output_type": "stream",
     "text": [
      "Defaulting to user installation because normal site-packages is not writeable\n",
      "Collecting imblearn\n",
      "  Downloading imblearn-0.0-py2.py3-none-any.whl (1.9 kB)\n",
      "Collecting imbalanced-learn\n",
      "  Downloading imbalanced_learn-0.9.1-py3-none-any.whl (199 kB)\n",
      "\u001b[2K     \u001b[90m━━━━━━━━━━━━━━━━━━━━━━━━━━━━━━━━━━━━━━━\u001b[0m \u001b[32m199.3/199.3 kB\u001b[0m \u001b[31m4.1 MB/s\u001b[0m eta \u001b[36m0:00:00\u001b[0m00:01\u001b[0m\n",
      "\u001b[?25hRequirement already satisfied: threadpoolctl>=2.0.0 in /Users/kenmye/Library/Python/3.8/lib/python/site-packages (from imbalanced-learn->imblearn) (3.1.0)\n",
      "Requirement already satisfied: scipy>=1.3.2 in /Users/kenmye/Library/Python/3.8/lib/python/site-packages (from imbalanced-learn->imblearn) (1.9.3)\n",
      "Requirement already satisfied: numpy>=1.17.3 in /Users/kenmye/Library/Python/3.8/lib/python/site-packages (from imbalanced-learn->imblearn) (1.23.4)\n",
      "Requirement already satisfied: scikit-learn>=1.1.0 in /Users/kenmye/Library/Python/3.8/lib/python/site-packages (from imbalanced-learn->imblearn) (1.1.3)\n",
      "Requirement already satisfied: joblib>=1.0.0 in /Users/kenmye/Library/Python/3.8/lib/python/site-packages (from imbalanced-learn->imblearn) (1.2.0)\n",
      "Installing collected packages: imbalanced-learn, imblearn\n",
      "Successfully installed imbalanced-learn-0.9.1 imblearn-0.0\n",
      "Note: you may need to restart the kernel to use updated packages.\n"
     ]
    }
   ],
   "source": [
    "#pip install imblearn"
   ]
  },
  {
   "cell_type": "code",
   "execution_count": 2,
   "metadata": {},
   "outputs": [],
   "source": [
    "import numpy as np\n",
    "import pandas as pd\n",
    "import scoring_functions as f\n",
    "\n",
    "from sklearn.feature_extraction.text import TfidfVectorizer, CountVectorizer\n",
    "\n",
    "from sklearn.model_selection import train_test_split, GridSearchCV, cross_val_score\n",
    "from sklearn.metrics import classification_report, accuracy_score, confusion_matrix, recall_score\n",
    "from sklearn.metrics import plot_confusion_matrix\n",
    "from sklearn.metrics import confusion_matrix\n",
    "from sklearn.metrics import ConfusionMatrixDisplay\n",
    "\n",
    "from imblearn.over_sampling import SMOTE\n",
    "\n",
    "from sklearn.naive_bayes import MultinomialNB\n",
    "from sklearn.tree import DecisionTreeClassifier\n",
    "from sklearn.ensemble import GradientBoostingClassifier\n",
    "\n",
    "from sklearn.pipeline import Pipeline\n",
    "\n",
    "import importlib\n",
    "\n",
    "import time\n",
    "import matplotlib.pyplot as plt"
   ]
  },
  {
   "cell_type": "code",
   "execution_count": 9,
   "metadata": {},
   "outputs": [
    {
     "data": {
      "text/plain": [
       "(453, 3)"
      ]
     },
     "execution_count": 9,
     "metadata": {},
     "output_type": "execute_result"
    }
   ],
   "source": [
    "# read datafile\n",
    "df = pd.read_csv('../data/project_data/descriptions_processed.csv')\n",
    "\n",
    "# clean up by removing NaN's, etc.\n",
    "df.drop(['Unnamed: 0'], axis=1, inplace=True)\n",
    "df = df.dropna()\n",
    "df.drop(df.loc[df['description'] == 'name'].index, inplace=True)\n",
    "\n",
    "# replace class names with integers\n",
    "role_dict ={'administrator': 0, 'analyst': 1, 'architect': 2, \n",
    "               'developer': 3, 'director': 4, 'engineer':5, 'leadership':6, 'manager':7, 'specialist':8}\n",
    "df['role'].replace(role_dict, inplace=True)\n",
    "\n",
    "df.shape"
   ]
  },
  {
   "cell_type": "markdown",
   "metadata": {},
   "source": [
    "## 2. Train Test/Split"
   ]
  },
  {
   "cell_type": "code",
   "execution_count": 10,
   "metadata": {},
   "outputs": [],
   "source": [
    "X = df.drop(['role'], axis=1)\n",
    "y = df['role']\n",
    "\n",
    "X_train, X_test, y_train, y_test = train_test_split(X['description'], y, test_size=0.20, random_state=200)"
   ]
  },
  {
   "cell_type": "markdown",
   "metadata": {},
   "source": [
    "### 2a. Pipe 1 - Limit TF-IDF using max depth"
   ]
  },
  {
   "cell_type": "code",
   "execution_count": 48,
   "metadata": {},
   "outputs": [
    {
     "data": {
      "text/html": [
       "<style>#sk-container-id-5 {color: black;background-color: white;}#sk-container-id-5 pre{padding: 0;}#sk-container-id-5 div.sk-toggleable {background-color: white;}#sk-container-id-5 label.sk-toggleable__label {cursor: pointer;display: block;width: 100%;margin-bottom: 0;padding: 0.3em;box-sizing: border-box;text-align: center;}#sk-container-id-5 label.sk-toggleable__label-arrow:before {content: \"▸\";float: left;margin-right: 0.25em;color: #696969;}#sk-container-id-5 label.sk-toggleable__label-arrow:hover:before {color: black;}#sk-container-id-5 div.sk-estimator:hover label.sk-toggleable__label-arrow:before {color: black;}#sk-container-id-5 div.sk-toggleable__content {max-height: 0;max-width: 0;overflow: hidden;text-align: left;background-color: #f0f8ff;}#sk-container-id-5 div.sk-toggleable__content pre {margin: 0.2em;color: black;border-radius: 0.25em;background-color: #f0f8ff;}#sk-container-id-5 input.sk-toggleable__control:checked~div.sk-toggleable__content {max-height: 200px;max-width: 100%;overflow: auto;}#sk-container-id-5 input.sk-toggleable__control:checked~label.sk-toggleable__label-arrow:before {content: \"▾\";}#sk-container-id-5 div.sk-estimator input.sk-toggleable__control:checked~label.sk-toggleable__label {background-color: #d4ebff;}#sk-container-id-5 div.sk-label input.sk-toggleable__control:checked~label.sk-toggleable__label {background-color: #d4ebff;}#sk-container-id-5 input.sk-hidden--visually {border: 0;clip: rect(1px 1px 1px 1px);clip: rect(1px, 1px, 1px, 1px);height: 1px;margin: -1px;overflow: hidden;padding: 0;position: absolute;width: 1px;}#sk-container-id-5 div.sk-estimator {font-family: monospace;background-color: #f0f8ff;border: 1px dotted black;border-radius: 0.25em;box-sizing: border-box;margin-bottom: 0.5em;}#sk-container-id-5 div.sk-estimator:hover {background-color: #d4ebff;}#sk-container-id-5 div.sk-parallel-item::after {content: \"\";width: 100%;border-bottom: 1px solid gray;flex-grow: 1;}#sk-container-id-5 div.sk-label:hover label.sk-toggleable__label {background-color: #d4ebff;}#sk-container-id-5 div.sk-serial::before {content: \"\";position: absolute;border-left: 1px solid gray;box-sizing: border-box;top: 0;bottom: 0;left: 50%;z-index: 0;}#sk-container-id-5 div.sk-serial {display: flex;flex-direction: column;align-items: center;background-color: white;padding-right: 0.2em;padding-left: 0.2em;position: relative;}#sk-container-id-5 div.sk-item {position: relative;z-index: 1;}#sk-container-id-5 div.sk-parallel {display: flex;align-items: stretch;justify-content: center;background-color: white;position: relative;}#sk-container-id-5 div.sk-item::before, #sk-container-id-5 div.sk-parallel-item::before {content: \"\";position: absolute;border-left: 1px solid gray;box-sizing: border-box;top: 0;bottom: 0;left: 50%;z-index: -1;}#sk-container-id-5 div.sk-parallel-item {display: flex;flex-direction: column;z-index: 1;position: relative;background-color: white;}#sk-container-id-5 div.sk-parallel-item:first-child::after {align-self: flex-end;width: 50%;}#sk-container-id-5 div.sk-parallel-item:last-child::after {align-self: flex-start;width: 50%;}#sk-container-id-5 div.sk-parallel-item:only-child::after {width: 0;}#sk-container-id-5 div.sk-dashed-wrapped {border: 1px dashed gray;margin: 0 0.4em 0.5em 0.4em;box-sizing: border-box;padding-bottom: 0.4em;background-color: white;}#sk-container-id-5 div.sk-label label {font-family: monospace;font-weight: bold;display: inline-block;line-height: 1.2em;}#sk-container-id-5 div.sk-label-container {text-align: center;}#sk-container-id-5 div.sk-container {/* jupyter's `normalize.less` sets `[hidden] { display: none; }` but bootstrap.min.css set `[hidden] { display: none !important; }` so we also need the `!important` here to be able to override the default hidden behavior on the sphinx rendered scikit-learn.org. See: https://github.com/scikit-learn/scikit-learn/issues/21755 */display: inline-block !important;position: relative;}#sk-container-id-5 div.sk-text-repr-fallback {display: none;}</style><div id=\"sk-container-id-5\" class=\"sk-top-container\"><div class=\"sk-text-repr-fallback\"><pre>GridSearchCV(cv=3,\n",
       "             estimator=Pipeline(steps=[(&#x27;tfidf&#x27;, TfidfVectorizer()),\n",
       "                                       (&#x27;dt&#x27;,\n",
       "                                        DecisionTreeClassifier(random_state=123))]),\n",
       "             param_grid={&#x27;dt__max_depth&#x27;: [4, 6, 8, 10],\n",
       "                         &#x27;tfidf__max_features&#x27;: [400, 800, 1200, 1600],\n",
       "                         &#x27;tfidf__ngram_range&#x27;: [(1, 1), (1, 2), (1, 3)]},\n",
       "             scoring=&#x27;recall_macro&#x27;)</pre><b>In a Jupyter environment, please rerun this cell to show the HTML representation or trust the notebook. <br />On GitHub, the HTML representation is unable to render, please try loading this page with nbviewer.org.</b></div><div class=\"sk-container\" hidden><div class=\"sk-item sk-dashed-wrapped\"><div class=\"sk-label-container\"><div class=\"sk-label sk-toggleable\"><input class=\"sk-toggleable__control sk-hidden--visually\" id=\"sk-estimator-id-17\" type=\"checkbox\" ><label for=\"sk-estimator-id-17\" class=\"sk-toggleable__label sk-toggleable__label-arrow\">GridSearchCV</label><div class=\"sk-toggleable__content\"><pre>GridSearchCV(cv=3,\n",
       "             estimator=Pipeline(steps=[(&#x27;tfidf&#x27;, TfidfVectorizer()),\n",
       "                                       (&#x27;dt&#x27;,\n",
       "                                        DecisionTreeClassifier(random_state=123))]),\n",
       "             param_grid={&#x27;dt__max_depth&#x27;: [4, 6, 8, 10],\n",
       "                         &#x27;tfidf__max_features&#x27;: [400, 800, 1200, 1600],\n",
       "                         &#x27;tfidf__ngram_range&#x27;: [(1, 1), (1, 2), (1, 3)]},\n",
       "             scoring=&#x27;recall_macro&#x27;)</pre></div></div></div><div class=\"sk-parallel\"><div class=\"sk-parallel-item\"><div class=\"sk-item\"><div class=\"sk-label-container\"><div class=\"sk-label sk-toggleable\"><input class=\"sk-toggleable__control sk-hidden--visually\" id=\"sk-estimator-id-18\" type=\"checkbox\" ><label for=\"sk-estimator-id-18\" class=\"sk-toggleable__label sk-toggleable__label-arrow\">estimator: Pipeline</label><div class=\"sk-toggleable__content\"><pre>Pipeline(steps=[(&#x27;tfidf&#x27;, TfidfVectorizer()),\n",
       "                (&#x27;dt&#x27;, DecisionTreeClassifier(random_state=123))])</pre></div></div></div><div class=\"sk-serial\"><div class=\"sk-item\"><div class=\"sk-serial\"><div class=\"sk-item\"><div class=\"sk-estimator sk-toggleable\"><input class=\"sk-toggleable__control sk-hidden--visually\" id=\"sk-estimator-id-19\" type=\"checkbox\" ><label for=\"sk-estimator-id-19\" class=\"sk-toggleable__label sk-toggleable__label-arrow\">TfidfVectorizer</label><div class=\"sk-toggleable__content\"><pre>TfidfVectorizer()</pre></div></div></div><div class=\"sk-item\"><div class=\"sk-estimator sk-toggleable\"><input class=\"sk-toggleable__control sk-hidden--visually\" id=\"sk-estimator-id-20\" type=\"checkbox\" ><label for=\"sk-estimator-id-20\" class=\"sk-toggleable__label sk-toggleable__label-arrow\">DecisionTreeClassifier</label><div class=\"sk-toggleable__content\"><pre>DecisionTreeClassifier(random_state=123)</pre></div></div></div></div></div></div></div></div></div></div></div></div>"
      ],
      "text/plain": [
       "GridSearchCV(cv=3,\n",
       "             estimator=Pipeline(steps=[('tfidf', TfidfVectorizer()),\n",
       "                                       ('dt',\n",
       "                                        DecisionTreeClassifier(random_state=123))]),\n",
       "             param_grid={'dt__max_depth': [4, 6, 8, 10],\n",
       "                         'tfidf__max_features': [400, 800, 1200, 1600],\n",
       "                         'tfidf__ngram_range': [(1, 1), (1, 2), (1, 3)]},\n",
       "             scoring='recall_macro')"
      ]
     },
     "execution_count": 48,
     "metadata": {},
     "output_type": "execute_result"
    }
   ],
   "source": [
    "dt1_pipeline = Pipeline([('tfidf', TfidfVectorizer()), \n",
    "                         ('dt', DecisionTreeClassifier(random_state=123))])\n",
    "dt1_param_grid = {\n",
    "    'tfidf__ngram_range': [(1,1), (1,2), (1,3)],\n",
    "    'tfidf__max_features': [400, 800, 1200, 1600], \n",
    "    'dt__max_depth': [4, 6, 8, 10]\n",
    "}\n",
    "dt1_grid_search = GridSearchCV(estimator=dt1_pipeline,\n",
    "                               param_grid=dt1_param_grid,\n",
    "                               scoring='recall_macro',\n",
    "                               cv=3)\n",
    "dt1_grid_search.fit(X_train, y_train)"
   ]
  },
  {
   "cell_type": "code",
   "execution_count": 51,
   "metadata": {},
   "outputs": [
    {
     "data": {
      "text/plain": [
       "{'dt__max_depth': 10, 'tfidf__max_features': 800, 'tfidf__ngram_range': (1, 1)}"
      ]
     },
     "execution_count": 51,
     "metadata": {},
     "output_type": "execute_result"
    }
   ],
   "source": [
    "dt1_grid_search.best_params_"
   ]
  },
  {
   "cell_type": "code",
   "execution_count": 52,
   "metadata": {},
   "outputs": [
    {
     "data": {
      "text/plain": [
       "0.42507448201892645"
      ]
     },
     "execution_count": 52,
     "metadata": {},
     "output_type": "execute_result"
    }
   ],
   "source": [
    "dt1_grid_search.best_score_"
   ]
  },
  {
   "cell_type": "markdown",
   "metadata": {},
   "source": [
    "### 2b. Pipe 2 - CountVector compared to TF-IDF"
   ]
  },
  {
   "cell_type": "code",
   "execution_count": 53,
   "metadata": {},
   "outputs": [
    {
     "name": "stdout",
     "output_type": "stream",
     "text": [
      "Best Score: 0.377\n"
     ]
    },
    {
     "data": {
      "text/plain": [
       "{'countv__max_features': 4000,\n",
       " 'countv__ngram_range': (1, 1),\n",
       " 'dt__max_depth': 6}"
      ]
     },
     "execution_count": 53,
     "metadata": {},
     "output_type": "execute_result"
    }
   ],
   "source": [
    "dt2_pipeline = Pipeline([('countv', CountVectorizer()), \n",
    "                         ('dt', DecisionTreeClassifier(random_state=123))])\n",
    "\n",
    "dt2_param_grid = {\n",
    "    'countv__ngram_range': [(1,1), (1,2)],\n",
    "    'countv__max_features': [500, 1000, 2500, 4000], \n",
    "    'dt__max_depth': [4, 6, 8]\n",
    "}\n",
    "\n",
    "dt2_grid_search = GridSearchCV(estimator=dt2_pipeline,\n",
    "                               param_grid=dt2_param_grid,\n",
    "                               scoring='recall_macro',\n",
    "                               cv=3)\n",
    "dt2_grid_search.fit(X_train, y_train)\n",
    "print(f'Best Score: {round(dt2_grid_search.best_score_, 3)}')\n",
    "dt2_grid_search.best_params_"
   ]
  },
  {
   "cell_type": "markdown",
   "metadata": {},
   "source": [
    "### 2b. Pipe 3 - TFIDF max features"
   ]
  },
  {
   "cell_type": "code",
   "execution_count": 54,
   "metadata": {},
   "outputs": [
    {
     "name": "stdout",
     "output_type": "stream",
     "text": [
      "Best Score: 0.425\n"
     ]
    },
    {
     "data": {
      "text/plain": [
       "{'dt__max_depth': 10, 'tfidf__max_features': 800}"
      ]
     },
     "execution_count": 54,
     "metadata": {},
     "output_type": "execute_result"
    }
   ],
   "source": [
    "dt3_pipeline = Pipeline([('tfidf', TfidfVectorizer()), \n",
    "                         ('dt', DecisionTreeClassifier(random_state=123))])\n",
    "\n",
    "dt3_param_grid = {\n",
    "    'tfidf__max_features': [500, 800, 1100, 1400], \n",
    "    'dt__max_depth': [10]\n",
    "}\n",
    "\n",
    "dt3_grid_search = GridSearchCV(estimator=dt3_pipeline,\n",
    "                               param_grid=dt3_param_grid,\n",
    "                               scoring='recall_macro',\n",
    "                               cv=3)\n",
    "dt3_grid_search.fit(X_train, y_train)\n",
    "print(f'Best Score: {round(dt3_grid_search.best_score_, 3)}')\n",
    "dt3_grid_search.best_params_"
   ]
  },
  {
   "cell_type": "markdown",
   "metadata": {},
   "source": [
    "### 2b. Pipe 4 - TDIDF optimized max features"
   ]
  },
  {
   "cell_type": "code",
   "execution_count": 55,
   "metadata": {},
   "outputs": [
    {
     "name": "stdout",
     "output_type": "stream",
     "text": [
      "Best Score: 0.4636\n"
     ]
    },
    {
     "data": {
      "text/plain": [
       "{'dt__max_depth': 14, 'dt__min_samples_leaf': 1, 'dt__min_samples_split': 5}"
      ]
     },
     "execution_count": 55,
     "metadata": {},
     "output_type": "execute_result"
    }
   ],
   "source": [
    "dt4_pipeline = Pipeline([('tfidf', TfidfVectorizer(max_features=800, max_df=.7)), \n",
    "                         ('dt', DecisionTreeClassifier(random_state=123))])\n",
    "\n",
    "dt4_param_grid = {\n",
    "    'dt__max_depth': [6, 10, 14],    \n",
    "    'dt__min_samples_split': [2, 5, 10],\n",
    "    'dt__min_samples_leaf': [1, 3, 5]}\n",
    "\n",
    "dt4_grid_search = GridSearchCV(estimator=dt4_pipeline,\n",
    "                               param_grid=dt4_param_grid,\n",
    "                               scoring='recall_macro',\n",
    "                               cv=3)\n",
    "dt4_grid_search.fit(X_train, y_train)\n",
    "print(f'Best Score: {round(dt4_grid_search.best_score_, 4)}')\n",
    "dt4_grid_search.best_params_"
   ]
  },
  {
   "cell_type": "markdown",
   "metadata": {},
   "source": [
    "## 3. Best model"
   ]
  },
  {
   "cell_type": "code",
   "execution_count": 56,
   "metadata": {},
   "outputs": [
    {
     "name": "stderr",
     "output_type": "stream",
     "text": [
      "/Users/kenmye/Library/Python/3.8/lib/python/site-packages/sklearn/utils/deprecation.py:87: FutureWarning: Function get_feature_names is deprecated; get_feature_names is deprecated in 1.0 and will be removed in 1.2. Please use get_feature_names_out instead.\n",
      "  warnings.warn(msg, category=FutureWarning)\n",
      "/Users/kenmye/Library/Python/3.8/lib/python/site-packages/sklearn/metrics/_classification.py:1334: UndefinedMetricWarning: Recall is ill-defined and being set to 0.0 in labels with no true samples. Use `zero_division` parameter to control this behavior.\n",
      "  _warn_prf(average, modifier, msg_start, len(result))\n",
      "/Users/kenmye/Library/Python/3.8/lib/python/site-packages/sklearn/metrics/_classification.py:1334: UndefinedMetricWarning: Recall and F-score are ill-defined and being set to 0.0 in labels with no true samples. Use `zero_division` parameter to control this behavior.\n",
      "  _warn_prf(average, modifier, msg_start, len(result))\n",
      "/Users/kenmye/Library/Python/3.8/lib/python/site-packages/sklearn/metrics/_classification.py:1334: UndefinedMetricWarning: Recall and F-score are ill-defined and being set to 0.0 in labels with no true samples. Use `zero_division` parameter to control this behavior.\n",
      "  _warn_prf(average, modifier, msg_start, len(result))\n",
      "/Users/kenmye/Library/Python/3.8/lib/python/site-packages/sklearn/metrics/_classification.py:1334: UndefinedMetricWarning: Recall and F-score are ill-defined and being set to 0.0 in labels with no true samples. Use `zero_division` parameter to control this behavior.\n",
      "  _warn_prf(average, modifier, msg_start, len(result))\n"
     ]
    },
    {
     "name": "stdout",
     "output_type": "stream",
     "text": [
      "TRAINING - Classification Report\n",
      "Accuracy: 92.8%\n",
      "Precision: 89.5%\n",
      "Recall: 88.7%\n",
      "F1: 88.7%\n",
      "              precision    recall  f1-score   support\n",
      "\n",
      "           0       0.81      0.81      0.81        16\n",
      "           1       0.96      0.99      0.97        72\n",
      "           2       0.67      0.88      0.76        16\n",
      "           3       0.83      0.92      0.87        37\n",
      "           4       1.00      0.97      0.99        35\n",
      "           5       0.99      0.97      0.98       110\n",
      "           6       0.87      0.81      0.84        16\n",
      "           7       0.93      0.85      0.89        46\n",
      "           8       1.00      0.79      0.88        14\n",
      "\n",
      "    accuracy                           0.93       362\n",
      "   macro avg       0.89      0.89      0.89       362\n",
      "weighted avg       0.93      0.93      0.93       362\n",
      "\n",
      "TESTING - Classification Report\n",
      "Accuracy: 53.8%\n",
      "Precision: 37.1%\n",
      "Recall: 37.8%\n",
      "F1: 36.4%\n",
      "              precision    recall  f1-score   support\n",
      "\n",
      "           0       0.17      0.25      0.20         4\n",
      "           1       0.50      0.62      0.56        16\n",
      "           2       0.50      0.50      0.50         4\n",
      "           3       0.40      0.40      0.40         5\n",
      "           4       0.27      0.50      0.35         6\n",
      "           5       0.82      0.73      0.77        37\n",
      "           6       0.25      0.17      0.20         6\n",
      "           7       0.43      0.23      0.30        13\n",
      "           8       0.00      0.00      0.00         0\n",
      "\n",
      "    accuracy                           0.54        91\n",
      "   macro avg       0.37      0.38      0.36        91\n",
      "weighted avg       0.57      0.54      0.54        91\n",
      "\n"
     ]
    },
    {
     "data": {
      "image/png": "[encoded data removed]",
      "text/plain": [
       "<Figure size 1500x500 with 4 Axes>"
      ]
     },
     "metadata": {},
     "output_type": "display_data"
    }
   ],
   "source": [
    "# Vectorize X train and test data\n",
    "vectorizer_dt_best = TfidfVectorizer(max_features=800)\n",
    "vect_X_train = vectorizer_dt_best.fit_transform(X_train)\n",
    "vect_X_test = vectorizer_dt_best.transform(X_test)\n",
    "feature_names =  vectorizer_dt_best.get_feature_names()\n",
    "# Instantiate model\n",
    "dt_best = DecisionTreeClassifier(\n",
    "    random_state=123,\n",
    "    max_depth=14,\n",
    "    min_samples_leaf=1,\n",
    "    min_samples_split=5)\n",
    "imp.reload(f)\n",
    "f.run_model(dt_best, vect_X_train, y_train, vect_X_test, y_test)"
   ]
  }
 ],
 "metadata": {
  "kernelspec": {
   "display_name": "Python 3.8.2 64-bit",
   "language": "python",
   "name": "python3"
  },
  "language_info": {
   "codemirror_mode": {
    "name": "ipython",
    "version": 3
   },
   "file_extension": ".py",
   "mimetype": "text/x-python",
   "name": "python",
   "nbconvert_exporter": "python",
   "pygments_lexer": "ipython3",
   "version": "3.8.2"
  },
  "orig_nbformat": 4,
  "vscode": {
   "interpreter": {
    "hash": "31f2aee4e71d21fbe5cf8b01ff0e069b9275f58929596ceb00d14d90e3e16cd6"
   }
  }
 },
 "nbformat": 4,
 "nbformat_minor": 2
}
