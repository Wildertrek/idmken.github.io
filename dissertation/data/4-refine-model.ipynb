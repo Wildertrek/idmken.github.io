{
 "cells": [
  {
   "cell_type": "markdown",
   "metadata": {},
   "source": [
    "# 4. Refine Model"
   ]
  },
  {
   "cell_type": "markdown",
   "metadata": {},
   "source": [
    "## Scripts"
   ]
  },
  {
   "cell_type": "code",
   "execution_count": 3,
   "metadata": {},
   "outputs": [],
   "source": [
    "#https://github.com/halpert3/complaint-content-classification-nlp/blob/main/notebooks/scoring_functions/scoring_functions.py\n",
    "#courtesy of github user halpert3\n",
    "\n",
    "import numpy as np \n",
    "import pandas as pd \n",
    "import matplotlib\n",
    "import matplotlib.pyplot as plt\n",
    "from sklearn.metrics import classification_report, confusion_matrix, precision_score, f1_score, recall_score, accuracy_score, plot_confusion_matrix\n",
    "from sklearn.metrics import ConfusionMatrixDisplay\n",
    "\n",
    "def run_model(model, X_train, y_train, X_test, y_test):\n",
    "    model.fit(X_train, y_train)\n",
    "    train_y_pred = model.predict(X_train)\n",
    "    test_y_pred = model.predict(X_test)\n",
    "    score_train_and_test(y_train, train_y_pred, y_test, test_y_pred)\n",
    "    disp_conf_matrix(y_train, train_y_pred, y_test, test_y_pred)\n",
    "\n",
    "\n",
    "def score_train_and_test(y_train, train_y_pred, y_test, test_y_pred):\n",
    "\n",
    "    # Training Scores\n",
    "    training_accuracy = accuracy_score(y_train, train_y_pred)\n",
    "    training_precision = precision_score(y_train, train_y_pred, average='macro')\n",
    "    training_recall = recall_score(y_train, train_y_pred, average='macro')\n",
    "    training_f1 = f1_score(y_train, train_y_pred, average='macro')\n",
    "    \n",
    "    print(\"TRAINING - Classification Report\")\n",
    "    print(\"Accuracy: {:.1%}\".format(training_accuracy))\n",
    "    print(\"Precision: {:.1%}\".format(training_precision))\n",
    "    print(\"Recall: {:.1%}\".format(training_recall))\n",
    "    print(\"F1: {:.1%}\".format(training_f1))\n",
    "    print(classification_report(y_train, train_y_pred))\n",
    "    \n",
    "    # Testing Scores\n",
    "    testing_accuracy = accuracy_score(y_test, test_y_pred)\n",
    "    testing_precision = precision_score(y_test, test_y_pred, average='macro')\n",
    "    testing_recall = recall_score(y_test, test_y_pred, average='macro')\n",
    "    testing_f1 = f1_score(y_test, test_y_pred, average='macro')\n",
    "    \n",
    "    print(\"TESTING - Classification Report\")\n",
    "    print(\"Accuracy: {:.1%}\".format(testing_accuracy))\n",
    "    print(\"Precision: {:.1%}\".format(testing_precision))\n",
    "    print(\"Recall: {:.1%}\".format(testing_recall))\n",
    "    print(\"F1: {:.1%}\".format(testing_f1))\n",
    "    print(classification_report(y_test, test_y_pred))\n",
    "    \n",
    "\n",
    "def disp_conf_matrix(y_train, train_y_pred, y_test, test_y_pred):\n",
    "    cm_train = confusion_matrix(y_train, train_y_pred, labels=[0,1,2,3,4])\n",
    "    cm_test = confusion_matrix(y_test, test_y_pred, labels=[0,1,2,3,4])\n",
    "    disp1 = ConfusionMatrixDisplay(confusion_matrix=cm_train)\n",
    "    disp2 = ConfusionMatrixDisplay(confusion_matrix=cm_test)\n",
    "    \n",
    "    # plotting two side by side\n",
    "    fig, axes = plt.subplots(nrows=1, ncols=2, figsize=(15, 5))\n",
    "    axes[0].set_title('Training confusion matrix'.upper(), fontsize = 12)\n",
    "    axes[1].set_title('Testing confusion matrix'.upper(), fontsize = 12)\n",
    "    disp1.plot(ax=axes[0])\n",
    "    disp2.plot(ax=axes[1])\n",
    "\n",
    "def scoring(y_real, y_pred, model, X_data): # change y_test to y_real\n",
    "    # Calculates and prints scores for the model\n",
    "    accuracy = accuracy_score(y_real, y_pred)\n",
    "    precision = precision_score(y_real, y_pred, average='macro')\n",
    "    recall = recall_score(y_real, y_pred, average='macro')\n",
    "    f1 = f1_score(y_real, y_pred, average='macro')\n",
    "\n",
    "    print(\"Accuracy: {:.1%}\".format(accuracy))\n",
    "    print(\"Precision: {:.1%}\".format(precision))\n",
    "    print(\"Recall: {:.1%}\".format(recall))\n",
    "    print(\"F1: {:.1%}\".format(f1))\n",
    "\n",
    "    print('\\n')\n",
    "    print(\"Classification Report\")\n",
    "    print('\\n')\n",
    "    print(classification_report(y_real, y_pred))\n",
    "    # Plots a confusion matrix graphic (defined below)\n",
    "    plot = plot_c_matrix(model, X_data, y_real)\n",
    "\n",
    "\n",
    "#### Functions from earlier project #### \n",
    "\n",
    "# note that plot_confustion_matrix needs to rerun the model. That's what you pass in the model again. \n",
    "def plot_c_matrix(model, X_test, y_real):\n",
    "    # Generates a confusion matrix graphic\n",
    "    plot_confusion_matrix(model, X_test, y_real)\n",
    "    plt.grid(False)\n",
    "    plt.show()\n",
    "\n",
    "def add_scores_to_scoring_df(model_name, y_test, predictions_from_X_test, y_train_balanced, predictions_from_X_train):\n",
    "    \n",
    "    # Adds scores to a dataframe for easy comparison\n",
    "    model_scores = pd.read_csv('../data/model_scores.csv', index_col=0)\n",
    "    test_accuracy = round(accuracy_score(y_test, predictions_from_X_test) * 100, 1)\n",
    "    test_precision = round(precision_score(y_test, predictions_from_X_test, zero_division=0) * 100, 1)\n",
    "    test_recall = round(recall_score(y_test, predictions_from_X_test, zero_division=0) * 100, 1)\n",
    "    test_f1 = round(f1_score(y_test, predictions_from_X_test) * 100, 1)\n",
    "\n",
    "    train_accuracy = round(accuracy_score(y_train_balanced, predictions_from_X_train) * 100, 1)\n",
    "    train_precision = round(precision_score(y_train_balanced, predictions_from_X_train, zero_division=0) * 100, 1)\n",
    "    train_recall = round(recall_score(y_train_balanced, predictions_from_X_train, zero_division=0) * 100, 1)\n",
    "    train_f1 = round(f1_score(y_train_balanced, predictions_from_X_train) * 100, 1)\n",
    "    \n",
    "    scores = {'model': model_name,\n",
    "          'test_accuracy': test_accuracy,\n",
    "          'test_precision': test_precision,\n",
    "          'test_recall': test_recall,\n",
    "          'test_f1': test_f1, 'train_accuracy': train_accuracy, \n",
    "          'train_precision': train_precision, \n",
    "          'train_recall': train_recall,\n",
    "          'train_f1': train_f1}\n",
    "    \n",
    "    model_scores = model_scores.append(scores, ignore_index=True)\n",
    "    model_scores.drop_duplicates(keep=\"last\", inplace=True)\n",
    "    model_scores.to_csv('../data/model_scores.csv')\n",
    "    pass\n",
    " \n",
    "def add_scores_to_df(model_name, df, y_test, predictions_from_X_test, y_train_balanced, predictions_from_X_train):\n",
    "    # Adds scores to a dataframe for easy comparison\n",
    "\n",
    "    model_scores = df\n",
    " \n",
    "    test_accuracy = round(accuracy_score(y_test, predictions_from_X_test) * 100, 3)\n",
    "    test_precision = round(precision_score(y_test, predictions_from_X_test, zero_division=0) * 100, 3)\n",
    "    test_recall = round(recall_score(y_test, predictions_from_X_test, zero_division=0) * 100, 3)\n",
    "    test_f1 = round(f1_score(y_test, predictions_from_X_test) * 100, 3)\n",
    "\n",
    "    train_accuracy = round(accuracy_score(y_train_balanced, predictions_from_X_train) * 100, 3)\n",
    "    train_precision = round(precision_score(y_train_balanced, predictions_from_X_train, zero_division=0) * 100, 3)\n",
    "    train_recall = round(recall_score(y_train_balanced, predictions_from_X_train, zero_division=0) * 100, 3)\n",
    "    train_f1 = round(f1_score(y_train_balanced, predictions_from_X_train) * 100, 3)\n",
    "    \n",
    "    scores = {'model': model_name,\n",
    "          'test_accuracy': test_accuracy,\n",
    "          'test_precision': test_precision,\n",
    "          'test_recall': test_recall,\n",
    "          'test_f1': test_f1, 'train_accuracy': train_accuracy, \n",
    "          'train_precision': train_precision, \n",
    "          'train_recall': train_recall,\n",
    "          'train_f1': train_f1}\n",
    "    df_temp = pd.DataFrame.from_records(scores, index=[0])\n",
    "#     columns = ['model', 'test_accuracy', 'test_f1', 'test_precision', 'test_recall', 'train_accuracy', 'train_precision', 'train_recall']\n",
    "\n",
    "    new_df = pd.concat([model_scores, df_temp], sort=False)\n",
    "#     model_scores = model_scores.append(scores, ignore_index=True)\n",
    "#     model_scores.drop_duplicates(keep=\"last\", inplace=True)\n",
    "    new_df = new_df[['model', 'train_accuracy', 'test_accuracy', 'train_precision', 'test_precision', 'train_recall', 'test_recall', 'train_f1', 'test_f1']]\n",
    "    new_df.set_index('model')\n",
    "    return new_df"
   ]
  },
  {
   "cell_type": "markdown",
   "metadata": {},
   "source": [
    "## 1. Import packages"
   ]
  },
  {
   "cell_type": "code",
   "execution_count": 7,
   "metadata": {},
   "outputs": [
    {
     "name": "stdout",
     "output_type": "stream",
     "text": [
      "Defaulting to user installation because normal site-packages is not writeable\n",
      "Collecting imblearn\n",
      "  Downloading imblearn-0.0-py2.py3-none-any.whl (1.9 kB)\n",
      "Collecting imbalanced-learn\n",
      "  Downloading imbalanced_learn-0.9.1-py3-none-any.whl (199 kB)\n",
      "\u001b[2K     \u001b[90m━━━━━━━━━━━━━━━━━━━━━━━━━━━━━━━━━━━━━━━\u001b[0m \u001b[32m199.3/199.3 kB\u001b[0m \u001b[31m4.1 MB/s\u001b[0m eta \u001b[36m0:00:00\u001b[0m00:01\u001b[0m\n",
      "\u001b[?25hRequirement already satisfied: threadpoolctl>=2.0.0 in /Users/kenmye/Library/Python/3.8/lib/python/site-packages (from imbalanced-learn->imblearn) (3.1.0)\n",
      "Requirement already satisfied: scipy>=1.3.2 in /Users/kenmye/Library/Python/3.8/lib/python/site-packages (from imbalanced-learn->imblearn) (1.9.3)\n",
      "Requirement already satisfied: numpy>=1.17.3 in /Users/kenmye/Library/Python/3.8/lib/python/site-packages (from imbalanced-learn->imblearn) (1.23.4)\n",
      "Requirement already satisfied: scikit-learn>=1.1.0 in /Users/kenmye/Library/Python/3.8/lib/python/site-packages (from imbalanced-learn->imblearn) (1.1.3)\n",
      "Requirement already satisfied: joblib>=1.0.0 in /Users/kenmye/Library/Python/3.8/lib/python/site-packages (from imbalanced-learn->imblearn) (1.2.0)\n",
      "Installing collected packages: imbalanced-learn, imblearn\n",
      "Successfully installed imbalanced-learn-0.9.1 imblearn-0.0\n",
      "Note: you may need to restart the kernel to use updated packages.\n"
     ]
    }
   ],
   "source": [
    "#pip install imblearn"
   ]
  },
  {
   "cell_type": "code",
   "execution_count": 2,
   "metadata": {},
   "outputs": [],
   "source": [
    "import numpy as np\n",
    "import pandas as pd\n",
    "import scoring_functions as f\n",
    "\n",
    "from sklearn.feature_extraction.text import TfidfVectorizer, CountVectorizer\n",
    "\n",
    "from sklearn.model_selection import train_test_split, GridSearchCV, cross_val_score\n",
    "from sklearn.metrics import classification_report, accuracy_score, confusion_matrix, recall_score\n",
    "from sklearn.metrics import plot_confusion_matrix\n",
    "from sklearn.metrics import confusion_matrix\n",
    "from sklearn.metrics import ConfusionMatrixDisplay\n",
    "\n",
    "from imblearn.over_sampling import SMOTE\n",
    "\n",
    "from sklearn.naive_bayes import MultinomialNB\n",
    "from sklearn.tree import DecisionTreeClassifier\n",
    "from sklearn.ensemble import GradientBoostingClassifier\n",
    "\n",
    "from sklearn.pipeline import Pipeline\n",
    "\n",
    "import importlib\n",
    "\n",
    "import time\n",
    "import matplotlib.pyplot as plt"
   ]
  },
  {
   "cell_type": "code",
   "execution_count": 9,
   "metadata": {},
   "outputs": [
    {
     "data": {
      "text/plain": [
       "(453, 3)"
      ]
     },
     "execution_count": 9,
     "metadata": {},
     "output_type": "execute_result"
    }
   ],
   "source": [
    "# read datafile\n",
    "df = pd.read_csv('../data/project_data/descriptions_processed.csv')\n",
    "\n",
    "# clean up by removing NaN's, etc.\n",
    "df.drop(['Unnamed: 0'], axis=1, inplace=True)\n",
    "df = df.dropna()\n",
    "df.drop(df.loc[df['description'] == 'name'].index, inplace=True)\n",
    "\n",
    "# replace class names with integers\n",
    "role_dict ={'administrator': 0, 'analyst': 1, 'architect': 2, \n",
    "               'developer': 3, 'director': 4, 'engineer':5, 'leadership':6, 'manager':7, 'specialist':8}\n",
    "df['role'].replace(role_dict, inplace=True)\n",
    "\n",
    "df.shape"
   ]
  },
  {
   "cell_type": "markdown",
   "metadata": {},
   "source": [
    "## 2. Train Test/Split"
   ]
  },
  {
   "cell_type": "code",
   "execution_count": 10,
   "metadata": {},
   "outputs": [],
   "source": [
    "X = df.drop(['role'], axis=1)\n",
    "y = df['role']\n",
    "\n",
    "X_train, X_test, y_train, y_test = train_test_split(X['description'], y, test_size=0.20, random_state=200)"
   ]
  },
  {
   "cell_type": "markdown",
   "metadata": {},
   "source": [
    "## 3. Decision Tree Modeling"
   ]
  },
  {
   "cell_type": "markdown",
   "metadata": {},
   "source": [
    "### 3a. Pipe 1 - Limit TF-IDF using max depth"
   ]
  },
  {
   "cell_type": "code",
   "execution_count": 48,
   "metadata": {},
   "outputs": [
    {
     "data": {
      "text/html": [
       "<style>#sk-container-id-5 {color: black;background-color: white;}#sk-container-id-5 pre{padding: 0;}#sk-container-id-5 div.sk-toggleable {background-color: white;}#sk-container-id-5 label.sk-toggleable__label {cursor: pointer;display: block;width: 100%;margin-bottom: 0;padding: 0.3em;box-sizing: border-box;text-align: center;}#sk-container-id-5 label.sk-toggleable__label-arrow:before {content: \"▸\";float: left;margin-right: 0.25em;color: #696969;}#sk-container-id-5 label.sk-toggleable__label-arrow:hover:before {color: black;}#sk-container-id-5 div.sk-estimator:hover label.sk-toggleable__label-arrow:before {color: black;}#sk-container-id-5 div.sk-toggleable__content {max-height: 0;max-width: 0;overflow: hidden;text-align: left;background-color: #f0f8ff;}#sk-container-id-5 div.sk-toggleable__content pre {margin: 0.2em;color: black;border-radius: 0.25em;background-color: #f0f8ff;}#sk-container-id-5 input.sk-toggleable__control:checked~div.sk-toggleable__content {max-height: 200px;max-width: 100%;overflow: auto;}#sk-container-id-5 input.sk-toggleable__control:checked~label.sk-toggleable__label-arrow:before {content: \"▾\";}#sk-container-id-5 div.sk-estimator input.sk-toggleable__control:checked~label.sk-toggleable__label {background-color: #d4ebff;}#sk-container-id-5 div.sk-label input.sk-toggleable__control:checked~label.sk-toggleable__label {background-color: #d4ebff;}#sk-container-id-5 input.sk-hidden--visually {border: 0;clip: rect(1px 1px 1px 1px);clip: rect(1px, 1px, 1px, 1px);height: 1px;margin: -1px;overflow: hidden;padding: 0;position: absolute;width: 1px;}#sk-container-id-5 div.sk-estimator {font-family: monospace;background-color: #f0f8ff;border: 1px dotted black;border-radius: 0.25em;box-sizing: border-box;margin-bottom: 0.5em;}#sk-container-id-5 div.sk-estimator:hover {background-color: #d4ebff;}#sk-container-id-5 div.sk-parallel-item::after {content: \"\";width: 100%;border-bottom: 1px solid gray;flex-grow: 1;}#sk-container-id-5 div.sk-label:hover label.sk-toggleable__label {background-color: #d4ebff;}#sk-container-id-5 div.sk-serial::before {content: \"\";position: absolute;border-left: 1px solid gray;box-sizing: border-box;top: 0;bottom: 0;left: 50%;z-index: 0;}#sk-container-id-5 div.sk-serial {display: flex;flex-direction: column;align-items: center;background-color: white;padding-right: 0.2em;padding-left: 0.2em;position: relative;}#sk-container-id-5 div.sk-item {position: relative;z-index: 1;}#sk-container-id-5 div.sk-parallel {display: flex;align-items: stretch;justify-content: center;background-color: white;position: relative;}#sk-container-id-5 div.sk-item::before, #sk-container-id-5 div.sk-parallel-item::before {content: \"\";position: absolute;border-left: 1px solid gray;box-sizing: border-box;top: 0;bottom: 0;left: 50%;z-index: -1;}#sk-container-id-5 div.sk-parallel-item {display: flex;flex-direction: column;z-index: 1;position: relative;background-color: white;}#sk-container-id-5 div.sk-parallel-item:first-child::after {align-self: flex-end;width: 50%;}#sk-container-id-5 div.sk-parallel-item:last-child::after {align-self: flex-start;width: 50%;}#sk-container-id-5 div.sk-parallel-item:only-child::after {width: 0;}#sk-container-id-5 div.sk-dashed-wrapped {border: 1px dashed gray;margin: 0 0.4em 0.5em 0.4em;box-sizing: border-box;padding-bottom: 0.4em;background-color: white;}#sk-container-id-5 div.sk-label label {font-family: monospace;font-weight: bold;display: inline-block;line-height: 1.2em;}#sk-container-id-5 div.sk-label-container {text-align: center;}#sk-container-id-5 div.sk-container {/* jupyter's `normalize.less` sets `[hidden] { display: none; }` but bootstrap.min.css set `[hidden] { display: none !important; }` so we also need the `!important` here to be able to override the default hidden behavior on the sphinx rendered scikit-learn.org. See: https://github.com/scikit-learn/scikit-learn/issues/21755 */display: inline-block !important;position: relative;}#sk-container-id-5 div.sk-text-repr-fallback {display: none;}</style><div id=\"sk-container-id-5\" class=\"sk-top-container\"><div class=\"sk-text-repr-fallback\"><pre>GridSearchCV(cv=3,\n",
       "             estimator=Pipeline(steps=[(&#x27;tfidf&#x27;, TfidfVectorizer()),\n",
       "                                       (&#x27;dt&#x27;,\n",
       "                                        DecisionTreeClassifier(random_state=123))]),\n",
       "             param_grid={&#x27;dt__max_depth&#x27;: [4, 6, 8, 10],\n",
       "                         &#x27;tfidf__max_features&#x27;: [400, 800, 1200, 1600],\n",
       "                         &#x27;tfidf__ngram_range&#x27;: [(1, 1), (1, 2), (1, 3)]},\n",
       "             scoring=&#x27;recall_macro&#x27;)</pre><b>In a Jupyter environment, please rerun this cell to show the HTML representation or trust the notebook. <br />On GitHub, the HTML representation is unable to render, please try loading this page with nbviewer.org.</b></div><div class=\"sk-container\" hidden><div class=\"sk-item sk-dashed-wrapped\"><div class=\"sk-label-container\"><div class=\"sk-label sk-toggleable\"><input class=\"sk-toggleable__control sk-hidden--visually\" id=\"sk-estimator-id-17\" type=\"checkbox\" ><label for=\"sk-estimator-id-17\" class=\"sk-toggleable__label sk-toggleable__label-arrow\">GridSearchCV</label><div class=\"sk-toggleable__content\"><pre>GridSearchCV(cv=3,\n",
       "             estimator=Pipeline(steps=[(&#x27;tfidf&#x27;, TfidfVectorizer()),\n",
       "                                       (&#x27;dt&#x27;,\n",
       "                                        DecisionTreeClassifier(random_state=123))]),\n",
       "             param_grid={&#x27;dt__max_depth&#x27;: [4, 6, 8, 10],\n",
       "                         &#x27;tfidf__max_features&#x27;: [400, 800, 1200, 1600],\n",
       "                         &#x27;tfidf__ngram_range&#x27;: [(1, 1), (1, 2), (1, 3)]},\n",
       "             scoring=&#x27;recall_macro&#x27;)</pre></div></div></div><div class=\"sk-parallel\"><div class=\"sk-parallel-item\"><div class=\"sk-item\"><div class=\"sk-label-container\"><div class=\"sk-label sk-toggleable\"><input class=\"sk-toggleable__control sk-hidden--visually\" id=\"sk-estimator-id-18\" type=\"checkbox\" ><label for=\"sk-estimator-id-18\" class=\"sk-toggleable__label sk-toggleable__label-arrow\">estimator: Pipeline</label><div class=\"sk-toggleable__content\"><pre>Pipeline(steps=[(&#x27;tfidf&#x27;, TfidfVectorizer()),\n",
       "                (&#x27;dt&#x27;, DecisionTreeClassifier(random_state=123))])</pre></div></div></div><div class=\"sk-serial\"><div class=\"sk-item\"><div class=\"sk-serial\"><div class=\"sk-item\"><div class=\"sk-estimator sk-toggleable\"><input class=\"sk-toggleable__control sk-hidden--visually\" id=\"sk-estimator-id-19\" type=\"checkbox\" ><label for=\"sk-estimator-id-19\" class=\"sk-toggleable__label sk-toggleable__label-arrow\">TfidfVectorizer</label><div class=\"sk-toggleable__content\"><pre>TfidfVectorizer()</pre></div></div></div><div class=\"sk-item\"><div class=\"sk-estimator sk-toggleable\"><input class=\"sk-toggleable__control sk-hidden--visually\" id=\"sk-estimator-id-20\" type=\"checkbox\" ><label for=\"sk-estimator-id-20\" class=\"sk-toggleable__label sk-toggleable__label-arrow\">DecisionTreeClassifier</label><div class=\"sk-toggleable__content\"><pre>DecisionTreeClassifier(random_state=123)</pre></div></div></div></div></div></div></div></div></div></div></div></div>"
      ],
      "text/plain": [
       "GridSearchCV(cv=3,\n",
       "             estimator=Pipeline(steps=[('tfidf', TfidfVectorizer()),\n",
       "                                       ('dt',\n",
       "                                        DecisionTreeClassifier(random_state=123))]),\n",
       "             param_grid={'dt__max_depth': [4, 6, 8, 10],\n",
       "                         'tfidf__max_features': [400, 800, 1200, 1600],\n",
       "                         'tfidf__ngram_range': [(1, 1), (1, 2), (1, 3)]},\n",
       "             scoring='recall_macro')"
      ]
     },
     "execution_count": 48,
     "metadata": {},
     "output_type": "execute_result"
    }
   ],
   "source": [
    "dt1_pipeline = Pipeline([('tfidf', TfidfVectorizer()), \n",
    "                         ('dt', DecisionTreeClassifier(random_state=123))])\n",
    "dt1_param_grid = {\n",
    "    'tfidf__ngram_range': [(1,1), (1,2), (1,3)],\n",
    "    'tfidf__max_features': [400, 800, 1200, 1600], \n",
    "    'dt__max_depth': [4, 6, 8, 10]\n",
    "}\n",
    "dt1_grid_search = GridSearchCV(estimator=dt1_pipeline,\n",
    "                               param_grid=dt1_param_grid,\n",
    "                               scoring='recall_macro',\n",
    "                               cv=3)\n",
    "dt1_grid_search.fit(X_train, y_train)"
   ]
  },
  {
   "cell_type": "code",
   "execution_count": 51,
   "metadata": {},
   "outputs": [
    {
     "data": {
      "text/plain": [
       "{'dt__max_depth': 10, 'tfidf__max_features': 800, 'tfidf__ngram_range': (1, 1)}"
      ]
     },
     "execution_count": 51,
     "metadata": {},
     "output_type": "execute_result"
    }
   ],
   "source": [
    "dt1_grid_search.best_params_"
   ]
  },
  {
   "cell_type": "code",
   "execution_count": 52,
   "metadata": {},
   "outputs": [
    {
     "data": {
      "text/plain": [
       "0.42507448201892645"
      ]
     },
     "execution_count": 52,
     "metadata": {},
     "output_type": "execute_result"
    }
   ],
   "source": [
    "dt1_grid_search.best_score_"
   ]
  },
  {
   "cell_type": "markdown",
   "metadata": {},
   "source": [
    "### 3b. Pipe 2 - CountVector compared to TF-IDF"
   ]
  },
  {
   "cell_type": "code",
   "execution_count": 53,
   "metadata": {},
   "outputs": [
    {
     "name": "stdout",
     "output_type": "stream",
     "text": [
      "Best Score: 0.377\n"
     ]
    },
    {
     "data": {
      "text/plain": [
       "{'countv__max_features': 4000,\n",
       " 'countv__ngram_range': (1, 1),\n",
       " 'dt__max_depth': 6}"
      ]
     },
     "execution_count": 53,
     "metadata": {},
     "output_type": "execute_result"
    }
   ],
   "source": [
    "dt2_pipeline = Pipeline([('countv', CountVectorizer()), \n",
    "                         ('dt', DecisionTreeClassifier(random_state=123))])\n",
    "\n",
    "dt2_param_grid = {\n",
    "    'countv__ngram_range': [(1,1), (1,2)],\n",
    "    'countv__max_features': [500, 1000, 2500, 4000], \n",
    "    'dt__max_depth': [4, 6, 8]\n",
    "}\n",
    "\n",
    "dt2_grid_search = GridSearchCV(estimator=dt2_pipeline,\n",
    "                               param_grid=dt2_param_grid,\n",
    "                               scoring='recall_macro',\n",
    "                               cv=3)\n",
    "dt2_grid_search.fit(X_train, y_train)\n",
    "print(f'Best Score: {round(dt2_grid_search.best_score_, 3)}')\n",
    "dt2_grid_search.best_params_"
   ]
  },
  {
   "cell_type": "markdown",
   "metadata": {},
   "source": [
    "### 3c. Pipe 3 - TFIDF max features"
   ]
  },
  {
   "cell_type": "code",
   "execution_count": 72,
   "metadata": {},
   "outputs": [
    {
     "name": "stdout",
     "output_type": "stream",
     "text": [
      "Best Score: 0.425\n"
     ]
    },
    {
     "data": {
      "text/plain": [
       "{'dt__max_depth': 10, 'tfidf__max_features': 800}"
      ]
     },
     "execution_count": 72,
     "metadata": {},
     "output_type": "execute_result"
    }
   ],
   "source": [
    "dt3_pipeline = Pipeline([('tfidf', TfidfVectorizer()), \n",
    "                         ('dt', DecisionTreeClassifier(random_state=123))])\n",
    "\n",
    "dt3_param_grid = {\n",
    "    'tfidf__max_features': [500, 800, 1100, 1400], \n",
    "    'dt__max_depth': [10]\n",
    "}\n",
    "\n",
    "dt3_grid_search = GridSearchCV(estimator=dt3_pipeline,\n",
    "                               param_grid=dt3_param_grid,\n",
    "                               scoring='recall_macro',\n",
    "                               cv=3)\n",
    "dt3_grid_search.fit(X_train, y_train)\n",
    "print(f'Best Score: {round(dt3_grid_search.best_score_, 3)}')\n",
    "dt3_grid_search.best_params_"
   ]
  },
  {
   "cell_type": "markdown",
   "metadata": {},
   "source": [
    "### 3d. Pipe 4 - TDIDF optimized max features"
   ]
  },
  {
   "cell_type": "code",
   "execution_count": 55,
   "metadata": {},
   "outputs": [
    {
     "name": "stdout",
     "output_type": "stream",
     "text": [
      "Best Score: 0.4636\n"
     ]
    },
    {
     "data": {
      "text/plain": [
       "{'dt__max_depth': 14, 'dt__min_samples_leaf': 1, 'dt__min_samples_split': 5}"
      ]
     },
     "execution_count": 55,
     "metadata": {},
     "output_type": "execute_result"
    }
   ],
   "source": [
    "dt4_pipeline = Pipeline([('tfidf', TfidfVectorizer(max_features=800, max_df=.7)), \n",
    "                         ('dt', DecisionTreeClassifier(random_state=123))])\n",
    "\n",
    "dt4_param_grid = {\n",
    "    'dt__max_depth': [6, 10, 14],    \n",
    "    'dt__min_samples_split': [2, 5, 10],\n",
    "    'dt__min_samples_leaf': [1, 3, 5]}\n",
    "\n",
    "dt4_grid_search = GridSearchCV(estimator=dt4_pipeline,\n",
    "                               param_grid=dt4_param_grid,\n",
    "                               scoring='recall_macro',\n",
    "                               cv=3)\n",
    "dt4_grid_search.fit(X_train, y_train)\n",
    "print(f'Best Score: {round(dt4_grid_search.best_score_, 4)}')\n",
    "dt4_grid_search.best_params_"
   ]
  },
  {
   "cell_type": "markdown",
   "metadata": {},
   "source": [
    "### 3e. Decision Tree - Best model"
   ]
  },
  {
   "cell_type": "code",
   "execution_count": 58,
   "metadata": {},
   "outputs": [
    {
     "name": "stdout",
     "output_type": "stream",
     "text": [
      "TRAINING - Classification Report\n",
      "Accuracy: 92.8%\n",
      "Precision: 89.5%\n",
      "Recall: 88.7%\n",
      "F1: 88.7%\n",
      "              precision    recall  f1-score   support\n",
      "\n",
      "           0       0.81      0.81      0.81        16\n",
      "           1       0.96      0.99      0.97        72\n",
      "           2       0.67      0.88      0.76        16\n",
      "           3       0.83      0.92      0.87        37\n",
      "           4       1.00      0.97      0.99        35\n",
      "           5       0.99      0.97      0.98       110\n",
      "           6       0.87      0.81      0.84        16\n",
      "           7       0.93      0.85      0.89        46\n",
      "           8       1.00      0.79      0.88        14\n",
      "\n",
      "    accuracy                           0.93       362\n",
      "   macro avg       0.89      0.89      0.89       362\n",
      "weighted avg       0.93      0.93      0.93       362\n",
      "\n",
      "TESTING - Classification Report\n",
      "Accuracy: 53.8%\n",
      "Precision: 37.1%\n",
      "Recall: 37.8%\n",
      "F1: 36.4%\n",
      "              precision    recall  f1-score   support\n",
      "\n",
      "           0       0.17      0.25      0.20         4\n",
      "           1       0.50      0.62      0.56        16\n",
      "           2       0.50      0.50      0.50         4\n",
      "           3       0.40      0.40      0.40         5\n",
      "           4       0.27      0.50      0.35         6\n",
      "           5       0.82      0.73      0.77        37\n",
      "           6       0.25      0.17      0.20         6\n",
      "           7       0.43      0.23      0.30        13\n",
      "           8       0.00      0.00      0.00         0\n",
      "\n",
      "    accuracy                           0.54        91\n",
      "   macro avg       0.37      0.38      0.36        91\n",
      "weighted avg       0.57      0.54      0.54        91\n",
      "\n"
     ]
    },
    {
     "name": "stderr",
     "output_type": "stream",
     "text": [
      "/Users/kenmye/Library/Python/3.8/lib/python/site-packages/sklearn/metrics/_classification.py:1334: UndefinedMetricWarning: Recall is ill-defined and being set to 0.0 in labels with no true samples. Use `zero_division` parameter to control this behavior.\n",
      "  _warn_prf(average, modifier, msg_start, len(result))\n",
      "/Users/kenmye/Library/Python/3.8/lib/python/site-packages/sklearn/metrics/_classification.py:1334: UndefinedMetricWarning: Recall and F-score are ill-defined and being set to 0.0 in labels with no true samples. Use `zero_division` parameter to control this behavior.\n",
      "  _warn_prf(average, modifier, msg_start, len(result))\n",
      "/Users/kenmye/Library/Python/3.8/lib/python/site-packages/sklearn/metrics/_classification.py:1334: UndefinedMetricWarning: Recall and F-score are ill-defined and being set to 0.0 in labels with no true samples. Use `zero_division` parameter to control this behavior.\n",
      "  _warn_prf(average, modifier, msg_start, len(result))\n",
      "/Users/kenmye/Library/Python/3.8/lib/python/site-packages/sklearn/metrics/_classification.py:1334: UndefinedMetricWarning: Recall and F-score are ill-defined and being set to 0.0 in labels with no true samples. Use `zero_division` parameter to control this behavior.\n",
      "  _warn_prf(average, modifier, msg_start, len(result))\n"
     ]
    },
    {
     "data": {
      "image/png": "[encoded data removed]",
      "text/plain": [
       "<Figure size 1500x500 with 4 Axes>"
      ]
     },
     "metadata": {},
     "output_type": "display_data"
    }
   ],
   "source": [
    "# Vectorize X train and test data\n",
    "vectorizer_dt_best = TfidfVectorizer(max_features=800)\n",
    "vect_X_train = vectorizer_dt_best.fit_transform(X_train)\n",
    "vect_X_test = vectorizer_dt_best.transform(X_test)\n",
    "feature_names =  vectorizer_dt_best.get_feature_names_out()\n",
    "# Instantiate model\n",
    "dt_best = DecisionTreeClassifier(\n",
    "    random_state=123,\n",
    "    max_depth=14,\n",
    "    min_samples_leaf=1,\n",
    "    min_samples_split=5)\n",
    "imp.reload(f)\n",
    "f.run_model(dt_best, vect_X_train, y_train, vect_X_test, y_test)"
   ]
  },
  {
   "cell_type": "markdown",
   "metadata": {},
   "source": [
    "## 4. Naive Bayes Modeling"
   ]
  },
  {
   "cell_type": "markdown",
   "metadata": {},
   "source": [
    "### 4a. Pipe 1 - TFIDF limiting and smoothing"
   ]
  },
  {
   "cell_type": "code",
   "execution_count": 62,
   "metadata": {},
   "outputs": [
    {
     "data": {
      "text/html": [
       "<style>#sk-container-id-7 {color: black;background-color: white;}#sk-container-id-7 pre{padding: 0;}#sk-container-id-7 div.sk-toggleable {background-color: white;}#sk-container-id-7 label.sk-toggleable__label {cursor: pointer;display: block;width: 100%;margin-bottom: 0;padding: 0.3em;box-sizing: border-box;text-align: center;}#sk-container-id-7 label.sk-toggleable__label-arrow:before {content: \"▸\";float: left;margin-right: 0.25em;color: #696969;}#sk-container-id-7 label.sk-toggleable__label-arrow:hover:before {color: black;}#sk-container-id-7 div.sk-estimator:hover label.sk-toggleable__label-arrow:before {color: black;}#sk-container-id-7 div.sk-toggleable__content {max-height: 0;max-width: 0;overflow: hidden;text-align: left;background-color: #f0f8ff;}#sk-container-id-7 div.sk-toggleable__content pre {margin: 0.2em;color: black;border-radius: 0.25em;background-color: #f0f8ff;}#sk-container-id-7 input.sk-toggleable__control:checked~div.sk-toggleable__content {max-height: 200px;max-width: 100%;overflow: auto;}#sk-container-id-7 input.sk-toggleable__control:checked~label.sk-toggleable__label-arrow:before {content: \"▾\";}#sk-container-id-7 div.sk-estimator input.sk-toggleable__control:checked~label.sk-toggleable__label {background-color: #d4ebff;}#sk-container-id-7 div.sk-label input.sk-toggleable__control:checked~label.sk-toggleable__label {background-color: #d4ebff;}#sk-container-id-7 input.sk-hidden--visually {border: 0;clip: rect(1px 1px 1px 1px);clip: rect(1px, 1px, 1px, 1px);height: 1px;margin: -1px;overflow: hidden;padding: 0;position: absolute;width: 1px;}#sk-container-id-7 div.sk-estimator {font-family: monospace;background-color: #f0f8ff;border: 1px dotted black;border-radius: 0.25em;box-sizing: border-box;margin-bottom: 0.5em;}#sk-container-id-7 div.sk-estimator:hover {background-color: #d4ebff;}#sk-container-id-7 div.sk-parallel-item::after {content: \"\";width: 100%;border-bottom: 1px solid gray;flex-grow: 1;}#sk-container-id-7 div.sk-label:hover label.sk-toggleable__label {background-color: #d4ebff;}#sk-container-id-7 div.sk-serial::before {content: \"\";position: absolute;border-left: 1px solid gray;box-sizing: border-box;top: 0;bottom: 0;left: 50%;z-index: 0;}#sk-container-id-7 div.sk-serial {display: flex;flex-direction: column;align-items: center;background-color: white;padding-right: 0.2em;padding-left: 0.2em;position: relative;}#sk-container-id-7 div.sk-item {position: relative;z-index: 1;}#sk-container-id-7 div.sk-parallel {display: flex;align-items: stretch;justify-content: center;background-color: white;position: relative;}#sk-container-id-7 div.sk-item::before, #sk-container-id-7 div.sk-parallel-item::before {content: \"\";position: absolute;border-left: 1px solid gray;box-sizing: border-box;top: 0;bottom: 0;left: 50%;z-index: -1;}#sk-container-id-7 div.sk-parallel-item {display: flex;flex-direction: column;z-index: 1;position: relative;background-color: white;}#sk-container-id-7 div.sk-parallel-item:first-child::after {align-self: flex-end;width: 50%;}#sk-container-id-7 div.sk-parallel-item:last-child::after {align-self: flex-start;width: 50%;}#sk-container-id-7 div.sk-parallel-item:only-child::after {width: 0;}#sk-container-id-7 div.sk-dashed-wrapped {border: 1px dashed gray;margin: 0 0.4em 0.5em 0.4em;box-sizing: border-box;padding-bottom: 0.4em;background-color: white;}#sk-container-id-7 div.sk-label label {font-family: monospace;font-weight: bold;display: inline-block;line-height: 1.2em;}#sk-container-id-7 div.sk-label-container {text-align: center;}#sk-container-id-7 div.sk-container {/* jupyter's `normalize.less` sets `[hidden] { display: none; }` but bootstrap.min.css set `[hidden] { display: none !important; }` so we also need the `!important` here to be able to override the default hidden behavior on the sphinx rendered scikit-learn.org. See: https://github.com/scikit-learn/scikit-learn/issues/21755 */display: inline-block !important;position: relative;}#sk-container-id-7 div.sk-text-repr-fallback {display: none;}</style><div id=\"sk-container-id-7\" class=\"sk-top-container\"><div class=\"sk-text-repr-fallback\"><pre>GridSearchCV(cv=3,\n",
       "             estimator=Pipeline(steps=[(&#x27;tfidf&#x27;, TfidfVectorizer()),\n",
       "                                       (&#x27;nb&#x27;, MultinomialNB())]),\n",
       "             param_grid={&#x27;tfidf__max_features&#x27;: [500, 1000, 2500],\n",
       "                         &#x27;tfidf__ngram_range&#x27;: [(1, 1), (1, 2)]},\n",
       "             scoring=&#x27;recall_macro&#x27;)</pre><b>In a Jupyter environment, please rerun this cell to show the HTML representation or trust the notebook. <br />On GitHub, the HTML representation is unable to render, please try loading this page with nbviewer.org.</b></div><div class=\"sk-container\" hidden><div class=\"sk-item sk-dashed-wrapped\"><div class=\"sk-label-container\"><div class=\"sk-label sk-toggleable\"><input class=\"sk-toggleable__control sk-hidden--visually\" id=\"sk-estimator-id-25\" type=\"checkbox\" ><label for=\"sk-estimator-id-25\" class=\"sk-toggleable__label sk-toggleable__label-arrow\">GridSearchCV</label><div class=\"sk-toggleable__content\"><pre>GridSearchCV(cv=3,\n",
       "             estimator=Pipeline(steps=[(&#x27;tfidf&#x27;, TfidfVectorizer()),\n",
       "                                       (&#x27;nb&#x27;, MultinomialNB())]),\n",
       "             param_grid={&#x27;tfidf__max_features&#x27;: [500, 1000, 2500],\n",
       "                         &#x27;tfidf__ngram_range&#x27;: [(1, 1), (1, 2)]},\n",
       "             scoring=&#x27;recall_macro&#x27;)</pre></div></div></div><div class=\"sk-parallel\"><div class=\"sk-parallel-item\"><div class=\"sk-item\"><div class=\"sk-label-container\"><div class=\"sk-label sk-toggleable\"><input class=\"sk-toggleable__control sk-hidden--visually\" id=\"sk-estimator-id-26\" type=\"checkbox\" ><label for=\"sk-estimator-id-26\" class=\"sk-toggleable__label sk-toggleable__label-arrow\">estimator: Pipeline</label><div class=\"sk-toggleable__content\"><pre>Pipeline(steps=[(&#x27;tfidf&#x27;, TfidfVectorizer()), (&#x27;nb&#x27;, MultinomialNB())])</pre></div></div></div><div class=\"sk-serial\"><div class=\"sk-item\"><div class=\"sk-serial\"><div class=\"sk-item\"><div class=\"sk-estimator sk-toggleable\"><input class=\"sk-toggleable__control sk-hidden--visually\" id=\"sk-estimator-id-27\" type=\"checkbox\" ><label for=\"sk-estimator-id-27\" class=\"sk-toggleable__label sk-toggleable__label-arrow\">TfidfVectorizer</label><div class=\"sk-toggleable__content\"><pre>TfidfVectorizer()</pre></div></div></div><div class=\"sk-item\"><div class=\"sk-estimator sk-toggleable\"><input class=\"sk-toggleable__control sk-hidden--visually\" id=\"sk-estimator-id-28\" type=\"checkbox\" ><label for=\"sk-estimator-id-28\" class=\"sk-toggleable__label sk-toggleable__label-arrow\">MultinomialNB</label><div class=\"sk-toggleable__content\"><pre>MultinomialNB()</pre></div></div></div></div></div></div></div></div></div></div></div></div>"
      ],
      "text/plain": [
       "GridSearchCV(cv=3,\n",
       "             estimator=Pipeline(steps=[('tfidf', TfidfVectorizer()),\n",
       "                                       ('nb', MultinomialNB())]),\n",
       "             param_grid={'tfidf__max_features': [500, 1000, 2500],\n",
       "                         'tfidf__ngram_range': [(1, 1), (1, 2)]},\n",
       "             scoring='recall_macro')"
      ]
     },
     "execution_count": 62,
     "metadata": {},
     "output_type": "execute_result"
    }
   ],
   "source": [
    "nb1_pipeline = Pipeline([('tfidf', TfidfVectorizer()), \n",
    "                         ('nb', MultinomialNB())])\n",
    "nb1_param_grid = {\n",
    "    'tfidf__ngram_range': [(1,1), (1,2)],\n",
    "    'tfidf__max_features': [500, 1000, 2500]\n",
    "}\n",
    "nb1_grid_search = GridSearchCV(estimator=nb1_pipeline,\n",
    "                               param_grid=nb1_param_grid,\n",
    "                               scoring='recall_macro',\n",
    "                               cv=3)\n",
    "nb1_grid_search.fit(X_train, y_train)"
   ]
  },
  {
   "cell_type": "code",
   "execution_count": 63,
   "metadata": {},
   "outputs": [
    {
     "data": {
      "text/plain": [
       "{'tfidf__max_features': 500, 'tfidf__ngram_range': (1, 2)}"
      ]
     },
     "execution_count": 63,
     "metadata": {},
     "output_type": "execute_result"
    }
   ],
   "source": [
    "nb1_grid_search.best_params_"
   ]
  },
  {
   "cell_type": "code",
   "execution_count": 64,
   "metadata": {},
   "outputs": [
    {
     "data": {
      "text/plain": [
       "0.189"
      ]
     },
     "execution_count": 64,
     "metadata": {},
     "output_type": "execute_result"
    }
   ],
   "source": [
    "round(nb1_grid_search.best_score_, 3)"
   ]
  },
  {
   "cell_type": "markdown",
   "metadata": {},
   "source": [
    "### 4b. Pipe 2"
   ]
  },
  {
   "cell_type": "code",
   "execution_count": 67,
   "metadata": {},
   "outputs": [
    {
     "data": {
      "text/html": [
       "<style>#sk-container-id-9 {color: black;background-color: white;}#sk-container-id-9 pre{padding: 0;}#sk-container-id-9 div.sk-toggleable {background-color: white;}#sk-container-id-9 label.sk-toggleable__label {cursor: pointer;display: block;width: 100%;margin-bottom: 0;padding: 0.3em;box-sizing: border-box;text-align: center;}#sk-container-id-9 label.sk-toggleable__label-arrow:before {content: \"▸\";float: left;margin-right: 0.25em;color: #696969;}#sk-container-id-9 label.sk-toggleable__label-arrow:hover:before {color: black;}#sk-container-id-9 div.sk-estimator:hover label.sk-toggleable__label-arrow:before {color: black;}#sk-container-id-9 div.sk-toggleable__content {max-height: 0;max-width: 0;overflow: hidden;text-align: left;background-color: #f0f8ff;}#sk-container-id-9 div.sk-toggleable__content pre {margin: 0.2em;color: black;border-radius: 0.25em;background-color: #f0f8ff;}#sk-container-id-9 input.sk-toggleable__control:checked~div.sk-toggleable__content {max-height: 200px;max-width: 100%;overflow: auto;}#sk-container-id-9 input.sk-toggleable__control:checked~label.sk-toggleable__label-arrow:before {content: \"▾\";}#sk-container-id-9 div.sk-estimator input.sk-toggleable__control:checked~label.sk-toggleable__label {background-color: #d4ebff;}#sk-container-id-9 div.sk-label input.sk-toggleable__control:checked~label.sk-toggleable__label {background-color: #d4ebff;}#sk-container-id-9 input.sk-hidden--visually {border: 0;clip: rect(1px 1px 1px 1px);clip: rect(1px, 1px, 1px, 1px);height: 1px;margin: -1px;overflow: hidden;padding: 0;position: absolute;width: 1px;}#sk-container-id-9 div.sk-estimator {font-family: monospace;background-color: #f0f8ff;border: 1px dotted black;border-radius: 0.25em;box-sizing: border-box;margin-bottom: 0.5em;}#sk-container-id-9 div.sk-estimator:hover {background-color: #d4ebff;}#sk-container-id-9 div.sk-parallel-item::after {content: \"\";width: 100%;border-bottom: 1px solid gray;flex-grow: 1;}#sk-container-id-9 div.sk-label:hover label.sk-toggleable__label {background-color: #d4ebff;}#sk-container-id-9 div.sk-serial::before {content: \"\";position: absolute;border-left: 1px solid gray;box-sizing: border-box;top: 0;bottom: 0;left: 50%;z-index: 0;}#sk-container-id-9 div.sk-serial {display: flex;flex-direction: column;align-items: center;background-color: white;padding-right: 0.2em;padding-left: 0.2em;position: relative;}#sk-container-id-9 div.sk-item {position: relative;z-index: 1;}#sk-container-id-9 div.sk-parallel {display: flex;align-items: stretch;justify-content: center;background-color: white;position: relative;}#sk-container-id-9 div.sk-item::before, #sk-container-id-9 div.sk-parallel-item::before {content: \"\";position: absolute;border-left: 1px solid gray;box-sizing: border-box;top: 0;bottom: 0;left: 50%;z-index: -1;}#sk-container-id-9 div.sk-parallel-item {display: flex;flex-direction: column;z-index: 1;position: relative;background-color: white;}#sk-container-id-9 div.sk-parallel-item:first-child::after {align-self: flex-end;width: 50%;}#sk-container-id-9 div.sk-parallel-item:last-child::after {align-self: flex-start;width: 50%;}#sk-container-id-9 div.sk-parallel-item:only-child::after {width: 0;}#sk-container-id-9 div.sk-dashed-wrapped {border: 1px dashed gray;margin: 0 0.4em 0.5em 0.4em;box-sizing: border-box;padding-bottom: 0.4em;background-color: white;}#sk-container-id-9 div.sk-label label {font-family: monospace;font-weight: bold;display: inline-block;line-height: 1.2em;}#sk-container-id-9 div.sk-label-container {text-align: center;}#sk-container-id-9 div.sk-container {/* jupyter's `normalize.less` sets `[hidden] { display: none; }` but bootstrap.min.css set `[hidden] { display: none !important; }` so we also need the `!important` here to be able to override the default hidden behavior on the sphinx rendered scikit-learn.org. See: https://github.com/scikit-learn/scikit-learn/issues/21755 */display: inline-block !important;position: relative;}#sk-container-id-9 div.sk-text-repr-fallback {display: none;}</style><div id=\"sk-container-id-9\" class=\"sk-top-container\"><div class=\"sk-text-repr-fallback\"><pre>GridSearchCV(cv=3,\n",
       "             estimator=Pipeline(steps=[(&#x27;tfidf&#x27;,\n",
       "                                        TfidfVectorizer(ngram_range=(1, 2))),\n",
       "                                       (&#x27;nb&#x27;, MultinomialNB())]),\n",
       "             param_grid={&#x27;nb__alpha&#x27;: [0.7, 1.3],\n",
       "                         &#x27;tfidf__max_features&#x27;: [2500, 4000, 5500]},\n",
       "             scoring=&#x27;recall_macro&#x27;)</pre><b>In a Jupyter environment, please rerun this cell to show the HTML representation or trust the notebook. <br />On GitHub, the HTML representation is unable to render, please try loading this page with nbviewer.org.</b></div><div class=\"sk-container\" hidden><div class=\"sk-item sk-dashed-wrapped\"><div class=\"sk-label-container\"><div class=\"sk-label sk-toggleable\"><input class=\"sk-toggleable__control sk-hidden--visually\" id=\"sk-estimator-id-33\" type=\"checkbox\" ><label for=\"sk-estimator-id-33\" class=\"sk-toggleable__label sk-toggleable__label-arrow\">GridSearchCV</label><div class=\"sk-toggleable__content\"><pre>GridSearchCV(cv=3,\n",
       "             estimator=Pipeline(steps=[(&#x27;tfidf&#x27;,\n",
       "                                        TfidfVectorizer(ngram_range=(1, 2))),\n",
       "                                       (&#x27;nb&#x27;, MultinomialNB())]),\n",
       "             param_grid={&#x27;nb__alpha&#x27;: [0.7, 1.3],\n",
       "                         &#x27;tfidf__max_features&#x27;: [2500, 4000, 5500]},\n",
       "             scoring=&#x27;recall_macro&#x27;)</pre></div></div></div><div class=\"sk-parallel\"><div class=\"sk-parallel-item\"><div class=\"sk-item\"><div class=\"sk-label-container\"><div class=\"sk-label sk-toggleable\"><input class=\"sk-toggleable__control sk-hidden--visually\" id=\"sk-estimator-id-34\" type=\"checkbox\" ><label for=\"sk-estimator-id-34\" class=\"sk-toggleable__label sk-toggleable__label-arrow\">estimator: Pipeline</label><div class=\"sk-toggleable__content\"><pre>Pipeline(steps=[(&#x27;tfidf&#x27;, TfidfVectorizer(ngram_range=(1, 2))),\n",
       "                (&#x27;nb&#x27;, MultinomialNB())])</pre></div></div></div><div class=\"sk-serial\"><div class=\"sk-item\"><div class=\"sk-serial\"><div class=\"sk-item\"><div class=\"sk-estimator sk-toggleable\"><input class=\"sk-toggleable__control sk-hidden--visually\" id=\"sk-estimator-id-35\" type=\"checkbox\" ><label for=\"sk-estimator-id-35\" class=\"sk-toggleable__label sk-toggleable__label-arrow\">TfidfVectorizer</label><div class=\"sk-toggleable__content\"><pre>TfidfVectorizer(ngram_range=(1, 2))</pre></div></div></div><div class=\"sk-item\"><div class=\"sk-estimator sk-toggleable\"><input class=\"sk-toggleable__control sk-hidden--visually\" id=\"sk-estimator-id-36\" type=\"checkbox\" ><label for=\"sk-estimator-id-36\" class=\"sk-toggleable__label sk-toggleable__label-arrow\">MultinomialNB</label><div class=\"sk-toggleable__content\"><pre>MultinomialNB()</pre></div></div></div></div></div></div></div></div></div></div></div></div>"
      ],
      "text/plain": [
       "GridSearchCV(cv=3,\n",
       "             estimator=Pipeline(steps=[('tfidf',\n",
       "                                        TfidfVectorizer(ngram_range=(1, 2))),\n",
       "                                       ('nb', MultinomialNB())]),\n",
       "             param_grid={'nb__alpha': [0.7, 1.3],\n",
       "                         'tfidf__max_features': [2500, 4000, 5500]},\n",
       "             scoring='recall_macro')"
      ]
     },
     "execution_count": 67,
     "metadata": {},
     "output_type": "execute_result"
    }
   ],
   "source": [
    "nb2_pipeline = Pipeline([('tfidf', TfidfVectorizer(ngram_range=(1,2))), \n",
    "                         ('nb', MultinomialNB())])\n",
    "nb2_param_grid = {\n",
    "    'tfidf__max_features': [2500, 4000, 5500],\n",
    "    'nb__alpha': [.7, 1.3]\n",
    "}\n",
    "nb2_grid_search = GridSearchCV(estimator=nb2_pipeline,\n",
    "                               param_grid=nb2_param_grid,\n",
    "                               scoring='recall_macro',\n",
    "                               cv=3)\n",
    "nb2_grid_search.fit(X_train, y_train)\n"
   ]
  },
  {
   "cell_type": "code",
   "execution_count": 68,
   "metadata": {},
   "outputs": [
    {
     "name": "stdout",
     "output_type": "stream",
     "text": [
      "Best Score: 0.1439\n"
     ]
    },
    {
     "data": {
      "text/plain": [
       "{'nb__alpha': 0.7, 'tfidf__max_features': 2500}"
      ]
     },
     "execution_count": 68,
     "metadata": {},
     "output_type": "execute_result"
    }
   ],
   "source": [
    "print(f'Best Score: {round(nb2_grid_search.best_score_, 4)}')\n",
    "nb2_grid_search.best_params_"
   ]
  },
  {
   "cell_type": "markdown",
   "metadata": {},
   "source": [
    "### 4c. Pipe 3 - Count Vector"
   ]
  },
  {
   "cell_type": "code",
   "execution_count": 74,
   "metadata": {},
   "outputs": [
    {
     "name": "stdout",
     "output_type": "stream",
     "text": [
      "Best Score: 0.3628\n"
     ]
    },
    {
     "data": {
      "text/plain": [
       "{'countv__max_features': 1000, 'countv__ngram_range': (1, 2), 'nb__alpha': 0.7}"
      ]
     },
     "execution_count": 74,
     "metadata": {},
     "output_type": "execute_result"
    }
   ],
   "source": [
    "nb3_pipeline = Pipeline([('countv', CountVectorizer()), \n",
    "                         ('nb', MultinomialNB())])\n",
    "\n",
    "nb3_param_grid = {\n",
    "    'countv__ngram_range': [(1,1), (1,2)],\n",
    "    'countv__max_features': [1000, 2500, 4000], \n",
    "    'nb__alpha': [0.7, 1]\n",
    "}\n",
    "\n",
    "nb3_grid_search = GridSearchCV(estimator=nb3_pipeline,\n",
    "                               param_grid=nb3_param_grid,\n",
    "                               scoring='recall_macro',\n",
    "                               cv=3)\n",
    "nb3_grid_search.fit(X_train, y_train)\n",
    "print(f'Best Score: {round(nb3_grid_search.best_score_, 4)}')\n",
    "nb3_grid_search.best_params_"
   ]
  },
  {
   "cell_type": "markdown",
   "metadata": {},
   "source": [
    "### 4d. Pipe 4 - Smote"
   ]
  },
  {
   "cell_type": "code",
   "execution_count": 79,
   "metadata": {},
   "outputs": [
    {
     "name": "stdout",
     "output_type": "stream",
     "text": [
      "Best Score: 0.3594\n"
     ]
    },
    {
     "data": {
      "text/plain": [
       "{'countv__max_features': 550, 'nb__alpha': 0.9}"
      ]
     },
     "execution_count": 79,
     "metadata": {},
     "output_type": "execute_result"
    }
   ],
   "source": [
    "from imblearn.pipeline import Pipeline as imblearnPipeline\n",
    "\n",
    "nb4_pipeline = imblearnPipeline([('countv', CountVectorizer(ngram_range=(1,2))),\n",
    "                                 ('sampling', SMOTE()),\n",
    "                                 ('nb', MultinomialNB())])\n",
    "\n",
    "nb4_param_grid = {\n",
    "    'countv__max_features': [400, 550, 700], \n",
    "    'nb__alpha': [0.55, 0.7, 0.9]\n",
    "}\n",
    "\n",
    "nb4_grid_search = GridSearchCV(estimator=nb4_pipeline,\n",
    "                               param_grid=nb4_param_grid,\n",
    "                               scoring='recall_macro',\n",
    "                               cv=3)\n",
    "nb4_grid_search.fit(X_train, y_train)\n",
    "print(f'Best Score: {round(nb4_grid_search.best_score_, 4)}')\n",
    "nb4_grid_search.best_params_\n"
   ]
  },
  {
   "cell_type": "markdown",
   "metadata": {},
   "source": [
    "### 4e. Best Model"
   ]
  },
  {
   "cell_type": "code",
   "execution_count": 80,
   "metadata": {},
   "outputs": [
    {
     "name": "stdout",
     "output_type": "stream",
     "text": [
      "TRAINING - Classification Report\n",
      "Accuracy: 98.6%\n",
      "Precision: 98.7%\n",
      "Recall: 98.4%\n",
      "F1: 98.5%\n",
      "              precision    recall  f1-score   support\n",
      "\n",
      "           0       1.00      1.00      1.00        16\n",
      "           1       1.00      1.00      1.00        72\n",
      "           2       1.00      0.94      0.97        16\n",
      "           3       1.00      1.00      1.00        37\n",
      "           4       1.00      0.97      0.99        35\n",
      "           5       0.98      0.99      0.99       110\n",
      "           6       0.94      1.00      0.97        16\n",
      "           7       0.96      0.96      0.96        46\n",
      "           8       1.00      1.00      1.00        14\n",
      "\n",
      "    accuracy                           0.99       362\n",
      "   macro avg       0.99      0.98      0.99       362\n",
      "weighted avg       0.99      0.99      0.99       362\n",
      "\n",
      "TESTING - Classification Report\n",
      "Accuracy: 44.0%\n",
      "Precision: 21.8%\n",
      "Recall: 19.3%\n",
      "F1: 17.9%\n",
      "              precision    recall  f1-score   support\n",
      "\n",
      "           0       0.00      0.00      0.00         4\n",
      "           1       0.36      0.25      0.30        16\n",
      "           2       0.00      0.00      0.00         4\n",
      "           3       0.17      0.20      0.18         5\n",
      "           4       0.00      0.00      0.00         6\n",
      "           5       0.46      0.86      0.60        37\n",
      "           6       0.00      0.00      0.00         6\n",
      "           7       0.75      0.23      0.35        13\n",
      "\n",
      "    accuracy                           0.44        91\n",
      "   macro avg       0.22      0.19      0.18        91\n",
      "weighted avg       0.37      0.44      0.36        91\n",
      "\n"
     ]
    },
    {
     "name": "stderr",
     "output_type": "stream",
     "text": [
      "/Users/kenmye/Library/Python/3.8/lib/python/site-packages/sklearn/metrics/_classification.py:1334: UndefinedMetricWarning: Precision is ill-defined and being set to 0.0 in labels with no predicted samples. Use `zero_division` parameter to control this behavior.\n",
      "  _warn_prf(average, modifier, msg_start, len(result))\n",
      "/Users/kenmye/Library/Python/3.8/lib/python/site-packages/sklearn/metrics/_classification.py:1334: UndefinedMetricWarning: Precision and F-score are ill-defined and being set to 0.0 in labels with no predicted samples. Use `zero_division` parameter to control this behavior.\n",
      "  _warn_prf(average, modifier, msg_start, len(result))\n",
      "/Users/kenmye/Library/Python/3.8/lib/python/site-packages/sklearn/metrics/_classification.py:1334: UndefinedMetricWarning: Precision and F-score are ill-defined and being set to 0.0 in labels with no predicted samples. Use `zero_division` parameter to control this behavior.\n",
      "  _warn_prf(average, modifier, msg_start, len(result))\n",
      "/Users/kenmye/Library/Python/3.8/lib/python/site-packages/sklearn/metrics/_classification.py:1334: UndefinedMetricWarning: Precision and F-score are ill-defined and being set to 0.0 in labels with no predicted samples. Use `zero_division` parameter to control this behavior.\n",
      "  _warn_prf(average, modifier, msg_start, len(result))\n"
     ]
    },
    {
     "data": {
      "image/png": "[encoded data removed]",
      "text/plain": [
       "<Figure size 1500x500 with 4 Axes>"
      ]
     },
     "metadata": {},
     "output_type": "display_data"
    }
   ],
   "source": [
    "# Vectorize X train and test data\n",
    "vectorizer_nb_best = CountVectorizer(ngram_range=(1,2), max_features=70000)\n",
    "vect_X_train = vectorizer_nb_best.fit_transform(X_train)\n",
    "vect_X_test = vectorizer_nb_best.transform(X_test)\n",
    "feature_names = vectorizer_nb_best.get_feature_names_out()\n",
    "# Instantiate model\n",
    "nb_best = MultinomialNB(alpha=0.45)\n",
    "f.run_model(nb_best, vect_X_train, y_train, vect_X_test, y_test)"
   ]
  },
  {
   "cell_type": "markdown",
   "metadata": {},
   "source": [
    "## 5. Gradient Boosting"
   ]
  },
  {
   "cell_type": "markdown",
   "metadata": {},
   "source": [
    "### Pipe 1\n",
    "\n",
    "{'dt__max_depth': 14, 'dt__min_samples_leaf': 1, 'dt__min_samples_split': 5} max features=800"
   ]
  },
  {
   "cell_type": "code",
   "execution_count": 81,
   "metadata": {},
   "outputs": [
    {
     "name": "stdout",
     "output_type": "stream",
     "text": [
      "      Iter       Train Loss   Remaining Time \n",
      "         1           1.2273           17.02s\n",
      "         2           0.9609           20.50s\n",
      "         3           0.7738           21.96s\n",
      "         4           0.6315           26.86s\n",
      "         5           0.5178           26.41s\n",
      "         6           0.4295           25.87s\n",
      "         7           0.3580           25.56s\n",
      "         8           0.2975           25.35s\n",
      "         9           0.2480           25.11s\n",
      "        10           0.2079           24.87s\n",
      "        20           0.0395           22.07s\n",
      "        30           0.0117           19.21s\n",
      "        40           0.0068           16.17s\n",
      "        50           0.0060           13.42s\n",
      "        60           0.0058           10.61s\n",
      "        70           0.0058            7.89s\n",
      "        80           0.0058            5.15s\n",
      "        90           0.0058            2.47s\n",
      "       100           0.0058            0.00s\n",
      "      Iter       Train Loss   Remaining Time \n",
      "         1           1.2042           15.88s\n",
      "         2           0.9366           19.38s\n",
      "         3           0.7485           20.73s\n",
      "         4           0.6068           21.74s\n",
      "         5           0.4962           22.35s\n",
      "         6           0.4081           22.72s\n",
      "         7           0.3371           23.03s\n",
      "         8           0.2792           23.21s\n",
      "         9           0.2318           23.26s\n",
      "        10           0.1927           23.20s\n",
      "        20           0.0317           21.42s\n",
      "        30           0.0053           18.82s\n",
      "        40           0.0009           16.17s\n",
      "        50           0.0002           13.32s\n",
      "        60           0.0000           10.55s\n",
      "        70           0.0000            7.82s\n",
      "        80           0.0000            4.99s\n",
      "        90           0.0000            2.41s\n",
      "       100           0.0000            0.00s\n",
      "      Iter       Train Loss   Remaining Time \n",
      "         1           1.2060           14.90s\n",
      "         2           0.9378           19.62s\n",
      "         3           0.7494           22.04s\n",
      "         4           0.6074           22.99s\n",
      "         5           0.4967           23.21s\n",
      "         6           0.4086           23.33s\n",
      "         7           0.3374           23.50s\n",
      "         8           0.2795           23.49s\n",
      "         9           0.2320           25.31s\n",
      "        10           0.1929           25.01s\n",
      "        20           0.0318           22.37s\n",
      "        30           0.0053           19.43s\n",
      "        40           0.0009           16.45s\n",
      "        50           0.0002           13.52s\n",
      "        60           0.0000           10.63s\n",
      "        70           0.0000            7.82s\n",
      "        80           0.0000            5.10s\n",
      "        90           0.0000            2.41s\n",
      "       100           0.0000            0.00s\n",
      "      Iter       Train Loss   Remaining Time \n",
      "         1           1.2155           17.32s\n",
      "         2           0.9466           24.07s\n",
      "         3           0.7577           26.87s\n",
      "         4           0.6155           28.17s\n",
      "         5           0.5045           28.90s\n",
      "         6           0.4162           29.36s\n",
      "         7           0.3449           29.65s\n",
      "         8           0.2868           29.88s\n",
      "         9           0.2392           30.06s\n",
      "        10           0.2000           30.08s\n",
      "        20           0.0382           28.23s\n",
      "        30           0.0114           25.07s\n",
      "        40           0.0068           21.44s\n",
      "        50           0.0060           17.73s\n",
      "        60           0.0058           14.07s\n",
      "        70           0.0058           10.35s\n",
      "        80           0.0058            6.55s\n",
      "        90           0.0058            3.09s\n",
      "       100           0.0058            0.00s\n",
      "      Iter       Train Loss   Remaining Time \n",
      "         1           1.2023           16.04s\n",
      "         2           0.9355           23.67s\n",
      "         3           0.7478           26.80s\n",
      "         4           0.6062           28.35s\n",
      "         5           0.4958           29.21s\n",
      "         6           0.4078           29.76s\n",
      "         7           0.3368           30.07s\n",
      "         8           0.2790           30.37s\n",
      "         9           0.2316           30.61s\n",
      "        10           0.1926           30.76s\n",
      "        20           0.0317           28.94s\n",
      "        30           0.0053           25.43s\n",
      "        40           0.0009           21.64s\n",
      "        50           0.0002           17.80s\n",
      "        60           0.0000           14.13s\n",
      "        70           0.0000           10.32s\n",
      "        80           0.0000            6.50s\n",
      "        90           0.0000            3.07s\n",
      "       100           0.0000            0.00s\n",
      "      Iter       Train Loss   Remaining Time \n",
      "         1           1.2060           13.36s\n",
      "         2           0.9378           21.75s\n",
      "         3           0.7494           25.02s\n",
      "         4           0.6074           26.61s\n",
      "         5           0.4967           27.64s\n",
      "         6           0.4086           28.26s\n",
      "         7           0.3374           28.77s\n",
      "         8           0.2795           29.17s\n",
      "         9           0.2320           29.43s\n",
      "        10           0.1929           29.62s\n",
      "        20           0.0318           28.63s\n",
      "        30           0.0053           25.38s\n",
      "        40           0.0009           21.61s\n",
      "        50           0.0002           17.65s\n",
      "        60           0.0000           13.85s\n",
      "        70           0.0000           10.07s\n",
      "        80           0.0000            6.28s\n",
      "        90           0.0000            2.93s\n",
      "       100           0.0000            0.00s\n",
      "      Iter       Train Loss   Remaining Time \n",
      "         1           1.2139           17.07s\n",
      "         2           0.9455           27.11s\n",
      "         3           0.7569           31.40s\n",
      "         4           0.6149           33.59s\n",
      "         5           0.5041           35.04s\n",
      "         6           0.4158           36.03s\n",
      "         7           0.3446           36.58s\n",
      "         8           0.2866           37.04s\n",
      "         9           0.2390           37.18s\n",
      "        10           0.1998           37.21s\n",
      "        20           0.0381           35.06s\n",
      "        30           0.0114           31.29s\n",
      "        40           0.0068           26.04s\n",
      "        50           0.0060           21.14s\n",
      "        60           0.0058           16.52s\n",
      "        70           0.0058           11.94s\n",
      "        80           0.0058            7.47s\n",
      "        90           0.0058            3.52s\n",
      "       100           0.0058            0.00s\n",
      "      Iter       Train Loss   Remaining Time \n",
      "         1           1.2023           16.12s\n",
      "         2           0.9355           27.43s\n",
      "         3           0.7478           32.01s\n",
      "         4           0.6062           34.14s\n",
      "         5           0.4958           35.31s\n",
      "         6           0.4078           36.12s\n",
      "         7           0.3368           36.62s\n",
      "         8           0.2790           37.01s\n",
      "         9           0.2316           37.29s\n",
      "        10           0.1926           37.41s\n",
      "        20           0.0317           35.45s\n",
      "        30           0.0053           30.79s\n",
      "        40           0.0009           25.88s\n",
      "        50           0.0002           21.11s\n",
      "        60           0.0000           16.75s\n",
      "        70           0.0000           12.14s\n",
      "        80           0.0000            7.58s\n",
      "        90           0.0000            3.54s\n",
      "       100           0.0000            0.00s\n",
      "      Iter       Train Loss   Remaining Time \n",
      "         1           1.2060           13.34s\n",
      "         2           0.9378           24.78s\n",
      "         3           0.7494           29.35s\n",
      "         4           0.6074           31.51s\n",
      "         5           0.4967           32.94s\n",
      "         6           0.4086           33.90s\n",
      "         7           0.3374           34.62s\n",
      "         8           0.2795           35.16s\n",
      "         9           0.2320           35.39s\n",
      "        10           0.1929           35.53s\n",
      "        20           0.0318           33.63s\n",
      "        30           0.0053           29.15s\n",
      "        40           0.0009           24.61s\n",
      "        50           0.0002           20.12s\n",
      "        60           0.0000           15.75s\n",
      "        70           0.0000           11.39s\n",
      "        80           0.0000            7.05s\n",
      "        90           0.0000            3.27s\n",
      "       100           0.0000            0.00s\n",
      "      Iter       Train Loss   Remaining Time \n",
      "         1           1.2093           27.99s\n",
      "         2           0.9416           37.43s\n",
      "         3           0.7534           41.73s\n",
      "         4           0.6116           43.86s\n",
      "         5           0.5010           47.42s\n",
      "         6           0.4129           47.93s\n",
      "         7           0.3418           48.29s\n",
      "         8           0.2839           48.42s\n",
      "         9           0.2364           48.36s\n",
      "        10           0.1973           48.25s\n",
      "        20           0.0360           44.50s\n",
      "        30           0.0093           40.80s\n",
      "        40           0.0048           34.46s\n",
      "        50           0.0040           28.24s\n",
      "        60           0.0039           22.29s\n",
      "        70           0.0038           16.30s\n",
      "        80           0.0038           10.35s\n",
      "        90           0.0038            4.92s\n",
      "       100           0.0038            0.00s\n",
      "Best Score: 0.42\n"
     ]
    },
    {
     "data": {
      "text/plain": [
       "{'gb__max_depth': 14}"
      ]
     },
     "execution_count": 81,
     "metadata": {},
     "output_type": "execute_result"
    }
   ],
   "source": [
    "gb1_pipeline = Pipeline([('tfidf', TfidfVectorizer(max_features=800)), \n",
    "                         ('gb', GradientBoostingClassifier(random_state=123, \n",
    "                                                           verbose=1))])\n",
    "\n",
    "gb1_param_grid = {\n",
    "#     'tfidf__max_features': [7000, 10000, 12500], \n",
    "    'gb__max_depth': [10, 14, 18]\n",
    "#     'gb__learning_rate': [.1, .3]\n",
    "}\n",
    "\n",
    "gb1_grid_search = GridSearchCV(estimator=gb1_pipeline,\n",
    "                               param_grid=gb1_param_grid,\n",
    "                               scoring='recall_macro',\n",
    "                               cv=3)\n",
    "gb1_grid_search.fit(X_train, y_train)\n",
    "print(f'Best Score: {round(gb1_grid_search.best_score_, 3)}')\n",
    "gb1_grid_search.best_params_"
   ]
  }
 ],
 "metadata": {
  "kernelspec": {
   "display_name": "Python 3.8.2 64-bit",
   "language": "python",
   "name": "python3"
  },
  "language_info": {
   "codemirror_mode": {
    "name": "ipython",
    "version": 3
   },
   "file_extension": ".py",
   "mimetype": "text/x-python",
   "name": "python",
   "nbconvert_exporter": "python",
   "pygments_lexer": "ipython3",
   "version": "3.8.2 (default, Aug 25 2020, 09:23:57) \n[Clang 12.0.0 (clang-1200.0.32.2)]"
  },
  "orig_nbformat": 4,
  "vscode": {
   "interpreter": {
    "hash": "31f2aee4e71d21fbe5cf8b01ff0e069b9275f58929596ceb00d14d90e3e16cd6"
   }
  }
 },
 "nbformat": 4,
 "nbformat_minor": 2
}
