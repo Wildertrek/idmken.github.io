{
 "cells": [
  {
   "cell_type": "markdown",
   "metadata": {},
   "source": [
    "https://github.com/csurfer/rake-nltk\n",
    "\n",
    "RAKE short for Rapid Automatic Keyword Extraction algorithm, is a domain independent keyword extraction algorithm which tries to determine key phrases in a body of text by analyzing the frequency of word appearance and its co-occurance with other words in the text."
   ]
  },
  {
   "cell_type": "code",
   "execution_count": null,
   "metadata": {},
   "outputs": [],
   "source": [
    "pip install rake-nltk"
   ]
  },
  {
   "cell_type": "code",
   "execution_count": 2,
   "metadata": {},
   "outputs": [],
   "source": [
    "from rake_nltk import Rake\n",
    "from pathlib import Path"
   ]
  },
  {
   "cell_type": "code",
   "execution_count": 3,
   "metadata": {},
   "outputs": [
    {
     "ename": "TypeError",
     "evalue": "extract_keywords_from_text() missing 1 required positional argument: 'text'",
     "output_type": "error",
     "traceback": [
      "\u001b[0;31m---------------------------------------------------------------------------\u001b[0m",
      "\u001b[0;31mTypeError\u001b[0m                                 Traceback (most recent call last)",
      "Cell \u001b[0;32mIn [3], line 6\u001b[0m\n\u001b[1;32m      4\u001b[0m doc \u001b[39m=\u001b[39m Path(\u001b[39m'\u001b[39m\u001b[39mjobs-20220323.yml\u001b[39m\u001b[39m'\u001b[39m)\u001b[39m.\u001b[39mread_text()\n\u001b[1;32m      5\u001b[0m doc \u001b[39m=\u001b[39m doc\u001b[39m.\u001b[39mreplace(\u001b[39m'\u001b[39m\u001b[39m\\n\u001b[39;00m\u001b[39m'\u001b[39m,\u001b[39m'\u001b[39m\u001b[39m'\u001b[39m)\n\u001b[0;32m----> 6\u001b[0m r\u001b[39m.\u001b[39;49mextract_keywords_from_text(doc)\n\u001b[1;32m      7\u001b[0m r\u001b[39m.\u001b[39mget_ranked_phrases()\n",
      "\u001b[0;31mTypeError\u001b[0m: extract_keywords_from_text() missing 1 required positional argument: 'text'"
     ]
    }
   ],
   "source": [
    "#r = Rake(min_length=1, max_length=3)\n",
    "r = Rake\n",
    "# doc = Path('ficamarchkeywords.txt').read_text()\n",
    "doc = Path('jobs-20220323.yml').read_text()\n",
    "doc = doc.replace('\\n','')\n",
    "r.extract_keywords_from_text(doc)\n",
    "r.get_ranked_phrases()"
   ]
  },
  {
   "cell_type": "code",
   "execution_count": null,
   "metadata": {},
   "outputs": [],
   "source": [
    "r.get_ranked_phrases_with_scores()"
   ]
  }
 ],
 "metadata": {
  "kernelspec": {
   "display_name": "Python 3.8.2 64-bit",
   "language": "python",
   "name": "python3"
  },
  "language_info": {
   "codemirror_mode": {
    "name": "ipython",
    "version": 3
   },
   "file_extension": ".py",
   "mimetype": "text/x-python",
   "name": "python",
   "nbconvert_exporter": "python",
   "pygments_lexer": "ipython3",
   "version": "3.8.2"
  },
  "orig_nbformat": 4,
  "vscode": {
   "interpreter": {
    "hash": "31f2aee4e71d21fbe5cf8b01ff0e069b9275f58929596ceb00d14d90e3e16cd6"
   }
  }
 },
 "nbformat": 4,
 "nbformat_minor": 2
}
