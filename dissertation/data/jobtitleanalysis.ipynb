{
 "cells": [
  {
   "cell_type": "markdown",
   "metadata": {},
   "source": [
    "https://www.kaggle.com/code/sanabdriss/nlp-extract-skills-from-job-Job_descriptions\n",
    "\n",
    "This project consists of finding a correlation between job descriptions and skills."
   ]
  },
  {
   "cell_type": "code",
   "execution_count": null,
   "metadata": {},
   "outputs": [],
   "source": [
    "# pip install numpy pandas sklearn wordcloud textblob"
   ]
  },
  {
   "cell_type": "code",
   "execution_count": 1,
   "metadata": {},
   "outputs": [],
   "source": [
    "import numpy as np # linear algebra\n",
    "import pandas as pd # data processing, json file I/O (e.g. pd.read_json)\n",
    "import string\n",
    "import nltk\n",
    "from nltk.corpus import stopwords\n",
    "from sklearn.naive_bayes import MultinomialNB\n",
    "from sklearn.feature_extraction.text import TfidfVectorizer\n",
    "from sklearn.model_selection import train_test_split\n",
    "from sklearn.metrics import accuracy_score, classification_report, confusion_matrix\n",
    "from wordcloud import WordCloud\n",
    "\n",
    "import matplotlib.pyplot as plt\n",
    "%matplotlib inline\n",
    "from textblob import Word\n",
    "\n",
    "import os\n",
    "for dirname, _, filenames in os.walk('/input/'):\n",
    "    for filename in filenames:\n",
    "        print(os.path.join(dirname, filename))"
   ]
  },
  {
   "cell_type": "code",
   "execution_count": 9,
   "metadata": {},
   "outputs": [
    {
     "name": "stdout",
     "output_type": "stream",
     "text": [
      "\n",
      " ** raw data **\n",
      "\n",
      "    id                                company  \\\n",
      "0   76                             Braintrust   \n",
      "1  372           Strategic Software Solutions   \n",
      "2  120                                Convera   \n",
      "3  200                               Glocomms   \n",
      "4  184  Financial Services-Investment Banking   \n",
      "\n",
      "                                           job_title  \\\n",
      "0  Identity and Access Management Senior Security...   \n",
      "1                              Azure DevOps Engineer   \n",
      "2                                Senior Data Analyst   \n",
      "3                                       IAM Engineer   \n",
      "4  Engineer, Application Security (Identity & Acc...   \n",
      "\n",
      "                                      salary post_date  \\\n",
      "0  $100.00 - $115.00 Per Hour(Employer est.)  11/18/22   \n",
      "1  $100.00 - $125.00 Per Hour(Employer est.)  10/27/22   \n",
      "2              $100K - $120K (Employer est.)  11/17/22   \n",
      "3              $100K - $120K (Employer est.)   11/8/22   \n",
      "4              $100K - $125K (Employer est.)   9/14/22   \n",
      "\n",
      "                                         description  \n",
      "0  JOB TYPE: Freelance, Contract Position (no age...  \n",
      "1  Primary Skills Required: Hands-on experience A...  \n",
      "2  As a Senior Data Analyst within our global com...  \n",
      "3  Location: Alpharetta, GA; Bloomington, IL; Min...  \n",
      "4  Engineer, Application Security\\r\\n\\r\\nThe prim...  \n",
      "\n",
      " ** data shape **\n",
      "\n",
      "(451, 6)\n"
     ]
    }
   ],
   "source": [
    "test = pd.read_csv('data-jobs-20221123.csv')\n",
    "## Delete empty rows (In case I missed parsing a row)\n",
    "test = test.dropna()\n",
    "print(\"\\n ** raw data **\\n\")\n",
    "print(test.head())\n",
    "print(\"\\n ** data shape **\\n\")\n",
    "print(test.shape)"
   ]
  },
  {
   "cell_type": "markdown",
   "metadata": {},
   "source": [
    "There are 451 jobs across 6 columns of data.\n",
    "\n",
    "# 2. Clean Job Titles"
   ]
  },
  {
   "cell_type": "code",
   "execution_count": null,
   "metadata": {},
   "outputs": [],
   "source": []
  },
  {
   "cell_type": "code",
   "execution_count": 10,
   "metadata": {},
   "outputs": [
    {
     "data": {
      "text/plain": [
       "<AxesSubplot: >"
      ]
     },
     "execution_count": 10,
     "metadata": {},
     "output_type": "execute_result"
    },
    {
     "data": {
      "image/png": "[encoded data removed]",
      "text/plain": [
       "<Figure size 800x400 with 1 Axes>"
      ]
     },
     "metadata": {},
     "output_type": "display_data"
    }
   ],
   "source": [
    "fig=plt.figure(figsize=(10, 5), dpi= 80, facecolor='w', edgecolor='k')\n",
    "test.job_title.hist()"
   ]
  },
  {
   "cell_type": "markdown",
   "metadata": {},
   "source": [
    "Preprocess text data\n",
    "Since the data we're now working with is at its rawest form, we need to preprocess it before extracting information from it.\n",
    "\n",
    "in this step, we will:\n",
    "\n",
    "Convert all text to lower cases\n",
    "Delete all tabulation,spaces, and new lines\n",
    "Delete all numericals\n",
    "Delete nltk's defined stop words\n",
    "Lemmatize text"
   ]
  },
  {
   "cell_type": "code",
   "execution_count": 11,
   "metadata": {},
   "outputs": [
    {
     "name": "stdout",
     "output_type": "stream",
     "text": [
      "Preprocessed data: \n",
      "\n",
      "    id                                company  \\\n",
      "0   76                             Braintrust   \n",
      "1  372           Strategic Software Solutions   \n",
      "2  120                                Convera   \n",
      "3  200                               Glocomms   \n",
      "4  184  Financial Services-Investment Banking   \n",
      "\n",
      "                                           job_title  \\\n",
      "0  Identity and Access Management Senior Security...   \n",
      "1                              Azure DevOps Engineer   \n",
      "2                                Senior Data Analyst   \n",
      "3                                       IAM Engineer   \n",
      "4  Engineer, Application Security (Identity & Acc...   \n",
      "\n",
      "                                      salary post_date  \\\n",
      "0  $100.00 - $115.00 Per Hour(Employer est.)  11/18/22   \n",
      "1  $100.00 - $125.00 Per Hour(Employer est.)  10/27/22   \n",
      "2              $100K - $120K (Employer est.)  11/17/22   \n",
      "3              $100K - $120K (Employer est.)   11/8/22   \n",
      "4              $100K - $125K (Employer est.)   9/14/22   \n",
      "\n",
      "                                         description  \n",
      "0  type freelance contract position no agency c c...  \n",
      "1  primary required hand on azuredevops ci cd pip...  \n",
      "2  a a analyst within our global compliance depar...  \n",
      "3  location alpharetta ga bloomington il minneapo...  \n",
      "4  engineer application security the primary role...  \n"
     ]
    }
   ],
   "source": [
    "## Lower case\n",
    "test['description'] = test['description'].apply(lambda x: \" \".join(x.lower()for x in x.split()))\n",
    "## remove tabulation and punctuation\n",
    "test['description'] = test['description'].str.replace('[^\\w\\s]',' ', regex=True)\n",
    "## digits\n",
    "test['description'] = test['description'].str.replace('\\d+', ' ', regex=True)\n",
    "\n",
    "#remove stop words\n",
    "stop = stopwords.words('english')\n",
    "other_stop_words = ['junior', 'senior','experience','etc','job','work','company','technique',\n",
    "                    'candidate','skill','skills','language','menu','inc','new','plus','years',\n",
    "                   'technology','organization','ceo','cto','account','manager','data','scientist','mobile',\n",
    "                    'developer','product','revenue','strong', 'team', 'lumen', 'will', 'benefit']\n",
    "\n",
    "test['description'] = test['description'].apply(lambda x: \" \".join(x for x in x.split() if x not in other_stop_words))\n",
    "\n",
    "## lemmatization\n",
    "test['description'] = test['description'].apply(lambda x: \" \".join([Word(word).lemmatize() for word in x.split()]))\n",
    "\n",
    "print(\"Preprocessed data: \\n\")\n",
    "print(test.head())\n"
   ]
  },
  {
   "cell_type": "markdown",
   "metadata": {},
   "source": [
    "Visualize data\n",
    "In this step, we will aggregate our data by job titles in order to visualy detect the most frequent words for each job."
   ]
  },
  {
   "cell_type": "code",
   "execution_count": null,
   "metadata": {},
   "outputs": [],
   "source": [
    "## jda stands for job description aggregated\n",
    "jda = test.groupby(['title']).sum().reset_index()\n",
    "print(\"Aggregated job descriptions: \\n\")\n",
    "print(jda)"
   ]
  },
  {
   "cell_type": "code",
   "execution_count": null,
   "metadata": {},
   "outputs": [],
   "source": [
    "## Visualize data\n",
    "jobs_list = jda.title.unique().tolist()\n",
    "for job in jobs_list:\n",
    "\n",
    "    # Start with one review:\n",
    "    text = jda[jda.title == job].iloc[0].description\n",
    "    # Create and generate a word cloud image:\n",
    "    wordcloud = WordCloud().generate(text)\n",
    "    print(\"\\n***\",job,\"***\\n\")\n",
    "    # Display the generated image:\n",
    "    plt.imshow(wordcloud, interpolation='bilinear')\n",
    "    plt.axis(\"off\")\n",
    "    plt.show()\n"
   ]
  },
  {
   "cell_type": "code",
   "execution_count": null,
   "metadata": {},
   "outputs": [],
   "source": [
    "# remove other stop words\n",
    "\n",
    "other_stop_words = ['junior', 'senior','experience','etc','job','work','company','technique',\n",
    "                    'candidate','skill','skills','language','menu','inc','new','plus','years',\n",
    "                   'technology','organization','ceo','cto','account','manager','data','scientist','mobile',\n",
    "                    'developer','product','revenue','strong']\n",
    "\n",
    "test['description'] = test['description'].apply(lambda x: \" \".join(x for x in x.split() if x not in other_stop_words))"
   ]
  },
  {
   "cell_type": "markdown",
   "metadata": {},
   "source": [
    "We are now going to translate this skill-extraction problem into a classification one first. And then extract the most important features from each class.\n",
    "\n",
    "The most important features, in this case, represent the words that most likely will belong to a class ( in our case job title)\n",
    "\n",
    "I chose for this exercise to train the naive bayes algorithm."
   ]
  },
  {
   "cell_type": "code",
   "execution_count": null,
   "metadata": {},
   "outputs": [],
   "source": [
    "## Converting text to features \n",
    "vectorizer = TfidfVectorizer()\n",
    "#Tokenize and build vocabulary\n",
    "X = vectorizer.fit_transform(test.description)\n",
    "y = test.title\n",
    "\n",
    "# split data into 80% training and 20% test\n",
    "X_train, X_test, y_train, y_test = train_test_split(X, y, test_size=0.2,random_state=109) \n",
    "print(\"train data shape: \",X_train.shape)\n",
    "print(\"test data shape: \",X_test.shape)\n",
    "\n",
    "# Fit model\n",
    "clf = MultinomialNB()\n",
    "clf.fit(X_train, y_train)\n",
    "## Predict\n",
    "y_predicted = clf.predict(X_test)"
   ]
  },
  {
   "cell_type": "code",
   "execution_count": null,
   "metadata": {},
   "outputs": [],
   "source": [
    "y_train.hist()\n",
    "y_test.hist()"
   ]
  },
  {
   "cell_type": "code",
   "execution_count": null,
   "metadata": {},
   "outputs": [],
   "source": [
    "#evaluate the predictions\n",
    "print(\"Accuracy score is: \",accuracy_score(y_test, y_predicted))\n",
    "print(\"Classes: (to help read Confusion Matrix)\\n\", clf.classes_)\n",
    "print(\"Confusion Matrix: \")\n",
    "\n",
    "print(confusion_matrix(y_test, y_predicted))\n",
    "print(\"Classification Report: \")\n",
    "print(classification_report(y_test, y_predicted))"
   ]
  },
  {
   "cell_type": "markdown",
   "metadata": {},
   "source": [
    "At this step, we have for each class/job a list of the most representative words/tokens found in job descriptions.\n",
    "\n",
    "Let's shrink this list of words to only:\n",
    "\n",
    "6 technical skills\n",
    "6 adjectives\n",
    "To do so, we use the library TextBlob to identify adjectives.\n",
    "\n",
    "Also, given a (non-exhaustive) list of programming languages, we can extract the top technical skills."
   ]
  },
  {
   "cell_type": "code",
   "execution_count": null,
   "metadata": {},
   "outputs": [],
   "source": [
    "from textblob import TextBlob\n",
    "technical_skills = ['python', 'c','r', 'c++','java','hadoop','scala','flask','pandas','spark','scikit-learn','numpy','php','sql','mysql','css','mongdb','nltk','fastai' , 'keras', 'pytorch','tensorflow','linux','Ruby','JavaScript','django','react','reactjs','ai','ui','tableau', 'directory', 'virtual directory', 'radiant logic', 'sailpoint', 'identity proofing', 'identity aggregations', 'identity lifecycle management', 'deprovisioning', 'account management', 'entitlements', 'attribute management', 'reconciliation', 'resolution', 'identity management', 'ldap','active directory', 'azure active directory', 'ad', 'aad', 'mim', 'microsoft identity manager', 'access reviews', 'identity governance and administration', 'identity governance', 'iga', 'recertification', 'identity management', 'entrust', 'venafi', 'one time pin', 'otp' 'FIDO', 'pki', 'enrollment', 'credential management', 'password', 'push notification', 'okta', 'ping', 'single sign-on', 'SSO', 'public key infrastructure', 'authentication', 'authorization', 'access management', 'abac', 'access control', 'saml', 'oidc', 'open id connect', 'active directory federation services', 'adfs', 'policy decision point', 'two-factor authentication', 'tfa', 'mfa', 'multifactor authentication', 'privileged access management', 'pam', 'cyberark', 'beyondtrust', 'thycotic',  'privileged account management', 'policy alignment', 'authentication broker', 'attribute exchange', 'trust framework', 'assertion service', 'federation assertion', 'saml', 'oidc', 'open id connect', 'security token service', 'sts', \n",
    "'trust relationship', 'azure', 'aws']\n",
    "feature_array = vectorizer.get_feature_names()\n",
    "# number of overall model features\n",
    "features_numbers = len(feature_array)\n",
    "## max sorted features number\n",
    "n_max = int(features_numbers * 0.1)\n",
    "\n",
    "##initialize output dataframe\n",
    "output = pd.DataFrame()\n",
    "for i in range(0,len(clf.classes_)):\n",
    "    print(\"\\n****\" ,clf.classes_[i],\"****\\n\")\n",
    "    class_prob_indices_sorted = clf.feature_log_prob_[i, :].argsort()[::-1]\n",
    "    raw_skills = np.take(feature_array, class_prob_indices_sorted[:n_max])\n",
    "    print(\"list of unprocessed skills :\")\n",
    "    print(raw_skills)\n",
    "    \n",
    "    ## Extract technical skills\n",
    "    top_technical_skills= list(set(technical_skills).intersection(raw_skills))[:6]\n",
    "    #print(\"Top technical skills\",top_technical_skills)\n",
    "    \n",
    "    ## Extract adjectives\n",
    "    \n",
    "    # Delete technical skills from raw skills list\n",
    "    ## At this steps, raw skills list doesnt contain the technical skills\n",
    "    #raw_skills = [x for x in raw_skills if x not in top_technical_skills]\n",
    "    #raw_skills = list(set(raw_skills) - set(top_technical_skills))\n",
    "\n",
    "    # transform list to string\n",
    "    txt = \" \".join(raw_skills)\n",
    "    blob = TextBlob(txt)\n",
    "    #top 6 adjective\n",
    "    top_adjectives = [w for (w, pos) in TextBlob(txt).pos_tags if pos.startswith(\"JJ\")][:6]\n",
    "    #print(\"Top 6 adjectives: \",top_adjectives)\n",
    "    \n",
    "    output = output.append({'title':clf.classes_[i],\n",
    "                        'technical_skills':top_technical_skills,\n",
    "                        'soft_skills':top_adjectives },\n",
    "                       ignore_index=True)"
   ]
  },
  {
   "cell_type": "code",
   "execution_count": null,
   "metadata": {},
   "outputs": [],
   "source": [
    "print(output.T)"
   ]
  }
 ],
 "metadata": {
  "kernelspec": {
   "display_name": "Python 3.8.2 64-bit",
   "language": "python",
   "name": "python3"
  },
  "language_info": {
   "codemirror_mode": {
    "name": "ipython",
    "version": 3
   },
   "file_extension": ".py",
   "mimetype": "text/x-python",
   "name": "python",
   "nbconvert_exporter": "python",
   "pygments_lexer": "ipython3",
   "version": "3.8.2"
  },
  "orig_nbformat": 4,
  "vscode": {
   "interpreter": {
    "hash": "31f2aee4e71d21fbe5cf8b01ff0e069b9275f58929596ceb00d14d90e3e16cd6"
   }
  }
 },
 "nbformat": 4,
 "nbformat_minor": 2
}
