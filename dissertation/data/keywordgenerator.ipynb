{
 "cells": [
  {
   "cell_type": "markdown",
   "metadata": {},
   "source": [
    "https://www.analyticsvidhya.com/blog/2020/11/words-that-matter-a-simple-guide-to-keyword-extraction-in-python/?\n",
    "\n",
    "Term Frequency – How frequently a term occurs in a text. It is measured as the number of times a term t appears in the text / Total number of words in the document\n",
    "\n",
    "Inverse Document Frequency – How important a word is in a document. It is measured as log(total number of sentences / Number of sentences with term t)\n",
    "\n",
    "TF-IDF – Words’ importance is measure by this score. It is measured as TF * IDF"
   ]
  },
  {
   "cell_type": "code",
   "execution_count": null,
   "metadata": {},
   "outputs": [],
   "source": [
    "# pip install nltk"
   ]
  },
  {
   "cell_type": "markdown",
   "metadata": {},
   "source": [
    "# 1. Import packages"
   ]
  },
  {
   "cell_type": "code",
   "execution_count": 2,
   "metadata": {},
   "outputs": [],
   "source": [
    "import nltk\n",
    "import math\n",
    "import bs4\n",
    "import requests\n",
    "import pandas as pd\n",
    "import json\n",
    "from nltk.corpus import stopwords\n",
    "from nltk.tokenize import sent_tokenize, word_tokenize\n",
    "from nltk import tokenize\n",
    "from operator import itemgetter\n",
    "# from bs4 import BeautifulSoup\n",
    "from pathlib import Path\n",
    "# nltk.download(\"all\")"
   ]
  },
  {
   "cell_type": "markdown",
   "metadata": {},
   "source": [
    "# 2. Created a text file"
   ]
  },
  {
   "cell_type": "code",
   "execution_count": 4,
   "metadata": {},
   "outputs": [],
   "source": [
    "doc = Path('job-title.txt').read_text()"
   ]
  },
  {
   "cell_type": "markdown",
   "metadata": {},
   "source": [
    "# 3. Tokenize Words - token_word"
   ]
  },
  {
   "cell_type": "code",
   "execution_count": 5,
   "metadata": {},
   "outputs": [
    {
     "ename": "SyntaxError",
     "evalue": "invalid syntax (798736283.py, line 3)",
     "output_type": "error",
     "traceback": [
      "\u001b[0;36m  Cell \u001b[0;32mIn [5], line 3\u001b[0;36m\u001b[0m\n\u001b[0;31m    other_stop_words = ['identity', 'access','management','senior','security','azure','data','devops','iam','application','platform','sme','remote','cybersecurity','cloud','product', 'oracle','analytics','home', 'based', 'worker', 'golang','c','multithreading','sr', 'sap', 'grc','engineering','information','front', 'end','technical', 'business','principle', 'global','icrm', 'aml', 'compliance', 'governance', 'integrity','hybrid', 'team','ii','pm','conditional', 'team','privileged','backend', 'software','administration', 'sentinel', 'gbsd', 'staff','3036', '1','cyber', 'services', 'governance', 'resource', 'program','owner', 'storage', 'backup','service', 'operations', 'software','systems','mgmt','mid','iii','idam','ai','customer','site','care','date','ciam','admin','sso','air', 'vehicle', 'configuration', 'design', 'integration','sailpoint', 'iiq', 'applications', 'support','helpdesk', 'l2', 'l3', 'solution','web', 'app', 'manual', 'qa', '100', 'hris','december', '2022', 'may', '2023', 'graduates', 'control','assoc', 'dod', 'level', 'assurance', 'scrum', 'maestro', 'detection', 'sales', 'ml', 'open', 'protection', 'atlantic', 'lms', 'privacy','accesss', 'iga', 'saml', 'center', 'mgt', 'ad', 'role', 'icam', 'tester', 'engagement', 'system', 'secrets', 'needs', 'dlp', 'isd', 'arity', 'eligible', 'co', 'grad', 'strategy', 'digital', 'siteminder', 'trust', 'contractor', 'contract', 'soc', 'ui', 'issues', 'location', 'log', 'transformation', 'prevention', 'learning', 'austin', 'relations', 'college', 'related', 'arlington', 'summer', 'remotely', 'loss', 'na', 'ic', 'ny', 'assistant', 'science', 'health', 'credential', 'reliability', 'logistics', 'audit', 'consumer', 'saviynt', 'op', 'usds', 'option', 'federation', 'part', 'new', 'industry', 'ping': 0.05164878823996821, 'temp': 0.05085419149781486, 'innovation': 0.04926499801350814, 'epic': 0.04926499801350814, 'bi': 0.04847040127135479, 'vice': 0.04767580452920143, 'engineer': 0.04407402460841682, 'bis': 0.04370282081843464, 'enterprise': 0.04370282081843464, 'corporation': 0.04290822407628129, 'response': 0.04211362733412793, 'h': 0.04211362733412793, 'implementation': 0.04052443384982122, 'opportunity': 0.04052443384982121, 'hr': 0.03814064362336114, 'architect': 0.037724238716238534, 'biometric': 0.03655145013905443, 'party': 0.03655145013905443, 'device': 0.03655145013905443, 'endpoint': 0.03496225665474772, 'technologies': 0.03496225665474772, 'compensation': 0.03496225665474772, 'change': 0.033373063170441, 'payroll']\u001b[0m\n\u001b[0m                                                                                                                                                                                                                                                                                                                                                                                                                                                                                                                                                                                                                                                                                                                                                                                                                                                                                                                                                                                                                                                                                                                                                                                                                                                                                                                                                                                                                                                                                                                                                                                                                                                                                                                                                                                                                                            ^\u001b[0m\n\u001b[0;31mSyntaxError\u001b[0m\u001b[0;31m:\u001b[0m invalid syntax\n"
     ]
    }
   ],
   "source": [
    "# Generate stop word list\n",
    "stop_words = nltk.corpus.stopwords.words('english')\n",
    "other_stop_words = ['identity', 'access','management','senior','security','azure','data','devops','iam','application','platform','sme','remote','cybersecurity','cloud','product', 'oracle','analytics','home', 'based', 'worker', 'golang','c','multithreading','sr', 'sap', 'grc','engineering','information','front', 'end','technical', 'business','principle', 'global','icrm', 'aml', 'compliance', 'governance', 'integrity','hybrid', 'team','ii','pm','conditional', 'team','privileged','backend', 'software','administration', 'sentinel', 'gbsd', 'staff','3036', '1','cyber', 'services', 'governance', 'resource', 'program','owner', 'storage', 'backup','service', 'operations', 'software','systems','mgmt','mid','iii','idam','ai','customer','site','care','date','ciam','admin','sso','air', 'vehicle', 'configuration', 'design', 'integration','sailpoint', 'iiq', 'applications', 'support','helpdesk', 'l2', 'l3', 'solution','web', 'app', 'manual', 'qa', '100', 'hris','december', '2022', 'may', '2023', 'graduates', 'control','assoc', 'dod', 'level', 'assurance', 'scrum', 'maestro', 'detection', 'sales', 'ml', 'open', 'protection', 'atlantic', 'lms', 'privacy','accesss', 'iga', 'saml', 'center', 'mgt', 'ad', 'role', 'icam', 'tester', 'engagement', 'system', 'secrets', 'needs', 'dlp', 'isd', 'arity', 'eligible', 'co', 'grad', 'strategy', 'digital', 'siteminder', 'trust', 'contractor', 'contract', 'soc', 'ui', 'issues', 'location', 'log', 'transformation', 'prevention', 'learning', 'austin', 'relations', 'college', 'related', 'arlington', 'summer', 'remotely', 'loss', 'na', 'ic', 'ny', 'assistant', 'science', 'health', 'credential', 'reliability', 'logistics', 'audit', 'consumer', 'saviynt', 'op', 'usds', 'option', 'federation', 'part', 'new', 'industry', 'ping', 'temp', 'innovation', 'epic': 0.04926499801350814, 'bi': 0.04847040127135479, 'vice': 0.04767580452920143, 'engineer': 0.04407402460841682, 'bis': 0.04370282081843464, 'enterprise': 0.04370282081843464, 'corporation': 0.04290822407628129, 'response': 0.04211362733412793, 'h': 0.04211362733412793, 'implementation': 0.04052443384982122, 'opportunity': 0.04052443384982121, 'hr': 0.03814064362336114, 'architect': 0.037724238716238534, 'biometric': 0.03655145013905443, 'party': 0.03655145013905443, 'device': 0.03655145013905443, 'endpoint': 0.03496225665474772, 'technologies': 0.03496225665474772, 'compensation': 0.03496225665474772, 'change': 0.033373063170441, 'payroll']\n",
    "\n",
    "stop_words.extend(other_stop_words)\n",
    "\n",
    "# Make everything lower case\n",
    "word_doc = doc.lower()\n",
    "\n",
    "#total_words = doc.split()\n",
    "\n",
    "#Tokenize words\n",
    "tokenizer = nltk.RegexpTokenizer(r\"\\w+\")\n",
    "word_tokens = tokenizer.tokenize(word_doc)\n",
    "\n",
    "#print(new_words)\n",
    "  \n",
    "# Remove stop words\n",
    "token_word = [w for w in word_tokens if not w.lower() in stop_words]\n",
    "  \n",
    "for w in word_tokens:\n",
    "    if w not in stop_words:\n",
    "        token_word.append(w)\n",
    "\n",
    "print(len(token_word))\n",
    "  \n",
    "print(token_word)"
   ]
  },
  {
   "cell_type": "markdown",
   "metadata": {},
   "source": [
    "# 4. Tokenize Sentences"
   ]
  },
  {
   "cell_type": "code",
   "execution_count": 81,
   "metadata": {},
   "outputs": [
    {
     "name": "stdout",
     "output_type": "stream",
     "text": [
      "451\n"
     ]
    }
   ],
   "source": [
    "total_sentences = tokenize.sent_tokenize(doc)\n",
    "total_sent_len = len(total_sentences)\n",
    "print(total_sent_len)"
   ]
  },
  {
   "cell_type": "markdown",
   "metadata": {},
   "source": [
    "# 3a. Calculate term frequency for each word"
   ]
  },
  {
   "cell_type": "code",
   "execution_count": 105,
   "metadata": {},
   "outputs": [
    {
     "name": "stdout",
     "output_type": "stream",
     "text": [
      "{'engineer': 0.11362733412793008, 'analyst': 0.05959475566150179, 'manager': 0.04052443384982122, 'vp': 0.006356773937226857, 'developer': 0.027016289233214145, 'lead': 0.015097338100913786, 'director': 0.026221692491060787, 'associate': 0.00874056416368693, 'specialist': 0.007945967421533572, 'scientist': 0.0055621771950735005, 'head': 0.003972983710766786, 'architect': 0.015891934843067144, 'principal': 0.0055621771950735005, 'coordinator': 0.0007945967421533572, 'development': 0.0031783869686134287, 'aws': 0.0023837902264600714, 'virtual': 0.0015891934843067143, 'architecture': 0.0007945967421533572, 'chief': 0.0007945967421533572, 'technology': 0.007945967421533572, 'officer': 0.0015891934843067143, 'mts': 0.0007945967421533572, 'pam': 0.0023837902264600714, 'full': 0.0015891934843067143, 'time': 0.0023837902264600714, 'reporting': 0.0023837902264600714, 'nj': 0.0007945967421533572, 'leader': 0.0023837902264600714, 'tech': 0.0015891934843067143, 'fraud': 0.0007945967421533572, 'risk': 0.0015891934843067143, 'intelligence': 0.0015891934843067143, 'solutions': 0.0055621771950735005, 'us': 0.0031783869686134287, 'fully': 0.0007945967421533572, 'project': 0.0055621771950735005, 'usds': 0.0007945967421533572, 'new': 0.0015891934843067143, 'york': 0.0015891934843067143, 'c360': 0.0007945967421533572, 'exam': 0.0007945967421533572, 'industry': 0.0007945967421533572, 'monetization': 0.0007945967421533572, 'reliability': 0.0023837902264600714, 'science': 0.0007945967421533572, 'foundational': 0.0007945967421533572, 'äîidentity': 0.0007945967421533572, 'platforms': 0.0007945967421533572, 'option': 0.0007945967421533572, 'opportunity': 0.0023837902264600714, 'endpoint': 0.0007945967421533572, 'response': 0.0007945967421533572, 'java': 0.0023837902264600714, 'provisioning': 0.0007945967421533572, 'desk': 0.0015891934843067143, 'administrator': 0.012713547874453715, 'forgerock': 0.0031783869686134287, 'consultant': 0.010329757647993643, 'payroll': 0.0007945967421533572, 'implementation': 0.0007945967421533572, 'logistics': 0.0007945967421533572, 'salesforce': 0.0007945967421533572, 'quality': 0.0031783869686134287, 'duke': 0.0007945967421533572, 'health': 0.0023837902264600714, 'technologies': 0.0015891934843067143, 'supervisor': 0.0007945967421533572, 'basic': 0.0007945967421533572, 'assistant': 0.0007945967421533572, '70': 0.0007945967421533572, 'hr': 0.0007945967421533572, 'jr': 0.0015891934843067143, 'help': 0.0007945967421533572, 'environmental': 0.0007945967421533572, 'water': 0.0007945967421533572, 'wastewater': 0.0007945967421533572, 'okta': 0.0007945967421533572, 'database': 0.0007945967421533572, 'ic': 0.0007945967421533572, 'authentication': 0.0015891934843067143, 'h': 0.0007945967421533572, 'available': 0.0007945967421533572, 'compensation': 0.0007945967421533572, 'volunteer': 0.0007945967421533572, 'part': 0.0007945967421533572, 'cyberark': 0.0007945967421533572, 'junior': 0.0015891934843067143, 'midlevel': 0.0007945967421533572, 'biometric': 0.0007945967421533572, 'pasadena': 0.0007945967421533572, '0520u': 0.0007945967421533572, 'berkeley': 0.0007945967421533572, '41278': 0.0007945967421533572, 'o365': 0.0007945967421533572, 'saviynt': 0.0015891934843067143, 'markets': 0.0007945967421533572, 'audit': 0.0007945967421533572, 'third': 0.0007945967421533572, 'party': 0.0007945967421533572, 'oversight': 0.0015891934843067143, 'delivery': 0.0007945967421533572, 'executive_selling': 0.0007945967421533572, 'products': 0.0007945967421533572, 'zero': 0.0007945967421533572, 'federation': 0.0015891934843067143, 'c13': 0.0015891934843067143, 'innovation': 0.0007945967421533572, 'strategist': 0.0015891934843067143, 'sql': 0.0007945967421533572, 'firmware': 0.0007945967421533572, 'hardware': 0.0007945967421533572, 'master': 0.0015891934843067143, '1235': 0.0007945967421533572, 'working': 0.0007945967421533572, 'ny': 0.0007945967421533572, 'back': 0.0007945967421533572, 'op': 0.0007945967421533572, 'power': 0.0007945967421533572, 'bi': 0.0007945967421533572, 'work': 0.0007945967421533572, 'schedule': 0.0007945967421533572, '4': 0.0007945967421533572, 'machine': 0.0007945967421533572, 'experian': 0.0007945967421533572, 'bis': 0.0007945967421533572, 'kubernetes': 0.0007945967421533572, 'phc': 0.0007945967421533572, 'epic': 0.0007945967421533572, 'beacon': 0.0007945967421533572, 'experience': 0.0007945967421533572, 'loss': 0.0023837902264600714, 'enterprise': 0.0007945967421533572, 'workforce': 0.0007945967421533572, 'privilege': 0.0007945967421533572, 'credential': 0.0007945967421533572, 'infrastructure': 0.0007945967421533572, 'linux': 0.0007945967421533572, 'group': 0.0007945967421533572, 'consumer': 0.0007945967421533572, 'discovery': 0.0007945967421533572, 'temp': 0.0007945967421533572, 'flexible': 0.0007945967421533572, 'na': 0.0007945967421533572, '3': 0.0007945967421533572, 'change': 0.0007945967421533572, 'enablement': 0.0007945967421533572, 'benefits': 0.0007945967421533572, 'subsidiary': 0.0007945967421533572, 'corporation': 0.0007945967421533572, '2': 0.0007945967421533572, 'marketing': 0.0007945967421533572, '898168': 0.0007945967421533572, 'vice': 0.0007945967421533572, 'president': 0.0007945967421533572, 'ping': 0.0007945967421533572, 'expert': 0.0007945967421533572, 'verizon': 0.0007945967421533572, 'device': 0.0007945967421533572, 'bellevue': 0.0007945967421533572, 'wa': 0.0007945967421533572}\n"
     ]
    }
   ],
   "source": [
    "tf_score = {}\n",
    "for each_word in token_word:\n",
    "    each_word = each_word.replace('.','')\n",
    "    if each_word not in stop_words:\n",
    "        if each_word in tf_score:\n",
    "            tf_score[each_word] += 1\n",
    "        else:\n",
    "            tf_score[each_word] = 1\n",
    "\n",
    "# Dividing by total_word_length for each dictionary element\n",
    "tf_score.update((x, y/int(total_word_length)) for x, y in tf_score.items())\n",
    "print(tf_score)"
   ]
  },
  {
   "cell_type": "markdown",
   "metadata": {},
   "source": [
    "Function to check if word is present in a sentence list"
   ]
  },
  {
   "cell_type": "code",
   "execution_count": 106,
   "metadata": {},
   "outputs": [],
   "source": [
    "def check_sent(word, sentences): \n",
    "    final = [all([w in x for w in word]) for x in sentences] \n",
    "    sent_len = [sentences[i] for i in range(0, len(final)) if final[i]]\n",
    "    return int(len(sent_len))"
   ]
  },
  {
   "cell_type": "markdown",
   "metadata": {},
   "source": [
    "Calculate inverse document frequency for each word"
   ]
  },
  {
   "cell_type": "code",
   "execution_count": 107,
   "metadata": {},
   "outputs": [
    {
     "ename": "ZeroDivisionError",
     "evalue": "division by zero",
     "output_type": "error",
     "traceback": [
      "\u001b[0;31m---------------------------------------------------------------------------\u001b[0m",
      "\u001b[0;31mZeroDivisionError\u001b[0m                         Traceback (most recent call last)",
      "Cell \u001b[0;32mIn [107], line 11\u001b[0m\n\u001b[1;32m      8\u001b[0m             idf_score[each_word] \u001b[39m=\u001b[39m \u001b[39m1\u001b[39m\n\u001b[1;32m     10\u001b[0m \u001b[39m# Performing a log and divide\u001b[39;00m\n\u001b[0;32m---> 11\u001b[0m idf_score\u001b[39m.\u001b[39;49mupdate((x, math\u001b[39m.\u001b[39;49mlog(\u001b[39mint\u001b[39;49m(total_sent_len)\u001b[39m/\u001b[39;49my)) \u001b[39mfor\u001b[39;49;00m x, y \u001b[39min\u001b[39;49;00m idf_score\u001b[39m.\u001b[39;49mitems())\n\u001b[1;32m     13\u001b[0m \u001b[39mprint\u001b[39m(idf_score)\n",
      "Cell \u001b[0;32mIn [107], line 11\u001b[0m, in \u001b[0;36m<genexpr>\u001b[0;34m(.0)\u001b[0m\n\u001b[1;32m      8\u001b[0m             idf_score[each_word] \u001b[39m=\u001b[39m \u001b[39m1\u001b[39m\n\u001b[1;32m     10\u001b[0m \u001b[39m# Performing a log and divide\u001b[39;00m\n\u001b[0;32m---> 11\u001b[0m idf_score\u001b[39m.\u001b[39mupdate((x, math\u001b[39m.\u001b[39mlog(\u001b[39mint\u001b[39;49m(total_sent_len)\u001b[39m/\u001b[39;49my)) \u001b[39mfor\u001b[39;00m x, y \u001b[39min\u001b[39;00m idf_score\u001b[39m.\u001b[39mitems())\n\u001b[1;32m     13\u001b[0m \u001b[39mprint\u001b[39m(idf_score)\n",
      "\u001b[0;31mZeroDivisionError\u001b[0m: division by zero"
     ]
    }
   ],
   "source": [
    "idf_score = {}\n",
    "for each_word in token_word:\n",
    "    each_word = each_word.replace('.','')\n",
    "    if each_word not in stop_words:\n",
    "        if each_word in idf_score:\n",
    "            idf_score[each_word] = check_sent(each_word, total_sentences)\n",
    "        else:\n",
    "            idf_score[each_word] = 1\n",
    "\n",
    "# Performing a log and divide\n",
    "idf_score.update((x, math.log(int(total_sent_len)/y)) for x, y in idf_score.items())\n",
    "\n",
    "print(idf_score)"
   ]
  },
  {
   "cell_type": "markdown",
   "metadata": {},
   "source": [
    "Calculate tf * idf"
   ]
  },
  {
   "cell_type": "code",
   "execution_count": 108,
   "metadata": {},
   "outputs": [
    {
     "name": "stdout",
     "output_type": "stream",
     "text": [
      "{'engineer': 0.04407402460841682, 'analyst': 0.06213129542803617, 'manager': 0.02326641771687821, 'vp': 0.013492146478750284, 'developer': 0.07606788724588309, 'lead': 0.01854957721208569, 'director': 0.024973855645219648, 'associate': 0.0070637955867140475, 'specialist': 0.01813926057221759, 'scientist': 0.0019786061830833245, 'head': 0.009431059679059633, 'architect': 0.037724238716238534, 'principal': 0.012346070154743236, 'coordinator': 0.000770602926499816, 'development': 0.010066041669721852, 'aws': 0.007427258798447407, 'virtual': 0.005636103269036379, 'architecture': 0.002516510417430463, 'chief': 0.0031102445468148263, 'technology': 0.02364698548727476, 'officer': 0.003463872398535324, 'mts': 0.0002851765599340845, 'pam': 0.0047689951736099336, 'full': 0.004951505865631605, 'time': 0.0007374230372481895, 'reporting': 0.0051041130535174175, 'nj': 0.0033099381727829677, 'leader': 0.0035434911232858335, 'tech': 0.0035274486156409244, 'fraud': 0.002436984427317644, 'risk': 0.005306124143445208, 'intelligence': 0.002001489194410904, 'solutions': 0.010523414732050856, 'us': 0.003953700084376944, 'fully': 0.002653062071722604, 'project': 0.0, 'usds': 0.06436233611442194, 'new': 0.052443384982121574, 'york': 0.022248708780294002, 'c360': 0.0007945967421533572, 'exam': 0.003972983710766786, 'industry': 0.05164878823996821, 'monetization': 0.0015891934843067143, 'reliability': 0.07389749702026222, 'science': 0.25109257052046086, 'foundational': 0.007945967421533572, 'äîidentity': 0.0, 'platforms': 0.004767580452920143, 'option': 0.058005562177195075, 'opportunity': 0.04052443384982121, 'endpoint': 0.03496225665474772, 'response': 0.04211362733412793, 'java': 0.0023837902264600714, 'provisioning': 0.020659515295987287, 'desk': 0.023837902264600714, 'administrator': 1.957886372665872, 'forgerock': 0.006356773937226857, 'consultant': 0.6301152165276123, 'payroll': 0.03257846642828764, 'implementation': 0.04052443384982122, 'logistics': 0.07310290027810885, 'salesforce': 0.01907032181168057, 'quality': 0.0, 'duke': 0.0055621771950735005, 'health': 0.07628128724672228, 'technologies': 0.03496225665474772, 'supervisor': 0.0055621771950735005, 'basic': 0.03257846642828764, 'assistant': 0.2598331346841478, '70': 0.0015891934843067143, 'hr': 0.03814064362336114, 'jr': 0.011124354390147001, 'help': 0.0055621771950735005, 'environmental': 0.027810885975367503, 'water': 0.023043305522447356, 'wastewater': 0.015097338100913786, 'okta': 0.0166865315852205, 'database': 0.02463249900675407, 'ic': 0.278108859753675, 'authentication': 0.027016289233214145, 'h': 0.04211362733412793, 'available': 0.007945967421533572, 'compensation': 0.03496225665474772, 'volunteer': 0.011124354390147001, 'part': 0.055621771950735005, 'cyberark': 0.0031783869686134287, 'junior': 0.0031783869686134287, 'midlevel': 0.02542709574890743, 'biometric': 0.03655145013905443, 'pasadena': 0.03257846642828764, '0520u': 0.0, 'berkeley': 0.0023837902264600714, '41278': 0.0007945967421533572, 'o365': 0.0, 'saviynt': 0.06833531982518871, 'markets': 0.012713547874453715, 'audit': 0.07310290027810885, 'third': 0.03178386968613429, 'party': 0.03655145013905443, 'oversight': 0.007945967421533572, 'delivery': 0.020659515295987287, 'executive_selling': 0.0007945967421533572, 'products': 0.009535160905840286, 'zero': 0.0015891934843067143, 'federation': 0.057210965435041714, 'c13': 0.004767580452920143, 'innovation': 0.04926499801350814, 'strategist': 0.3829956297179182, 'sql': 0.0, 'firmware': 0.011124354390147001, 'hardware': 0.0, 'master': 0.4052443384982122, '1235': 0.0007945967421533572, 'working': 0.0023837902264600714, 'ny': 0.266984505363528, 'back': 0.0031783869686134287, 'op': 0.06833531982518871, 'power': 0.007151370679380214, 'bi': 0.04847040127135479, 'work': 0.003972983710766786, 'schedule': 0.011124354390147001, '4': 0.0015891934843067143, 'machine': 0.028605482717520857, 'experian': 0.0031783869686134287, 'bis': 0.04370282081843464, 'kubernetes': 0.0023837902264600714, 'phc': 0.004767580452920143, 'epic': 0.04926499801350814, 'beacon': 0.03178386968613429, 'experience': 0.0031783869686134287, 'loss': 0.32657926102502977, 'enterprise': 0.04370282081843464, 'workforce': 0.0007945967421533572, 'privilege': 0.023043305522447356, 'credential': 0.07548669050456894, 'infrastructure': 0.023837902264600714, 'linux': 0.0023837902264600714, 'group': 0.015891934843067144, 'consumer': 0.07071911005164878, 'discovery': 0.026221692491060787, 'temp': 0.05085419149781486, 'flexible': 0.0, 'na': 0.3154549066348828, '3': 0.00874056416368693, 'change': 0.033373063170441, 'enablement': 0.02463249900675407, 'benefits': 0.011918951132300357, 'subsidiary': 0.013508144616607072, 'corporation': 0.04290822407628129, '2': 0.0055621771950735005, 'marketing': 0.009535160905840286, '898168': 0.0007945967421533572, 'vice': 0.04767580452920143, 'president': 0.030194676201827572, 'ping': 0.05164878823996821, 'expert': 0.003972983710766786, 'verizon': 0.0007945967421533572, 'device': 0.03655145013905443, 'bellevue': 0.003972983710766786, 'wa': 0.02463249900675407}\n"
     ]
    }
   ],
   "source": [
    "tf_idf_score = {key: tf_score[key] * idf_score.get(key, 0) for key in tf_score.keys()}\n",
    "print(tf_idf_score)"
   ]
  },
  {
   "cell_type": "markdown",
   "metadata": {},
   "source": [
    "Create a function to get N important words in the document."
   ]
  },
  {
   "cell_type": "code",
   "execution_count": 109,
   "metadata": {},
   "outputs": [],
   "source": [
    "def get_top_n(dict_elem, n):\n",
    "    result = dict(sorted(dict_elem.items(), key = itemgetter(1), reverse = True)[:n]) \n",
    "    return result"
   ]
  },
  {
   "cell_type": "markdown",
   "metadata": {},
   "source": [
    "Get the top 10 words of significance"
   ]
  },
  {
   "cell_type": "code",
   "execution_count": 110,
   "metadata": {},
   "outputs": [
    {
     "name": "stdout",
     "output_type": "stream",
     "text": [
      "{'administrator': 1.957886372665872, 'consultant': 0.6301152165276123, 'master': 0.4052443384982122, 'strategist': 0.3829956297179182, 'loss': 0.32657926102502977, 'na': 0.3154549066348828, 'ic': 0.278108859753675, 'ny': 0.266984505363528, 'assistant': 0.2598331346841478, 'science': 0.25109257052046086, 'health': 0.07628128724672228, 'developer': 0.07606788724588309, 'credential': 0.07548669050456894, 'reliability': 0.07389749702026222, 'logistics': 0.07310290027810885, 'audit': 0.07310290027810885, 'consumer': 0.07071911005164878, 'saviynt': 0.06833531982518871, 'op': 0.06833531982518871, 'usds': 0.06436233611442194, 'analyst': 0.06213129542803617, 'option': 0.058005562177195075, 'federation': 0.057210965435041714, 'part': 0.055621771950735005, 'new': 0.052443384982121574, 'industry': 0.05164878823996821, 'ping': 0.05164878823996821, 'temp': 0.05085419149781486, 'innovation': 0.04926499801350814, 'epic': 0.04926499801350814, 'bi': 0.04847040127135479, 'vice': 0.04767580452920143, 'engineer': 0.04407402460841682, 'bis': 0.04370282081843464, 'enterprise': 0.04370282081843464, 'corporation': 0.04290822407628129, 'response': 0.04211362733412793, 'h': 0.04211362733412793, 'implementation': 0.04052443384982122, 'opportunity': 0.04052443384982121, 'hr': 0.03814064362336114, 'architect': 0.037724238716238534, 'biometric': 0.03655145013905443, 'party': 0.03655145013905443, 'device': 0.03655145013905443, 'endpoint': 0.03496225665474772, 'technologies': 0.03496225665474772, 'compensation': 0.03496225665474772, 'change': 0.033373063170441, 'payroll': 0.03257846642828764}\n"
     ]
    }
   ],
   "source": [
    "print(get_top_n(tf_idf_score, 50))"
   ]
  }
 ],
 "metadata": {
  "kernelspec": {
   "display_name": "Python 3.8.2 64-bit",
   "language": "python",
   "name": "python3"
  },
  "language_info": {
   "codemirror_mode": {
    "name": "ipython",
    "version": 3
   },
   "file_extension": ".py",
   "mimetype": "text/x-python",
   "name": "python",
   "nbconvert_exporter": "python",
   "pygments_lexer": "ipython3",
   "version": "3.8.2"
  },
  "orig_nbformat": 4,
  "vscode": {
   "interpreter": {
    "hash": "31f2aee4e71d21fbe5cf8b01ff0e069b9275f58929596ceb00d14d90e3e16cd6"
   }
  }
 },
 "nbformat": 4,
 "nbformat_minor": 2
}
